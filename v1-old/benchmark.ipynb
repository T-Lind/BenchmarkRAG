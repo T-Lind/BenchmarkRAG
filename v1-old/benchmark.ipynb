{
 "cells": [
  {
   "metadata": {},
   "cell_type": "markdown",
   "source": [
    "# AstraDB ColBERT or Pinecone/Weaviate Hybrid Search?\n",
    "Author: Tiernan Lindauer, Datastax Inc."
   ],
   "id": "4ac330c9b333ba5d"
  },
  {
   "metadata": {},
   "cell_type": "markdown",
   "source": "## Step 1: Setup",
   "id": "87fb396529b09a44"
  },
  {
   "metadata": {},
   "cell_type": "markdown",
   "source": "Install the required packages (`requirements.txt`)",
   "id": "8f873e2eea2e1ed5"
  },
  {
   "metadata": {
    "ExecuteTime": {
     "end_time": "2024-06-24T19:38:32.469423Z",
     "start_time": "2024-06-24T19:38:32.467710Z"
    }
   },
   "cell_type": "code",
   "source": [
    "# Some minor setup for the notebook\n",
    "import warnings\n",
    "import nest_asyncio\n",
    "\n",
    "# Ignore all warnings\n",
    "warnings.filterwarnings(\"ignore\")\n",
    "\n",
    "# Allows for running async code in Jupyter notebooks\n",
    "nest_asyncio.apply()"
   ],
   "id": "a5e9590b575f4684",
   "outputs": [],
   "execution_count": 2
  },
  {
   "metadata": {
    "ExecuteTime": {
     "end_time": "2024-06-24T19:38:34.665654Z",
     "start_time": "2024-06-24T19:38:33.426183Z"
    }
   },
   "cell_type": "code",
   "source": [
    "import os\n",
    "import time\n",
    "import openai\n",
    "import weaviate\n",
    "from dotenv import load_dotenv\n",
    "from langchain_community.retrievers import (\n",
    "    WeaviateHybridSearchRetriever,\n",
    ")\n",
    "from datasets import load_dataset\n",
    "from langchain_core.documents import Document\n",
    "from langchain_openai import OpenAIEmbeddings\n",
    "from langchain_text_splitters import RecursiveCharacterTextSplitter"
   ],
   "id": "96476076f18744e2",
   "outputs": [],
   "execution_count": 3
  },
  {
   "metadata": {},
   "cell_type": "markdown",
   "source": "### Use the HuggingFace RAG mini benchmark",
   "id": "44ae836f4f7a0c19"
  },
  {
   "metadata": {
    "ExecuteTime": {
     "end_time": "2024-06-24T19:38:56.891726Z",
     "start_time": "2024-06-24T19:38:56.493222Z"
    }
   },
   "cell_type": "code",
   "source": [
    "bioasq = load_dataset(\"rag-datasets/rag-mini-bioasq\", \"question-answer-passages\")['test']\n",
    "corpus = load_dataset(\"rag-datasets/rag-mini-bioasq\", \"text-corpus\")['passages']"
   ],
   "id": "a83658e92a4321b2",
   "outputs": [
    {
     "ename": "ValueError",
     "evalue": "Invalid pattern: '**' can only be an entire path component",
     "output_type": "error",
     "traceback": [
      "\u001B[0;31m---------------------------------------------------------------------------\u001B[0m",
      "\u001B[0;31mValueError\u001B[0m                                Traceback (most recent call last)",
      "Cell \u001B[0;32mIn[5], line 1\u001B[0m\n\u001B[0;32m----> 1\u001B[0m bioasq \u001B[38;5;241m=\u001B[39m \u001B[43mload_dataset\u001B[49m\u001B[43m(\u001B[49m\u001B[38;5;124;43m\"\u001B[39;49m\u001B[38;5;124;43mrag-datasets/rag-mini-bioasq\u001B[39;49m\u001B[38;5;124;43m\"\u001B[39;49m\u001B[43m,\u001B[49m\u001B[43m \u001B[49m\u001B[38;5;124;43m\"\u001B[39;49m\u001B[38;5;124;43mquestion-answer-passages\u001B[39;49m\u001B[38;5;124;43m\"\u001B[39;49m\u001B[43m)\u001B[49m[\u001B[38;5;124m'\u001B[39m\u001B[38;5;124mtest\u001B[39m\u001B[38;5;124m'\u001B[39m]\n\u001B[1;32m      2\u001B[0m corpus \u001B[38;5;241m=\u001B[39m load_dataset(\u001B[38;5;124m\"\u001B[39m\u001B[38;5;124mrag-datasets/rag-mini-bioasq\u001B[39m\u001B[38;5;124m\"\u001B[39m, \u001B[38;5;124m\"\u001B[39m\u001B[38;5;124mtext-corpus\u001B[39m\u001B[38;5;124m\"\u001B[39m)[\u001B[38;5;124m'\u001B[39m\u001B[38;5;124mpassages\u001B[39m\u001B[38;5;124m'\u001B[39m]\n",
      "File \u001B[0;32m~/PycharmProjects/BenchmarkRAG/.venv/lib/python3.10/site-packages/datasets/load.py:1704\u001B[0m, in \u001B[0;36mload_dataset\u001B[0;34m(path, name, data_dir, data_files, split, cache_dir, features, download_config, download_mode, ignore_verifications, keep_in_memory, save_infos, revision, use_auth_token, task, streaming, **config_kwargs)\u001B[0m\n\u001B[1;32m   1701\u001B[0m ignore_verifications \u001B[38;5;241m=\u001B[39m ignore_verifications \u001B[38;5;129;01mor\u001B[39;00m save_infos\n\u001B[1;32m   1703\u001B[0m \u001B[38;5;66;03m# Create a dataset builder\u001B[39;00m\n\u001B[0;32m-> 1704\u001B[0m builder_instance \u001B[38;5;241m=\u001B[39m \u001B[43mload_dataset_builder\u001B[49m\u001B[43m(\u001B[49m\n\u001B[1;32m   1705\u001B[0m \u001B[43m    \u001B[49m\u001B[43mpath\u001B[49m\u001B[38;5;241;43m=\u001B[39;49m\u001B[43mpath\u001B[49m\u001B[43m,\u001B[49m\n\u001B[1;32m   1706\u001B[0m \u001B[43m    \u001B[49m\u001B[43mname\u001B[49m\u001B[38;5;241;43m=\u001B[39;49m\u001B[43mname\u001B[49m\u001B[43m,\u001B[49m\n\u001B[1;32m   1707\u001B[0m \u001B[43m    \u001B[49m\u001B[43mdata_dir\u001B[49m\u001B[38;5;241;43m=\u001B[39;49m\u001B[43mdata_dir\u001B[49m\u001B[43m,\u001B[49m\n\u001B[1;32m   1708\u001B[0m \u001B[43m    \u001B[49m\u001B[43mdata_files\u001B[49m\u001B[38;5;241;43m=\u001B[39;49m\u001B[43mdata_files\u001B[49m\u001B[43m,\u001B[49m\n\u001B[1;32m   1709\u001B[0m \u001B[43m    \u001B[49m\u001B[43mcache_dir\u001B[49m\u001B[38;5;241;43m=\u001B[39;49m\u001B[43mcache_dir\u001B[49m\u001B[43m,\u001B[49m\n\u001B[1;32m   1710\u001B[0m \u001B[43m    \u001B[49m\u001B[43mfeatures\u001B[49m\u001B[38;5;241;43m=\u001B[39;49m\u001B[43mfeatures\u001B[49m\u001B[43m,\u001B[49m\n\u001B[1;32m   1711\u001B[0m \u001B[43m    \u001B[49m\u001B[43mdownload_config\u001B[49m\u001B[38;5;241;43m=\u001B[39;49m\u001B[43mdownload_config\u001B[49m\u001B[43m,\u001B[49m\n\u001B[1;32m   1712\u001B[0m \u001B[43m    \u001B[49m\u001B[43mdownload_mode\u001B[49m\u001B[38;5;241;43m=\u001B[39;49m\u001B[43mdownload_mode\u001B[49m\u001B[43m,\u001B[49m\n\u001B[1;32m   1713\u001B[0m \u001B[43m    \u001B[49m\u001B[43mrevision\u001B[49m\u001B[38;5;241;43m=\u001B[39;49m\u001B[43mrevision\u001B[49m\u001B[43m,\u001B[49m\n\u001B[1;32m   1714\u001B[0m \u001B[43m    \u001B[49m\u001B[43muse_auth_token\u001B[49m\u001B[38;5;241;43m=\u001B[39;49m\u001B[43muse_auth_token\u001B[49m\u001B[43m,\u001B[49m\n\u001B[1;32m   1715\u001B[0m \u001B[43m    \u001B[49m\u001B[38;5;241;43m*\u001B[39;49m\u001B[38;5;241;43m*\u001B[39;49m\u001B[43mconfig_kwargs\u001B[49m\u001B[43m,\u001B[49m\n\u001B[1;32m   1716\u001B[0m \u001B[43m\u001B[49m\u001B[43m)\u001B[49m\n\u001B[1;32m   1718\u001B[0m \u001B[38;5;66;03m# Return iterable dataset in case of streaming\u001B[39;00m\n\u001B[1;32m   1719\u001B[0m \u001B[38;5;28;01mif\u001B[39;00m streaming:\n",
      "File \u001B[0;32m~/PycharmProjects/BenchmarkRAG/.venv/lib/python3.10/site-packages/datasets/load.py:1530\u001B[0m, in \u001B[0;36mload_dataset_builder\u001B[0;34m(path, name, data_dir, data_files, cache_dir, features, download_config, download_mode, revision, use_auth_token, **config_kwargs)\u001B[0m\n\u001B[1;32m   1528\u001B[0m     download_config \u001B[38;5;241m=\u001B[39m download_config\u001B[38;5;241m.\u001B[39mcopy() \u001B[38;5;28;01mif\u001B[39;00m download_config \u001B[38;5;28;01melse\u001B[39;00m DownloadConfig()\n\u001B[1;32m   1529\u001B[0m     download_config\u001B[38;5;241m.\u001B[39muse_auth_token \u001B[38;5;241m=\u001B[39m use_auth_token\n\u001B[0;32m-> 1530\u001B[0m dataset_module \u001B[38;5;241m=\u001B[39m \u001B[43mdataset_module_factory\u001B[49m\u001B[43m(\u001B[49m\n\u001B[1;32m   1531\u001B[0m \u001B[43m    \u001B[49m\u001B[43mpath\u001B[49m\u001B[43m,\u001B[49m\n\u001B[1;32m   1532\u001B[0m \u001B[43m    \u001B[49m\u001B[43mrevision\u001B[49m\u001B[38;5;241;43m=\u001B[39;49m\u001B[43mrevision\u001B[49m\u001B[43m,\u001B[49m\n\u001B[1;32m   1533\u001B[0m \u001B[43m    \u001B[49m\u001B[43mdownload_config\u001B[49m\u001B[38;5;241;43m=\u001B[39;49m\u001B[43mdownload_config\u001B[49m\u001B[43m,\u001B[49m\n\u001B[1;32m   1534\u001B[0m \u001B[43m    \u001B[49m\u001B[43mdownload_mode\u001B[49m\u001B[38;5;241;43m=\u001B[39;49m\u001B[43mdownload_mode\u001B[49m\u001B[43m,\u001B[49m\n\u001B[1;32m   1535\u001B[0m \u001B[43m    \u001B[49m\u001B[43mdata_dir\u001B[49m\u001B[38;5;241;43m=\u001B[39;49m\u001B[43mdata_dir\u001B[49m\u001B[43m,\u001B[49m\n\u001B[1;32m   1536\u001B[0m \u001B[43m    \u001B[49m\u001B[43mdata_files\u001B[49m\u001B[38;5;241;43m=\u001B[39;49m\u001B[43mdata_files\u001B[49m\u001B[43m,\u001B[49m\n\u001B[1;32m   1537\u001B[0m \u001B[43m\u001B[49m\u001B[43m)\u001B[49m\n\u001B[1;32m   1539\u001B[0m \u001B[38;5;66;03m# Get dataset builder class from the processing script\u001B[39;00m\n\u001B[1;32m   1540\u001B[0m builder_cls \u001B[38;5;241m=\u001B[39m import_main_class(dataset_module\u001B[38;5;241m.\u001B[39mmodule_path)\n",
      "File \u001B[0;32m~/PycharmProjects/BenchmarkRAG/.venv/lib/python3.10/site-packages/datasets/load.py:1282\u001B[0m, in \u001B[0;36mdataset_module_factory\u001B[0;34m(path, revision, download_config, download_mode, force_local_path, dynamic_modules_path, data_dir, data_files, **download_kwargs)\u001B[0m\n\u001B[1;32m   1277\u001B[0m             \u001B[38;5;28;01mif\u001B[39;00m \u001B[38;5;28misinstance\u001B[39m(e1, \u001B[38;5;167;01mFileNotFoundError\u001B[39;00m):\n\u001B[1;32m   1278\u001B[0m                 \u001B[38;5;28;01mraise\u001B[39;00m \u001B[38;5;167;01mFileNotFoundError\u001B[39;00m(\n\u001B[1;32m   1279\u001B[0m                     \u001B[38;5;124mf\u001B[39m\u001B[38;5;124m\"\u001B[39m\u001B[38;5;124mCouldn\u001B[39m\u001B[38;5;124m'\u001B[39m\u001B[38;5;124mt find a dataset script at \u001B[39m\u001B[38;5;132;01m{\u001B[39;00mrelative_to_absolute_path(combined_path)\u001B[38;5;132;01m}\u001B[39;00m\u001B[38;5;124m or any data file in the same directory. \u001B[39m\u001B[38;5;124m\"\u001B[39m\n\u001B[1;32m   1280\u001B[0m                     \u001B[38;5;124mf\u001B[39m\u001B[38;5;124m\"\u001B[39m\u001B[38;5;124mCouldn\u001B[39m\u001B[38;5;124m'\u001B[39m\u001B[38;5;124mt find \u001B[39m\u001B[38;5;124m'\u001B[39m\u001B[38;5;132;01m{\u001B[39;00mpath\u001B[38;5;132;01m}\u001B[39;00m\u001B[38;5;124m'\u001B[39m\u001B[38;5;124m on the Hugging Face Hub either: \u001B[39m\u001B[38;5;132;01m{\u001B[39;00m\u001B[38;5;28mtype\u001B[39m(e1)\u001B[38;5;241m.\u001B[39m\u001B[38;5;18m__name__\u001B[39m\u001B[38;5;132;01m}\u001B[39;00m\u001B[38;5;124m: \u001B[39m\u001B[38;5;132;01m{\u001B[39;00me1\u001B[38;5;132;01m}\u001B[39;00m\u001B[38;5;124m\"\u001B[39m\n\u001B[1;32m   1281\u001B[0m                 ) \u001B[38;5;28;01mfrom\u001B[39;00m \u001B[38;5;28;01mNone\u001B[39;00m\n\u001B[0;32m-> 1282\u001B[0m             \u001B[38;5;28;01mraise\u001B[39;00m e1 \u001B[38;5;28;01mfrom\u001B[39;00m \u001B[38;5;28;01mNone\u001B[39;00m\n\u001B[1;32m   1283\u001B[0m \u001B[38;5;28;01melse\u001B[39;00m:\n\u001B[1;32m   1284\u001B[0m     \u001B[38;5;28;01mraise\u001B[39;00m \u001B[38;5;167;01mFileNotFoundError\u001B[39;00m(\n\u001B[1;32m   1285\u001B[0m         \u001B[38;5;124mf\u001B[39m\u001B[38;5;124m\"\u001B[39m\u001B[38;5;124mCouldn\u001B[39m\u001B[38;5;124m'\u001B[39m\u001B[38;5;124mt find a dataset script at \u001B[39m\u001B[38;5;132;01m{\u001B[39;00mrelative_to_absolute_path(combined_path)\u001B[38;5;132;01m}\u001B[39;00m\u001B[38;5;124m or any data file in the same directory.\u001B[39m\u001B[38;5;124m\"\u001B[39m\n\u001B[1;32m   1286\u001B[0m     )\n",
      "File \u001B[0;32m~/PycharmProjects/BenchmarkRAG/.venv/lib/python3.10/site-packages/datasets/load.py:1270\u001B[0m, in \u001B[0;36mdataset_module_factory\u001B[0;34m(path, revision, download_config, download_mode, force_local_path, dynamic_modules_path, data_dir, data_files, **download_kwargs)\u001B[0m\n\u001B[1;32m   1255\u001B[0m             \u001B[38;5;28;01mreturn\u001B[39;00m HubDatasetModuleFactoryWithScript(\n\u001B[1;32m   1256\u001B[0m                 path,\n\u001B[1;32m   1257\u001B[0m                 revision\u001B[38;5;241m=\u001B[39mrevision,\n\u001B[0;32m   (...)\u001B[0m\n\u001B[1;32m   1260\u001B[0m                 dynamic_modules_path\u001B[38;5;241m=\u001B[39mdynamic_modules_path,\n\u001B[1;32m   1261\u001B[0m             )\u001B[38;5;241m.\u001B[39mget_module()\n\u001B[1;32m   1262\u001B[0m         \u001B[38;5;28;01melse\u001B[39;00m:\n\u001B[1;32m   1263\u001B[0m             \u001B[38;5;28;01mreturn\u001B[39;00m \u001B[43mHubDatasetModuleFactoryWithoutScript\u001B[49m\u001B[43m(\u001B[49m\n\u001B[1;32m   1264\u001B[0m \u001B[43m                \u001B[49m\u001B[43mpath\u001B[49m\u001B[43m,\u001B[49m\n\u001B[1;32m   1265\u001B[0m \u001B[43m                \u001B[49m\u001B[43mrevision\u001B[49m\u001B[38;5;241;43m=\u001B[39;49m\u001B[43mrevision\u001B[49m\u001B[43m,\u001B[49m\n\u001B[1;32m   1266\u001B[0m \u001B[43m                \u001B[49m\u001B[43mdata_dir\u001B[49m\u001B[38;5;241;43m=\u001B[39;49m\u001B[43mdata_dir\u001B[49m\u001B[43m,\u001B[49m\n\u001B[1;32m   1267\u001B[0m \u001B[43m                \u001B[49m\u001B[43mdata_files\u001B[49m\u001B[38;5;241;43m=\u001B[39;49m\u001B[43mdata_files\u001B[49m\u001B[43m,\u001B[49m\n\u001B[1;32m   1268\u001B[0m \u001B[43m                \u001B[49m\u001B[43mdownload_config\u001B[49m\u001B[38;5;241;43m=\u001B[39;49m\u001B[43mdownload_config\u001B[49m\u001B[43m,\u001B[49m\n\u001B[1;32m   1269\u001B[0m \u001B[43m                \u001B[49m\u001B[43mdownload_mode\u001B[49m\u001B[38;5;241;43m=\u001B[39;49m\u001B[43mdownload_mode\u001B[49m\u001B[43m,\u001B[49m\n\u001B[0;32m-> 1270\u001B[0m \u001B[43m            \u001B[49m\u001B[43m)\u001B[49m\u001B[38;5;241;43m.\u001B[39;49m\u001B[43mget_module\u001B[49m\u001B[43m(\u001B[49m\u001B[43m)\u001B[49m\n\u001B[1;32m   1271\u001B[0m \u001B[38;5;28;01mexcept\u001B[39;00m \u001B[38;5;167;01mException\u001B[39;00m \u001B[38;5;28;01mas\u001B[39;00m e1:  \u001B[38;5;66;03m# noqa: all the attempts failed, before raising the error we should check if the module is already cached.\u001B[39;00m\n\u001B[1;32m   1272\u001B[0m     \u001B[38;5;28;01mtry\u001B[39;00m:\n",
      "File \u001B[0;32m~/PycharmProjects/BenchmarkRAG/.venv/lib/python3.10/site-packages/datasets/load.py:883\u001B[0m, in \u001B[0;36mHubDatasetModuleFactoryWithoutScript.get_module\u001B[0;34m(self)\u001B[0m\n\u001B[1;32m    873\u001B[0m     token \u001B[38;5;241m=\u001B[39m \u001B[38;5;28mself\u001B[39m\u001B[38;5;241m.\u001B[39mdownload_config\u001B[38;5;241m.\u001B[39muse_auth_token\n\u001B[1;32m    874\u001B[0m hfh_dataset_info \u001B[38;5;241m=\u001B[39m HfApi(config\u001B[38;5;241m.\u001B[39mHF_ENDPOINT)\u001B[38;5;241m.\u001B[39mdataset_info(\n\u001B[1;32m    875\u001B[0m     \u001B[38;5;28mself\u001B[39m\u001B[38;5;241m.\u001B[39mname,\n\u001B[1;32m    876\u001B[0m     revision\u001B[38;5;241m=\u001B[39m\u001B[38;5;28mself\u001B[39m\u001B[38;5;241m.\u001B[39mrevision,\n\u001B[1;32m    877\u001B[0m     token\u001B[38;5;241m=\u001B[39mtoken,\n\u001B[1;32m    878\u001B[0m     timeout\u001B[38;5;241m=\u001B[39m\u001B[38;5;241m100.0\u001B[39m,\n\u001B[1;32m    879\u001B[0m )\n\u001B[1;32m    880\u001B[0m patterns \u001B[38;5;241m=\u001B[39m (\n\u001B[1;32m    881\u001B[0m     sanitize_patterns(\u001B[38;5;28mself\u001B[39m\u001B[38;5;241m.\u001B[39mdata_files)\n\u001B[1;32m    882\u001B[0m     \u001B[38;5;28;01mif\u001B[39;00m \u001B[38;5;28mself\u001B[39m\u001B[38;5;241m.\u001B[39mdata_files \u001B[38;5;129;01mis\u001B[39;00m \u001B[38;5;129;01mnot\u001B[39;00m \u001B[38;5;28;01mNone\u001B[39;00m\n\u001B[0;32m--> 883\u001B[0m     \u001B[38;5;28;01melse\u001B[39;00m \u001B[43mget_patterns_in_dataset_repository\u001B[49m\u001B[43m(\u001B[49m\u001B[43mhfh_dataset_info\u001B[49m\u001B[43m,\u001B[49m\u001B[43m \u001B[49m\u001B[38;5;28;43mself\u001B[39;49m\u001B[38;5;241;43m.\u001B[39;49m\u001B[43mdata_dir\u001B[49m\u001B[43m)\u001B[49m\n\u001B[1;32m    884\u001B[0m )\n\u001B[1;32m    885\u001B[0m data_files \u001B[38;5;241m=\u001B[39m DataFilesDict\u001B[38;5;241m.\u001B[39mfrom_hf_repo(\n\u001B[1;32m    886\u001B[0m     patterns,\n\u001B[1;32m    887\u001B[0m     dataset_info\u001B[38;5;241m=\u001B[39mhfh_dataset_info,\n\u001B[1;32m    888\u001B[0m     base_path\u001B[38;5;241m=\u001B[39m\u001B[38;5;28mself\u001B[39m\u001B[38;5;241m.\u001B[39mdata_dir,\n\u001B[1;32m    889\u001B[0m     allowed_extensions\u001B[38;5;241m=\u001B[39mALL_ALLOWED_EXTENSIONS,\n\u001B[1;32m    890\u001B[0m )\n\u001B[1;32m    891\u001B[0m module_names \u001B[38;5;241m=\u001B[39m {\n\u001B[1;32m    892\u001B[0m     key: infer_module_for_data_files(data_files_list, use_auth_token\u001B[38;5;241m=\u001B[39m\u001B[38;5;28mself\u001B[39m\u001B[38;5;241m.\u001B[39mdownload_config\u001B[38;5;241m.\u001B[39muse_auth_token)\n\u001B[1;32m    893\u001B[0m     \u001B[38;5;28;01mfor\u001B[39;00m key, data_files_list \u001B[38;5;129;01min\u001B[39;00m data_files\u001B[38;5;241m.\u001B[39mitems()\n\u001B[1;32m    894\u001B[0m }\n",
      "File \u001B[0;32m~/PycharmProjects/BenchmarkRAG/.venv/lib/python3.10/site-packages/datasets/data_files.py:482\u001B[0m, in \u001B[0;36mget_patterns_in_dataset_repository\u001B[0;34m(dataset_info, base_path)\u001B[0m\n\u001B[1;32m    480\u001B[0m resolver \u001B[38;5;241m=\u001B[39m partial(_resolve_single_pattern_in_dataset_repository, dataset_info, base_path\u001B[38;5;241m=\u001B[39mbase_path)\n\u001B[1;32m    481\u001B[0m \u001B[38;5;28;01mtry\u001B[39;00m:\n\u001B[0;32m--> 482\u001B[0m     \u001B[38;5;28;01mreturn\u001B[39;00m \u001B[43m_get_data_files_patterns\u001B[49m\u001B[43m(\u001B[49m\u001B[43mresolver\u001B[49m\u001B[43m)\u001B[49m\n\u001B[1;32m    483\u001B[0m \u001B[38;5;28;01mexcept\u001B[39;00m \u001B[38;5;167;01mFileNotFoundError\u001B[39;00m:\n\u001B[1;32m    484\u001B[0m     \u001B[38;5;28;01mraise\u001B[39;00m \u001B[38;5;167;01mFileNotFoundError\u001B[39;00m(\n\u001B[1;32m    485\u001B[0m         \u001B[38;5;124mf\u001B[39m\u001B[38;5;124m\"\u001B[39m\u001B[38;5;124mThe dataset repository at \u001B[39m\u001B[38;5;124m'\u001B[39m\u001B[38;5;132;01m{\u001B[39;00mdataset_info\u001B[38;5;241m.\u001B[39mid\u001B[38;5;132;01m}\u001B[39;00m\u001B[38;5;124m'\u001B[39m\u001B[38;5;124m doesn\u001B[39m\u001B[38;5;124m'\u001B[39m\u001B[38;5;124mt contain any data file.\u001B[39m\u001B[38;5;124m\"\u001B[39m\n\u001B[1;32m    486\u001B[0m     ) \u001B[38;5;28;01mfrom\u001B[39;00m \u001B[38;5;28;01mNone\u001B[39;00m\n",
      "File \u001B[0;32m~/PycharmProjects/BenchmarkRAG/.venv/lib/python3.10/site-packages/datasets/data_files.py:99\u001B[0m, in \u001B[0;36m_get_data_files_patterns\u001B[0;34m(pattern_resolver)\u001B[0m\n\u001B[1;32m     97\u001B[0m \u001B[38;5;28;01mtry\u001B[39;00m:\n\u001B[1;32m     98\u001B[0m     \u001B[38;5;28;01mfor\u001B[39;00m pattern \u001B[38;5;129;01min\u001B[39;00m patterns:\n\u001B[0;32m---> 99\u001B[0m         data_files \u001B[38;5;241m=\u001B[39m \u001B[43mpattern_resolver\u001B[49m\u001B[43m(\u001B[49m\u001B[43mpattern\u001B[49m\u001B[43m)\u001B[49m\n\u001B[1;32m    100\u001B[0m         \u001B[38;5;28;01mif\u001B[39;00m \u001B[38;5;28mlen\u001B[39m(data_files) \u001B[38;5;241m>\u001B[39m \u001B[38;5;241m0\u001B[39m:\n\u001B[1;32m    101\u001B[0m             non_empty_splits\u001B[38;5;241m.\u001B[39mappend(split)\n",
      "File \u001B[0;32m~/PycharmProjects/BenchmarkRAG/.venv/lib/python3.10/site-packages/datasets/data_files.py:306\u001B[0m, in \u001B[0;36m_resolve_single_pattern_in_dataset_repository\u001B[0;34m(dataset_info, pattern, base_path, allowed_extensions)\u001B[0m\n\u001B[1;32m    304\u001B[0m \u001B[38;5;28;01mif\u001B[39;00m base_path:\n\u001B[1;32m    305\u001B[0m     pattern \u001B[38;5;241m=\u001B[39m \u001B[38;5;124mf\u001B[39m\u001B[38;5;124m\"\u001B[39m\u001B[38;5;132;01m{\u001B[39;00mbase_path\u001B[38;5;132;01m}\u001B[39;00m\u001B[38;5;124m/\u001B[39m\u001B[38;5;132;01m{\u001B[39;00mpattern\u001B[38;5;132;01m}\u001B[39;00m\u001B[38;5;124m\"\u001B[39m\n\u001B[0;32m--> 306\u001B[0m glob_iter \u001B[38;5;241m=\u001B[39m [PurePath(filepath) \u001B[38;5;28;01mfor\u001B[39;00m filepath \u001B[38;5;129;01min\u001B[39;00m \u001B[43mfs\u001B[49m\u001B[38;5;241;43m.\u001B[39;49m\u001B[43mglob\u001B[49m\u001B[43m(\u001B[49m\u001B[43mPurePath\u001B[49m\u001B[43m(\u001B[49m\u001B[43mpattern\u001B[49m\u001B[43m)\u001B[49m\u001B[38;5;241;43m.\u001B[39;49m\u001B[43mas_posix\u001B[49m\u001B[43m(\u001B[49m\u001B[43m)\u001B[49m\u001B[43m)\u001B[49m \u001B[38;5;28;01mif\u001B[39;00m fs\u001B[38;5;241m.\u001B[39misfile(filepath)]\n\u001B[1;32m    307\u001B[0m matched_paths \u001B[38;5;241m=\u001B[39m [\n\u001B[1;32m    308\u001B[0m     filepath\n\u001B[1;32m    309\u001B[0m     \u001B[38;5;28;01mfor\u001B[39;00m filepath \u001B[38;5;129;01min\u001B[39;00m glob_iter\n\u001B[1;32m    310\u001B[0m     \u001B[38;5;28;01mif\u001B[39;00m filepath\u001B[38;5;241m.\u001B[39mname \u001B[38;5;129;01mnot\u001B[39;00m \u001B[38;5;129;01min\u001B[39;00m data_files_ignore \u001B[38;5;129;01mand\u001B[39;00m \u001B[38;5;129;01mnot\u001B[39;00m filepath\u001B[38;5;241m.\u001B[39mname\u001B[38;5;241m.\u001B[39mstartswith(\u001B[38;5;124m\"\u001B[39m\u001B[38;5;124m.\u001B[39m\u001B[38;5;124m\"\u001B[39m)\n\u001B[1;32m    311\u001B[0m ]\n\u001B[1;32m    312\u001B[0m \u001B[38;5;28;01mif\u001B[39;00m allowed_extensions \u001B[38;5;129;01mis\u001B[39;00m \u001B[38;5;129;01mnot\u001B[39;00m \u001B[38;5;28;01mNone\u001B[39;00m:\n",
      "File \u001B[0;32m~/PycharmProjects/BenchmarkRAG/.venv/lib/python3.10/site-packages/fsspec/spec.py:613\u001B[0m, in \u001B[0;36mAbstractFileSystem.glob\u001B[0;34m(self, path, maxdepth, **kwargs)\u001B[0m\n\u001B[1;32m    609\u001B[0m         depth \u001B[38;5;241m=\u001B[39m \u001B[38;5;28;01mNone\u001B[39;00m\n\u001B[1;32m    611\u001B[0m allpaths \u001B[38;5;241m=\u001B[39m \u001B[38;5;28mself\u001B[39m\u001B[38;5;241m.\u001B[39mfind(root, maxdepth\u001B[38;5;241m=\u001B[39mdepth, withdirs\u001B[38;5;241m=\u001B[39m\u001B[38;5;28;01mTrue\u001B[39;00m, detail\u001B[38;5;241m=\u001B[39m\u001B[38;5;28;01mTrue\u001B[39;00m, \u001B[38;5;241m*\u001B[39m\u001B[38;5;241m*\u001B[39mkwargs)\n\u001B[0;32m--> 613\u001B[0m pattern \u001B[38;5;241m=\u001B[39m \u001B[43mglob_translate\u001B[49m\u001B[43m(\u001B[49m\u001B[43mpath\u001B[49m\u001B[43m \u001B[49m\u001B[38;5;241;43m+\u001B[39;49m\u001B[43m \u001B[49m\u001B[43m(\u001B[49m\u001B[38;5;124;43m\"\u001B[39;49m\u001B[38;5;124;43m/\u001B[39;49m\u001B[38;5;124;43m\"\u001B[39;49m\u001B[43m \u001B[49m\u001B[38;5;28;43;01mif\u001B[39;49;00m\u001B[43m \u001B[49m\u001B[43mends_with_sep\u001B[49m\u001B[43m \u001B[49m\u001B[38;5;28;43;01melse\u001B[39;49;00m\u001B[43m \u001B[49m\u001B[38;5;124;43m\"\u001B[39;49m\u001B[38;5;124;43m\"\u001B[39;49m\u001B[43m)\u001B[49m\u001B[43m)\u001B[49m\n\u001B[1;32m    614\u001B[0m pattern \u001B[38;5;241m=\u001B[39m re\u001B[38;5;241m.\u001B[39mcompile(pattern)\n\u001B[1;32m    616\u001B[0m out \u001B[38;5;241m=\u001B[39m {\n\u001B[1;32m    617\u001B[0m     p: info\n\u001B[1;32m    618\u001B[0m     \u001B[38;5;28;01mfor\u001B[39;00m p, info \u001B[38;5;129;01min\u001B[39;00m \u001B[38;5;28msorted\u001B[39m(allpaths\u001B[38;5;241m.\u001B[39mitems())\n\u001B[0;32m   (...)\u001B[0m\n\u001B[1;32m    625\u001B[0m     )\n\u001B[1;32m    626\u001B[0m }\n",
      "File \u001B[0;32m~/PycharmProjects/BenchmarkRAG/.venv/lib/python3.10/site-packages/fsspec/utils.py:732\u001B[0m, in \u001B[0;36mglob_translate\u001B[0;34m(pat)\u001B[0m\n\u001B[1;32m    730\u001B[0m     \u001B[38;5;28;01mcontinue\u001B[39;00m\n\u001B[1;32m    731\u001B[0m \u001B[38;5;28;01melif\u001B[39;00m \u001B[38;5;124m\"\u001B[39m\u001B[38;5;124m**\u001B[39m\u001B[38;5;124m\"\u001B[39m \u001B[38;5;129;01min\u001B[39;00m part:\n\u001B[0;32m--> 732\u001B[0m     \u001B[38;5;28;01mraise\u001B[39;00m \u001B[38;5;167;01mValueError\u001B[39;00m(\n\u001B[1;32m    733\u001B[0m         \u001B[38;5;124m\"\u001B[39m\u001B[38;5;124mInvalid pattern: \u001B[39m\u001B[38;5;124m'\u001B[39m\u001B[38;5;124m**\u001B[39m\u001B[38;5;124m'\u001B[39m\u001B[38;5;124m can only be an entire path component\u001B[39m\u001B[38;5;124m\"\u001B[39m\n\u001B[1;32m    734\u001B[0m     )\n\u001B[1;32m    735\u001B[0m \u001B[38;5;28;01mif\u001B[39;00m part:\n\u001B[1;32m    736\u001B[0m     results\u001B[38;5;241m.\u001B[39mextend(_translate(part, \u001B[38;5;124mf\u001B[39m\u001B[38;5;124m\"\u001B[39m\u001B[38;5;132;01m{\u001B[39;00mnot_sep\u001B[38;5;132;01m}\u001B[39;00m\u001B[38;5;124m*\u001B[39m\u001B[38;5;124m\"\u001B[39m, not_sep))\n",
      "\u001B[0;31mValueError\u001B[0m: Invalid pattern: '**' can only be an entire path component"
     ]
    }
   ],
   "execution_count": 5
  },
  {
   "metadata": {
    "ExecuteTime": {
     "end_time": "2024-06-18T20:04:54.014543Z",
     "start_time": "2024-06-18T20:04:53.595555Z"
    }
   },
   "cell_type": "code",
   "source": [
    "import ast\n",
    "new_bioasq = []\n",
    "for row in bioasq:\n",
    "    new_bioasq.append({\n",
    "        'question': row['question'],\n",
    "        'relevant_passage_ids': ast.literal_eval(row['relevant_passage_ids'])\n",
    "    })\n",
    "bioasq = new_bioasq"
   ],
   "id": "46f6f50da2ab5eaa",
   "outputs": [],
   "execution_count": 163
  },
  {
   "metadata": {
    "ExecuteTime": {
     "end_time": "2024-06-18T19:56:35.659136Z",
     "start_time": "2024-06-18T19:56:35.656995Z"
    }
   },
   "cell_type": "code",
   "source": [
    "# Specify the number of results for each search.\n",
    "n_results = 9"
   ],
   "id": "78ef47fde73aae",
   "outputs": [],
   "execution_count": 144
  },
  {
   "metadata": {},
   "cell_type": "markdown",
   "source": "Create Weaviate cluster (using authentication) -- **you need to create this, then come back**!",
   "id": "679bfb5f53931d70"
  },
  {
   "metadata": {
    "ExecuteTime": {
     "end_time": "2024-06-18T17:41:55.173001Z",
     "start_time": "2024-06-18T17:41:54.371250Z"
    }
   },
   "cell_type": "code",
   "source": "WEAVIATE_URL = input(\"Enter your weaviate cluster URL: \")",
   "id": "473be48aa5088ae5",
   "outputs": [],
   "execution_count": 114
  },
  {
   "metadata": {
    "ExecuteTime": {
     "end_time": "2024-06-18T17:42:02.521700Z",
     "start_time": "2024-06-18T17:42:01.699354Z"
    }
   },
   "cell_type": "code",
   "source": "WEAVIATE_API_KEY = input(\"Enter your weaviate API key: \")",
   "id": "ba540fb716194971",
   "outputs": [],
   "execution_count": 115
  },
  {
   "metadata": {
    "ExecuteTime": {
     "end_time": "2024-06-17T21:10:29.136774Z",
     "start_time": "2024-06-17T21:10:27.642633Z"
    }
   },
   "cell_type": "code",
   "source": "OPENAI_API_KEY = input(\"Enter your OpenAI API key: \")",
   "id": "85e2e799b354efb3",
   "outputs": [],
   "execution_count": 11
  },
  {
   "metadata": {
    "ExecuteTime": {
     "end_time": "2024-06-18T17:42:06.374035Z",
     "start_time": "2024-06-18T17:42:06.061378Z"
    }
   },
   "cell_type": "code",
   "source": [
    "os.environ['OPENAI_API_KEY'] = OPENAI_API_KEY\n",
    "openai.api_key = OPENAI_API_KEY\n",
    "auth_config = weaviate.AuthApiKey(api_key=WEAVIATE_API_KEY)\n",
    "client = weaviate.Client(\n",
    "    url=WEAVIATE_URL,\n",
    "    auth_client_secret=auth_config,\n",
    "    additional_headers={\n",
    "        \"X-Openai-Api-Key\": OPENAI_API_KEY,\n",
    "    },\n",
    ")\n",
    "embeddings = OpenAIEmbeddings()"
   ],
   "id": "9bb1f0f92df5cad0",
   "outputs": [],
   "execution_count": 116
  },
  {
   "metadata": {
    "ExecuteTime": {
     "end_time": "2024-06-18T19:56:38.773685Z",
     "start_time": "2024-06-18T19:56:38.631970Z"
    }
   },
   "cell_type": "code",
   "source": [
    "weaviate_retriever = WeaviateHybridSearchRetriever(\n",
    "    client=client,\n",
    "    index_name=\"LangChain\",\n",
    "    text_key=\"text\",\n",
    "    attributes=['index'],\n",
    "    create_schema_if_missing=True,\n",
    "    k=n_results,\n",
    ")"
   ],
   "id": "88615fe4d1922936",
   "outputs": [],
   "execution_count": 145
  },
  {
   "metadata": {
    "ExecuteTime": {
     "end_time": "2024-06-18T17:43:00.465929Z",
     "start_time": "2024-06-18T17:43:00.006478Z"
    }
   },
   "cell_type": "code",
   "source": [
    "# ONLY RUN ONCE!\n",
    "import time\n",
    "from tqdm import tqdm\n",
    "\n",
    "corpus_docs = []\n",
    "str_time = time.strftime(\"%m/%d/%Y\")\n",
    "for doc in tqdm(corpus):\n",
    "    corpus_docs.append(Document(\n",
    "        metadata={\n",
    "            \"name\": \"rag-mini-bioasq\",\n",
    "            \"date\": str_time,\n",
    "            \"index\": doc['id'],\n",
    "        },\n",
    "        page_content=doc['passage']\n",
    "    ))\n",
    "weaviate_retriever.add_documents(corpus_docs)\n",
    "# Now let's load Pinecone"
   ],
   "id": "3f0bdf52f20c4756",
   "outputs": [
    {
     "name": "stderr",
     "output_type": "stream",
     "text": [
      "100%|██████████| 40221/40221 [00:00<00:00, 88844.41it/s]\n"
     ]
    }
   ],
   "execution_count": 122
  },
  {
   "metadata": {
    "ExecuteTime": {
     "end_time": "2024-06-18T15:47:50.890209Z",
     "start_time": "2024-06-18T15:47:46.831971Z"
    }
   },
   "cell_type": "code",
   "source": [
    "import certifi\n",
    "from pinecone_text.sparse import BM25Encoder\n",
    "\n",
    "os.environ['SSL_CERT_FILE'] = certifi.where()\n",
    "\n",
    "bm25_encoder = BM25Encoder().default()"
   ],
   "id": "14823184e4e7d84a",
   "outputs": [],
   "execution_count": 73
  },
  {
   "metadata": {
    "ExecuteTime": {
     "end_time": "2024-06-18T15:47:55.382957Z",
     "start_time": "2024-06-18T15:47:50.891304Z"
    }
   },
   "cell_type": "code",
   "source": [
    "bm25_encoder.fit(corpus)\n",
    "current_directory = os.getcwd()\n",
    "json_file_path = os.path.join(current_directory, \"bm25_values.json\")"
   ],
   "id": "1fae3a729a6fa267",
   "outputs": [
    {
     "data": {
      "text/plain": [
       "  0%|          | 0/10000 [00:00<?, ?it/s]"
      ],
      "application/vnd.jupyter.widget-view+json": {
       "version_major": 2,
       "version_minor": 0,
       "model_id": "b0cf345332694aaf943b66d4c5914047"
      }
     },
     "metadata": {},
     "output_type": "display_data"
    }
   ],
   "execution_count": 74
  },
  {
   "metadata": {
    "ExecuteTime": {
     "end_time": "2024-06-18T15:48:01.895152Z",
     "start_time": "2024-06-18T15:48:01.148893Z"
    }
   },
   "cell_type": "code",
   "source": [
    "from pinecone import Pinecone, ServerlessSpec\n",
    "\n",
    "pc_api_key = input(\"Enter your Pinecone API key: \")\n",
    "# initialize Pinecone client\n",
    "pc = Pinecone(api_key=pc_api_key)"
   ],
   "id": "1c5342eb88d511e7",
   "outputs": [],
   "execution_count": 75
  },
  {
   "metadata": {
    "ExecuteTime": {
     "end_time": "2024-06-18T17:22:32.960523Z",
     "start_time": "2024-06-18T17:22:32.957793Z"
    }
   },
   "cell_type": "code",
   "source": "index_name = \"rag-mini-bioasq\"",
   "id": "ef77b99df32eaa37",
   "outputs": [],
   "execution_count": 105
  },
  {
   "metadata": {
    "ExecuteTime": {
     "end_time": "2024-06-18T17:44:24.916629Z",
     "start_time": "2024-06-18T17:44:24.487436Z"
    }
   },
   "cell_type": "code",
   "source": [
    "# create the index\n",
    "texts = []\n",
    "metadatas = []\n",
    "if index_name not in pc.list_indexes().names():\n",
    "    str_time = time.strftime(\"%m/%d/%Y\")\n",
    "    pc.create_index(\n",
    "        name=index_name,\n",
    "        dimension=1536,  # dimensionality of dense model\n",
    "        metric=\"dotproduct\",  # sparse values supported only for dotproduct\n",
    "        spec=ServerlessSpec(cloud=\"aws\", region=\"us-east-1\"),\n",
    "    )\n",
    "\n",
    "    for doc in corpus:\n",
    "        texts.append(doc['passage'])\n",
    "        metadatas.append({\n",
    "            \"name\": \"rag-mini-bioasq\",\n",
    "            \"date\": str_time,\n",
    "            \"index\": doc['id'],\n",
    "        })"
   ],
   "id": "2fee39579abaa1fe",
   "outputs": [],
   "execution_count": 127
  },
  {
   "metadata": {
    "ExecuteTime": {
     "end_time": "2024-06-18T17:22:50.268311Z",
     "start_time": "2024-06-18T17:22:50.211282Z"
    }
   },
   "cell_type": "code",
   "source": "index = pc.Index(index_name)",
   "id": "dc6c83167474a35f",
   "outputs": [],
   "execution_count": 107
  },
  {
   "metadata": {
    "ExecuteTime": {
     "end_time": "2024-06-18T19:56:45.786814Z",
     "start_time": "2024-06-18T19:56:45.784458Z"
    }
   },
   "cell_type": "code",
   "source": [
    "from langchain_community.retrievers import PineconeHybridSearchRetriever\n",
    "\n",
    "pinecone_retriever = PineconeHybridSearchRetriever(\n",
    "    embeddings=embeddings, sparse_encoder=bm25_encoder, index=index, top_k=n_results\n",
    ")"
   ],
   "id": "1b179f4ccbed0799",
   "outputs": [],
   "execution_count": 146
  },
  {
   "metadata": {
    "ExecuteTime": {
     "end_time": "2024-06-18T17:32:53.641124Z",
     "start_time": "2024-06-18T17:23:00.417606Z"
    }
   },
   "cell_type": "code",
   "source": [
    "if len(texts) > 0 and len(metadatas) > 0:\n",
    "    pinecone_retriever.add_texts(texts, metadatas=metadatas)"
   ],
   "id": "43f1f052621824f4",
   "outputs": [
    {
     "data": {
      "text/plain": [
       "  0%|          | 0/1257 [00:00<?, ?it/s]"
      ],
      "application/vnd.jupyter.widget-view+json": {
       "version_major": 2,
       "version_minor": 0,
       "model_id": "265ed845109a4cee9a2a8469db9159a2"
      }
     },
     "metadata": {},
     "output_type": "display_data"
    },
    {
     "ename": "KeyboardInterrupt",
     "evalue": "",
     "output_type": "error",
     "traceback": [
      "\u001B[0;31m---------------------------------------------------------------------------\u001B[0m",
      "\u001B[0;31mKeyboardInterrupt\u001B[0m                         Traceback (most recent call last)",
      "Cell \u001B[0;32mIn[109], line 2\u001B[0m\n\u001B[1;32m      1\u001B[0m \u001B[38;5;28;01mif\u001B[39;00m \u001B[38;5;28mlen\u001B[39m(texts) \u001B[38;5;241m>\u001B[39m \u001B[38;5;241m0\u001B[39m \u001B[38;5;129;01mand\u001B[39;00m \u001B[38;5;28mlen\u001B[39m(metadatas) \u001B[38;5;241m>\u001B[39m \u001B[38;5;241m0\u001B[39m:\n\u001B[0;32m----> 2\u001B[0m     \u001B[43mpinecone_retriever\u001B[49m\u001B[38;5;241;43m.\u001B[39;49m\u001B[43madd_texts\u001B[49m\u001B[43m(\u001B[49m\u001B[43mtexts\u001B[49m\u001B[43m,\u001B[49m\u001B[43m \u001B[49m\u001B[43mmetadatas\u001B[49m\u001B[38;5;241;43m=\u001B[39;49m\u001B[43mmetadatas\u001B[49m\u001B[43m)\u001B[49m\n",
      "File \u001B[0;32m~/PycharmProjects/BenchmarkRAG/.venv/lib/python3.10/site-packages/langchain_community/retrievers/pinecone_hybrid_search.py:129\u001B[0m, in \u001B[0;36mPineconeHybridSearchRetriever.add_texts\u001B[0;34m(self, texts, ids, metadatas, namespace)\u001B[0m\n\u001B[1;32m    122\u001B[0m \u001B[38;5;28;01mdef\u001B[39;00m \u001B[38;5;21madd_texts\u001B[39m(\n\u001B[1;32m    123\u001B[0m     \u001B[38;5;28mself\u001B[39m,\n\u001B[1;32m    124\u001B[0m     texts: List[\u001B[38;5;28mstr\u001B[39m],\n\u001B[0;32m   (...)\u001B[0m\n\u001B[1;32m    127\u001B[0m     namespace: Optional[\u001B[38;5;28mstr\u001B[39m] \u001B[38;5;241m=\u001B[39m \u001B[38;5;28;01mNone\u001B[39;00m,\n\u001B[1;32m    128\u001B[0m ) \u001B[38;5;241m-\u001B[39m\u001B[38;5;241m>\u001B[39m \u001B[38;5;28;01mNone\u001B[39;00m:\n\u001B[0;32m--> 129\u001B[0m     \u001B[43mcreate_index\u001B[49m\u001B[43m(\u001B[49m\n\u001B[1;32m    130\u001B[0m \u001B[43m        \u001B[49m\u001B[43mtexts\u001B[49m\u001B[43m,\u001B[49m\n\u001B[1;32m    131\u001B[0m \u001B[43m        \u001B[49m\u001B[38;5;28;43mself\u001B[39;49m\u001B[38;5;241;43m.\u001B[39;49m\u001B[43mindex\u001B[49m\u001B[43m,\u001B[49m\n\u001B[1;32m    132\u001B[0m \u001B[43m        \u001B[49m\u001B[38;5;28;43mself\u001B[39;49m\u001B[38;5;241;43m.\u001B[39;49m\u001B[43membeddings\u001B[49m\u001B[43m,\u001B[49m\n\u001B[1;32m    133\u001B[0m \u001B[43m        \u001B[49m\u001B[38;5;28;43mself\u001B[39;49m\u001B[38;5;241;43m.\u001B[39;49m\u001B[43msparse_encoder\u001B[49m\u001B[43m,\u001B[49m\n\u001B[1;32m    134\u001B[0m \u001B[43m        \u001B[49m\u001B[43mids\u001B[49m\u001B[38;5;241;43m=\u001B[39;49m\u001B[43mids\u001B[49m\u001B[43m,\u001B[49m\n\u001B[1;32m    135\u001B[0m \u001B[43m        \u001B[49m\u001B[43mmetadatas\u001B[49m\u001B[38;5;241;43m=\u001B[39;49m\u001B[43mmetadatas\u001B[49m\u001B[43m,\u001B[49m\n\u001B[1;32m    136\u001B[0m \u001B[43m        \u001B[49m\u001B[43mnamespace\u001B[49m\u001B[38;5;241;43m=\u001B[39;49m\u001B[43mnamespace\u001B[49m\u001B[43m,\u001B[49m\n\u001B[1;32m    137\u001B[0m \u001B[43m    \u001B[49m\u001B[43m)\u001B[49m\n",
      "File \u001B[0;32m~/PycharmProjects/BenchmarkRAG/.venv/lib/python3.10/site-packages/langchain_community/retrievers/pinecone_hybrid_search.py:96\u001B[0m, in \u001B[0;36mcreate_index\u001B[0;34m(contexts, index, embeddings, sparse_encoder, ids, metadatas, namespace)\u001B[0m\n\u001B[1;32m     86\u001B[0m     vectors\u001B[38;5;241m.\u001B[39mappend(\n\u001B[1;32m     87\u001B[0m         {\n\u001B[1;32m     88\u001B[0m             \u001B[38;5;124m\"\u001B[39m\u001B[38;5;124mid\u001B[39m\u001B[38;5;124m\"\u001B[39m: doc_id,\n\u001B[0;32m   (...)\u001B[0m\n\u001B[1;32m     92\u001B[0m         }\n\u001B[1;32m     93\u001B[0m     )\n\u001B[1;32m     95\u001B[0m \u001B[38;5;66;03m# upload the documents to the new hybrid index\u001B[39;00m\n\u001B[0;32m---> 96\u001B[0m \u001B[43mindex\u001B[49m\u001B[38;5;241;43m.\u001B[39;49m\u001B[43mupsert\u001B[49m\u001B[43m(\u001B[49m\u001B[43mvectors\u001B[49m\u001B[43m,\u001B[49m\u001B[43m \u001B[49m\u001B[43mnamespace\u001B[49m\u001B[38;5;241;43m=\u001B[39;49m\u001B[43mnamespace\u001B[49m\u001B[43m)\u001B[49m\n",
      "File \u001B[0;32m~/PycharmProjects/BenchmarkRAG/.venv/lib/python3.10/site-packages/pinecone/utils/error_handling.py:10\u001B[0m, in \u001B[0;36mvalidate_and_convert_errors.<locals>.inner_func\u001B[0;34m(*args, **kwargs)\u001B[0m\n\u001B[1;32m      7\u001B[0m \u001B[38;5;129m@wraps\u001B[39m(func)\n\u001B[1;32m      8\u001B[0m \u001B[38;5;28;01mdef\u001B[39;00m \u001B[38;5;21minner_func\u001B[39m(\u001B[38;5;241m*\u001B[39margs, \u001B[38;5;241m*\u001B[39m\u001B[38;5;241m*\u001B[39mkwargs):\n\u001B[1;32m      9\u001B[0m     \u001B[38;5;28;01mtry\u001B[39;00m:\n\u001B[0;32m---> 10\u001B[0m         \u001B[38;5;28;01mreturn\u001B[39;00m \u001B[43mfunc\u001B[49m\u001B[43m(\u001B[49m\u001B[38;5;241;43m*\u001B[39;49m\u001B[43margs\u001B[49m\u001B[43m,\u001B[49m\u001B[43m \u001B[49m\u001B[38;5;241;43m*\u001B[39;49m\u001B[38;5;241;43m*\u001B[39;49m\u001B[43mkwargs\u001B[49m\u001B[43m)\u001B[49m\n\u001B[1;32m     11\u001B[0m     \u001B[38;5;28;01mexcept\u001B[39;00m MaxRetryError \u001B[38;5;28;01mas\u001B[39;00m e:\n\u001B[1;32m     12\u001B[0m         \u001B[38;5;28;01mif\u001B[39;00m \u001B[38;5;28misinstance\u001B[39m(e\u001B[38;5;241m.\u001B[39mreason, ProtocolError):\n",
      "File \u001B[0;32m~/PycharmProjects/BenchmarkRAG/.venv/lib/python3.10/site-packages/pinecone/data/index.py:174\u001B[0m, in \u001B[0;36mIndex.upsert\u001B[0;34m(self, vectors, namespace, batch_size, show_progress, **kwargs)\u001B[0m\n\u001B[1;32m    167\u001B[0m     \u001B[38;5;28;01mraise\u001B[39;00m \u001B[38;5;167;01mValueError\u001B[39;00m(\n\u001B[1;32m    168\u001B[0m         \u001B[38;5;124m\"\u001B[39m\u001B[38;5;124masync_req is not supported when batch_size is provided.\u001B[39m\u001B[38;5;124m\"\u001B[39m\n\u001B[1;32m    169\u001B[0m         \u001B[38;5;124m\"\u001B[39m\u001B[38;5;124mTo upsert in parallel, please follow: \u001B[39m\u001B[38;5;124m\"\u001B[39m\n\u001B[1;32m    170\u001B[0m         \u001B[38;5;124m\"\u001B[39m\u001B[38;5;124mhttps://docs.pinecone.io/docs/insert-data#sending-upserts-in-parallel\u001B[39m\u001B[38;5;124m\"\u001B[39m\n\u001B[1;32m    171\u001B[0m     )\n\u001B[1;32m    173\u001B[0m \u001B[38;5;28;01mif\u001B[39;00m batch_size \u001B[38;5;129;01mis\u001B[39;00m \u001B[38;5;28;01mNone\u001B[39;00m:\n\u001B[0;32m--> 174\u001B[0m     \u001B[38;5;28;01mreturn\u001B[39;00m \u001B[38;5;28;43mself\u001B[39;49m\u001B[38;5;241;43m.\u001B[39;49m\u001B[43m_upsert_batch\u001B[49m\u001B[43m(\u001B[49m\u001B[43mvectors\u001B[49m\u001B[43m,\u001B[49m\u001B[43m \u001B[49m\u001B[43mnamespace\u001B[49m\u001B[43m,\u001B[49m\u001B[43m \u001B[49m\u001B[43m_check_type\u001B[49m\u001B[43m,\u001B[49m\u001B[43m \u001B[49m\u001B[38;5;241;43m*\u001B[39;49m\u001B[38;5;241;43m*\u001B[39;49m\u001B[43mkwargs\u001B[49m\u001B[43m)\u001B[49m\n\u001B[1;32m    176\u001B[0m \u001B[38;5;28;01mif\u001B[39;00m \u001B[38;5;129;01mnot\u001B[39;00m \u001B[38;5;28misinstance\u001B[39m(batch_size, \u001B[38;5;28mint\u001B[39m) \u001B[38;5;129;01mor\u001B[39;00m batch_size \u001B[38;5;241m<\u001B[39m\u001B[38;5;241m=\u001B[39m \u001B[38;5;241m0\u001B[39m:\n\u001B[1;32m    177\u001B[0m     \u001B[38;5;28;01mraise\u001B[39;00m \u001B[38;5;167;01mValueError\u001B[39;00m(\u001B[38;5;124m\"\u001B[39m\u001B[38;5;124mbatch_size must be a positive integer\u001B[39m\u001B[38;5;124m\"\u001B[39m)\n",
      "File \u001B[0;32m~/PycharmProjects/BenchmarkRAG/.venv/lib/python3.10/site-packages/pinecone/data/index.py:195\u001B[0m, in \u001B[0;36mIndex._upsert_batch\u001B[0;34m(self, vectors, namespace, _check_type, **kwargs)\u001B[0m\n\u001B[1;32m    192\u001B[0m args_dict \u001B[38;5;241m=\u001B[39m \u001B[38;5;28mself\u001B[39m\u001B[38;5;241m.\u001B[39m_parse_non_empty_args([(\u001B[38;5;124m\"\u001B[39m\u001B[38;5;124mnamespace\u001B[39m\u001B[38;5;124m\"\u001B[39m, namespace)])\n\u001B[1;32m    193\u001B[0m vec_builder \u001B[38;5;241m=\u001B[39m \u001B[38;5;28;01mlambda\u001B[39;00m v: VectorFactory\u001B[38;5;241m.\u001B[39mbuild(v, check_type\u001B[38;5;241m=\u001B[39m_check_type)\n\u001B[0;32m--> 195\u001B[0m \u001B[38;5;28;01mreturn\u001B[39;00m \u001B[38;5;28;43mself\u001B[39;49m\u001B[38;5;241;43m.\u001B[39;49m\u001B[43m_vector_api\u001B[49m\u001B[38;5;241;43m.\u001B[39;49m\u001B[43mupsert\u001B[49m\u001B[43m(\u001B[49m\n\u001B[1;32m    196\u001B[0m \u001B[43m    \u001B[49m\u001B[43mUpsertRequest\u001B[49m\u001B[43m(\u001B[49m\n\u001B[1;32m    197\u001B[0m \u001B[43m        \u001B[49m\u001B[43mvectors\u001B[49m\u001B[38;5;241;43m=\u001B[39;49m\u001B[38;5;28;43mlist\u001B[39;49m\u001B[43m(\u001B[49m\u001B[38;5;28;43mmap\u001B[39;49m\u001B[43m(\u001B[49m\u001B[43mvec_builder\u001B[49m\u001B[43m,\u001B[49m\u001B[43m \u001B[49m\u001B[43mvectors\u001B[49m\u001B[43m)\u001B[49m\u001B[43m)\u001B[49m\u001B[43m,\u001B[49m\n\u001B[1;32m    198\u001B[0m \u001B[43m        \u001B[49m\u001B[38;5;241;43m*\u001B[39;49m\u001B[38;5;241;43m*\u001B[39;49m\u001B[43margs_dict\u001B[49m\u001B[43m,\u001B[49m\n\u001B[1;32m    199\u001B[0m \u001B[43m        \u001B[49m\u001B[43m_check_type\u001B[49m\u001B[38;5;241;43m=\u001B[39;49m\u001B[43m_check_type\u001B[49m\u001B[43m,\u001B[49m\n\u001B[1;32m    200\u001B[0m \u001B[43m        \u001B[49m\u001B[38;5;241;43m*\u001B[39;49m\u001B[38;5;241;43m*\u001B[39;49m\u001B[43m{\u001B[49m\u001B[43mk\u001B[49m\u001B[43m:\u001B[49m\u001B[43m \u001B[49m\u001B[43mv\u001B[49m\u001B[43m \u001B[49m\u001B[38;5;28;43;01mfor\u001B[39;49;00m\u001B[43m \u001B[49m\u001B[43mk\u001B[49m\u001B[43m,\u001B[49m\u001B[43m \u001B[49m\u001B[43mv\u001B[49m\u001B[43m \u001B[49m\u001B[38;5;129;43;01min\u001B[39;49;00m\u001B[43m \u001B[49m\u001B[43mkwargs\u001B[49m\u001B[38;5;241;43m.\u001B[39;49m\u001B[43mitems\u001B[49m\u001B[43m(\u001B[49m\u001B[43m)\u001B[49m\u001B[43m \u001B[49m\u001B[38;5;28;43;01mif\u001B[39;49;00m\u001B[43m \u001B[49m\u001B[43mk\u001B[49m\u001B[43m \u001B[49m\u001B[38;5;129;43;01mnot\u001B[39;49;00m\u001B[43m \u001B[49m\u001B[38;5;129;43;01min\u001B[39;49;00m\u001B[43m \u001B[49m\u001B[43m_OPENAPI_ENDPOINT_PARAMS\u001B[49m\u001B[43m}\u001B[49m\u001B[43m,\u001B[49m\n\u001B[1;32m    201\u001B[0m \u001B[43m    \u001B[49m\u001B[43m)\u001B[49m\u001B[43m,\u001B[49m\n\u001B[1;32m    202\u001B[0m \u001B[43m    \u001B[49m\u001B[38;5;241;43m*\u001B[39;49m\u001B[38;5;241;43m*\u001B[39;49m\u001B[43m{\u001B[49m\u001B[43mk\u001B[49m\u001B[43m:\u001B[49m\u001B[43m \u001B[49m\u001B[43mv\u001B[49m\u001B[43m \u001B[49m\u001B[38;5;28;43;01mfor\u001B[39;49;00m\u001B[43m \u001B[49m\u001B[43mk\u001B[49m\u001B[43m,\u001B[49m\u001B[43m \u001B[49m\u001B[43mv\u001B[49m\u001B[43m \u001B[49m\u001B[38;5;129;43;01min\u001B[39;49;00m\u001B[43m \u001B[49m\u001B[43mkwargs\u001B[49m\u001B[38;5;241;43m.\u001B[39;49m\u001B[43mitems\u001B[49m\u001B[43m(\u001B[49m\u001B[43m)\u001B[49m\u001B[43m \u001B[49m\u001B[38;5;28;43;01mif\u001B[39;49;00m\u001B[43m \u001B[49m\u001B[43mk\u001B[49m\u001B[43m \u001B[49m\u001B[38;5;129;43;01min\u001B[39;49;00m\u001B[43m \u001B[49m\u001B[43m_OPENAPI_ENDPOINT_PARAMS\u001B[49m\u001B[43m}\u001B[49m\u001B[43m,\u001B[49m\n\u001B[1;32m    203\u001B[0m \u001B[43m\u001B[49m\u001B[43m)\u001B[49m\n",
      "File \u001B[0;32m~/PycharmProjects/BenchmarkRAG/.venv/lib/python3.10/site-packages/pinecone/core/client/api_client.py:772\u001B[0m, in \u001B[0;36mEndpoint.__call__\u001B[0;34m(self, *args, **kwargs)\u001B[0m\n\u001B[1;32m    761\u001B[0m \u001B[38;5;28;01mdef\u001B[39;00m \u001B[38;5;21m__call__\u001B[39m(\u001B[38;5;28mself\u001B[39m, \u001B[38;5;241m*\u001B[39margs, \u001B[38;5;241m*\u001B[39m\u001B[38;5;241m*\u001B[39mkwargs):\n\u001B[1;32m    762\u001B[0m \u001B[38;5;250m    \u001B[39m\u001B[38;5;124;03m\"\"\" This method is invoked when endpoints are called\u001B[39;00m\n\u001B[1;32m    763\u001B[0m \u001B[38;5;124;03m    Example:\u001B[39;00m\n\u001B[1;32m    764\u001B[0m \n\u001B[0;32m   (...)\u001B[0m\n\u001B[1;32m    770\u001B[0m \n\u001B[1;32m    771\u001B[0m \u001B[38;5;124;03m    \"\"\"\u001B[39;00m\n\u001B[0;32m--> 772\u001B[0m     \u001B[38;5;28;01mreturn\u001B[39;00m \u001B[38;5;28;43mself\u001B[39;49m\u001B[38;5;241;43m.\u001B[39;49m\u001B[43mcallable\u001B[49m\u001B[43m(\u001B[49m\u001B[38;5;28;43mself\u001B[39;49m\u001B[43m,\u001B[49m\u001B[43m \u001B[49m\u001B[38;5;241;43m*\u001B[39;49m\u001B[43margs\u001B[49m\u001B[43m,\u001B[49m\u001B[43m \u001B[49m\u001B[38;5;241;43m*\u001B[39;49m\u001B[38;5;241;43m*\u001B[39;49m\u001B[43mkwargs\u001B[49m\u001B[43m)\u001B[49m\n",
      "File \u001B[0;32m~/PycharmProjects/BenchmarkRAG/.venv/lib/python3.10/site-packages/pinecone/core/client/api/data_plane_api.py:1084\u001B[0m, in \u001B[0;36mDataPlaneApi.__init__.<locals>.__upsert\u001B[0;34m(self, upsert_request, **kwargs)\u001B[0m\n\u001B[1;32m   1081\u001B[0m kwargs[\u001B[38;5;124m'\u001B[39m\u001B[38;5;124m_host_index\u001B[39m\u001B[38;5;124m'\u001B[39m] \u001B[38;5;241m=\u001B[39m kwargs\u001B[38;5;241m.\u001B[39mget(\u001B[38;5;124m'\u001B[39m\u001B[38;5;124m_host_index\u001B[39m\u001B[38;5;124m'\u001B[39m)\n\u001B[1;32m   1082\u001B[0m kwargs[\u001B[38;5;124m'\u001B[39m\u001B[38;5;124mupsert_request\u001B[39m\u001B[38;5;124m'\u001B[39m] \u001B[38;5;241m=\u001B[39m \\\n\u001B[1;32m   1083\u001B[0m     upsert_request\n\u001B[0;32m-> 1084\u001B[0m \u001B[38;5;28;01mreturn\u001B[39;00m \u001B[38;5;28;43mself\u001B[39;49m\u001B[38;5;241;43m.\u001B[39;49m\u001B[43mcall_with_http_info\u001B[49m\u001B[43m(\u001B[49m\u001B[38;5;241;43m*\u001B[39;49m\u001B[38;5;241;43m*\u001B[39;49m\u001B[43mkwargs\u001B[49m\u001B[43m)\u001B[49m\n",
      "File \u001B[0;32m~/PycharmProjects/BenchmarkRAG/.venv/lib/python3.10/site-packages/pinecone/core/client/api_client.py:834\u001B[0m, in \u001B[0;36mEndpoint.call_with_http_info\u001B[0;34m(self, **kwargs)\u001B[0m\n\u001B[1;32m    830\u001B[0m     header_list \u001B[38;5;241m=\u001B[39m \u001B[38;5;28mself\u001B[39m\u001B[38;5;241m.\u001B[39mapi_client\u001B[38;5;241m.\u001B[39mselect_header_content_type(\n\u001B[1;32m    831\u001B[0m         content_type_headers_list)\n\u001B[1;32m    832\u001B[0m     params[\u001B[38;5;124m'\u001B[39m\u001B[38;5;124mheader\u001B[39m\u001B[38;5;124m'\u001B[39m][\u001B[38;5;124m'\u001B[39m\u001B[38;5;124mContent-Type\u001B[39m\u001B[38;5;124m'\u001B[39m] \u001B[38;5;241m=\u001B[39m header_list\n\u001B[0;32m--> 834\u001B[0m \u001B[38;5;28;01mreturn\u001B[39;00m \u001B[38;5;28;43mself\u001B[39;49m\u001B[38;5;241;43m.\u001B[39;49m\u001B[43mapi_client\u001B[49m\u001B[38;5;241;43m.\u001B[39;49m\u001B[43mcall_api\u001B[49m\u001B[43m(\u001B[49m\n\u001B[1;32m    835\u001B[0m \u001B[43m    \u001B[49m\u001B[38;5;28;43mself\u001B[39;49m\u001B[38;5;241;43m.\u001B[39;49m\u001B[43msettings\u001B[49m\u001B[43m[\u001B[49m\u001B[38;5;124;43m'\u001B[39;49m\u001B[38;5;124;43mendpoint_path\u001B[39;49m\u001B[38;5;124;43m'\u001B[39;49m\u001B[43m]\u001B[49m\u001B[43m,\u001B[49m\u001B[43m \u001B[49m\u001B[38;5;28;43mself\u001B[39;49m\u001B[38;5;241;43m.\u001B[39;49m\u001B[43msettings\u001B[49m\u001B[43m[\u001B[49m\u001B[38;5;124;43m'\u001B[39;49m\u001B[38;5;124;43mhttp_method\u001B[39;49m\u001B[38;5;124;43m'\u001B[39;49m\u001B[43m]\u001B[49m\u001B[43m,\u001B[49m\n\u001B[1;32m    836\u001B[0m \u001B[43m    \u001B[49m\u001B[43mparams\u001B[49m\u001B[43m[\u001B[49m\u001B[38;5;124;43m'\u001B[39;49m\u001B[38;5;124;43mpath\u001B[39;49m\u001B[38;5;124;43m'\u001B[39;49m\u001B[43m]\u001B[49m\u001B[43m,\u001B[49m\n\u001B[1;32m    837\u001B[0m \u001B[43m    \u001B[49m\u001B[43mparams\u001B[49m\u001B[43m[\u001B[49m\u001B[38;5;124;43m'\u001B[39;49m\u001B[38;5;124;43mquery\u001B[39;49m\u001B[38;5;124;43m'\u001B[39;49m\u001B[43m]\u001B[49m\u001B[43m,\u001B[49m\n\u001B[1;32m    838\u001B[0m \u001B[43m    \u001B[49m\u001B[43mparams\u001B[49m\u001B[43m[\u001B[49m\u001B[38;5;124;43m'\u001B[39;49m\u001B[38;5;124;43mheader\u001B[39;49m\u001B[38;5;124;43m'\u001B[39;49m\u001B[43m]\u001B[49m\u001B[43m,\u001B[49m\n\u001B[1;32m    839\u001B[0m \u001B[43m    \u001B[49m\u001B[43mbody\u001B[49m\u001B[38;5;241;43m=\u001B[39;49m\u001B[43mparams\u001B[49m\u001B[43m[\u001B[49m\u001B[38;5;124;43m'\u001B[39;49m\u001B[38;5;124;43mbody\u001B[39;49m\u001B[38;5;124;43m'\u001B[39;49m\u001B[43m]\u001B[49m\u001B[43m,\u001B[49m\n\u001B[1;32m    840\u001B[0m \u001B[43m    \u001B[49m\u001B[43mpost_params\u001B[49m\u001B[38;5;241;43m=\u001B[39;49m\u001B[43mparams\u001B[49m\u001B[43m[\u001B[49m\u001B[38;5;124;43m'\u001B[39;49m\u001B[38;5;124;43mform\u001B[39;49m\u001B[38;5;124;43m'\u001B[39;49m\u001B[43m]\u001B[49m\u001B[43m,\u001B[49m\n\u001B[1;32m    841\u001B[0m \u001B[43m    \u001B[49m\u001B[43mfiles\u001B[49m\u001B[38;5;241;43m=\u001B[39;49m\u001B[43mparams\u001B[49m\u001B[43m[\u001B[49m\u001B[38;5;124;43m'\u001B[39;49m\u001B[38;5;124;43mfile\u001B[39;49m\u001B[38;5;124;43m'\u001B[39;49m\u001B[43m]\u001B[49m\u001B[43m,\u001B[49m\n\u001B[1;32m    842\u001B[0m \u001B[43m    \u001B[49m\u001B[43mresponse_type\u001B[49m\u001B[38;5;241;43m=\u001B[39;49m\u001B[38;5;28;43mself\u001B[39;49m\u001B[38;5;241;43m.\u001B[39;49m\u001B[43msettings\u001B[49m\u001B[43m[\u001B[49m\u001B[38;5;124;43m'\u001B[39;49m\u001B[38;5;124;43mresponse_type\u001B[39;49m\u001B[38;5;124;43m'\u001B[39;49m\u001B[43m]\u001B[49m\u001B[43m,\u001B[49m\n\u001B[1;32m    843\u001B[0m \u001B[43m    \u001B[49m\u001B[43mauth_settings\u001B[49m\u001B[38;5;241;43m=\u001B[39;49m\u001B[38;5;28;43mself\u001B[39;49m\u001B[38;5;241;43m.\u001B[39;49m\u001B[43msettings\u001B[49m\u001B[43m[\u001B[49m\u001B[38;5;124;43m'\u001B[39;49m\u001B[38;5;124;43mauth\u001B[39;49m\u001B[38;5;124;43m'\u001B[39;49m\u001B[43m]\u001B[49m\u001B[43m,\u001B[49m\n\u001B[1;32m    844\u001B[0m \u001B[43m    \u001B[49m\u001B[43masync_req\u001B[49m\u001B[38;5;241;43m=\u001B[39;49m\u001B[43mkwargs\u001B[49m\u001B[43m[\u001B[49m\u001B[38;5;124;43m'\u001B[39;49m\u001B[38;5;124;43masync_req\u001B[39;49m\u001B[38;5;124;43m'\u001B[39;49m\u001B[43m]\u001B[49m\u001B[43m,\u001B[49m\n\u001B[1;32m    845\u001B[0m \u001B[43m    \u001B[49m\u001B[43m_check_type\u001B[49m\u001B[38;5;241;43m=\u001B[39;49m\u001B[43mkwargs\u001B[49m\u001B[43m[\u001B[49m\u001B[38;5;124;43m'\u001B[39;49m\u001B[38;5;124;43m_check_return_type\u001B[39;49m\u001B[38;5;124;43m'\u001B[39;49m\u001B[43m]\u001B[49m\u001B[43m,\u001B[49m\n\u001B[1;32m    846\u001B[0m \u001B[43m    \u001B[49m\u001B[43m_return_http_data_only\u001B[49m\u001B[38;5;241;43m=\u001B[39;49m\u001B[43mkwargs\u001B[49m\u001B[43m[\u001B[49m\u001B[38;5;124;43m'\u001B[39;49m\u001B[38;5;124;43m_return_http_data_only\u001B[39;49m\u001B[38;5;124;43m'\u001B[39;49m\u001B[43m]\u001B[49m\u001B[43m,\u001B[49m\n\u001B[1;32m    847\u001B[0m \u001B[43m    \u001B[49m\u001B[43m_preload_content\u001B[49m\u001B[38;5;241;43m=\u001B[39;49m\u001B[43mkwargs\u001B[49m\u001B[43m[\u001B[49m\u001B[38;5;124;43m'\u001B[39;49m\u001B[38;5;124;43m_preload_content\u001B[39;49m\u001B[38;5;124;43m'\u001B[39;49m\u001B[43m]\u001B[49m\u001B[43m,\u001B[49m\n\u001B[1;32m    848\u001B[0m \u001B[43m    \u001B[49m\u001B[43m_request_timeout\u001B[49m\u001B[38;5;241;43m=\u001B[39;49m\u001B[43mkwargs\u001B[49m\u001B[43m[\u001B[49m\u001B[38;5;124;43m'\u001B[39;49m\u001B[38;5;124;43m_request_timeout\u001B[39;49m\u001B[38;5;124;43m'\u001B[39;49m\u001B[43m]\u001B[49m\u001B[43m,\u001B[49m\n\u001B[1;32m    849\u001B[0m \u001B[43m    \u001B[49m\u001B[43m_host\u001B[49m\u001B[38;5;241;43m=\u001B[39;49m\u001B[43m_host\u001B[49m\u001B[43m,\u001B[49m\n\u001B[1;32m    850\u001B[0m \u001B[43m    \u001B[49m\u001B[43mcollection_formats\u001B[49m\u001B[38;5;241;43m=\u001B[39;49m\u001B[43mparams\u001B[49m\u001B[43m[\u001B[49m\u001B[38;5;124;43m'\u001B[39;49m\u001B[38;5;124;43mcollection_format\u001B[39;49m\u001B[38;5;124;43m'\u001B[39;49m\u001B[43m]\u001B[49m\u001B[43m)\u001B[49m\n",
      "File \u001B[0;32m~/PycharmProjects/BenchmarkRAG/.venv/lib/python3.10/site-packages/pinecone/core/client/api_client.py:409\u001B[0m, in \u001B[0;36mApiClient.call_api\u001B[0;34m(self, resource_path, method, path_params, query_params, header_params, body, post_params, files, response_type, auth_settings, async_req, _return_http_data_only, collection_formats, _preload_content, _request_timeout, _host, _check_type)\u001B[0m\n\u001B[1;32m    355\u001B[0m \u001B[38;5;250m\u001B[39m\u001B[38;5;124;03m\"\"\"Makes the HTTP request (synchronous) and returns deserialized data.\u001B[39;00m\n\u001B[1;32m    356\u001B[0m \n\u001B[1;32m    357\u001B[0m \u001B[38;5;124;03mTo make an async_req request, set the async_req parameter.\u001B[39;00m\n\u001B[0;32m   (...)\u001B[0m\n\u001B[1;32m    406\u001B[0m \u001B[38;5;124;03m    then the method will return the response directly.\u001B[39;00m\n\u001B[1;32m    407\u001B[0m \u001B[38;5;124;03m\"\"\"\u001B[39;00m\n\u001B[1;32m    408\u001B[0m \u001B[38;5;28;01mif\u001B[39;00m \u001B[38;5;129;01mnot\u001B[39;00m async_req:\n\u001B[0;32m--> 409\u001B[0m     \u001B[38;5;28;01mreturn\u001B[39;00m \u001B[38;5;28;43mself\u001B[39;49m\u001B[38;5;241;43m.\u001B[39;49m\u001B[43m__call_api\u001B[49m\u001B[43m(\u001B[49m\u001B[43mresource_path\u001B[49m\u001B[43m,\u001B[49m\u001B[43m \u001B[49m\u001B[43mmethod\u001B[49m\u001B[43m,\u001B[49m\n\u001B[1;32m    410\u001B[0m \u001B[43m                           \u001B[49m\u001B[43mpath_params\u001B[49m\u001B[43m,\u001B[49m\u001B[43m \u001B[49m\u001B[43mquery_params\u001B[49m\u001B[43m,\u001B[49m\u001B[43m \u001B[49m\u001B[43mheader_params\u001B[49m\u001B[43m,\u001B[49m\n\u001B[1;32m    411\u001B[0m \u001B[43m                           \u001B[49m\u001B[43mbody\u001B[49m\u001B[43m,\u001B[49m\u001B[43m \u001B[49m\u001B[43mpost_params\u001B[49m\u001B[43m,\u001B[49m\u001B[43m \u001B[49m\u001B[43mfiles\u001B[49m\u001B[43m,\u001B[49m\n\u001B[1;32m    412\u001B[0m \u001B[43m                           \u001B[49m\u001B[43mresponse_type\u001B[49m\u001B[43m,\u001B[49m\u001B[43m \u001B[49m\u001B[43mauth_settings\u001B[49m\u001B[43m,\u001B[49m\n\u001B[1;32m    413\u001B[0m \u001B[43m                           \u001B[49m\u001B[43m_return_http_data_only\u001B[49m\u001B[43m,\u001B[49m\u001B[43m \u001B[49m\u001B[43mcollection_formats\u001B[49m\u001B[43m,\u001B[49m\n\u001B[1;32m    414\u001B[0m \u001B[43m                           \u001B[49m\u001B[43m_preload_content\u001B[49m\u001B[43m,\u001B[49m\u001B[43m \u001B[49m\u001B[43m_request_timeout\u001B[49m\u001B[43m,\u001B[49m\u001B[43m \u001B[49m\u001B[43m_host\u001B[49m\u001B[43m,\u001B[49m\n\u001B[1;32m    415\u001B[0m \u001B[43m                           \u001B[49m\u001B[43m_check_type\u001B[49m\u001B[43m)\u001B[49m\n\u001B[1;32m    417\u001B[0m \u001B[38;5;28;01mreturn\u001B[39;00m \u001B[38;5;28mself\u001B[39m\u001B[38;5;241m.\u001B[39mpool\u001B[38;5;241m.\u001B[39mapply_async(\u001B[38;5;28mself\u001B[39m\u001B[38;5;241m.\u001B[39m__call_api, (resource_path,\n\u001B[1;32m    418\u001B[0m                                                method, path_params,\n\u001B[1;32m    419\u001B[0m                                                query_params,\n\u001B[0;32m   (...)\u001B[0m\n\u001B[1;32m    427\u001B[0m                                                _request_timeout,\n\u001B[1;32m    428\u001B[0m                                                _host, _check_type))\n",
      "File \u001B[0;32m~/PycharmProjects/BenchmarkRAG/.venv/lib/python3.10/site-packages/pinecone/core/client/api_client.py:196\u001B[0m, in \u001B[0;36mApiClient.__call_api\u001B[0;34m(self, resource_path, method, path_params, query_params, header_params, body, post_params, files, response_type, auth_settings, _return_http_data_only, collection_formats, _preload_content, _request_timeout, _host, _check_type)\u001B[0m\n\u001B[1;32m    192\u001B[0m     url \u001B[38;5;241m=\u001B[39m _host \u001B[38;5;241m+\u001B[39m resource_path\n\u001B[1;32m    194\u001B[0m \u001B[38;5;28;01mtry\u001B[39;00m:\n\u001B[1;32m    195\u001B[0m     \u001B[38;5;66;03m# perform request and return response\u001B[39;00m\n\u001B[0;32m--> 196\u001B[0m     response_data \u001B[38;5;241m=\u001B[39m \u001B[38;5;28;43mself\u001B[39;49m\u001B[38;5;241;43m.\u001B[39;49m\u001B[43mrequest\u001B[49m\u001B[43m(\u001B[49m\n\u001B[1;32m    197\u001B[0m \u001B[43m        \u001B[49m\u001B[43mmethod\u001B[49m\u001B[43m,\u001B[49m\u001B[43m \u001B[49m\u001B[43murl\u001B[49m\u001B[43m,\u001B[49m\u001B[43m \u001B[49m\u001B[43mquery_params\u001B[49m\u001B[38;5;241;43m=\u001B[39;49m\u001B[43mquery_params\u001B[49m\u001B[43m,\u001B[49m\u001B[43m \u001B[49m\u001B[43mheaders\u001B[49m\u001B[38;5;241;43m=\u001B[39;49m\u001B[43mheader_params\u001B[49m\u001B[43m,\u001B[49m\n\u001B[1;32m    198\u001B[0m \u001B[43m        \u001B[49m\u001B[43mpost_params\u001B[49m\u001B[38;5;241;43m=\u001B[39;49m\u001B[43mpost_params\u001B[49m\u001B[43m,\u001B[49m\u001B[43m \u001B[49m\u001B[43mbody\u001B[49m\u001B[38;5;241;43m=\u001B[39;49m\u001B[43mbody\u001B[49m\u001B[43m,\u001B[49m\n\u001B[1;32m    199\u001B[0m \u001B[43m        \u001B[49m\u001B[43m_preload_content\u001B[49m\u001B[38;5;241;43m=\u001B[39;49m\u001B[43m_preload_content\u001B[49m\u001B[43m,\u001B[49m\n\u001B[1;32m    200\u001B[0m \u001B[43m        \u001B[49m\u001B[43m_request_timeout\u001B[49m\u001B[38;5;241;43m=\u001B[39;49m\u001B[43m_request_timeout\u001B[49m\u001B[43m)\u001B[49m\n\u001B[1;32m    201\u001B[0m \u001B[38;5;28;01mexcept\u001B[39;00m PineconeApiException \u001B[38;5;28;01mas\u001B[39;00m e:\n\u001B[1;32m    202\u001B[0m     e\u001B[38;5;241m.\u001B[39mbody \u001B[38;5;241m=\u001B[39m e\u001B[38;5;241m.\u001B[39mbody\u001B[38;5;241m.\u001B[39mdecode(\u001B[38;5;124m'\u001B[39m\u001B[38;5;124mutf-8\u001B[39m\u001B[38;5;124m'\u001B[39m)\n",
      "File \u001B[0;32m~/PycharmProjects/BenchmarkRAG/.venv/lib/python3.10/site-packages/pinecone/core/client/api_client.py:455\u001B[0m, in \u001B[0;36mApiClient.request\u001B[0;34m(self, method, url, query_params, headers, post_params, body, _preload_content, _request_timeout)\u001B[0m\n\u001B[1;32m    447\u001B[0m     \u001B[38;5;28;01mreturn\u001B[39;00m \u001B[38;5;28mself\u001B[39m\u001B[38;5;241m.\u001B[39mrest_client\u001B[38;5;241m.\u001B[39mOPTIONS(url,\n\u001B[1;32m    448\u001B[0m                                     query_params\u001B[38;5;241m=\u001B[39mquery_params,\n\u001B[1;32m    449\u001B[0m                                     headers\u001B[38;5;241m=\u001B[39mheaders,\n\u001B[0;32m   (...)\u001B[0m\n\u001B[1;32m    452\u001B[0m                                     _request_timeout\u001B[38;5;241m=\u001B[39m_request_timeout,\n\u001B[1;32m    453\u001B[0m                                     body\u001B[38;5;241m=\u001B[39mbody)\n\u001B[1;32m    454\u001B[0m \u001B[38;5;28;01melif\u001B[39;00m method \u001B[38;5;241m==\u001B[39m \u001B[38;5;124m\"\u001B[39m\u001B[38;5;124mPOST\u001B[39m\u001B[38;5;124m\"\u001B[39m:\n\u001B[0;32m--> 455\u001B[0m     \u001B[38;5;28;01mreturn\u001B[39;00m \u001B[38;5;28;43mself\u001B[39;49m\u001B[38;5;241;43m.\u001B[39;49m\u001B[43mrest_client\u001B[49m\u001B[38;5;241;43m.\u001B[39;49m\u001B[43mPOST\u001B[49m\u001B[43m(\u001B[49m\u001B[43murl\u001B[49m\u001B[43m,\u001B[49m\n\u001B[1;32m    456\u001B[0m \u001B[43m                                 \u001B[49m\u001B[43mquery_params\u001B[49m\u001B[38;5;241;43m=\u001B[39;49m\u001B[43mquery_params\u001B[49m\u001B[43m,\u001B[49m\n\u001B[1;32m    457\u001B[0m \u001B[43m                                 \u001B[49m\u001B[43mheaders\u001B[49m\u001B[38;5;241;43m=\u001B[39;49m\u001B[43mheaders\u001B[49m\u001B[43m,\u001B[49m\n\u001B[1;32m    458\u001B[0m \u001B[43m                                 \u001B[49m\u001B[43mpost_params\u001B[49m\u001B[38;5;241;43m=\u001B[39;49m\u001B[43mpost_params\u001B[49m\u001B[43m,\u001B[49m\n\u001B[1;32m    459\u001B[0m \u001B[43m                                 \u001B[49m\u001B[43m_preload_content\u001B[49m\u001B[38;5;241;43m=\u001B[39;49m\u001B[43m_preload_content\u001B[49m\u001B[43m,\u001B[49m\n\u001B[1;32m    460\u001B[0m \u001B[43m                                 \u001B[49m\u001B[43m_request_timeout\u001B[49m\u001B[38;5;241;43m=\u001B[39;49m\u001B[43m_request_timeout\u001B[49m\u001B[43m,\u001B[49m\n\u001B[1;32m    461\u001B[0m \u001B[43m                                 \u001B[49m\u001B[43mbody\u001B[49m\u001B[38;5;241;43m=\u001B[39;49m\u001B[43mbody\u001B[49m\u001B[43m)\u001B[49m\n\u001B[1;32m    462\u001B[0m \u001B[38;5;28;01melif\u001B[39;00m method \u001B[38;5;241m==\u001B[39m \u001B[38;5;124m\"\u001B[39m\u001B[38;5;124mPUT\u001B[39m\u001B[38;5;124m\"\u001B[39m:\n\u001B[1;32m    463\u001B[0m     \u001B[38;5;28;01mreturn\u001B[39;00m \u001B[38;5;28mself\u001B[39m\u001B[38;5;241m.\u001B[39mrest_client\u001B[38;5;241m.\u001B[39mPUT(url,\n\u001B[1;32m    464\u001B[0m                                 query_params\u001B[38;5;241m=\u001B[39mquery_params,\n\u001B[1;32m    465\u001B[0m                                 headers\u001B[38;5;241m=\u001B[39mheaders,\n\u001B[0;32m   (...)\u001B[0m\n\u001B[1;32m    468\u001B[0m                                 _request_timeout\u001B[38;5;241m=\u001B[39m_request_timeout,\n\u001B[1;32m    469\u001B[0m                                 body\u001B[38;5;241m=\u001B[39mbody)\n",
      "File \u001B[0;32m~/PycharmProjects/BenchmarkRAG/.venv/lib/python3.10/site-packages/pinecone/core/client/rest.py:302\u001B[0m, in \u001B[0;36mRESTClientObject.POST\u001B[0;34m(self, url, headers, query_params, post_params, body, _preload_content, _request_timeout)\u001B[0m\n\u001B[1;32m    300\u001B[0m \u001B[38;5;28;01mdef\u001B[39;00m \u001B[38;5;21mPOST\u001B[39m(\u001B[38;5;28mself\u001B[39m, url, headers\u001B[38;5;241m=\u001B[39m\u001B[38;5;28;01mNone\u001B[39;00m, query_params\u001B[38;5;241m=\u001B[39m\u001B[38;5;28;01mNone\u001B[39;00m, post_params\u001B[38;5;241m=\u001B[39m\u001B[38;5;28;01mNone\u001B[39;00m,\n\u001B[1;32m    301\u001B[0m          body\u001B[38;5;241m=\u001B[39m\u001B[38;5;28;01mNone\u001B[39;00m, _preload_content\u001B[38;5;241m=\u001B[39m\u001B[38;5;28;01mTrue\u001B[39;00m, _request_timeout\u001B[38;5;241m=\u001B[39m\u001B[38;5;28;01mNone\u001B[39;00m):\n\u001B[0;32m--> 302\u001B[0m     \u001B[38;5;28;01mreturn\u001B[39;00m \u001B[38;5;28;43mself\u001B[39;49m\u001B[38;5;241;43m.\u001B[39;49m\u001B[43mrequest\u001B[49m\u001B[43m(\u001B[49m\u001B[38;5;124;43m\"\u001B[39;49m\u001B[38;5;124;43mPOST\u001B[39;49m\u001B[38;5;124;43m\"\u001B[39;49m\u001B[43m,\u001B[49m\u001B[43m \u001B[49m\u001B[43murl\u001B[49m\u001B[43m,\u001B[49m\n\u001B[1;32m    303\u001B[0m \u001B[43m                        \u001B[49m\u001B[43mheaders\u001B[49m\u001B[38;5;241;43m=\u001B[39;49m\u001B[43mheaders\u001B[49m\u001B[43m,\u001B[49m\n\u001B[1;32m    304\u001B[0m \u001B[43m                        \u001B[49m\u001B[43mquery_params\u001B[49m\u001B[38;5;241;43m=\u001B[39;49m\u001B[43mquery_params\u001B[49m\u001B[43m,\u001B[49m\n\u001B[1;32m    305\u001B[0m \u001B[43m                        \u001B[49m\u001B[43mpost_params\u001B[49m\u001B[38;5;241;43m=\u001B[39;49m\u001B[43mpost_params\u001B[49m\u001B[43m,\u001B[49m\n\u001B[1;32m    306\u001B[0m \u001B[43m                        \u001B[49m\u001B[43m_preload_content\u001B[49m\u001B[38;5;241;43m=\u001B[39;49m\u001B[43m_preload_content\u001B[49m\u001B[43m,\u001B[49m\n\u001B[1;32m    307\u001B[0m \u001B[43m                        \u001B[49m\u001B[43m_request_timeout\u001B[49m\u001B[38;5;241;43m=\u001B[39;49m\u001B[43m_request_timeout\u001B[49m\u001B[43m,\u001B[49m\n\u001B[1;32m    308\u001B[0m \u001B[43m                        \u001B[49m\u001B[43mbody\u001B[49m\u001B[38;5;241;43m=\u001B[39;49m\u001B[43mbody\u001B[49m\u001B[43m)\u001B[49m\n",
      "File \u001B[0;32m~/PycharmProjects/BenchmarkRAG/.venv/lib/python3.10/site-packages/pinecone/core/client/rest.py:179\u001B[0m, in \u001B[0;36mRESTClientObject.request\u001B[0;34m(self, method, url, query_params, headers, body, post_params, _preload_content, _request_timeout)\u001B[0m\n\u001B[1;32m    177\u001B[0m     \u001B[38;5;28;01mif\u001B[39;00m body \u001B[38;5;129;01mis\u001B[39;00m \u001B[38;5;129;01mnot\u001B[39;00m \u001B[38;5;28;01mNone\u001B[39;00m:\n\u001B[1;32m    178\u001B[0m         request_body \u001B[38;5;241m=\u001B[39m json\u001B[38;5;241m.\u001B[39mdumps(body)\n\u001B[0;32m--> 179\u001B[0m     r \u001B[38;5;241m=\u001B[39m \u001B[38;5;28;43mself\u001B[39;49m\u001B[38;5;241;43m.\u001B[39;49m\u001B[43mpool_manager\u001B[49m\u001B[38;5;241;43m.\u001B[39;49m\u001B[43mrequest\u001B[49m\u001B[43m(\u001B[49m\n\u001B[1;32m    180\u001B[0m \u001B[43m        \u001B[49m\u001B[43mmethod\u001B[49m\u001B[43m,\u001B[49m\u001B[43m \u001B[49m\u001B[43murl\u001B[49m\u001B[43m,\u001B[49m\n\u001B[1;32m    181\u001B[0m \u001B[43m        \u001B[49m\u001B[43mbody\u001B[49m\u001B[38;5;241;43m=\u001B[39;49m\u001B[43mrequest_body\u001B[49m\u001B[43m,\u001B[49m\n\u001B[1;32m    182\u001B[0m \u001B[43m        \u001B[49m\u001B[43mpreload_content\u001B[49m\u001B[38;5;241;43m=\u001B[39;49m\u001B[43m_preload_content\u001B[49m\u001B[43m,\u001B[49m\n\u001B[1;32m    183\u001B[0m \u001B[43m        \u001B[49m\u001B[43mtimeout\u001B[49m\u001B[38;5;241;43m=\u001B[39;49m\u001B[43mtimeout\u001B[49m\u001B[43m,\u001B[49m\n\u001B[1;32m    184\u001B[0m \u001B[43m        \u001B[49m\u001B[43mheaders\u001B[49m\u001B[38;5;241;43m=\u001B[39;49m\u001B[43mheaders\u001B[49m\u001B[43m)\u001B[49m\n\u001B[1;32m    185\u001B[0m \u001B[38;5;28;01melif\u001B[39;00m headers[\u001B[38;5;124m'\u001B[39m\u001B[38;5;124mContent-Type\u001B[39m\u001B[38;5;124m'\u001B[39m] \u001B[38;5;241m==\u001B[39m \u001B[38;5;124m'\u001B[39m\u001B[38;5;124mapplication/x-www-form-urlencoded\u001B[39m\u001B[38;5;124m'\u001B[39m:  \u001B[38;5;66;03m# noqa: E501\u001B[39;00m\n\u001B[1;32m    186\u001B[0m     r \u001B[38;5;241m=\u001B[39m \u001B[38;5;28mself\u001B[39m\u001B[38;5;241m.\u001B[39mpool_manager\u001B[38;5;241m.\u001B[39mrequest(\n\u001B[1;32m    187\u001B[0m         method, url,\n\u001B[1;32m    188\u001B[0m         fields\u001B[38;5;241m=\u001B[39mpost_params,\n\u001B[0;32m   (...)\u001B[0m\n\u001B[1;32m    191\u001B[0m         timeout\u001B[38;5;241m=\u001B[39mtimeout,\n\u001B[1;32m    192\u001B[0m         headers\u001B[38;5;241m=\u001B[39mheaders)\n",
      "File \u001B[0;32m~/PycharmProjects/BenchmarkRAG/.venv/lib/python3.10/site-packages/urllib3/_request_methods.py:144\u001B[0m, in \u001B[0;36mRequestMethods.request\u001B[0;34m(self, method, url, body, fields, headers, json, **urlopen_kw)\u001B[0m\n\u001B[1;32m    136\u001B[0m     \u001B[38;5;28;01mreturn\u001B[39;00m \u001B[38;5;28mself\u001B[39m\u001B[38;5;241m.\u001B[39mrequest_encode_url(\n\u001B[1;32m    137\u001B[0m         method,\n\u001B[1;32m    138\u001B[0m         url,\n\u001B[0;32m   (...)\u001B[0m\n\u001B[1;32m    141\u001B[0m         \u001B[38;5;241m*\u001B[39m\u001B[38;5;241m*\u001B[39murlopen_kw,\n\u001B[1;32m    142\u001B[0m     )\n\u001B[1;32m    143\u001B[0m \u001B[38;5;28;01melse\u001B[39;00m:\n\u001B[0;32m--> 144\u001B[0m     \u001B[38;5;28;01mreturn\u001B[39;00m \u001B[38;5;28;43mself\u001B[39;49m\u001B[38;5;241;43m.\u001B[39;49m\u001B[43mrequest_encode_body\u001B[49m\u001B[43m(\u001B[49m\n\u001B[1;32m    145\u001B[0m \u001B[43m        \u001B[49m\u001B[43mmethod\u001B[49m\u001B[43m,\u001B[49m\u001B[43m \u001B[49m\u001B[43murl\u001B[49m\u001B[43m,\u001B[49m\u001B[43m \u001B[49m\u001B[43mfields\u001B[49m\u001B[38;5;241;43m=\u001B[39;49m\u001B[43mfields\u001B[49m\u001B[43m,\u001B[49m\u001B[43m \u001B[49m\u001B[43mheaders\u001B[49m\u001B[38;5;241;43m=\u001B[39;49m\u001B[43mheaders\u001B[49m\u001B[43m,\u001B[49m\u001B[43m \u001B[49m\u001B[38;5;241;43m*\u001B[39;49m\u001B[38;5;241;43m*\u001B[39;49m\u001B[43murlopen_kw\u001B[49m\n\u001B[1;32m    146\u001B[0m \u001B[43m    \u001B[49m\u001B[43m)\u001B[49m\n",
      "File \u001B[0;32m~/PycharmProjects/BenchmarkRAG/.venv/lib/python3.10/site-packages/urllib3/_request_methods.py:279\u001B[0m, in \u001B[0;36mRequestMethods.request_encode_body\u001B[0;34m(self, method, url, fields, headers, encode_multipart, multipart_boundary, **urlopen_kw)\u001B[0m\n\u001B[1;32m    275\u001B[0m     extra_kw[\u001B[38;5;124m\"\u001B[39m\u001B[38;5;124mheaders\u001B[39m\u001B[38;5;124m\"\u001B[39m]\u001B[38;5;241m.\u001B[39msetdefault(\u001B[38;5;124m\"\u001B[39m\u001B[38;5;124mContent-Type\u001B[39m\u001B[38;5;124m\"\u001B[39m, content_type)\n\u001B[1;32m    277\u001B[0m extra_kw\u001B[38;5;241m.\u001B[39mupdate(urlopen_kw)\n\u001B[0;32m--> 279\u001B[0m \u001B[38;5;28;01mreturn\u001B[39;00m \u001B[38;5;28;43mself\u001B[39;49m\u001B[38;5;241;43m.\u001B[39;49m\u001B[43murlopen\u001B[49m\u001B[43m(\u001B[49m\u001B[43mmethod\u001B[49m\u001B[43m,\u001B[49m\u001B[43m \u001B[49m\u001B[43murl\u001B[49m\u001B[43m,\u001B[49m\u001B[43m \u001B[49m\u001B[38;5;241;43m*\u001B[39;49m\u001B[38;5;241;43m*\u001B[39;49m\u001B[43mextra_kw\u001B[49m\u001B[43m)\u001B[49m\n",
      "File \u001B[0;32m~/PycharmProjects/BenchmarkRAG/.venv/lib/python3.10/site-packages/urllib3/poolmanager.py:444\u001B[0m, in \u001B[0;36mPoolManager.urlopen\u001B[0;34m(self, method, url, redirect, **kw)\u001B[0m\n\u001B[1;32m    442\u001B[0m     response \u001B[38;5;241m=\u001B[39m conn\u001B[38;5;241m.\u001B[39murlopen(method, url, \u001B[38;5;241m*\u001B[39m\u001B[38;5;241m*\u001B[39mkw)\n\u001B[1;32m    443\u001B[0m \u001B[38;5;28;01melse\u001B[39;00m:\n\u001B[0;32m--> 444\u001B[0m     response \u001B[38;5;241m=\u001B[39m \u001B[43mconn\u001B[49m\u001B[38;5;241;43m.\u001B[39;49m\u001B[43murlopen\u001B[49m\u001B[43m(\u001B[49m\u001B[43mmethod\u001B[49m\u001B[43m,\u001B[49m\u001B[43m \u001B[49m\u001B[43mu\u001B[49m\u001B[38;5;241;43m.\u001B[39;49m\u001B[43mrequest_uri\u001B[49m\u001B[43m,\u001B[49m\u001B[43m \u001B[49m\u001B[38;5;241;43m*\u001B[39;49m\u001B[38;5;241;43m*\u001B[39;49m\u001B[43mkw\u001B[49m\u001B[43m)\u001B[49m\n\u001B[1;32m    446\u001B[0m redirect_location \u001B[38;5;241m=\u001B[39m redirect \u001B[38;5;129;01mand\u001B[39;00m response\u001B[38;5;241m.\u001B[39mget_redirect_location()\n\u001B[1;32m    447\u001B[0m \u001B[38;5;28;01mif\u001B[39;00m \u001B[38;5;129;01mnot\u001B[39;00m redirect_location:\n",
      "File \u001B[0;32m~/PycharmProjects/BenchmarkRAG/.venv/lib/python3.10/site-packages/urllib3/connectionpool.py:793\u001B[0m, in \u001B[0;36mHTTPConnectionPool.urlopen\u001B[0;34m(self, method, url, body, headers, retries, redirect, assert_same_host, timeout, pool_timeout, release_conn, chunked, body_pos, preload_content, decode_content, **response_kw)\u001B[0m\n\u001B[1;32m    790\u001B[0m response_conn \u001B[38;5;241m=\u001B[39m conn \u001B[38;5;28;01mif\u001B[39;00m \u001B[38;5;129;01mnot\u001B[39;00m release_conn \u001B[38;5;28;01melse\u001B[39;00m \u001B[38;5;28;01mNone\u001B[39;00m\n\u001B[1;32m    792\u001B[0m \u001B[38;5;66;03m# Make the request on the HTTPConnection object\u001B[39;00m\n\u001B[0;32m--> 793\u001B[0m response \u001B[38;5;241m=\u001B[39m \u001B[38;5;28;43mself\u001B[39;49m\u001B[38;5;241;43m.\u001B[39;49m\u001B[43m_make_request\u001B[49m\u001B[43m(\u001B[49m\n\u001B[1;32m    794\u001B[0m \u001B[43m    \u001B[49m\u001B[43mconn\u001B[49m\u001B[43m,\u001B[49m\n\u001B[1;32m    795\u001B[0m \u001B[43m    \u001B[49m\u001B[43mmethod\u001B[49m\u001B[43m,\u001B[49m\n\u001B[1;32m    796\u001B[0m \u001B[43m    \u001B[49m\u001B[43murl\u001B[49m\u001B[43m,\u001B[49m\n\u001B[1;32m    797\u001B[0m \u001B[43m    \u001B[49m\u001B[43mtimeout\u001B[49m\u001B[38;5;241;43m=\u001B[39;49m\u001B[43mtimeout_obj\u001B[49m\u001B[43m,\u001B[49m\n\u001B[1;32m    798\u001B[0m \u001B[43m    \u001B[49m\u001B[43mbody\u001B[49m\u001B[38;5;241;43m=\u001B[39;49m\u001B[43mbody\u001B[49m\u001B[43m,\u001B[49m\n\u001B[1;32m    799\u001B[0m \u001B[43m    \u001B[49m\u001B[43mheaders\u001B[49m\u001B[38;5;241;43m=\u001B[39;49m\u001B[43mheaders\u001B[49m\u001B[43m,\u001B[49m\n\u001B[1;32m    800\u001B[0m \u001B[43m    \u001B[49m\u001B[43mchunked\u001B[49m\u001B[38;5;241;43m=\u001B[39;49m\u001B[43mchunked\u001B[49m\u001B[43m,\u001B[49m\n\u001B[1;32m    801\u001B[0m \u001B[43m    \u001B[49m\u001B[43mretries\u001B[49m\u001B[38;5;241;43m=\u001B[39;49m\u001B[43mretries\u001B[49m\u001B[43m,\u001B[49m\n\u001B[1;32m    802\u001B[0m \u001B[43m    \u001B[49m\u001B[43mresponse_conn\u001B[49m\u001B[38;5;241;43m=\u001B[39;49m\u001B[43mresponse_conn\u001B[49m\u001B[43m,\u001B[49m\n\u001B[1;32m    803\u001B[0m \u001B[43m    \u001B[49m\u001B[43mpreload_content\u001B[49m\u001B[38;5;241;43m=\u001B[39;49m\u001B[43mpreload_content\u001B[49m\u001B[43m,\u001B[49m\n\u001B[1;32m    804\u001B[0m \u001B[43m    \u001B[49m\u001B[43mdecode_content\u001B[49m\u001B[38;5;241;43m=\u001B[39;49m\u001B[43mdecode_content\u001B[49m\u001B[43m,\u001B[49m\n\u001B[1;32m    805\u001B[0m \u001B[43m    \u001B[49m\u001B[38;5;241;43m*\u001B[39;49m\u001B[38;5;241;43m*\u001B[39;49m\u001B[43mresponse_kw\u001B[49m\u001B[43m,\u001B[49m\n\u001B[1;32m    806\u001B[0m \u001B[43m\u001B[49m\u001B[43m)\u001B[49m\n\u001B[1;32m    808\u001B[0m \u001B[38;5;66;03m# Everything went great!\u001B[39;00m\n\u001B[1;32m    809\u001B[0m clean_exit \u001B[38;5;241m=\u001B[39m \u001B[38;5;28;01mTrue\u001B[39;00m\n",
      "File \u001B[0;32m~/PycharmProjects/BenchmarkRAG/.venv/lib/python3.10/site-packages/urllib3/connectionpool.py:496\u001B[0m, in \u001B[0;36mHTTPConnectionPool._make_request\u001B[0;34m(self, conn, method, url, body, headers, retries, timeout, chunked, response_conn, preload_content, decode_content, enforce_content_length)\u001B[0m\n\u001B[1;32m    493\u001B[0m \u001B[38;5;66;03m# conn.request() calls http.client.*.request, not the method in\u001B[39;00m\n\u001B[1;32m    494\u001B[0m \u001B[38;5;66;03m# urllib3.request. It also calls makefile (recv) on the socket.\u001B[39;00m\n\u001B[1;32m    495\u001B[0m \u001B[38;5;28;01mtry\u001B[39;00m:\n\u001B[0;32m--> 496\u001B[0m     \u001B[43mconn\u001B[49m\u001B[38;5;241;43m.\u001B[39;49m\u001B[43mrequest\u001B[49m\u001B[43m(\u001B[49m\n\u001B[1;32m    497\u001B[0m \u001B[43m        \u001B[49m\u001B[43mmethod\u001B[49m\u001B[43m,\u001B[49m\n\u001B[1;32m    498\u001B[0m \u001B[43m        \u001B[49m\u001B[43murl\u001B[49m\u001B[43m,\u001B[49m\n\u001B[1;32m    499\u001B[0m \u001B[43m        \u001B[49m\u001B[43mbody\u001B[49m\u001B[38;5;241;43m=\u001B[39;49m\u001B[43mbody\u001B[49m\u001B[43m,\u001B[49m\n\u001B[1;32m    500\u001B[0m \u001B[43m        \u001B[49m\u001B[43mheaders\u001B[49m\u001B[38;5;241;43m=\u001B[39;49m\u001B[43mheaders\u001B[49m\u001B[43m,\u001B[49m\n\u001B[1;32m    501\u001B[0m \u001B[43m        \u001B[49m\u001B[43mchunked\u001B[49m\u001B[38;5;241;43m=\u001B[39;49m\u001B[43mchunked\u001B[49m\u001B[43m,\u001B[49m\n\u001B[1;32m    502\u001B[0m \u001B[43m        \u001B[49m\u001B[43mpreload_content\u001B[49m\u001B[38;5;241;43m=\u001B[39;49m\u001B[43mpreload_content\u001B[49m\u001B[43m,\u001B[49m\n\u001B[1;32m    503\u001B[0m \u001B[43m        \u001B[49m\u001B[43mdecode_content\u001B[49m\u001B[38;5;241;43m=\u001B[39;49m\u001B[43mdecode_content\u001B[49m\u001B[43m,\u001B[49m\n\u001B[1;32m    504\u001B[0m \u001B[43m        \u001B[49m\u001B[43menforce_content_length\u001B[49m\u001B[38;5;241;43m=\u001B[39;49m\u001B[43menforce_content_length\u001B[49m\u001B[43m,\u001B[49m\n\u001B[1;32m    505\u001B[0m \u001B[43m    \u001B[49m\u001B[43m)\u001B[49m\n\u001B[1;32m    507\u001B[0m \u001B[38;5;66;03m# We are swallowing BrokenPipeError (errno.EPIPE) since the server is\u001B[39;00m\n\u001B[1;32m    508\u001B[0m \u001B[38;5;66;03m# legitimately able to close the connection after sending a valid response.\u001B[39;00m\n\u001B[1;32m    509\u001B[0m \u001B[38;5;66;03m# With this behaviour, the received response is still readable.\u001B[39;00m\n\u001B[1;32m    510\u001B[0m \u001B[38;5;28;01mexcept\u001B[39;00m \u001B[38;5;167;01mBrokenPipeError\u001B[39;00m:\n",
      "File \u001B[0;32m~/PycharmProjects/BenchmarkRAG/.venv/lib/python3.10/site-packages/urllib3/connection.py:414\u001B[0m, in \u001B[0;36mHTTPConnection.request\u001B[0;34m(self, method, url, body, headers, chunked, preload_content, decode_content, enforce_content_length)\u001B[0m\n\u001B[1;32m    412\u001B[0m             \u001B[38;5;28mself\u001B[39m\u001B[38;5;241m.\u001B[39msend(\u001B[38;5;124mb\u001B[39m\u001B[38;5;124m\"\u001B[39m\u001B[38;5;132;01m%x\u001B[39;00m\u001B[38;5;130;01m\\r\u001B[39;00m\u001B[38;5;130;01m\\n\u001B[39;00m\u001B[38;5;124m%\u001B[39m\u001B[38;5;124mb\u001B[39m\u001B[38;5;130;01m\\r\u001B[39;00m\u001B[38;5;130;01m\\n\u001B[39;00m\u001B[38;5;124m\"\u001B[39m \u001B[38;5;241m%\u001B[39m (\u001B[38;5;28mlen\u001B[39m(chunk), chunk))\n\u001B[1;32m    413\u001B[0m         \u001B[38;5;28;01melse\u001B[39;00m:\n\u001B[0;32m--> 414\u001B[0m             \u001B[38;5;28;43mself\u001B[39;49m\u001B[38;5;241;43m.\u001B[39;49m\u001B[43msend\u001B[49m\u001B[43m(\u001B[49m\u001B[43mchunk\u001B[49m\u001B[43m)\u001B[49m\n\u001B[1;32m    416\u001B[0m \u001B[38;5;66;03m# Regardless of whether we have a body or not, if we're in\u001B[39;00m\n\u001B[1;32m    417\u001B[0m \u001B[38;5;66;03m# chunked mode we want to send an explicit empty chunk.\u001B[39;00m\n\u001B[1;32m    418\u001B[0m \u001B[38;5;28;01mif\u001B[39;00m chunked:\n",
      "File \u001B[0;32m/Library/Frameworks/Python.framework/Versions/3.10/lib/python3.10/http/client.py:992\u001B[0m, in \u001B[0;36mHTTPConnection.send\u001B[0;34m(self, data)\u001B[0m\n\u001B[1;32m    990\u001B[0m sys\u001B[38;5;241m.\u001B[39maudit(\u001B[38;5;124m\"\u001B[39m\u001B[38;5;124mhttp.client.send\u001B[39m\u001B[38;5;124m\"\u001B[39m, \u001B[38;5;28mself\u001B[39m, data)\n\u001B[1;32m    991\u001B[0m \u001B[38;5;28;01mtry\u001B[39;00m:\n\u001B[0;32m--> 992\u001B[0m     \u001B[38;5;28;43mself\u001B[39;49m\u001B[38;5;241;43m.\u001B[39;49m\u001B[43msock\u001B[49m\u001B[38;5;241;43m.\u001B[39;49m\u001B[43msendall\u001B[49m\u001B[43m(\u001B[49m\u001B[43mdata\u001B[49m\u001B[43m)\u001B[49m\n\u001B[1;32m    993\u001B[0m \u001B[38;5;28;01mexcept\u001B[39;00m \u001B[38;5;167;01mTypeError\u001B[39;00m:\n\u001B[1;32m    994\u001B[0m     \u001B[38;5;28;01mif\u001B[39;00m \u001B[38;5;28misinstance\u001B[39m(data, collections\u001B[38;5;241m.\u001B[39mabc\u001B[38;5;241m.\u001B[39mIterable):\n",
      "File \u001B[0;32m/Library/Frameworks/Python.framework/Versions/3.10/lib/python3.10/ssl.py:1236\u001B[0m, in \u001B[0;36mSSLSocket.sendall\u001B[0;34m(self, data, flags)\u001B[0m\n\u001B[1;32m   1234\u001B[0m         amount \u001B[38;5;241m=\u001B[39m \u001B[38;5;28mlen\u001B[39m(byte_view)\n\u001B[1;32m   1235\u001B[0m         \u001B[38;5;28;01mwhile\u001B[39;00m count \u001B[38;5;241m<\u001B[39m amount:\n\u001B[0;32m-> 1236\u001B[0m             v \u001B[38;5;241m=\u001B[39m \u001B[38;5;28;43mself\u001B[39;49m\u001B[38;5;241;43m.\u001B[39;49m\u001B[43msend\u001B[49m\u001B[43m(\u001B[49m\u001B[43mbyte_view\u001B[49m\u001B[43m[\u001B[49m\u001B[43mcount\u001B[49m\u001B[43m:\u001B[49m\u001B[43m]\u001B[49m\u001B[43m)\u001B[49m\n\u001B[1;32m   1237\u001B[0m             count \u001B[38;5;241m+\u001B[39m\u001B[38;5;241m=\u001B[39m v\n\u001B[1;32m   1238\u001B[0m \u001B[38;5;28;01melse\u001B[39;00m:\n",
      "File \u001B[0;32m/Library/Frameworks/Python.framework/Versions/3.10/lib/python3.10/ssl.py:1205\u001B[0m, in \u001B[0;36mSSLSocket.send\u001B[0;34m(self, data, flags)\u001B[0m\n\u001B[1;32m   1201\u001B[0m     \u001B[38;5;28;01mif\u001B[39;00m flags \u001B[38;5;241m!=\u001B[39m \u001B[38;5;241m0\u001B[39m:\n\u001B[1;32m   1202\u001B[0m         \u001B[38;5;28;01mraise\u001B[39;00m \u001B[38;5;167;01mValueError\u001B[39;00m(\n\u001B[1;32m   1203\u001B[0m             \u001B[38;5;124m\"\u001B[39m\u001B[38;5;124mnon-zero flags not allowed in calls to send() on \u001B[39m\u001B[38;5;132;01m%s\u001B[39;00m\u001B[38;5;124m\"\u001B[39m \u001B[38;5;241m%\u001B[39m\n\u001B[1;32m   1204\u001B[0m             \u001B[38;5;28mself\u001B[39m\u001B[38;5;241m.\u001B[39m\u001B[38;5;18m__class__\u001B[39m)\n\u001B[0;32m-> 1205\u001B[0m     \u001B[38;5;28;01mreturn\u001B[39;00m \u001B[38;5;28;43mself\u001B[39;49m\u001B[38;5;241;43m.\u001B[39;49m\u001B[43m_sslobj\u001B[49m\u001B[38;5;241;43m.\u001B[39;49m\u001B[43mwrite\u001B[49m\u001B[43m(\u001B[49m\u001B[43mdata\u001B[49m\u001B[43m)\u001B[49m\n\u001B[1;32m   1206\u001B[0m \u001B[38;5;28;01melse\u001B[39;00m:\n\u001B[1;32m   1207\u001B[0m     \u001B[38;5;28;01mreturn\u001B[39;00m \u001B[38;5;28msuper\u001B[39m()\u001B[38;5;241m.\u001B[39msend(data, flags)\n",
      "\u001B[0;31mKeyboardInterrupt\u001B[0m: "
     ]
    }
   ],
   "execution_count": 109
  },
  {
   "metadata": {},
   "cell_type": "markdown",
   "source": "Pure BM25 implementation setup:",
   "id": "8c2222eb3f783aa0"
  },
  {
   "metadata": {
    "ExecuteTime": {
     "end_time": "2024-06-18T17:42:45.304202Z",
     "start_time": "2024-06-18T17:42:45.302268Z"
    }
   },
   "cell_type": "code",
   "source": "from langchain_community.retrievers import BM25Retriever",
   "id": "a9e03cb86a04dbe1",
   "outputs": [],
   "execution_count": 119
  },
  {
   "metadata": {
    "ExecuteTime": {
     "end_time": "2024-06-18T19:56:52.073750Z",
     "start_time": "2024-06-18T19:56:50.451259Z"
    }
   },
   "cell_type": "code",
   "source": [
    "bm25_retriever = BM25Retriever.from_documents(corpus_docs)\n",
    "bm25_retriever.k = n_results"
   ],
   "id": "7a3b79a1d4bc8080",
   "outputs": [],
   "execution_count": 147
  },
  {
   "metadata": {},
   "cell_type": "markdown",
   "source": "Let's run an example query to compare the results of Weaviate/Pinecone to the perfect K-Nearest-Neighbors (KNN) search later.",
   "id": "2a228ddb69db51b3"
  },
  {
   "metadata": {
    "ExecuteTime": {
     "end_time": "2024-06-18T19:57:10.977967Z",
     "start_time": "2024-06-18T19:57:10.975824Z"
    }
   },
   "cell_type": "code",
   "source": "question = bioasq[0]['question']",
   "id": "d1ac8accdf0ec504",
   "outputs": [],
   "execution_count": 149
  },
  {
   "metadata": {
    "ExecuteTime": {
     "end_time": "2024-06-18T19:58:00.008533Z",
     "start_time": "2024-06-18T19:57:58.775438Z"
    }
   },
   "cell_type": "code",
   "source": [
    "print(\"Weaviate results:\")\n",
    "weaviate_results = weaviate_retriever.invoke(question, score=True)\n",
    "weaviate_indices = [result.metadata['index'] for result in weaviate_results]\n",
    "print(\"    Metadata: \", weaviate_indices)\n",
    "print(\"Pinecone results:\")\n",
    "pinecone_results = pinecone_retriever.invoke(question, score=True)\n",
    "pinecone_indices = [int(result.metadata['index']) for result in pinecone_results]\n",
    "print(\"    Metadata: \", pinecone_indices)\n",
    "print(\"BM25 results:\")\n",
    "bm25_results = bm25_retriever.invoke(question, score=True)\n",
    "bm25_indices = [result.metadata['index'] for result in bm25_results]\n",
    "print(\"    Indices: \", bm25_indices)\n",
    "print(\"Truth:\")\n",
    "print(\"    Indices: \", bioasq[0]['relevant_passage_ids'])"
   ],
   "id": "efdc3cadbc7b7e0d",
   "outputs": [
    {
     "name": "stdout",
     "output_type": "stream",
     "text": [
      "Weaviate results:\n",
      "    Metadata:  [15617541, 23001136, 22584707, 11484199, 16080919, 17965226, 9727738, 12239580, 2309705]\n",
      "Pinecone results:\n",
      "    Metadata:  [15617541, 11484199, 16080919, 16986122, 17965226, 9727738, 12878302, 17108762, 10792313]\n",
      "BM25 results:\n",
      "    Indices:  [22584707, 23523603, 11484199, 20009762, 17108762, 9727738, 2309705, 22574178, 25960806]\n",
      "Truth:\n",
      "    Indices:  [20598273, 6650562, 15829955, 15617541, 23001136, 8896569, 21995290, 12239580, 15858239]\n"
     ]
    }
   ],
   "execution_count": 150
  },
  {
   "metadata": {},
   "cell_type": "markdown",
   "source": "## Step 2: K-Nearest-Neighbors (KNN) Search ",
   "id": "9be251a1c5f0267f"
  },
  {
   "metadata": {
    "ExecuteTime": {
     "end_time": "2024-06-18T17:43:28.033811Z",
     "start_time": "2024-06-18T17:43:28.031632Z"
    }
   },
   "cell_type": "code",
   "source": "from sklearn.neighbors import NearestNeighbors",
   "id": "2932cfd29cc715fe",
   "outputs": [],
   "execution_count": 125
  },
  {
   "metadata": {
    "ExecuteTime": {
     "end_time": "2024-06-18T17:48:25.235046Z",
     "start_time": "2024-06-18T17:44:52.959422Z"
    }
   },
   "cell_type": "code",
   "source": [
    "def embed_texts(texts):\n",
    "    return embeddings.embed_documents(texts)\n",
    "\n",
    "\n",
    "corpus_embeddings = embed_texts([doc['passage'] for doc in corpus])\n",
    "\n",
    "# Use KNN to find the closest 5 documents\n",
    "knn = NearestNeighbors(n_neighbors=n_results, metric='cosine').fit(corpus_embeddings)"
   ],
   "id": "acc82a4113c67f8d",
   "outputs": [],
   "execution_count": 128
  },
  {
   "metadata": {
    "ExecuteTime": {
     "end_time": "2024-06-18T16:19:00.818746Z",
     "start_time": "2024-06-18T16:18:59.534294Z"
    }
   },
   "cell_type": "code",
   "source": [
    "distances, knn_indices = knn.kneighbors([embeddings.embed_query(question)])\n",
    "knn_indices = knn_indices[0]\n",
    "print(\"KNN results:\")\n",
    "print(\"    Indices: \", knn_indices)"
   ],
   "id": "4e35bcf265c6384d",
   "outputs": [
    {
     "name": "stdout",
     "output_type": "stream",
     "text": [
      "KNN results:\n",
      "    Indices:  [4895 9768 5290 4091 9417 4210  659 4026 3164 1836]\n"
     ]
    }
   ],
   "execution_count": 94
  },
  {
   "metadata": {
    "ExecuteTime": {
     "end_time": "2024-06-18T20:18:03.643991Z",
     "start_time": "2024-06-18T20:18:03.636356Z"
    }
   },
   "cell_type": "code",
   "source": [
    "import numpy as np\n",
    "from scipy.stats import kendalltau\n",
    "\n",
    "\n",
    "def dcg(relevances, k):\n",
    "    relevances = np.array(relevances)[:k]\n",
    "    if relevances.size:\n",
    "        return np.sum((2 ** relevances - 1) / np.log2(np.arange(2, relevances.size + 2)))\n",
    "    return 0.0\n",
    "\n",
    "\n",
    "def ndcg(relevances, k):\n",
    "    ideal_relevances = sorted(relevances, reverse=True)\n",
    "    return dcg(relevances, k) / dcg(ideal_relevances, k) if dcg(ideal_relevances, k) > 0 else 0.0\n",
    "\n",
    "\n",
    "def calculate_kendall_tau(ground_truth, algorithm_result):\n",
    "    assert len(ground_truth) == len(algorithm_result), \"The input lists must have the same length\"\n",
    "\n",
    "    total_tau = 0\n",
    "    num_lists = len(ground_truth)\n",
    "\n",
    "    for gt_list, alg_list in zip(ground_truth, algorithm_result):\n",
    "        tau, _ = kendalltau(gt_list, alg_list)\n",
    "        total_tau += tau\n",
    "\n",
    "    average_tau = total_tau / num_lists\n",
    "    return average_tau\n",
    "\n",
    "\n",
    "def get_result_stats(retrieved_docs, ground_truth, k=n_results):\n",
    "    # deep copy the lists\n",
    "    retrieved_docs = [retrieved_doc.copy() for retrieved_doc in retrieved_docs]\n",
    "    ground_truth = [relevant.copy() for relevant in ground_truth]\n",
    "    \n",
    "    precisions = []\n",
    "    recalls = []\n",
    "    f1_scores = []\n",
    "    \n",
    "    # make ground truth, retrieved docs have same length of each sublist\n",
    "    new_retrieved_docs = []\n",
    "    for retrieved in retrieved_docs:\n",
    "        new_retrieved_docs.append(retrieved[:len(ground_truth[0])])\n",
    "    retrieved_docs = new_retrieved_docs\n",
    "    \n",
    "    new_ground_truth = []\n",
    "    for relevant in ground_truth:\n",
    "        new_ground_truth.append(relevant[:len(retrieved_docs[0])])\n",
    "    ground_truth = new_ground_truth\n",
    "\n",
    "    for retrieved, relevant in zip(retrieved_docs, ground_truth):\n",
    "        min_len = min(len(retrieved), len(relevant))\n",
    "        retrieved = retrieved[:min_len]\n",
    "        relevant = relevant[:min_len]\n",
    "        \n",
    "        true_positives = len(set(retrieved).intersection(set(relevant)))\n",
    "        \n",
    "        precision = true_positives / len(retrieved)\n",
    "        recall = true_positives / len(relevant)\n",
    "        f1_score = 2 * (precision * recall) / (precision + recall) if precision + recall > 0 else 0\n",
    "        \n",
    "        precisions.append(precision)\n",
    "        recalls.append(recall)\n",
    "        f1_scores.append(f1_score)\n",
    "        \n",
    "\n",
    "    avg_precision = np.mean(precisions)\n",
    "    avg_recall = np.mean(recalls)\n",
    "    avg_f1 = np.mean(f1_scores)\n",
    "\n",
    "    mrr = []\n",
    "    ndcg_scores = []\n",
    "\n",
    "    for retrieved, relevant in zip(retrieved_docs, ground_truth):\n",
    "        # Create relevance scores\n",
    "        relevances = [1 if doc in relevant else 0 for doc in retrieved]\n",
    "\n",
    "        # Calculate MRR\n",
    "        reciprocal_rank = 0\n",
    "        for i, rel in enumerate(relevances):\n",
    "            if rel == 1:\n",
    "                reciprocal_rank = 1 / (i + 1)\n",
    "                break\n",
    "        mrr.append(reciprocal_rank)\n",
    "\n",
    "        # Calculate nDCG\n",
    "        ndcg_score = ndcg(relevances, k)\n",
    "        ndcg_scores.append(ndcg_score)\n",
    "\n",
    "    avg_mrr = np.mean(mrr)\n",
    "    avg_ndcg = np.mean(ndcg_scores)\n",
    "\n",
    "    avg_kendall_tau = calculate_kendall_tau(ground_truth, retrieved_docs)\n",
    "\n",
    "    return {\n",
    "        'Precision': avg_precision,\n",
    "        'Recall': avg_recall,\n",
    "        'F1-Score': avg_f1,\n",
    "        'MRR': avg_mrr,\n",
    "        'nDCG': avg_ndcg,\n",
    "        'Kendall-Tau': avg_kendall_tau\n",
    "    }"
   ],
   "id": "c66928dc7660d8f1",
   "outputs": [],
   "execution_count": 195
  },
  {
   "metadata": {},
   "cell_type": "markdown",
   "source": "Evaluate the results of the example query above.",
   "id": "748c6ec3e8239ac6"
  },
  {
   "metadata": {
    "ExecuteTime": {
     "end_time": "2024-06-18T20:17:44.991698Z",
     "start_time": "2024-06-18T20:17:44.988586Z"
    }
   },
   "cell_type": "code",
   "source": [
    "print(\"Weaviate results:\", get_result_stats([weaviate_indices], [bioasq[0]['relevant_passage_ids']], ))\n",
    "print(\"Pinecone results: \", get_result_stats([pinecone_indices], [bioasq[0]['relevant_passage_ids']], ))\n",
    "print(\"BM25 results: \", get_result_stats([bm25_indices], [bioasq[0]['relevant_passage_ids']], ))"
   ],
   "id": "1b22f914c9dd4bdd",
   "outputs": [
    {
     "name": "stdout",
     "output_type": "stream",
     "text": [
      "Weaviate results: {'Precision': 0.3333333333333333, 'Recall': 0.3333333333333333, 'F1-Score': 0.3333333333333333, 'MRR': 1.0, 'nDCG': 0.9134015924715543, 'Kendall-Tau': -0.3333333333333333}\n",
      "Pinecone results:  {'Precision': 0.1111111111111111, 'Recall': 0.1111111111111111, 'F1-Score': 0.1111111111111111, 'MRR': 1.0, 'nDCG': 1.0, 'Kendall-Tau': 0.16666666666666666}\n",
      "BM25 results:  {'Precision': 0.0, 'Recall': 0.0, 'F1-Score': 0.0, 'MRR': 0.0, 'nDCG': 0.0, 'Kendall-Tau': -0.16666666666666666}\n"
     ]
    }
   ],
   "execution_count": 193
  },
  {
   "metadata": {},
   "cell_type": "markdown",
   "source": "## Step 3: Setup ColBERT through AstraDB",
   "id": "af3b4a13942b9c55"
  },
  {
   "metadata": {
    "ExecuteTime": {
     "end_time": "2024-06-17T21:36:35.244570Z",
     "start_time": "2024-06-17T21:36:34.769584Z"
    }
   },
   "cell_type": "code",
   "source": [
    "import time\n",
    "from langchain.text_splitter import RecursiveCharacterTextSplitter\n",
    "from ragstack_colbert import CassandraDatabase, ColbertEmbeddingModel, ColbertVectorStore, ColbertRetriever\n",
    "import logging\n",
    "logging.getLogger('cassandra').setLevel(logging.ERROR)  # workaround to suppress logs"
   ],
   "id": "f98e77714e82a2f6",
   "outputs": [
    {
     "name": "stderr",
     "output_type": "stream",
     "text": [
      "/Users/tiernan.lindauer/PycharmProjects/BenchmarkRAG/.venv/lib/python3.10/site-packages/pydantic/_internal/_config.py:284: PydanticDeprecatedSince20: Support for class-based `config` is deprecated, use ConfigDict instead. Deprecated in Pydantic V2.0 to be removed in V3.0. See Pydantic V2 Migration Guide at https://errors.pydantic.dev/2.7/migration/\n",
      "  warnings.warn(DEPRECATION_MESSAGE, DeprecationWarning)\n"
     ]
    },
    {
     "name": "stdout",
     "output_type": "stream",
     "text": [
      "WARNING: faiss must be imported for indexing\n"
     ]
    }
   ],
   "execution_count": 28
  },
  {
   "metadata": {
    "ExecuteTime": {
     "end_time": "2024-06-17T21:36:48.206582Z",
     "start_time": "2024-06-17T21:36:47.077592Z"
    }
   },
   "cell_type": "code",
   "source": "astra_database_id = input(\"Enter your AstraDB database ID: \")",
   "id": "719a95c9f112d952",
   "outputs": [],
   "execution_count": 29
  },
  {
   "metadata": {
    "ExecuteTime": {
     "end_time": "2024-06-17T21:37:00.373838Z",
     "start_time": "2024-06-17T21:36:58.909130Z"
    }
   },
   "cell_type": "code",
   "source": "astra_token = input(\"Enter your AstraDB token: \")",
   "id": "755360a139d8161e",
   "outputs": [],
   "execution_count": 30
  },
  {
   "metadata": {
    "ExecuteTime": {
     "end_time": "2024-06-18T18:37:00.171884Z",
     "start_time": "2024-06-18T18:36:55.261950Z"
    }
   },
   "cell_type": "code",
   "source": [
    "keyspace = \"benchmarking3\"\n",
    "database = CassandraDatabase.from_astra(astra_token=astra_token, database_id=astra_database_id, keyspace=keyspace)\n",
    "embedding_model = ColbertEmbeddingModel()\n",
    "vector_store = ColbertVectorStore(database=database, embedding_model=embedding_model)"
   ],
   "id": "861b53c3a325097f",
   "outputs": [
    {
     "name": "stderr",
     "output_type": "stream",
     "text": [
      "WARNING:cassandra.cluster:Downgrading core protocol version from 66 to 65 for b83877d6-20f6-4695-a216-b2d1931f8540-us-east-2.db.astra.datastax.com:29042:98a2cd7e-fa1b-3950-942e-42af495c4248. To avoid this, it is best practice to explicitly set Cluster(protocol_version) to the version supported by your cluster. http://datastax.github.io/python-driver/api/cassandra/cluster.html#cassandra.cluster.Cluster.protocol_version\n",
      "WARNING:cassandra.cluster:Downgrading core protocol version from 65 to 5 for b83877d6-20f6-4695-a216-b2d1931f8540-us-east-2.db.astra.datastax.com:29042:98a2cd7e-fa1b-3950-942e-42af495c4248. To avoid this, it is best practice to explicitly set Cluster(protocol_version) to the version supported by your cluster. http://datastax.github.io/python-driver/api/cassandra/cluster.html#cassandra.cluster.Cluster.protocol_version\n",
      "WARNING:cassandra.cluster:Downgrading core protocol version from 5 to 4 for b83877d6-20f6-4695-a216-b2d1931f8540-us-east-2.db.astra.datastax.com:29042:98a2cd7e-fa1b-3950-942e-42af495c4248. To avoid this, it is best practice to explicitly set Cluster(protocol_version) to the version supported by your cluster. http://datastax.github.io/python-driver/api/cassandra/cluster.html#cassandra.cluster.Cluster.protocol_version\n",
      "WARNING:cassandra.cluster:Found multiple hosts with the same endpoint (b83877d6-20f6-4695-a216-b2d1931f8540-us-east-2.db.astra.datastax.com:29042:98a2cd7e-fa1b-3950-942e-42af495c4248). Excluding peer 10.0.0.2\n"
     ]
    }
   ],
   "execution_count": 131
  },
  {
   "metadata": {
    "ExecuteTime": {
     "end_time": "2024-06-18T17:17:56.625850Z",
     "start_time": "2024-06-18T16:26:34.365667Z"
    }
   },
   "cell_type": "code",
   "source": [
    "def store_in_astra(chunks):\n",
    "    metadatas = []\n",
    "    for i in range(len(chunks)):\n",
    "        metadatas.append({\"name\": index_name, \"date\": time.strftime(\"%m/%d/%Y\"), 'index': i})\n",
    "    vector_store.add_texts(texts=chunks, metadatas=metadatas, doc_id=\"benchmarking\")\n",
    "\n",
    "\n",
    "store_in_astra(corpus)"
   ],
   "id": "5b9354feb4177a98",
   "outputs": [
    {
     "ename": "KeyboardInterrupt",
     "evalue": "",
     "output_type": "error",
     "traceback": [
      "\u001B[0;31m---------------------------------------------------------------------------\u001B[0m",
      "\u001B[0;31mKeyboardInterrupt\u001B[0m                         Traceback (most recent call last)",
      "Cell \u001B[0;32mIn[99], line 8\u001B[0m\n\u001B[1;32m      4\u001B[0m         metadatas\u001B[38;5;241m.\u001B[39mappend({\u001B[38;5;124m\"\u001B[39m\u001B[38;5;124mname\u001B[39m\u001B[38;5;124m\"\u001B[39m: \u001B[38;5;124m\"\u001B[39m\u001B[38;5;124mmteb\u001B[39m\u001B[38;5;124m\"\u001B[39m, \u001B[38;5;124m\"\u001B[39m\u001B[38;5;124mdate\u001B[39m\u001B[38;5;124m\"\u001B[39m: time\u001B[38;5;241m.\u001B[39mstrftime(\u001B[38;5;124m\"\u001B[39m\u001B[38;5;124m%\u001B[39m\u001B[38;5;124mm/\u001B[39m\u001B[38;5;132;01m%d\u001B[39;00m\u001B[38;5;124m/\u001B[39m\u001B[38;5;124m%\u001B[39m\u001B[38;5;124mY\u001B[39m\u001B[38;5;124m\"\u001B[39m), \u001B[38;5;124m'\u001B[39m\u001B[38;5;124mindex\u001B[39m\u001B[38;5;124m'\u001B[39m: i})\n\u001B[1;32m      5\u001B[0m     vector_store\u001B[38;5;241m.\u001B[39madd_texts(texts\u001B[38;5;241m=\u001B[39mchunks, metadatas\u001B[38;5;241m=\u001B[39mmetadatas, doc_id\u001B[38;5;241m=\u001B[39m\u001B[38;5;124m\"\u001B[39m\u001B[38;5;124mbenchmarking\u001B[39m\u001B[38;5;124m\"\u001B[39m)\n\u001B[0;32m----> 8\u001B[0m \u001B[43mstore_in_astra\u001B[49m\u001B[43m(\u001B[49m\u001B[43mcorpus\u001B[49m\u001B[43m)\u001B[49m\n",
      "Cell \u001B[0;32mIn[99], line 5\u001B[0m, in \u001B[0;36mstore_in_astra\u001B[0;34m(chunks)\u001B[0m\n\u001B[1;32m      3\u001B[0m \u001B[38;5;28;01mfor\u001B[39;00m i \u001B[38;5;129;01min\u001B[39;00m \u001B[38;5;28mrange\u001B[39m(\u001B[38;5;28mlen\u001B[39m(chunks)):\n\u001B[1;32m      4\u001B[0m     metadatas\u001B[38;5;241m.\u001B[39mappend({\u001B[38;5;124m\"\u001B[39m\u001B[38;5;124mname\u001B[39m\u001B[38;5;124m\"\u001B[39m: \u001B[38;5;124m\"\u001B[39m\u001B[38;5;124mmteb\u001B[39m\u001B[38;5;124m\"\u001B[39m, \u001B[38;5;124m\"\u001B[39m\u001B[38;5;124mdate\u001B[39m\u001B[38;5;124m\"\u001B[39m: time\u001B[38;5;241m.\u001B[39mstrftime(\u001B[38;5;124m\"\u001B[39m\u001B[38;5;124m%\u001B[39m\u001B[38;5;124mm/\u001B[39m\u001B[38;5;132;01m%d\u001B[39;00m\u001B[38;5;124m/\u001B[39m\u001B[38;5;124m%\u001B[39m\u001B[38;5;124mY\u001B[39m\u001B[38;5;124m\"\u001B[39m), \u001B[38;5;124m'\u001B[39m\u001B[38;5;124mindex\u001B[39m\u001B[38;5;124m'\u001B[39m: i})\n\u001B[0;32m----> 5\u001B[0m \u001B[43mvector_store\u001B[49m\u001B[38;5;241;43m.\u001B[39;49m\u001B[43madd_texts\u001B[49m\u001B[43m(\u001B[49m\u001B[43mtexts\u001B[49m\u001B[38;5;241;43m=\u001B[39;49m\u001B[43mchunks\u001B[49m\u001B[43m,\u001B[49m\u001B[43m \u001B[49m\u001B[43mmetadatas\u001B[49m\u001B[38;5;241;43m=\u001B[39;49m\u001B[43mmetadatas\u001B[49m\u001B[43m,\u001B[49m\u001B[43m \u001B[49m\u001B[43mdoc_id\u001B[49m\u001B[38;5;241;43m=\u001B[39;49m\u001B[38;5;124;43m\"\u001B[39;49m\u001B[38;5;124;43mbenchmarking\u001B[39;49m\u001B[38;5;124;43m\"\u001B[39;49m\u001B[43m)\u001B[49m\n",
      "File \u001B[0;32m~/PycharmProjects/BenchmarkRAG/.venv/lib/python3.10/site-packages/ragstack_colbert/colbert_vector_store.py:114\u001B[0m, in \u001B[0;36mColbertVectorStore.add_texts\u001B[0;34m(self, texts, metadatas, doc_id)\u001B[0m\n\u001B[1;32m    100\u001B[0m \u001B[38;5;250m\u001B[39m\u001B[38;5;124;03m\"\"\"\u001B[39;00m\n\u001B[1;32m    101\u001B[0m \u001B[38;5;124;03mEmbeds and stores a list of text chunks and optional metadata into the vector store\u001B[39;00m\n\u001B[1;32m    102\u001B[0m \n\u001B[0;32m   (...)\u001B[0m\n\u001B[1;32m    111\u001B[0m \u001B[38;5;124;03m    a list of tuples: (doc_id, chunk_id)\u001B[39;00m\n\u001B[1;32m    112\u001B[0m \u001B[38;5;124;03m\"\"\"\u001B[39;00m\n\u001B[1;32m    113\u001B[0m chunks \u001B[38;5;241m=\u001B[39m \u001B[38;5;28mself\u001B[39m\u001B[38;5;241m.\u001B[39m_build_chunks(texts\u001B[38;5;241m=\u001B[39mtexts, metadatas\u001B[38;5;241m=\u001B[39mmetadatas, doc_id\u001B[38;5;241m=\u001B[39mdoc_id)\n\u001B[0;32m--> 114\u001B[0m \u001B[38;5;28;01mreturn\u001B[39;00m \u001B[38;5;28;43mself\u001B[39;49m\u001B[38;5;241;43m.\u001B[39;49m\u001B[43m_database\u001B[49m\u001B[38;5;241;43m.\u001B[39;49m\u001B[43madd_chunks\u001B[49m\u001B[43m(\u001B[49m\u001B[43mchunks\u001B[49m\u001B[38;5;241;43m=\u001B[39;49m\u001B[43mchunks\u001B[49m\u001B[43m)\u001B[49m\n",
      "File \u001B[0;32m~/PycharmProjects/BenchmarkRAG/.venv/lib/python3.10/site-packages/ragstack_colbert/cassandra_database.py:144\u001B[0m, in \u001B[0;36mCassandraDatabase.add_chunks\u001B[0;34m(self, chunks)\u001B[0m\n\u001B[1;32m    142\u001B[0m \u001B[38;5;28;01mfor\u001B[39;00m embedding_id, vector \u001B[38;5;129;01min\u001B[39;00m \u001B[38;5;28menumerate\u001B[39m(chunk\u001B[38;5;241m.\u001B[39membedding):\n\u001B[1;32m    143\u001B[0m     \u001B[38;5;28;01mtry\u001B[39;00m:\n\u001B[0;32m--> 144\u001B[0m         \u001B[38;5;28;43mself\u001B[39;49m\u001B[38;5;241;43m.\u001B[39;49m\u001B[43m_table\u001B[49m\u001B[38;5;241;43m.\u001B[39;49m\u001B[43mput\u001B[49m\u001B[43m(\u001B[49m\n\u001B[1;32m    145\u001B[0m \u001B[43m            \u001B[49m\u001B[43mpartition_id\u001B[49m\u001B[38;5;241;43m=\u001B[39;49m\u001B[43mdoc_id\u001B[49m\u001B[43m,\u001B[49m\n\u001B[1;32m    146\u001B[0m \u001B[43m            \u001B[49m\u001B[43mrow_id\u001B[49m\u001B[38;5;241;43m=\u001B[39;49m\u001B[43m(\u001B[49m\u001B[43mchunk_id\u001B[49m\u001B[43m,\u001B[49m\u001B[43m \u001B[49m\u001B[43membedding_id\u001B[49m\u001B[43m)\u001B[49m\u001B[43m,\u001B[49m\n\u001B[1;32m    147\u001B[0m \u001B[43m            \u001B[49m\u001B[43mvector\u001B[49m\u001B[38;5;241;43m=\u001B[39;49m\u001B[43mvector\u001B[49m\u001B[43m,\u001B[49m\n\u001B[1;32m    148\u001B[0m \u001B[43m        \u001B[49m\u001B[43m)\u001B[49m\n\u001B[1;32m    149\u001B[0m     \u001B[38;5;28;01mexcept\u001B[39;00m \u001B[38;5;167;01mException\u001B[39;00m \u001B[38;5;28;01mas\u001B[39;00m exp:\n\u001B[1;32m    150\u001B[0m         \u001B[38;5;28mself\u001B[39m\u001B[38;5;241m.\u001B[39m_log_insert_error(doc_id\u001B[38;5;241m=\u001B[39mdoc_id, chunk_id\u001B[38;5;241m=\u001B[39mchunk_id, embedding_id\u001B[38;5;241m=\u001B[39m\u001B[38;5;241m-\u001B[39m\u001B[38;5;241m1\u001B[39m, exp\u001B[38;5;241m=\u001B[39mexp)\n",
      "File \u001B[0;32m~/PycharmProjects/BenchmarkRAG/.venv/lib/python3.10/site-packages/cassio/table/base_table.py:397\u001B[0m, in \u001B[0;36mBaseTable.put\u001B[0;34m(self, **kwargs)\u001B[0m\n\u001B[1;32m    395\u001B[0m \u001B[38;5;28;01mdef\u001B[39;00m \u001B[38;5;21mput\u001B[39m(\u001B[38;5;28mself\u001B[39m, \u001B[38;5;241m*\u001B[39m\u001B[38;5;241m*\u001B[39mkwargs: Any) \u001B[38;5;241m-\u001B[39m\u001B[38;5;241m>\u001B[39m \u001B[38;5;28;01mNone\u001B[39;00m:\n\u001B[1;32m    396\u001B[0m     \u001B[38;5;28mself\u001B[39m\u001B[38;5;241m.\u001B[39m_ensure_db_setup()\n\u001B[0;32m--> 397\u001B[0m     \u001B[38;5;28;43mself\u001B[39;49m\u001B[38;5;241;43m.\u001B[39;49m\u001B[43m_put\u001B[49m\u001B[43m(\u001B[49m\u001B[43mis_async\u001B[49m\u001B[38;5;241;43m=\u001B[39;49m\u001B[38;5;28;43;01mFalse\u001B[39;49;00m\u001B[43m,\u001B[49m\u001B[43m \u001B[49m\u001B[38;5;241;43m*\u001B[39;49m\u001B[38;5;241;43m*\u001B[39;49m\u001B[43mkwargs\u001B[49m\u001B[43m)\u001B[49m\n\u001B[1;32m    398\u001B[0m     \u001B[38;5;28;01mreturn\u001B[39;00m \u001B[38;5;28;01mNone\u001B[39;00m\n",
      "File \u001B[0;32m~/PycharmProjects/BenchmarkRAG/.venv/lib/python3.10/site-packages/cassio/table/base_table.py:392\u001B[0m, in \u001B[0;36mBaseTable._put\u001B[0;34m(self, is_async, **kwargs)\u001B[0m\n\u001B[1;32m    388\u001B[0m     \u001B[38;5;28;01mreturn\u001B[39;00m \u001B[38;5;28mself\u001B[39m\u001B[38;5;241m.\u001B[39mexecute_cql_async(\n\u001B[1;32m    389\u001B[0m         insert_cql, args\u001B[38;5;241m=\u001B[39minsert_cql_args, op_type\u001B[38;5;241m=\u001B[39mCQLOpType\u001B[38;5;241m.\u001B[39mWRITE\n\u001B[1;32m    390\u001B[0m     )\n\u001B[1;32m    391\u001B[0m \u001B[38;5;28;01melse\u001B[39;00m:\n\u001B[0;32m--> 392\u001B[0m     \u001B[38;5;28;43mself\u001B[39;49m\u001B[38;5;241;43m.\u001B[39;49m\u001B[43mexecute_cql\u001B[49m\u001B[43m(\u001B[49m\u001B[43minsert_cql\u001B[49m\u001B[43m,\u001B[49m\u001B[43m \u001B[49m\u001B[43margs\u001B[49m\u001B[38;5;241;43m=\u001B[39;49m\u001B[43minsert_cql_args\u001B[49m\u001B[43m,\u001B[49m\u001B[43m \u001B[49m\u001B[43mop_type\u001B[49m\u001B[38;5;241;43m=\u001B[39;49m\u001B[43mCQLOpType\u001B[49m\u001B[38;5;241;43m.\u001B[39;49m\u001B[43mWRITE\u001B[49m\u001B[43m)\u001B[49m\n\u001B[1;32m    393\u001B[0m     \u001B[38;5;28;01mreturn\u001B[39;00m \u001B[38;5;28;01mNone\u001B[39;00m\n",
      "File \u001B[0;32m~/PycharmProjects/BenchmarkRAG/.venv/lib/python3.10/site-packages/cassio/table/base_table.py:579\u001B[0m, in \u001B[0;36mBaseTable.execute_cql\u001B[0;34m(self, cql_semitemplate, op_type, args)\u001B[0m\n\u001B[1;32m    577\u001B[0m     logger\u001B[38;5;241m.\u001B[39mdebug(\u001B[38;5;124mf\u001B[39m\u001B[38;5;124m'\u001B[39m\u001B[38;5;124mExecuting statement \u001B[39m\u001B[38;5;124m\"\u001B[39m\u001B[38;5;132;01m{\u001B[39;00mfinal_cql\u001B[38;5;132;01m}\u001B[39;00m\u001B[38;5;124m\"\u001B[39m\u001B[38;5;124m as prepared\u001B[39m\u001B[38;5;124m'\u001B[39m)\n\u001B[1;32m    578\u001B[0m logger\u001B[38;5;241m.\u001B[39mtrace(\u001B[38;5;124mf\u001B[39m\u001B[38;5;124m'\u001B[39m\u001B[38;5;124mStatement \u001B[39m\u001B[38;5;124m\"\u001B[39m\u001B[38;5;132;01m{\u001B[39;00mfinal_cql\u001B[38;5;132;01m}\u001B[39;00m\u001B[38;5;124m\"\u001B[39m\u001B[38;5;124m has args: \u001B[39m\u001B[38;5;124m\"\u001B[39m\u001B[38;5;132;01m{\u001B[39;00m\u001B[38;5;28mstr\u001B[39m(args)\u001B[38;5;132;01m}\u001B[39;00m\u001B[38;5;124m\"\u001B[39m\u001B[38;5;124m'\u001B[39m)  \u001B[38;5;66;03m# type: ignore\u001B[39;00m\n\u001B[0;32m--> 579\u001B[0m \u001B[38;5;28;01mreturn\u001B[39;00m cast(Iterable[RowType], \u001B[38;5;28;43mself\u001B[39;49m\u001B[38;5;241;43m.\u001B[39;49m\u001B[43msession\u001B[49m\u001B[38;5;241;43m.\u001B[39;49m\u001B[43mexecute\u001B[49m\u001B[43m(\u001B[49m\u001B[43mstatement\u001B[49m\u001B[43m,\u001B[49m\u001B[43m \u001B[49m\u001B[43margs\u001B[49m\u001B[43m)\u001B[49m)\n",
      "File \u001B[0;32m~/PycharmProjects/BenchmarkRAG/.venv/lib/python3.10/site-packages/cassandra/cluster.py:2677\u001B[0m, in \u001B[0;36mcassandra.cluster.Session.execute\u001B[0;34m()\u001B[0m\n",
      "File \u001B[0;32m~/PycharmProjects/BenchmarkRAG/.venv/lib/python3.10/site-packages/cassandra/cluster.py:4952\u001B[0m, in \u001B[0;36mcassandra.cluster.ResponseFuture.result\u001B[0;34m()\u001B[0m\n",
      "File \u001B[0;32m/Library/Frameworks/Python.framework/Versions/3.10/lib/python3.10/threading.py:600\u001B[0m, in \u001B[0;36mEvent.wait\u001B[0;34m(self, timeout)\u001B[0m\n\u001B[1;32m    598\u001B[0m signaled \u001B[38;5;241m=\u001B[39m \u001B[38;5;28mself\u001B[39m\u001B[38;5;241m.\u001B[39m_flag\n\u001B[1;32m    599\u001B[0m \u001B[38;5;28;01mif\u001B[39;00m \u001B[38;5;129;01mnot\u001B[39;00m signaled:\n\u001B[0;32m--> 600\u001B[0m     signaled \u001B[38;5;241m=\u001B[39m \u001B[38;5;28;43mself\u001B[39;49m\u001B[38;5;241;43m.\u001B[39;49m\u001B[43m_cond\u001B[49m\u001B[38;5;241;43m.\u001B[39;49m\u001B[43mwait\u001B[49m\u001B[43m(\u001B[49m\u001B[43mtimeout\u001B[49m\u001B[43m)\u001B[49m\n\u001B[1;32m    601\u001B[0m \u001B[38;5;28;01mreturn\u001B[39;00m signaled\n",
      "File \u001B[0;32m/Library/Frameworks/Python.framework/Versions/3.10/lib/python3.10/threading.py:320\u001B[0m, in \u001B[0;36mCondition.wait\u001B[0;34m(self, timeout)\u001B[0m\n\u001B[1;32m    318\u001B[0m \u001B[38;5;28;01mtry\u001B[39;00m:    \u001B[38;5;66;03m# restore state no matter what (e.g., KeyboardInterrupt)\u001B[39;00m\n\u001B[1;32m    319\u001B[0m     \u001B[38;5;28;01mif\u001B[39;00m timeout \u001B[38;5;129;01mis\u001B[39;00m \u001B[38;5;28;01mNone\u001B[39;00m:\n\u001B[0;32m--> 320\u001B[0m         \u001B[43mwaiter\u001B[49m\u001B[38;5;241;43m.\u001B[39;49m\u001B[43macquire\u001B[49m\u001B[43m(\u001B[49m\u001B[43m)\u001B[49m\n\u001B[1;32m    321\u001B[0m         gotit \u001B[38;5;241m=\u001B[39m \u001B[38;5;28;01mTrue\u001B[39;00m\n\u001B[1;32m    322\u001B[0m     \u001B[38;5;28;01melse\u001B[39;00m:\n",
      "\u001B[0;31mKeyboardInterrupt\u001B[0m: "
     ]
    }
   ],
   "execution_count": 99
  },
  {
   "metadata": {
    "ExecuteTime": {
     "end_time": "2024-06-18T18:37:00.219917Z",
     "start_time": "2024-06-18T18:37:00.174274Z"
    }
   },
   "cell_type": "code",
   "source": "colbert_retriever = ColbertRetriever(embedding_model=embedding_model, database=database)",
   "id": "eefcfad08f9e0642",
   "outputs": [],
   "execution_count": 132
  },
  {
   "metadata": {
    "ExecuteTime": {
     "end_time": "2024-06-18T20:14:12.116773Z",
     "start_time": "2024-06-18T20:14:10.925045Z"
    }
   },
   "cell_type": "code",
   "source": [
    "print(\"ColBERT results:\")\n",
    "print(colbert_retriever.text_search(question, k=n_results))"
   ],
   "id": "692509d1ad683ff6",
   "outputs": [
    {
     "name": "stdout",
     "output_type": "stream",
     "text": [
      "ColBERT results:\n",
      "[(Chunk(doc_id='rag-bio-test', chunk_id=24, text='Previous studies have shown that cultured fibroblasts derived from patients with \\ngenetic defects in lysosomal acid lipase (i. e. the Wolman Syndrome and \\nCholesteryl Ester Storage Disease) are defective in their ability to hydrolyze \\nthe cholesteryl esters contained in plasma low density lipoprotein (LDL). As a \\nresult, these mutant cells show a reduced responsiveness to the regulatory \\nactions of LDL, as evidenced by a decreased LDL-mediated suppression of the \\nactivity of 3-hydroxy-3-methylglutaryl coenzyme A reductase and by a decreased \\nLDL-mediated activation of cellular cholesteryl ester formation. In the current \\nstudies, the Wolman Syndrome and Cholesteryl Ester Storage Disease cells were \\ngrown in the same Petri dish with mutant fibroblasts derived from a patient with \\nthe homozygous form of Familial Hypercholesterolemia. Whereas pure monolayers of \\neither the Familial Hypercholesterolemia cells (lacking cell surface LDL \\nreceptors) or the acid lipase-deficient cells (lacking cholesteryl ester \\nhydrolase activity) responded poorly to LDL, the mixed monolayers developed \\nlipoprotein responsiveness as measured by an enhancement of both LDL-mediated \\nsuppression of 3-hydroxy-3-methylglutaryl coenzyme A reductase activity and \\nLDL-mediated stimulation of cholesteryl ester formation. This effect was shown \\nto result from the release of the lysosomal acid lipase from the Familial \\nHypercholesterolemia homozygote cells into the culture medium and its subsequent \\nuptake by the acid lipase-deficient cells. The acquisition of this acid lipase \\nactivity enhanced the ability of the Wolman Syndrome and Cholesteryl Ester \\nStorage Disease cells to respond to the lipoprotein by suppression of \\n3-hydroxy-3-methylglutaryl coenzyme A reductase and activation of cellular \\ncholesteryl ester formation. These data emphasize the importance of the \\nlysosomal acid lipase in the cellular metabolism of LDL cholesteryl esters and, \\nin addition, demonstrate that delivery of this enzyme to genetically deficient \\ncells can enhance the regulatory response to the lipoprotein.', metadata={'date': '06/18/2024', 'index': '179993.0'}, embedding=None), 6.734854951500893), (Chunk(doc_id='rag-bio-test', chunk_id=6, text='Hemolytic anemia is a well-recognized complication of sulfasalazine treatment. \\n17 of 40 (43%) patients with inflammatory bowel disease receiving sulfasalazine \\nhad evidence of hemolysis as detected by starch gel electrophoresis. Only 47% \\n(8) of patients with hemolysis had Heinz body formation. The hemoglobin was \\nsignificantly reduced in patients with hemolysis and 53% had a reticulocyte \\ncount of greater than 5%. A significant correlation was noted between hemolysis \\nand serum sulfapyridine level, but no correlation was seen with serum \\nsulfasalazine level. There was no significant difference in disease extent or \\nactivity in patients with hemolysis compared to those without hemolysis. \\nHemolysis is not a rare side-effect of sulfasalazine therapy. Heinz body \\nformation is not invariably found in sulfasalazine-induced hemolysis.', metadata={'date': '06/18/2024', 'index': '30666.0'}, embedding=None), 6.3221684247255325), (Chunk(doc_id='rag-bio-test', chunk_id=8, text=\"Mice were inoculated with human sarcoid tissue homogenates or with a first or a \\nsecond passage homogenate of mouse tissue (including 0.2 mum membrane filtrates) \\noriginating from the inoculation of human sarcoid, Crohn's disease, or control \\ntissue homogenates. Epithelioid and giant cell granulomas were present in the \\nfootpads and/or viscera of some of the mice given homogenates originating from \\neach sarcoid or Crohn's disease tissue 15 months after inoculation but were not \\npresent in mice given control homogenates. Among mice given homogenates \\noriginating from human sarcoidosis, granulomas were present in many organs and \\ntissues; in contrast, a pattern of selective dissemination of visceral \\ngranulomas was found among mice given homogenates originating from Crohn's \\ndisease. This differential distribution of visceral granulomas also followed the \\ninoculation of 0.2 mum membrane filtrates. Granulomatous responses at Kveim test \\nsites in the ear 9-17 months after inoculation of homogenatesoriginating from \\nhuman sarcoidosis or Crohn's disease were confined to mice showing granulomas in \\nfootpads of viscera. The ability of the transmissible agents to induce \\ngranulomas in mice was destroyed when sarcoid or Crohn's tissues were autoclaved \\nor when sarcoid homogenates were stored at -20degreesC for 1 week or exposed to \\n60Co irradiation (2.5 MR).\", metadata={'date': '06/18/2024', 'index': '61441.0'}, embedding=None), 6.078847259283066), (Chunk(doc_id='rag-bio-test', chunk_id=23, text='The results of various in vitro analyses indicate there is an active immune \\nresponse against antigens associated with human malignancies. This immune \\nresponse apparently can be augmented by nonspecific immunologic stimulates such \\nas BCG. These agents are effective for destroying tumor when injected locally \\ninto intracutaneous disease but are not as effective for subcutaneous disease. \\nPreliminary clinical trials indicated that immune stimulants are effective when \\nadministered systemically. The effect is only minimal for diseminated disease, \\nbut the therapeutic benefit is clearly augmented for patients with a minimal \\nresidual tumor burden, such as those patients with metastases to regional lymph \\nnodes. Thus immunotherapy is a systemically active mode of therapy. Its toxicity \\nis minimal, and it appears to be effective in a wide spectrum of the disease. \\nHowever, immunotherapy is not effective for a large residual tumor burden; \\nconsequently it must be used in combination with other modes of treatment such \\nas irradiation therapy or chemotherapy. Early experiences with BCG immunotherapy \\nfor malignant melanoma and C. parvum for oat cell carcinoma are encouraging. It \\nis remarkable that a nonspecific immunologic stimulant does, in fact, have this \\neffect. Immunotherapy experiments in animals suggest that in order to achieve \\nmaximal benefit. BCG must have close contact with tumor cells or must be \\ncombined with a tumor-associated antigen. If these principles are true for man, \\nit would seem that improvements for nonspecific immunotherapy in human neoplasms \\nwould be further augmented if a tumor-related antigen could be extracted from \\nhuman tumours and combined with a nonspecific immunologic stimulant.', metadata={'date': '06/18/2024', 'index': '178234.0'}, embedding=None), 6.011616066098213), (Chunk(doc_id='rag-bio-test', chunk_id=17, text='4103 cases suspected of mycoses were analysed as to sex, age and site of disease \\nand 3891 were proved cases. This group formed 50% of total mycoses or 13-93% of \\nall dermatoses recorded in the Government General Hospital, Madras, during the \\nperiod of study. There were 66-26% adult female, 27-6% adult male and 6-14% were \\nbelow 13 years. Dermatophytoses were found in 73-5%; the other common diseases \\nwere tinea versicolor (17-68%) and candidiasis (12-43%). Multiple sites of \\ninvolvement or more than 1 disease in the same individual were mostly observed. \\nThe incidence of piedra (0-1%) and deep mycoses (0-156%) was very low. Mycetoma \\nwas the common disease (5/6) in deep mycoses. In dermatophytoses, tinea corporis \\n(49-71%) and tinea cruris (47-85%) commonest; tinea axillaris (3-42%), tinea \\ncapitis (1-72%) and tinea barbae (1-29%) were less common. The incidence of \\ntinea manuum, tinea pedis and tinea unguium was similar (4-97%-6-38%). High \\ntemperature and humidity were related to the higher incidence of tinea corporis, \\ntinea cruris and tinea versicolor. Mainly children suffered from tinea capitis. \\nAll other mycoses were commonly found in adults between 2nd and 3rd decades. In \\nall mycoses but candidiasis, female predominated. Cutaneous candidiasis was \\nmainly a problem of housewives. Among the dermatophytes Trichophyton violaceum \\nwas predominant (33-7%) followed by T. rubrum (32-6%). Trichophyton schoenleinii \\nand M. gypseum were rarely isolated. From mycetoma, Madurella mycetomii, \\nNocardia braziliensis, N. asteroides and Actinomadura spp. were isolated. \\nDemonstration of Cryptococcus laurentii in 1 case is reported in this area for \\nthe first time.', metadata={'date': '06/18/2024', 'index': '134458.0'}, embedding=None), 5.7165397554636), (Chunk(doc_id='rag-bio-test', chunk_id=1, text=\"We describe an improved method for detecting deficiency of the acid hydrolase, \\nalpha-1,4-glucosidase in leukocytes, the enzyme defect in glycogen storage \\ndisease Type II (Pompe disease). The procedure requires smaller volumes of blood \\nand less time than previous methods. The assay involves the separation of \\nleukocytes by Peter's method for beta-glucosidase and a modification of Salafsky \\nand Nadler's fluorometric method for alpha-glucosidase.\", metadata={'date': '06/18/2024', 'index': '11906.0'}, embedding=None), 5.643163174390793), (Chunk(doc_id='rag-bio-test', chunk_id=30, text='A material of 89 cases of upper extremity deformities, among the 3225 cleft \\npatients born during the period 1950-75, and treated in the Finnish Red Cross \\nCleft Centre is presented. About two-thirds of the patients had an isolated \\ncleft palate--half of the male and nearly all of the female patients. The \\npercentage of upper extremity deformities appearing with the different types of \\nthe orofacial clefts was, for clefts of the primary palate 2.0: specifically for \\ncleft lip 0.8, cleft lip--palate 2.6, and cleft lip and palate 3.6; and for \\nclefts of the secondary palate 3.5: specifically for cleft palate 3.7, submucous \\ncleft palate 1.6; and for the branchial arch syndrome (lateral cleft) 5.2; the \\ntotal average being 2.8 percent. About one-third of the patients were dwarfs, \\nmost of them diastrophic dwarfs. Syndactyly was somewhat more common among cleft \\npatients, 0.3%, than in the average population. Polydactyly, 0.1% was about as \\ncommon as the average. Ectrodactyly was more common among cleft patients, 0.4%, \\nthan either syndactyly or polydactyly that are considered the most common hand \\ndeformities among the general population. The syndactyly cases were more \\ncomplicated than the average, among them 4 cases of Apert syndrome were noted. \\nAbout three-fourths of the 89 patients had multiple deformities.', metadata={'date': '06/18/2024', 'index': '211577.0'}, embedding=None), 5.521778114140034), (Chunk(doc_id='rag-bio-test', chunk_id=10, text=\"Galactosylceramide beta-galactosidase cross reacting material was demonstrated \\nin brain, liver, and skin fibroblasts from patients with Krabbe disease. The \\nmutant enzyme was antigenically identical to the normal enzyme and exhibited \\nsimilar electrophoretic mobility. Normal quantities of the catalytically \\ndeficient enzyme were measured in the patients' tissues by a sensitive single \\nradial immunodiffusion assay, indicating that the mutation is in structural gene \\nfor the enzyme protein.\", metadata={'date': '06/18/2024', 'index': '85413.0'}, embedding=None), 5.4241314977407455), (Chunk(doc_id='rag-bio-test', chunk_id=0, text='New data on viruses isolated from patients with subacute thyroiditis de Quervain \\nare reported. Characteristic morphological, cytological, some physico-chemical \\nand biological features of the isolated viruses are described. A possible role \\nof these viruses in human and animal health disorders is discussed. The isolated \\nviruses remain unclassified so far.', metadata={'date': '06/18/2024', 'index': '9797.0'}, embedding=None), 5.404668152332306)]\n"
     ]
    }
   ],
   "execution_count": 186
  },
  {
   "metadata": {
    "ExecuteTime": {
     "end_time": "2024-06-18T18:37:05.438842Z",
     "start_time": "2024-06-18T18:37:05.436854Z"
    }
   },
   "cell_type": "code",
   "source": [
    "from tqdm import tqdm\n",
    "from time import time"
   ],
   "id": "8cbf28d4f5faf3a2",
   "outputs": [],
   "execution_count": 134
  },
  {
   "metadata": {
    "ExecuteTime": {
     "end_time": "2024-06-18T19:28:20.872499Z",
     "start_time": "2024-06-18T19:13:22.128438Z"
    }
   },
   "cell_type": "code",
   "source": [
    "all_knn_indices = []\n",
    "all_weaviate_indices = []\n",
    "all_pinecone_indices = []\n",
    "all_colbert_indices = []\n",
    "all_bm25_indices = []\n",
    "\n",
    "weaviate_latencies = []\n",
    "pinecone_latencies = []\n",
    "colbert_latencies = []\n",
    "bm25_latencies = []\n",
    "\n",
    "def run_line(line):\n",
    "    line = line.strip()\n",
    "\n",
    "    start = time()\n",
    "    weaviate_results = weaviate_retriever.invoke(line)\n",
    "    end = time()\n",
    "    weaviate_latencies.append(end - start)\n",
    "    weaviate_indices = [result.metadata['index'] for result in weaviate_results]\n",
    "    all_weaviate_indices.append(weaviate_indices)\n",
    "\n",
    "    start = time()\n",
    "    pinecone_results = pinecone_retriever.invoke(line)\n",
    "    end = time()\n",
    "    pinecone_latencies.append(end - start)\n",
    "    pinecone_indices = [int(result.metadata['index']) for result in pinecone_results]\n",
    "    all_pinecone_indices.append(pinecone_indices)\n",
    "\n",
    "    start = time()\n",
    "    colbert_results = colbert_retriever.text_search(line, k=n_results)\n",
    "    end = time()\n",
    "    colbert_indices = [int(float(result[0].metadata['index'])) for result in colbert_results]\n",
    "    colbert_latencies.append(end - start)\n",
    "    all_colbert_indices.append(colbert_indices)\n",
    "\n",
    "    start = time()\n",
    "    bm25_results = bm25_retriever.invoke(line)\n",
    "    end = time()\n",
    "    bm25_indices = [result.metadata['index'] for result in bm25_results]\n",
    "    bm25_latencies.append(end - start)\n",
    "    all_bm25_indices.append(bm25_indices)\n",
    "\n",
    "    distances, knn_indices = knn.kneighbors([embeddings.embed_query(line)])\n",
    "    knn_indices = knn_indices[0]\n",
    "    all_knn_indices.append(knn_indices)\n",
    "    \n",
    "for question in tqdm([doc['question'] for doc in bioasq][:400]):\n",
    "    run_line(question)\n"
   ],
   "id": "6a68aefc93952dec",
   "outputs": [
    {
     "name": "stderr",
     "output_type": "stream",
     "text": [
      "100%|██████████| 400/400 [14:58<00:00,  2.25s/it]\n"
     ]
    }
   ],
   "execution_count": 138
  },
  {
   "metadata": {
    "ExecuteTime": {
     "end_time": "2024-06-18T19:56:00.842257Z",
     "start_time": "2024-06-18T19:33:36.045513Z"
    }
   },
   "cell_type": "code",
   "source": [
    "for question in tqdm([doc['question'] for doc in bioasq][1000:2000]):\n",
    "    run_line(question)"
   ],
   "id": "ef7e6ef786246e4d",
   "outputs": [
    {
     "name": "stderr",
     "output_type": "stream",
     "text": [
      "100%|██████████| 600/600 [22:24<00:00,  2.24s/it]\n"
     ]
    }
   ],
   "execution_count": 142
  },
  {
   "metadata": {
    "ExecuteTime": {
     "end_time": "2024-06-18T20:09:24.543084Z",
     "start_time": "2024-06-18T20:09:24.539619Z"
    }
   },
   "cell_type": "code",
   "source": [
    "print(all_weaviate_indices[1])\n",
    "true_indices = [row['relevant_passage_ids'][:9] for row in bioasq[:len(all_weaviate_indices)]]"
   ],
   "id": "82ee283cbfc1d05d",
   "outputs": [
    {
     "name": "stdout",
     "output_type": "stream",
     "text": [
      "[23382875, 34667080, 21514161, 29680500, 23888072, 25052069, 22436374, 16159418, 18520300, 19048033]\n"
     ]
    }
   ],
   "execution_count": 181
  },
  {
   "metadata": {
    "ExecuteTime": {
     "end_time": "2024-06-18T20:18:11.194247Z",
     "start_time": "2024-06-18T20:18:11.137671Z"
    }
   },
   "cell_type": "code",
   "source": [
    "weaviate_stats = get_result_stats(all_weaviate_indices, true_indices, n_results)\n",
    "pinecone_stats = get_result_stats(all_pinecone_indices, true_indices, n_results)\n",
    "colbert_stats = get_result_stats(all_colbert_indices, true_indices, n_results)\n",
    "bm25_stats = get_result_stats(all_bm25_indices, true_indices, n_results)"
   ],
   "id": "4fd745232cc88753",
   "outputs": [],
   "execution_count": 196
  },
  {
   "metadata": {
    "ExecuteTime": {
     "end_time": "2024-06-18T20:18:12.013306Z",
     "start_time": "2024-06-18T20:18:12.002417Z"
    }
   },
   "cell_type": "code",
   "source": [
    "from rich.text import Text\n",
    "import rich\n",
    "from rich.console import Console\n",
    "\n",
    "console = Console()\n",
    "\n",
    "# Print a table of the results (Weaviate, Pinecone, ColBERT vs the different stats)\n",
    "table = rich.table.Table(title=\"Retrieval Results @k={}\".format(n_results), show_edge=False)\n",
    "table.add_column(\"Metric\", style=\"cyan\")\n",
    "table.add_column(\"Weaviate\", style=\"magenta\")\n",
    "table.add_column(\"Pinecone\", style=\"green\")\n",
    "table.add_column(\"AstraDB + ColBERT\", style=\"blue\")\n",
    "table.add_column(\"BM25\", style=\"yellow\")\n",
    "\n",
    "\n",
    "def format_cell(value, is_max=True):\n",
    "    text = Text(str(value))\n",
    "    if is_max:\n",
    "        text.stylize(\"bold underline\")\n",
    "    return text\n",
    "\n",
    "\n",
    "# Add stats to table with formatting\n",
    "for metric in weaviate_stats:\n",
    "    values = [\n",
    "        weaviate_stats[metric],\n",
    "        pinecone_stats[metric],\n",
    "        colbert_stats[metric],\n",
    "        bm25_stats[metric],\n",
    "    ]\n",
    "    max_value = max(values)\n",
    "    formatted_values = [\n",
    "        format_cell(value, is_max=(value == max_value)) for value in values\n",
    "    ]\n",
    "    table.add_row(metric, *formatted_values)\n",
    "\n",
    "# Calculate average latencies and add them to the table\n",
    "avg_weaviate_latency = sum(weaviate_latencies) / len(weaviate_latencies)\n",
    "avg_pinecone_latency = sum(pinecone_latencies) / len(pinecone_latencies)\n",
    "avg_colbert_latency = sum(colbert_latencies) / len(colbert_latencies)\n",
    "avg_bm25_latency = sum(bm25_latencies) / len(bm25_latencies)\n",
    "\n",
    "latencies = [avg_weaviate_latency, avg_pinecone_latency, avg_colbert_latency, avg_bm25_latency]\n",
    "min_latency = min(latencies)\n",
    "formatted_latencies = [\n",
    "    format_cell(latency, is_max=(latency == min_latency)) for latency in latencies\n",
    "]\n",
    "\n",
    "table.add_row(\"Average Latency\", *formatted_latencies)\n",
    "\n",
    "# Print the table\n",
    "console.print(table)"
   ],
   "id": "3e42d92b088cc166",
   "outputs": [
    {
     "data": {
      "text/plain": [
       "\u001B[3m                                          Retrieval Results @k=9                                           \u001B[0m\n",
       "\u001B[1m \u001B[0m\u001B[1mMetric         \u001B[0m\u001B[1m \u001B[0m┃\u001B[1m \u001B[0m\u001B[1mWeaviate           \u001B[0m\u001B[1m \u001B[0m┃\u001B[1m \u001B[0m\u001B[1mPinecone           \u001B[0m\u001B[1m \u001B[0m┃\u001B[1m \u001B[0m\u001B[1mAstraDB + ColBERT    \u001B[0m\u001B[1m \u001B[0m┃\u001B[1m \u001B[0m\u001B[1mBM25               \u001B[0m\u001B[1m \u001B[0m\n",
       "━━━━━━━━━━━━━━━━━╇━━━━━━━━━━━━━━━━━━━━━╇━━━━━━━━━━━━━━━━━━━━━╇━━━━━━━━━━━━━━━━━━━━━━━╇━━━━━━━━━━━━━━━━━━━━━\n",
       "\u001B[36m \u001B[0m\u001B[36mPrecision      \u001B[0m\u001B[36m \u001B[0m│\u001B[35m \u001B[0m\u001B[1;4;35m0.39964880952380955\u001B[0m\u001B[35m \u001B[0m│\u001B[32m \u001B[0m\u001B[32m0.17422777777777776\u001B[0m\u001B[32m \u001B[0m│\u001B[34m \u001B[0m\u001B[34m0.0003333333333333333\u001B[0m\u001B[34m \u001B[0m│\u001B[33m \u001B[0m\u001B[33m0.24708174603174604\u001B[0m\u001B[33m \u001B[0m\n",
       "\u001B[36m \u001B[0m\u001B[36mRecall         \u001B[0m\u001B[36m \u001B[0m│\u001B[35m \u001B[0m\u001B[1;4;35m0.39964880952380955\u001B[0m\u001B[35m \u001B[0m│\u001B[32m \u001B[0m\u001B[32m0.17422777777777776\u001B[0m\u001B[32m \u001B[0m│\u001B[34m \u001B[0m\u001B[34m0.0003333333333333333\u001B[0m\u001B[34m \u001B[0m│\u001B[33m \u001B[0m\u001B[33m0.24708174603174604\u001B[0m\u001B[33m \u001B[0m\n",
       "\u001B[36m \u001B[0m\u001B[36mF1-Score       \u001B[0m\u001B[36m \u001B[0m│\u001B[35m \u001B[0m\u001B[1;4;35m0.39964880952380955\u001B[0m\u001B[35m \u001B[0m│\u001B[32m \u001B[0m\u001B[32m0.17422777777777776\u001B[0m\u001B[32m \u001B[0m│\u001B[34m \u001B[0m\u001B[34m0.0003333333333333333\u001B[0m\u001B[34m \u001B[0m│\u001B[33m \u001B[0m\u001B[33m0.24708174603174604\u001B[0m\u001B[33m \u001B[0m\n",
       "\u001B[36m \u001B[0m\u001B[36mMRR            \u001B[0m\u001B[36m \u001B[0m│\u001B[35m \u001B[0m\u001B[1;4;35m0.6843492063492063\u001B[0m\u001B[35m \u001B[0m\u001B[35m \u001B[0m│\u001B[32m \u001B[0m\u001B[32m0.43645158730158734\u001B[0m\u001B[32m \u001B[0m│\u001B[34m \u001B[0m\u001B[34m0.003125             \u001B[0m\u001B[34m \u001B[0m│\u001B[33m \u001B[0m\u001B[33m0.5016138888888889 \u001B[0m\u001B[33m \u001B[0m\n",
       "\u001B[36m \u001B[0m\u001B[36mnDCG           \u001B[0m\u001B[36m \u001B[0m│\u001B[35m \u001B[0m\u001B[1;4;35m0.7264795246342591\u001B[0m\u001B[35m \u001B[0m\u001B[35m \u001B[0m│\u001B[32m \u001B[0m\u001B[32m0.4639743363682928 \u001B[0m\u001B[32m \u001B[0m│\u001B[34m \u001B[0m\u001B[34m0.003315464876785729 \u001B[0m\u001B[34m \u001B[0m│\u001B[33m \u001B[0m\u001B[33m0.5332439198223763 \u001B[0m\u001B[33m \u001B[0m\n",
       "\u001B[36m \u001B[0m\u001B[36mAverage Latency\u001B[0m\u001B[36m \u001B[0m│\u001B[35m \u001B[0m\u001B[35m0.5623953902721405 \u001B[0m\u001B[35m \u001B[0m│\u001B[32m \u001B[0m\u001B[32m0.21147561430931092\u001B[0m\u001B[32m \u001B[0m│\u001B[34m \u001B[0m\u001B[34m1.1388931260108948   \u001B[0m\u001B[34m \u001B[0m│\u001B[33m \u001B[0m\u001B[1;4;33m0.09238642311096192\u001B[0m\u001B[33m \u001B[0m\n"
      ],
      "text/html": [
       "<pre style=\"white-space:pre;overflow-x:auto;line-height:normal;font-family:Menlo,'DejaVu Sans Mono',consolas,'Courier New',monospace\"><span style=\"font-style: italic\">                                          Retrieval Results @k=9                                           </span>\n",
       "<span style=\"font-weight: bold\"> Metric          </span>┃<span style=\"font-weight: bold\"> Weaviate            </span>┃<span style=\"font-weight: bold\"> Pinecone            </span>┃<span style=\"font-weight: bold\"> AstraDB + ColBERT     </span>┃<span style=\"font-weight: bold\"> BM25                </span>\n",
       "━━━━━━━━━━━━━━━━━╇━━━━━━━━━━━━━━━━━━━━━╇━━━━━━━━━━━━━━━━━━━━━╇━━━━━━━━━━━━━━━━━━━━━━━╇━━━━━━━━━━━━━━━━━━━━━\n",
       "<span style=\"color: #008080; text-decoration-color: #008080\"> Precision       </span>│<span style=\"color: #800080; text-decoration-color: #800080\"> </span><span style=\"color: #800080; text-decoration-color: #800080; font-weight: bold; text-decoration: underline\">0.39964880952380955</span><span style=\"color: #800080; text-decoration-color: #800080\"> </span>│<span style=\"color: #008000; text-decoration-color: #008000\"> 0.17422777777777776 </span>│<span style=\"color: #000080; text-decoration-color: #000080\"> 0.0003333333333333333 </span>│<span style=\"color: #808000; text-decoration-color: #808000\"> 0.24708174603174604 </span>\n",
       "<span style=\"color: #008080; text-decoration-color: #008080\"> Recall          </span>│<span style=\"color: #800080; text-decoration-color: #800080\"> </span><span style=\"color: #800080; text-decoration-color: #800080; font-weight: bold; text-decoration: underline\">0.39964880952380955</span><span style=\"color: #800080; text-decoration-color: #800080\"> </span>│<span style=\"color: #008000; text-decoration-color: #008000\"> 0.17422777777777776 </span>│<span style=\"color: #000080; text-decoration-color: #000080\"> 0.0003333333333333333 </span>│<span style=\"color: #808000; text-decoration-color: #808000\"> 0.24708174603174604 </span>\n",
       "<span style=\"color: #008080; text-decoration-color: #008080\"> F1-Score        </span>│<span style=\"color: #800080; text-decoration-color: #800080\"> </span><span style=\"color: #800080; text-decoration-color: #800080; font-weight: bold; text-decoration: underline\">0.39964880952380955</span><span style=\"color: #800080; text-decoration-color: #800080\"> </span>│<span style=\"color: #008000; text-decoration-color: #008000\"> 0.17422777777777776 </span>│<span style=\"color: #000080; text-decoration-color: #000080\"> 0.0003333333333333333 </span>│<span style=\"color: #808000; text-decoration-color: #808000\"> 0.24708174603174604 </span>\n",
       "<span style=\"color: #008080; text-decoration-color: #008080\"> MRR             </span>│<span style=\"color: #800080; text-decoration-color: #800080\"> </span><span style=\"color: #800080; text-decoration-color: #800080; font-weight: bold; text-decoration: underline\">0.6843492063492063</span><span style=\"color: #800080; text-decoration-color: #800080\">  </span>│<span style=\"color: #008000; text-decoration-color: #008000\"> 0.43645158730158734 </span>│<span style=\"color: #000080; text-decoration-color: #000080\"> 0.003125              </span>│<span style=\"color: #808000; text-decoration-color: #808000\"> 0.5016138888888889  </span>\n",
       "<span style=\"color: #008080; text-decoration-color: #008080\"> nDCG            </span>│<span style=\"color: #800080; text-decoration-color: #800080\"> </span><span style=\"color: #800080; text-decoration-color: #800080; font-weight: bold; text-decoration: underline\">0.7264795246342591</span><span style=\"color: #800080; text-decoration-color: #800080\">  </span>│<span style=\"color: #008000; text-decoration-color: #008000\"> 0.4639743363682928  </span>│<span style=\"color: #000080; text-decoration-color: #000080\"> 0.003315464876785729  </span>│<span style=\"color: #808000; text-decoration-color: #808000\"> 0.5332439198223763  </span>\n",
       "<span style=\"color: #008080; text-decoration-color: #008080\"> Average Latency </span>│<span style=\"color: #800080; text-decoration-color: #800080\"> 0.5623953902721405  </span>│<span style=\"color: #008000; text-decoration-color: #008000\"> 0.21147561430931092 </span>│<span style=\"color: #000080; text-decoration-color: #000080\"> 1.1388931260108948    </span>│<span style=\"color: #808000; text-decoration-color: #808000\"> </span><span style=\"color: #808000; text-decoration-color: #808000; font-weight: bold; text-decoration: underline\">0.09238642311096192</span><span style=\"color: #808000; text-decoration-color: #808000\"> </span>\n",
       "</pre>\n"
      ]
     },
     "metadata": {},
     "output_type": "display_data"
    }
   ],
   "execution_count": 197
  },
  {
   "metadata": {
    "ExecuteTime": {
     "end_time": "2024-06-18T20:18:33.004852Z",
     "start_time": "2024-06-18T20:18:32.821132Z"
    }
   },
   "cell_type": "code",
   "source": [
    "# Plot latency distributions\n",
    "import matplotlib.pyplot as plt\n",
    "\n",
    "bins = 40\n",
    "plt.hist(weaviate_latencies, bins=bins, alpha=0.5, label='Weaviate')\n",
    "plt.hist(pinecone_latencies, bins=bins, alpha=0.5, label='Pinecone')\n",
    "plt.hist(colbert_latencies, bins=bins, alpha=0.5, label='AstraDB + ColBERT')\n",
    "plt.hist(bm25_latencies, bins=bins, alpha=0.5, label='BM25')\n",
    "\n",
    "plt.legend(loc='upper right')\n",
    "plt.xlabel('Latency (s)')\n",
    "plt.ylabel('Frequency')\n",
    "plt.title('Retrieval Latency Distributions @k={}'.format(n_results))\n",
    "\n",
    "# set the size bigger\n",
    "plt.rcParams[\"figure.figsize\"] = (20, 12)"
   ],
   "id": "458a7fc673afa4d8",
   "outputs": [
    {
     "data": {
      "text/plain": [
       "<Figure size 2000x1200 with 1 Axes>"
      ],
      "image/png": "[encoded data removed]"
     },
     "metadata": {},
     "output_type": "display_data"
    }
   ],
   "execution_count": 198
  },
  {
   "metadata": {},
   "cell_type": "code",
   "outputs": [],
   "execution_count": null,
   "source": "",
   "id": "4249628f717f8570"
  }
 ],
 "metadata": {
  "kernelspec": {
   "display_name": "Python 3",
   "language": "python",
   "name": "python3"
  },
  "language_info": {
   "codemirror_mode": {
    "name": "ipython",
    "version": 2
   },
   "file_extension": ".py",
   "mimetype": "text/x-python",
   "name": "python",
   "nbconvert_exporter": "python",
   "pygments_lexer": "ipython2",
   "version": "2.7.6"
  }
 },
 "nbformat": 4,
 "nbformat_minor": 5
}
