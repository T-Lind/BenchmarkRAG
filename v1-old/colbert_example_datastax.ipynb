{
 "cells": [
  {
   "cell_type": "code",
   "id": "initial_id",
   "metadata": {
    "collapsed": true,
    "jupyter": {
     "is_executing": true
    }
   },
   "source": [
    "from ragstack_colbert import CassandraDatabase, ColbertEmbeddingModel, ColbertVectorStore\n",
    "from dotenv import load_dotenv\n",
    "import logging\n",
    "import nest_asyncio\n",
    "from ragstack_colbert import ColbertRetriever\n",
    "import os\n",
    "from langchain_community.retrievers import KNNRetriever\n",
    "from langchain_openai import OpenAIEmbeddings\n",
    "\n",
    "arctic_botany_dict = {\n",
    "    \"Introduction to Arctic Botany\": \"Arctic botany is the study of plant life in the Arctic, a region characterized by extreme cold, permafrost, and minimal sunlight for much of the year. Despite these harsh conditions, a diverse range of flora thrives here, adapted to survive with minimal water, low temperatures, and high light levels during the summer. This introduction aims to shed light on the resilience and adaptation of Arctic plants, setting the stage for a deeper dive into the unique botanical ecosystem of the Arctic.\",\n",
    "    \"Arctic Plant Adaptations\": \"Plants in the Arctic have developed unique adaptations to endure the extreme climate. Perennial growth, antifreeze proteins, and a short growth cycle are among the evolutionary solutions. These adaptations not only allow the plants to survive but also to reproduce in short summer months. Arctic plants often have small, dark leaves to absorb maximum sunlight, and some species grow in cushion or mat forms to resist cold winds. Understanding these adaptations provides insights into the resilience of Arctic flora.\",\n",
    "    \"The Tundra Biome\": \"The Arctic tundra is a vast, treeless biome where the subsoil is permanently frozen. Here, the vegetation is predominantly composed of dwarf shrubs, grasses, mosses, and lichens. The tundra supports a surprisingly rich biodiversity, adapted to its cold, dry, and windy conditions. The biome plays a crucial role in the Earth's climate system, acting as a carbon sink. However, it's sensitive to climate change, with thawing permafrost and shifting vegetation patterns.\",\n",
    "    \"Arctic Plant Biodiversity\": \"Despite the challenging environment, the Arctic boasts a significant variety of plant species, each adapted to its niche. From the colorful blooms of Arctic poppies to the hardy dwarf willows, these plants form a complex ecosystem. The biodiversity of Arctic flora is vital for local wildlife, providing food and habitat. This diversity also has implications for Arctic peoples, who depend on certain plant species for food, medicine, and materials.\",\n",
    "    \"Climate Change and Arctic Flora\": \"Climate change poses a significant threat to Arctic botany, with rising temperatures, melting permafrost, and changing precipitation patterns. These changes can lead to shifts in plant distribution, phenology, and the composition of the Arctic flora. Some species may thrive, while others could face extinction. This dynamic is critical to understanding future Arctic ecosystems and their global impact, including feedback loops that may exacerbate global warming.\",\n",
    "    \"Research and Conservation in the Arctic\": \"Research in Arctic botany is crucial for understanding the intricate balance of this ecosystem and the impacts of climate change. Scientists conduct studies on plant physiology, genetics, and ecosystem dynamics. Conservation efforts are focused on protecting the Arctic's unique biodiversity through protected areas, sustainable management practices, and international cooperation. These efforts aim to preserve the Arctic flora for future generations and maintain its role in the global climate system.\",\n",
    "    \"Traditional Knowledge and Arctic Botany\": \"Indigenous peoples of the Arctic have a deep connection with the land and its plant life. Traditional knowledge, passed down through generations, includes the uses of plants for nutrition, healing, and materials. This body of knowledge is invaluable for both conservation and understanding the ecological relationships in Arctic ecosystems. Integrating traditional knowledge with scientific research enriches our comprehension of Arctic botany and enhances conservation strategies.\",\n",
    "    \"Future Directions in Arctic Botanical Studies\": \"The future of Arctic botany lies in interdisciplinary research, combining traditional knowledge with modern scientific techniques. As the Arctic undergoes rapid changes, understanding the ecological, cultural, and climatic dimensions of Arctic flora becomes increasingly important. Future research will need to address the challenges of climate change, explore the potential for Arctic plants in biotechnology, and continue to conserve this unique biome. The resilience of Arctic flora offers lessons in adaptation and survival relevant to global challenges.\"\n",
    "}\n",
    "arctic_botany_texts = list(arctic_botany_dict.values())"
   ],
   "outputs": [],
   "execution_count": null
  },
  {
   "metadata": {},
   "cell_type": "code",
   "outputs": [],
   "execution_count": null,
   "source": [
    "load_dotenv()\n",
    "\n",
    "astra_database_id = os.getenv('ASTRA_DATABASE_ID')\n",
    "astra_token = os.getenv('ASTRA_TOKEN')\n",
    "keyspace = \"toy1\"\n",
    "\n",
    "database = CassandraDatabase.from_astra(\n",
    "    astra_token=astra_token,\n",
    "    database_id=os.getenv('ASTRA_DATABASE_ID'),\n",
    "    keyspace=keyspace\n",
    ")\n",
    "\n",
    "embedding_model = ColbertEmbeddingModel()"
   ],
   "id": "c7aad7653c7a6ce1"
  },
  {
   "metadata": {},
   "cell_type": "code",
   "outputs": [],
   "execution_count": null,
   "source": [
    "# Only run first time -- loads texts into database\n",
    "vector_store = ColbertVectorStore(\n",
    "    database=database,\n",
    "    embedding_model=embedding_model,\n",
    ")\n",
    "\n",
    "results = vector_store.add_texts(texts=arctic_botany_texts, doc_id=\"arctic_botany\")"
   ],
   "id": "2e9b18f500658e33"
  },
  {
   "metadata": {},
   "cell_type": "code",
   "outputs": [],
   "execution_count": null,
   "source": [
    "nest_asyncio.apply()\n",
    "\n",
    "logging.getLogger('cassandra').setLevel(logging.ERROR)  # workaround to suppress logs\n",
    "\n",
    "retriever = ColbertRetriever(\n",
    "    database=database, embedding_model=embedding_model\n",
    ")\n",
    "\n",
    "answers = retriever.text_search(\"What's happenned with artic botany?'\", k=2)\n",
    "for answer in answers:\n",
    "    print(f\"Text: {answer[0].text} Score: {answer[1]}\\n\")"
   ],
   "id": "e9e9a5ff2d6ae9d3"
  },
  {
   "metadata": {
    "jupyter": {
     "is_executing": true
    }
   },
   "cell_type": "code",
   "source": "knn_retriever = KNNRetriever.from_texts(arctic_botany_texts, OpenAIEmbeddings(model_name='text-embedding-3-small'))",
   "id": "695cda0d9fe2e4a9",
   "outputs": [],
   "execution_count": null
  },
  {
   "metadata": {},
   "cell_type": "code",
   "outputs": [],
   "execution_count": null,
   "source": "",
   "id": "41bce6f465e97e8f"
  }
 ],
 "metadata": {
  "kernelspec": {
   "display_name": "Python 3",
   "language": "python",
   "name": "python3"
  },
  "language_info": {
   "codemirror_mode": {
    "name": "ipython",
    "version": 2
   },
   "file_extension": ".py",
   "mimetype": "text/x-python",
   "name": "python",
   "nbconvert_exporter": "python",
   "pygments_lexer": "ipython2",
   "version": "2.7.6"
  }
 },
 "nbformat": 4,
 "nbformat_minor": 5
}
