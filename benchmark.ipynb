{
 "cells": [
  {
   "metadata": {},
   "cell_type": "markdown",
   "source": [
    "# AstraDB ColBERT or Pinecone/Weaviate Hybrid Search?\n",
    "Author: Tiernan Lindauer, Datastax Inc."
   ],
   "id": "4ac330c9b333ba5d"
  },
  {
   "metadata": {},
   "cell_type": "markdown",
   "source": "## Step 1: Setup",
   "id": "87fb396529b09a44"
  },
  {
   "metadata": {},
   "cell_type": "markdown",
   "source": "Install the required packages (`requirements.txt`)",
   "id": "8f873e2eea2e1ed5"
  },
  {
   "metadata": {
    "ExecuteTime": {
     "end_time": "2024-06-14T20:28:12.079077Z",
     "start_time": "2024-06-14T20:28:12.075749Z"
    }
   },
   "cell_type": "code",
   "source": [
    "# Some minor setup for the notebook\n",
    "import warnings\n",
    "import nest_asyncio\n",
    "\n",
    "# Ignore all warnings\n",
    "warnings.filterwarnings(\"ignore\")\n",
    "\n",
    "# Allows for running async code in Jupyter notebooks\n",
    "nest_asyncio.apply()"
   ],
   "id": "a5e9590b575f4684",
   "outputs": [],
   "execution_count": 114
  },
  {
   "metadata": {
    "ExecuteTime": {
     "end_time": "2024-06-14T16:47:58.233505Z",
     "start_time": "2024-06-14T16:47:58.230536Z"
    }
   },
   "cell_type": "code",
   "source": [
    "import os\n",
    "import time\n",
    "import openai\n",
    "import weaviate\n",
    "from dotenv import load_dotenv\n",
    "from langchain_community.retrievers import (\n",
    "    WeaviateHybridSearchRetriever,\n",
    ")\n",
    "from langchain_core.documents import Document\n",
    "from langchain_openai import OpenAIEmbeddings\n",
    "from langchain_text_splitters import RecursiveCharacterTextSplitter"
   ],
   "id": "96476076f18744e2",
   "outputs": [],
   "execution_count": 9
  },
  {
   "metadata": {},
   "cell_type": "markdown",
   "source": "Load the corpus.",
   "id": "cd1be8479892cac5"
  },
  {
   "metadata": {
    "ExecuteTime": {
     "end_time": "2024-06-14T17:03:49.114466Z",
     "start_time": "2024-06-14T17:03:49.111940Z"
    }
   },
   "cell_type": "code",
   "source": "corpus_path = \"dataset/movie_scripts/test\"",
   "id": "6c71e43816c52904",
   "outputs": [],
   "execution_count": 25
  },
  {
   "metadata": {},
   "cell_type": "code",
   "outputs": [],
   "execution_count": 24,
   "source": [
    "def load_and_split_text(folder_path):\n",
    "    text_splitter = RecursiveCharacterTextSplitter(chunk_size=1000, chunk_overlap=200)\n",
    "    texts = []\n",
    "    for file_name in os.listdir(folder_path):\n",
    "        file_path = os.path.join(folder_path, file_name)\n",
    "        with open(file_path, 'r') as file:\n",
    "            text = file.read()\n",
    "            texts.extend(text_splitter.split_text(text))\n",
    "    return texts\n",
    "\n",
    "\n",
    "corpus = load_and_split_text(corpus_path)"
   ],
   "id": "134e978d5c524614"
  },
  {
   "metadata": {},
   "cell_type": "markdown",
   "source": "Alternatively, load a dataset from the Hugging Face Datasets library.",
   "id": "b307e7cb8bddaefd"
  },
  {
   "metadata": {
    "ExecuteTime": {
     "end_time": "2024-06-17T17:44:31.529786Z",
     "start_time": "2024-06-17T17:44:30.765768Z"
    }
   },
   "cell_type": "code",
   "source": [
    "from datasets import load_dataset\n",
    "\n",
    "datasets = {}\n",
    "def configure_dataset(name: str, lang:str=None):\n",
    "    if lang:\n",
    "        datasets[name] = load_dataset(name, lang)\n",
    "    else:\n",
    "        datasets[name] = load_dataset(name)"
   ],
   "id": "f555e64a00b5b44b",
   "outputs": [],
   "execution_count": 217
  },
  {
   "metadata": {
    "ExecuteTime": {
     "end_time": "2024-06-17T17:45:08.596753Z",
     "start_time": "2024-06-17T17:44:56.702174Z"
    }
   },
   "cell_type": "code",
   "source": [
    "configure_dataset(\"mteb/amazon_polarity\")\n",
    "configure_dataset(\"mteb/amazon_counterfactual\", \"en\")\n",
    "configure_dataset(\"mteb/quora-retrieval\")\n",
    "configure_dataset(\"mteb/askubuntudupquestions-reranking\")\n",
    "configure_dataset(\"mteb/stackexchange-clustering\")\n",
    "configure_dataset(\"mteb/reddit-clustering-p2p\")\n",
    "configure_dataset(\"mteb/emotion\")\n",
    "configure_dataset(\"mteb/arxiv-clustering-p2p\")\n",
    "configure_dataset(\"mteb/cqadupstack-english\", \"corpus\")\n",
    "print(list(datasets.keys()))"
   ],
   "id": "a3b47a40d97265f8",
   "outputs": [
    {
     "name": "stdout",
     "output_type": "stream",
     "text": [
      "['mteb/amazon_polarity', 'mteb/amazon_counterfactual', 'mteb/quora-retrieval', 'mteb/askubuntudupquestions-reranking', 'mteb/stackexchange-clustering', 'mteb/reddit-clustering-p2p', 'mteb/emotion', 'mteb/arxiv-clustering-p2p', 'mteb/cqadupstack-english']\n"
     ]
    }
   ],
   "execution_count": 218
  },
  {
   "metadata": {
    "ExecuteTime": {
     "end_time": "2024-06-17T17:45:12.771566Z",
     "start_time": "2024-06-17T17:45:09.415901Z"
    }
   },
   "cell_type": "code",
   "source": [
    "corpus = (\n",
    "    datasets[\"mteb/amazon_polarity\"]['train']['text'] +\n",
    "    datasets[\"mteb/amazon_polarity\"]['test']['text'] +\n",
    "    datasets[\"mteb/amazon_counterfactual\"]['train']['text'] +\n",
    "    datasets[\"mteb/amazon_counterfactual\"]['test']['text'] +\n",
    "    datasets[\"mteb/amazon_counterfactual\"]['validation']['text'] +\n",
    "    datasets[\"mteb/askubuntudupquestions-reranking\"]['test']['positive'] +\n",
    "    datasets[\"mteb/askubuntudupquestions-reranking\"]['test']['negative'] +\n",
    "    datasets[\"mteb/reddit-clustering-p2p\"]['test']['sentences'] +\n",
    "    datasets[\"mteb/emotion\"]['train']['text'] +\n",
    "    datasets[\"mteb/emotion\"]['test']['text'] +\n",
    "    datasets[\"mteb/emotion\"]['validation']['text'] +\n",
    "    datasets[\"mteb/arxiv-clustering-p2p\"]['test']['sentences'] +\n",
    "    datasets[\"mteb/cqadupstack-english\"]['corpus']['text']\n",
    ")"
   ],
   "id": "a605cc1756a930d",
   "outputs": [],
   "execution_count": 219
  },
  {
   "metadata": {
    "ExecuteTime": {
     "end_time": "2024-06-17T17:45:19.528801Z",
     "start_time": "2024-06-17T17:45:19.526521Z"
    }
   },
   "cell_type": "code",
   "source": [
    "# Specify the number of results for each search.\n",
    "n_results = 10"
   ],
   "id": "78ef47fde73aae",
   "outputs": [],
   "execution_count": 220
  },
  {
   "metadata": {},
   "cell_type": "markdown",
   "source": "Create Weaviate cluster (no authentication) -- **you need to create this, then come back**!",
   "id": "679bfb5f53931d70"
  },
  {
   "metadata": {
    "ExecuteTime": {
     "end_time": "2024-06-14T17:20:55.386666Z",
     "start_time": "2024-06-14T17:20:52.264800Z"
    }
   },
   "cell_type": "code",
   "source": "WEAVIATE_URL = input(\"Enter your weaviate cluster URL: \")",
   "id": "473be48aa5088ae5",
   "outputs": [],
   "execution_count": 38
  },
  {
   "metadata": {},
   "cell_type": "code",
   "outputs": [],
   "execution_count": 11,
   "source": "OPENAI_API_KEY = input(\"Enter your OpenAI API key: \")",
   "id": "85e2e799b354efb3"
  },
  {
   "metadata": {
    "ExecuteTime": {
     "end_time": "2024-06-14T17:21:09.375053Z",
     "start_time": "2024-06-14T17:21:08.761273Z"
    }
   },
   "cell_type": "code",
   "source": [
    "os.environ['OPENAI_API_KEY'] = OPENAI_API_KEY\n",
    "openai.api_key = OPENAI_API_KEY\n",
    "client = weaviate.Client(\n",
    "    url=WEAVIATE_URL,\n",
    "    additional_headers={\n",
    "        \"X-Openai-Api-Key\": OPENAI_API_KEY,\n",
    "    },\n",
    ")\n",
    "embeddings = OpenAIEmbeddings()"
   ],
   "id": "9bb1f0f92df5cad0",
   "outputs": [
    {
     "name": "stderr",
     "output_type": "stream",
     "text": [
      "/Users/tiernan.lindauer/PycharmProjects/BenchmarkRAG/.venv/lib/python3.10/site-packages/weaviate/warnings.py:162: DeprecationWarning: Dep016: Python client v3 `weaviate.Client(...)` connections and methods are deprecated. Update\n",
      "            your code to use Python client v4 `weaviate.WeaviateClient` connections and methods.\n",
      "\n",
      "            For Python Client v4 usage, see: https://weaviate.io/developers/weaviate/client-libraries/python\n",
      "            For code migration, see: https://weaviate.io/developers/weaviate/client-libraries/python/v3_v4_migration\n",
      "            \n",
      "  warnings.warn(\n"
     ]
    }
   ],
   "execution_count": 39
  },
  {
   "metadata": {
    "ExecuteTime": {
     "end_time": "2024-06-14T21:20:48.480749Z",
     "start_time": "2024-06-14T21:20:48.217161Z"
    }
   },
   "cell_type": "code",
   "source": [
    "weaviate_retriever = WeaviateHybridSearchRetriever(\n",
    "    client=client,\n",
    "    index_name=\"LangChain\",\n",
    "    text_key=\"text\",\n",
    "    attributes=['index'],\n",
    "    create_schema_if_missing=True,\n",
    "    k=n_results,\n",
    ")"
   ],
   "id": "88615fe4d1922936",
   "outputs": [],
   "execution_count": 155
  },
  {
   "metadata": {},
   "cell_type": "code",
   "source": [
    "# ONLY RUN ONCE!\n",
    "docs = []\n",
    "index_val = 0\n",
    "for doc in corpus:\n",
    "    docs.append(Document(\n",
    "        metadata={\n",
    "            \"name\": \"montypython\",\n",
    "            \"date\": time.strftime(\"%m/%d/%Y\"),\n",
    "            \"index\": index_val,\n",
    "        },\n",
    "        page_content=doc\n",
    "    ))\n",
    "    index_val += 1\n",
    "weaviate_retriever.add_documents(docs)\n",
    "# Now let's load Pinecone"
   ],
   "id": "3f0bdf52f20c4756",
   "outputs": [],
   "execution_count": null
  },
  {
   "metadata": {
    "ExecuteTime": {
     "end_time": "2024-06-14T16:55:00.654745Z",
     "start_time": "2024-06-14T16:54:56.984414Z"
    }
   },
   "cell_type": "code",
   "source": [
    "import certifi\n",
    "from pinecone_text.sparse import BM25Encoder\n",
    "\n",
    "os.environ['SSL_CERT_FILE'] = certifi.where()\n",
    "\n",
    "bm25_encoder = BM25Encoder().default()"
   ],
   "id": "14823184e4e7d84a",
   "outputs": [],
   "execution_count": 17
  },
  {
   "metadata": {
    "ExecuteTime": {
     "end_time": "2024-06-14T16:55:02.809338Z",
     "start_time": "2024-06-14T16:55:02.520498Z"
    }
   },
   "cell_type": "code",
   "source": [
    "bm25_encoder.fit(corpus)\n",
    "current_directory = os.getcwd()\n",
    "json_file_path = os.path.join(current_directory, \"bm25_values.json\")"
   ],
   "id": "1fae3a729a6fa267",
   "outputs": [
    {
     "data": {
      "text/plain": [
       "  0%|          | 0/237 [00:00<?, ?it/s]"
      ],
      "application/vnd.jupyter.widget-view+json": {
       "version_major": 2,
       "version_minor": 0,
       "model_id": "6492bdeb77334e18baf7d43f3ae3da48"
      }
     },
     "metadata": {},
     "output_type": "display_data"
    }
   ],
   "execution_count": 18
  },
  {
   "metadata": {
    "ExecuteTime": {
     "end_time": "2024-06-14T16:59:47.403781Z",
     "start_time": "2024-06-14T16:59:40.101170Z"
    }
   },
   "cell_type": "code",
   "source": [
    "from pinecone import Pinecone, ServerlessSpec\n",
    "\n",
    "index_name = \"pinecone-hybrid-search-1\"\n",
    "\n",
    "pc_api_key = input(\"Enter your Pinecone API key: \")\n",
    "# initialize Pinecone client\n",
    "pc = Pinecone(api_key=pc_api_key)\n",
    "\n",
    "# create the index\n",
    "if index_name not in pc.list_indexes().names():\n",
    "    pc.create_index(\n",
    "        name=index_name,\n",
    "        dimension=1536,  # dimensionality of dense model\n",
    "        metric=\"dotproduct\",  # sparse values supported only for dotproduct\n",
    "        spec=ServerlessSpec(cloud=\"aws\", region=\"us-east-1\"),\n",
    "    )\n",
    "\n",
    "    metadatas = []\n",
    "    for i in range(len(corpus)):\n",
    "        metadatas.append({\n",
    "            \"name\": \"montypython\",\n",
    "            \"date\": time.strftime(\"%m/%d/%Y\"),\n",
    "            \"index\": i,\n",
    "        })\n"
   ],
   "id": "2fee39579abaa1fe",
   "outputs": [],
   "execution_count": 20
  },
  {
   "metadata": {
    "ExecuteTime": {
     "end_time": "2024-06-14T17:00:07.555699Z",
     "start_time": "2024-06-14T17:00:07.489600Z"
    }
   },
   "cell_type": "code",
   "source": "index = pc.Index(index_name)",
   "id": "dc6c83167474a35f",
   "outputs": [],
   "execution_count": 22
  },
  {
   "metadata": {
    "ExecuteTime": {
     "end_time": "2024-06-14T21:20:58.510358Z",
     "start_time": "2024-06-14T21:20:58.507383Z"
    }
   },
   "cell_type": "code",
   "source": [
    "from langchain_community.retrievers import PineconeHybridSearchRetriever\n",
    "\n",
    "pinecone_retriever = PineconeHybridSearchRetriever(\n",
    "    embeddings=embeddings, sparse_encoder=bm25_encoder, index=index, top_k=n_results\n",
    ")"
   ],
   "id": "1b179f4ccbed0799",
   "outputs": [],
   "execution_count": 156
  },
  {
   "metadata": {
    "ExecuteTime": {
     "end_time": "2024-06-14T17:05:10.532553Z",
     "start_time": "2024-06-14T17:04:59.156556Z"
    }
   },
   "cell_type": "code",
   "source": "pinecone_retriever.add_texts(corpus, metadatas=metadatas)",
   "id": "43f1f052621824f4",
   "outputs": [
    {
     "data": {
      "text/plain": [
       "  0%|          | 0/8 [00:00<?, ?it/s]"
      ],
      "application/vnd.jupyter.widget-view+json": {
       "version_major": 2,
       "version_minor": 0,
       "model_id": "db0593a4a68b47c88e1e77db32337dae"
      }
     },
     "metadata": {},
     "output_type": "display_data"
    }
   ],
   "execution_count": 27
  },
  {
   "metadata": {},
   "cell_type": "markdown",
   "source": "Pure BM25 implementation setup:",
   "id": "8c2222eb3f783aa0"
  },
  {
   "metadata": {
    "ExecuteTime": {
     "end_time": "2024-06-17T15:56:30.986054Z",
     "start_time": "2024-06-17T15:56:30.981562Z"
    }
   },
   "cell_type": "code",
   "source": [
    "from rank_bm25 import BM25Okapi\n",
    "from sklearn.feature_extraction.text import CountVectorizer"
   ],
   "id": "a9e03cb86a04dbe1",
   "outputs": [],
   "execution_count": 176
  },
  {
   "metadata": {
    "ExecuteTime": {
     "end_time": "2024-06-17T15:58:00.834565Z",
     "start_time": "2024-06-17T15:58:00.815068Z"
    }
   },
   "cell_type": "code",
   "source": [
    "# Tokenize the corpus\n",
    "tokenized_corpus = [doc.split(\" \") for doc in corpus]\n",
    "\n",
    "# Initialize the BM25 model\n",
    "bm25 = BM25Okapi(tokenized_corpus)"
   ],
   "id": "7a3b79a1d4bc8080",
   "outputs": [],
   "execution_count": 180
  },
  {
   "metadata": {
    "ExecuteTime": {
     "end_time": "2024-06-17T16:05:48.207608Z",
     "start_time": "2024-06-17T16:05:48.205197Z"
    }
   },
   "cell_type": "code",
   "source": [
    "def bm25_query(text: str, k: int = 5):\n",
    "    \"\"\"\n",
    "    Perform a BM25 query and return the top k document texts and their indices.\n",
    "    \n",
    "    Parameters:\n",
    "        text (str): The query text.\n",
    "        k (int): The number of top documents to return.\n",
    "    \n",
    "    Returns:\n",
    "        List[Tuple[int, str]]: A list of tuples where each tuple contains the index and text of a top document.\n",
    "    \"\"\"\n",
    "    tokenized_query = text.split(\" \")\n",
    "    doc_scores = bm25.get_scores(tokenized_query)\n",
    "    top_k_indices = doc_scores.argsort()[-k:][::-1]\n",
    "    top_k_docs = [(index, corpus[index]) for index in top_k_indices]\n",
    "    return top_k_docs"
   ],
   "id": "42a477be33ad0fa4",
   "outputs": [],
   "execution_count": 186
  },
  {
   "metadata": {},
   "cell_type": "markdown",
   "source": "Let's run an example query to compare the results of Weaviate/Pinecone to the perfect K-Nearest-Neighbors (KNN) search later.",
   "id": "2a228ddb69db51b3"
  },
  {
   "metadata": {
    "ExecuteTime": {
     "end_time": "2024-06-14T17:06:05.704434Z",
     "start_time": "2024-06-14T17:06:05.701647Z"
    }
   },
   "cell_type": "code",
   "source": "question = \"Who is the director of \\\"Monty Python and the Holy Grail\\\"?\"",
   "id": "d1ac8accdf0ec504",
   "outputs": [],
   "execution_count": 28
  },
  {
   "metadata": {
    "ExecuteTime": {
     "end_time": "2024-06-17T16:09:37.563510Z",
     "start_time": "2024-06-17T16:09:36.876575Z"
    }
   },
   "cell_type": "code",
   "source": [
    "print(\"Weaviate results:\")\n",
    "weaviate_results = weaviate_retriever.invoke(question, score=True)\n",
    "weaviate_indices = [result.metadata['index'] for result in weaviate_results]\n",
    "print(\"    Metadata: \", weaviate_indices)\n",
    "print(\"Pinecone results:\")\n",
    "pinecone_results = pinecone_retriever.invoke(question, score=True)\n",
    "pinecone_indices = [int(result.metadata['index']) for result in pinecone_results]\n",
    "print(\"    Metadata: \", pinecone_indices)\n",
    "print(\"BM25 results:\")\n",
    "bm25_results = bm25_query(question, k=n_results)\n",
    "bm25_indices = [index for index, _ in bm25_results]\n",
    "print(\"    Indices: \", bm25_indices)"
   ],
   "id": "efdc3cadbc7b7e0d",
   "outputs": [
    {
     "name": "stdout",
     "output_type": "stream",
     "text": [
      "Weaviate results:\n",
      "    Metadata:  [2, 16, 0, 1, 15, 3, 185, 12, 108, 66]\n",
      "Pinecone results:\n",
      "    Metadata:  [0, 1, 2, 15, 16, 3, 202, 65, 231, 108]\n",
      "BM25 results:\n",
      "    Indices:  [236, 73, 85, 84, 83, 82, 81, 80, 79, 78]\n"
     ]
    }
   ],
   "execution_count": 198
  },
  {
   "metadata": {},
   "cell_type": "markdown",
   "source": "## Step 2: Process the Perfect K-Nearest-Neighbors (KNN) Search ",
   "id": "9be251a1c5f0267f"
  },
  {
   "metadata": {
    "ExecuteTime": {
     "end_time": "2024-06-17T16:09:38.093683Z",
     "start_time": "2024-06-17T16:09:38.092033Z"
    }
   },
   "cell_type": "code",
   "source": "from sklearn.neighbors import NearestNeighbors",
   "id": "2932cfd29cc715fe",
   "outputs": [],
   "execution_count": 199
  },
  {
   "metadata": {
    "ExecuteTime": {
     "end_time": "2024-06-17T16:09:58.177599Z",
     "start_time": "2024-06-17T16:09:38.673983Z"
    }
   },
   "cell_type": "code",
   "source": [
    "def embed_texts(texts):\n",
    "    return embeddings.embed_documents(texts)\n",
    "\n",
    "\n",
    "corpus_embeddings = embed_texts(corpus)\n",
    "\n",
    "# Use KNN to find the closest 5 documents\n",
    "knn = NearestNeighbors(n_neighbors=n_results, metric='cosine').fit(corpus_embeddings)"
   ],
   "id": "acc82a4113c67f8d",
   "outputs": [],
   "execution_count": 200
  },
  {
   "metadata": {
    "ExecuteTime": {
     "end_time": "2024-06-17T16:09:58.298150Z",
     "start_time": "2024-06-17T16:09:58.178842Z"
    }
   },
   "cell_type": "code",
   "source": [
    "distances, knn_indices = knn.kneighbors([embeddings.embed_query(question)])\n",
    "knn_indices = knn_indices[0]\n",
    "print(\"KNN results:\")\n",
    "print(\"    Indices: \", knn_indices)"
   ],
   "id": "4e35bcf265c6384d",
   "outputs": [
    {
     "name": "stdout",
     "output_type": "stream",
     "text": [
      "KNN results:\n",
      "    Indices:  [  2   0  16   1  15  66 232  64 231 108]\n"
     ]
    }
   ],
   "execution_count": 201
  },
  {
   "metadata": {
    "ExecuteTime": {
     "end_time": "2024-06-17T16:09:58.323897Z",
     "start_time": "2024-06-17T16:09:58.310785Z"
    }
   },
   "cell_type": "code",
   "source": [
    "import numpy as np\n",
    "from scipy.stats import kendalltau\n",
    "\n",
    "\n",
    "def dcg(relevances, k):\n",
    "    relevances = np.array(relevances)[:k]\n",
    "    if relevances.size:\n",
    "        return np.sum((2 ** relevances - 1) / np.log2(np.arange(2, relevances.size + 2)))\n",
    "    return 0.0\n",
    "\n",
    "\n",
    "def ndcg(relevances, k):\n",
    "    ideal_relevances = sorted(relevances, reverse=True)\n",
    "    return dcg(relevances, k) / dcg(ideal_relevances, k) if dcg(ideal_relevances, k) > 0 else 0.0\n",
    "\n",
    "\n",
    "def get_result_stats(retrieved_docs, ground_truth, k):\n",
    "    precisions = []\n",
    "    recalls = []\n",
    "    f1_scores = []\n",
    "\n",
    "    for retrieved, relevant in zip(retrieved_docs, ground_truth):\n",
    "        # Ensure relevant is a list\n",
    "        relevant = set(relevant)\n",
    "\n",
    "        # Calculate true positives\n",
    "        retrieved_set = set(retrieved[:k])\n",
    "        true_positives = len(retrieved_set & relevant)\n",
    "\n",
    "        # Calculate Precision\n",
    "        precision = true_positives / len(retrieved_set) if len(retrieved_set) > 0 else 0\n",
    "        precisions.append(precision)\n",
    "\n",
    "        # Calculate Recall\n",
    "        recall = true_positives / len(relevant) if len(relevant) > 0 else 0\n",
    "        recalls.append(recall)\n",
    "\n",
    "        # Calculate F1 Score\n",
    "        if precision + recall > 0:\n",
    "            f1_score = 2 * (precision * recall) / (precision + recall)\n",
    "        else:\n",
    "            f1_score = 0\n",
    "        f1_scores.append(f1_score)\n",
    "\n",
    "    avg_precision = np.mean(precisions)\n",
    "    avg_recall = np.mean(recalls)\n",
    "    avg_f1 = np.mean(f1_scores)\n",
    "\n",
    "    mrr = []\n",
    "    ndcg_scores = []\n",
    "\n",
    "    for retrieved, relevant in zip(retrieved_docs, ground_truth):\n",
    "        # Create relevance scores\n",
    "        relevances = [1 if doc in relevant else 0 for doc in retrieved]\n",
    "\n",
    "        # Calculate MRR\n",
    "        reciprocal_rank = 0\n",
    "        for i, rel in enumerate(relevances):\n",
    "            if rel == 1:\n",
    "                reciprocal_rank = 1 / (i + 1)\n",
    "                break\n",
    "        mrr.append(reciprocal_rank)\n",
    "\n",
    "        # Calculate nDCG\n",
    "        ndcg_score = ndcg(relevances, k)\n",
    "        ndcg_scores.append(ndcg_score)\n",
    "\n",
    "    avg_mrr = np.mean(mrr)\n",
    "    avg_ndcg = np.mean(ndcg_scores)\n",
    "\n",
    "    return {\n",
    "        'Precision': avg_precision,\n",
    "        'Recall': avg_recall,\n",
    "        'F1-Score': avg_f1,\n",
    "        'MRR': avg_mrr,\n",
    "        'nDCG': avg_ndcg,\n",
    "    }"
   ],
   "id": "c66928dc7660d8f1",
   "outputs": [],
   "execution_count": 202
  },
  {
   "metadata": {},
   "cell_type": "markdown",
   "source": "Evaluate the results of the example query above.",
   "id": "748c6ec3e8239ac6"
  },
  {
   "metadata": {
    "ExecuteTime": {
     "end_time": "2024-06-17T16:09:58.569266Z",
     "start_time": "2024-06-17T16:09:58.566828Z"
    }
   },
   "cell_type": "code",
   "source": [
    "print(\"Weaviate results:\", get_result_stats([weaviate_indices], [knn_indices], n_results))\n",
    "print(\"Pinecone results: \", get_result_stats([pinecone_indices], [knn_indices], n_results))\n",
    "print(\"BM25 results: \", get_result_stats([bm25_indices], [knn_indices], n_results))"
   ],
   "id": "1b22f914c9dd4bdd",
   "outputs": [
    {
     "name": "stdout",
     "output_type": "stream",
     "text": [
      "Weaviate results: {'Precision': 0.7, 'Recall': 0.7, 'F1-Score': 0.7, 'MRR': 1.0, 'nDCG': 0.972664731083356}\n",
      "Pinecone results:  {'Precision': 0.7, 'Recall': 0.7, 'F1-Score': 0.7, 'MRR': 1.0, 'nDCG': 0.972664731083356}\n",
      "BM25 results:  {'Precision': 0.0, 'Recall': 0.0, 'F1-Score': 0.0, 'MRR': 0.0, 'nDCG': 0.0}\n"
     ]
    }
   ],
   "execution_count": 203
  },
  {
   "metadata": {},
   "cell_type": "markdown",
   "source": "## Step 3: Setup ColBERT through AstraDB",
   "id": "af3b4a13942b9c55"
  },
  {
   "metadata": {
    "ExecuteTime": {
     "end_time": "2024-06-17T15:15:56.821997Z",
     "start_time": "2024-06-17T15:15:56.819304Z"
    }
   },
   "cell_type": "code",
   "source": [
    "import time\n",
    "from langchain.text_splitter import RecursiveCharacterTextSplitter\n",
    "from ragstack_colbert import CassandraDatabase, ColbertEmbeddingModel, ColbertVectorStore, ColbertRetriever"
   ],
   "id": "f98e77714e82a2f6",
   "outputs": [],
   "execution_count": 169
  },
  {
   "metadata": {
    "ExecuteTime": {
     "end_time": "2024-06-14T19:39:39.929516Z",
     "start_time": "2024-06-14T19:39:38.845561Z"
    }
   },
   "cell_type": "code",
   "source": "astra_database_id = input(\"Enter your AstraDB database ID: \")",
   "id": "719a95c9f112d952",
   "outputs": [],
   "execution_count": 102
  },
  {
   "metadata": {
    "ExecuteTime": {
     "end_time": "2024-06-14T19:39:59.745792Z",
     "start_time": "2024-06-14T19:39:58.002551Z"
    }
   },
   "cell_type": "code",
   "source": "astra_token = input(\"Enter your AstraDB token: \")",
   "id": "755360a139d8161e",
   "outputs": [],
   "execution_count": 103
  },
  {
   "metadata": {
    "ExecuteTime": {
     "end_time": "2024-06-17T15:15:35.205216Z",
     "start_time": "2024-06-17T15:15:29.319686Z"
    }
   },
   "cell_type": "code",
   "source": [
    "keyspace = \"benchmarking\"\n",
    "database = CassandraDatabase.from_astra(astra_token=astra_token, database_id=astra_database_id, keyspace=keyspace)\n",
    "embedding_model = ColbertEmbeddingModel()\n",
    "vector_store = ColbertVectorStore(database=database, embedding_model=embedding_model)"
   ],
   "id": "861b53c3a325097f",
   "outputs": [
    {
     "name": "stderr",
     "output_type": "stream",
     "text": [
      "WARNING:cassandra.cluster:Downgrading core protocol version from 66 to 65 for b83877d6-20f6-4695-a216-b2d1931f8540-us-east-2.db.astra.datastax.com:29042:678e6a1d-e5b1-3cba-b949-7bfaf823957f. To avoid this, it is best practice to explicitly set Cluster(protocol_version) to the version supported by your cluster. http://datastax.github.io/python-driver/api/cassandra/cluster.html#cassandra.cluster.Cluster.protocol_version\n",
      "WARNING:cassandra.cluster:Downgrading core protocol version from 65 to 5 for b83877d6-20f6-4695-a216-b2d1931f8540-us-east-2.db.astra.datastax.com:29042:678e6a1d-e5b1-3cba-b949-7bfaf823957f. To avoid this, it is best practice to explicitly set Cluster(protocol_version) to the version supported by your cluster. http://datastax.github.io/python-driver/api/cassandra/cluster.html#cassandra.cluster.Cluster.protocol_version\n",
      "WARNING:cassandra.cluster:Downgrading core protocol version from 5 to 4 for b83877d6-20f6-4695-a216-b2d1931f8540-us-east-2.db.astra.datastax.com:29042:678e6a1d-e5b1-3cba-b949-7bfaf823957f. To avoid this, it is best practice to explicitly set Cluster(protocol_version) to the version supported by your cluster. http://datastax.github.io/python-driver/api/cassandra/cluster.html#cassandra.cluster.Cluster.protocol_version\n",
      "WARNING:cassandra.cluster:Found multiple hosts with the same endpoint (b83877d6-20f6-4695-a216-b2d1931f8540-us-east-2.db.astra.datastax.com:29042:678e6a1d-e5b1-3cba-b949-7bfaf823957f). Excluding peer 10.0.0.4\n"
     ]
    }
   ],
   "execution_count": 167
  },
  {
   "metadata": {
    "ExecuteTime": {
     "end_time": "2024-06-17T15:42:26.270453Z",
     "start_time": "2024-06-17T15:15:59.438627Z"
    }
   },
   "cell_type": "code",
   "source": [
    "def store_in_astra(chunks):\n",
    "    metadatas = []\n",
    "    for i in range(len(chunks)):\n",
    "        metadatas.append({\"name\": \"montypython\", \"date\": time.strftime(\"%m/%d/%Y\"), 'index': i})\n",
    "    vector_store.add_texts(texts=chunks, metadatas=metadatas, doc_id=\"benchmarking\")\n",
    "\n",
    "\n",
    "store_in_astra(corpus)"
   ],
   "id": "5b9354feb4177a98",
   "outputs": [],
   "execution_count": 170
  },
  {
   "metadata": {
    "ExecuteTime": {
     "end_time": "2024-06-17T15:45:49.111840Z",
     "start_time": "2024-06-17T15:45:49.098261Z"
    }
   },
   "cell_type": "code",
   "source": "colbert_retriever = ColbertRetriever(embedding_model=embedding_model, database=database)",
   "id": "eefcfad08f9e0642",
   "outputs": [],
   "execution_count": 171
  },
  {
   "metadata": {
    "ExecuteTime": {
     "end_time": "2024-06-17T15:45:50.110803Z",
     "start_time": "2024-06-17T15:45:50.107792Z"
    }
   },
   "cell_type": "code",
   "source": [
    "def get_astra_results(query, k=5):\n",
    "    results = colbert_retriever.text_search(query, k=k)\n",
    "    return results"
   ],
   "id": "214c886fdbfcd4d0",
   "outputs": [],
   "execution_count": 172
  },
  {
   "metadata": {
    "ExecuteTime": {
     "end_time": "2024-06-17T15:45:52.811825Z",
     "start_time": "2024-06-17T15:45:50.850467Z"
    }
   },
   "cell_type": "code",
   "source": [
    "print(\"ColBERT results:\")\n",
    "print(get_astra_results(question, k=n_results))"
   ],
   "id": "692509d1ad683ff6",
   "outputs": [
    {
     "name": "stdout",
     "output_type": "stream",
     "text": [
      "ColBERT results:\n",
      "\n",
      "#> QueryTokenizer.tensorize(batch_text[0], batch_background[0], bsize) ==\n",
      "#> Input: . Who is the director of \"Monty Python and the Holy Grail\"?, \t\t True, \t\t None\n",
      "#> Output IDs: torch.Size([18]), tensor([  101,     1,  2040,  2003,  1996,  2472,  1997,  1000, 18446, 18750,\n",
      "         1998,  1996,  4151, 24665, 12502,  1000,  1029,   102])\n",
      "#> Output Mask: torch.Size([18]), tensor([1, 1, 1, 1, 1, 1, 1, 1, 1, 1, 1, 1, 1, 1, 1, 1, 1, 1])\n",
      "\n",
      "[(Chunk(doc_id='benchmarking', chunk_id=15, text='EARL J. LLAMA\\n\\n                           MIKE Q. LLAMA III\\n\\n                                SY LLAMA\\n\\n                            MERLE Z. LLAMA IX\\n\\nTITLE OUT:\\n\\n TITLE IN:\\n\\n                              Directed by\\n\\n                          40 SPECIALLY TRAINED\\n\\n                        ECUADORIAN MOUNTAIN LLAMAS\\n\\n                         6 VENEZUELAN RED LLAMAS\\n\\n                       142 MEXICAN WHOOPING LLAMAS\\n\\n                        14 NORTH CHILEAN GUANACOS\\n\\n                      (CLOSELY RELATED TO THE LLAMA)\\n\\n                          REG LLAMA OF BRIXTON\\n\\n                          76000 BATTERY LLAMAS\\n\\n                FROM \"LLAMA-FRESH\" FARMS LTD. NEAR PARAGUAY\\n\\n                                   and\\n\\n                        TERRY GILLIAM AND TERRY JONES\\n\\nFADE OUT:\\n\\n\\n\\n-------------------------------------------------------------------------------\\n\\n                       \"Monty Python and the Holy Grail\"', metadata={'date': '06/17/2024', 'index': '15.0', 'name': 'montypython'}, embedding=None), 11.59561574459076), (Chunk(doc_id='benchmarking', chunk_id=2, text='Enough of this...\\n\\n\\n-Grue (09-Aug-92)\\n\\n\\nP.S. TO AHH:  DON\\'T YOU KNOW WHO CONNIE BOOTH OR CAROL CLEVELAND IS?!?!?!\\nAND DON\\'T YOU KNOW WHAT GRAHAM CHAPMAN SOUNDS LIKE?!?!?! Sorry I just had to\\nsay that... As the complete and total bastard that I am.\\n-------------------------------------------------------------------------------\\n\\n\\n                                MONTY PYTHON\\n\\n                             AND THE HOLY GRAIL\\n\\n\\n\\n       Screenplay by\\n\\n\\n         JOHN CLEESE\\n         GRAHAM CHAPMAN\\n         TERRY GILLIAM\\n         ERIC IDLE\\n         TERRY JONES\\n         MICHAEL PALIN\\n\\n\\n\\n\\n\\n\\n \\n\\n                                                           FINAL DRAFT 20.3.74.\\n\\n\\n\\n-------------------------------------------------------------------------------\\n\\n      \"MONTY PYTHON AND THE HOLY GRAIL\"        Reel 1 (1A) Page 1\\n\\n       00.01 is the first action frame\\n\\n       which is 391.00 before the first\\n\\n       Clear Cut, which is Scene 4\\n\\n\\n\\n        Sc                                   Spot', metadata={'date': '06/17/2024', 'index': '2.0', 'name': 'montypython'}, embedding=None), 10.529114723205566), (Chunk(doc_id='benchmarking', chunk_id=0, text='Please Read This Bit Before Reading The Screenplay:\\n\\n\\n\\n  This is the official \\'Unoffical\\' Monty Python And The Holy Grail screenplay.\\nThis file contains the script as it was on March 20 1974, before filming took\\nplace.  There are many minor differences from what appears here and what\\nended up on the screen.  <I.E. A paraphrased word or two or another\\ncharacter used a line... But generally in minor lines like \\'LOOK!\\'>\\nThis file also contains cut scenes and lines from the film.\\n\\n\\n  I tried to preserve as much of the screenplay as possible but it isn\\'t\\neasy to cross out a section and pencil in new dialogue, in ASCII.\\nAny Scene or dialogue that was crossed out begins with a \"|\" before it.\\nAnything Penciled in has a \"+\", I also put cut information before penciled in.', metadata={'date': '06/17/2024', 'index': '0.0', 'name': 'montypython'}, embedding=None), 9.988898992538452), (Chunk(doc_id='benchmarking', chunk_id=3, text='00.01 is the first action frame\\n\\n       which is 391.00 before the first\\n\\n       Clear Cut, which is Scene 4\\n\\n\\n\\n        Sc                                   Spot\\n\\n        No.     Complete DIALOGUE            No.    Start   End   Ftge.\\n\\n        -------------------------            --------------------------\\n\\n        1       FADE IN:\\n\\n        Starts\\n\\n        00.01   TITLES ON BLACK B.G.\\n\\n\\n\\n                         PYTHON (MONTY) PICTURES LTD\\n\\n                             in association with\\n\\n                                MICHAEL WHITE\\n\\n                                  presents\\n\\n\\n\\nFADE OUT:\\n\\n FADE IN: MUSIC STARTS\\n\\n\\n\\n                                 MONTY PYTHON\\n\\n                                     and\\n\\n                                THE HOLY GRAIL\\n\\nthen:\\n\\n                      M0nti Pyth0n ik den H0lie Gralen\\n\\n\\n\\nFADE OUT:\\n\\n FADE IN:\\n\\n\\n\\n                           Written and preformed by:\\n\\n                             GRAHAM CHAPMAN\\n\\n                             JOHN CLEESE', metadata={'date': '06/17/2024', 'index': '3.0', 'name': 'montypython'}, embedding=None), 9.45502856373787), (Chunk(doc_id='benchmarking', chunk_id=16, text='FADE OUT:\\n\\n\\n\\n-------------------------------------------------------------------------------\\n\\n                       \"Monty Python and the Holy Grail\"\\n\\n                         ~~~~~~~~~~~~~~~~~~~~~~~~~~~~~~~\\n\\n\\n\\n1  EXTERIOR - CASTLE WALLS - DAY\\n\\n\\n\\n   Mist.  Several seconds of it swirling about.  silence\\n\\n   possibly, atmospheric music.  SUPERIMPOSE \"England AD 787\".\\n\\n   after a few more seconds we hear hoofbeats in the distance.\\n\\n   They come slowly closer.  Then out of the mist comes KING ARTHUR\\n\\n   followed by a SERVANT who is banging two half coconuts\\n\\n   together.   ARTHUR raises his hand.\\n\\n\\n\\n                              ARTHUR\\n\\n       Whoa there!\\n\\n\\n\\n   SERVANT makes noises of horses halting, with a flourish.  ARTHUR\\n\\n   peers through the mist.  CUT TO shot from over his shoulder:\\n\\n   castle (e.g. Bodium) rising out of the mist.  On the castle\\n\\n   battlements a SOLDIER is dimly seen.  He peers down.\\n\\n\\n\\n                               SOLDIER\\n\\n       Halt!  Who goes there?', metadata={'date': '06/17/2024', 'index': '16.0', 'name': 'montypython'}, embedding=None), 8.642832636833191), (Chunk(doc_id='benchmarking', chunk_id=1, text='What is interesting about a screenplay is to see what they threw out and\\nwhat \"Catch Phrases\" were literally penciled in.  The reason I keyed in\\nthis file was caused by me downloading current transcript going\\naround internet.  It was an amazing job... I wouldn\\'t want to have attempted\\nwhat he did... But it wasn\\'t in a good script format and I didn\\'t like how\\ndirection was written in. Since I HAD the real screenplay I thought...\\nWhat the hell!\\n\\n\\n  After This I plan to key in \"Monty Python\\'s Second Film\" it is the 1st draft\\nof the Holy Grail. It is the script that eventually got canabalized into\\nsketches for the 4th season of Python.  It Is sill quite different and well\\nworth a read. is anybody interested in it?????\\n\\n\\n  Oh yes... I will STRESS this fact once more... THIS IS A SCREENPLAY... So\\ndon\\'t yell at me if a line is paraphrased in the film... This is what was\\nwritten before filming took place and it is still quite accurate.\\n\\n\\nEnough of this...\\n\\n\\n-Grue (09-Aug-92)', metadata={'date': '06/17/2024', 'index': '1.0', 'name': 'montypython'}, embedding=None), 8.055764079093933), (Chunk(doc_id='benchmarking', chunk_id=235, text=\"RITA DAVIES PLAYED:           THE HISTORIAN WHO ISN'T A.J.P. TAYLOR\\n\\n                                (HONESTLY)'S WIFE\\n\\n\\n\\n  SALLY KINGHORN PLAYED:        EITHER WINSTON OR PIGLET\\n\\n\\n\\n  AVRIL STEWART PLAYED:         EITHER PIGLET OR WINSTON\\n\\n\\n\\n-------------------------------------------------------------------------------\\n\\nPYTHON (MONTY) PICTURES LTD\\n\\n Registered Address: 20 Fitzroy Square, London W1P6BB\\n\\n Registerd Number 1138069 England\\n\\n\\n\\n                                                               August 5th, 1974.\\n\\nDear Mike,\\n\\n\\n\\nThe Censor's representative, Tony Kerpel, came along to Friday's\\n\\nscreening at Twinkenham and he gave up his opinion of the film's\\n\\nprobale certificate.\\n\\n\\n\\nHe thinks the film will be AA, but it would be possible, given\\n\\nsome dialogue cuts, to make the film an A rating, which would\\n\\nincrease the audience.  (AA is 14 and over, and A is 5-14).\\n\\n\\n\\nFor an 'A' we would have to:\\n\\n\\n\\n           Lose as may shits as possible\", metadata={'date': '06/17/2024', 'index': '235.0', 'name': 'montypython'}, embedding=None), 8.050760686397552), (Chunk(doc_id='benchmarking', chunk_id=12, text='responsible for sacking the people who have just been sacked\\n\\n                          have been sacked.\\n\\nFADE OUT:\\n\\n FADE IN:\\n\\n            Production Manager        JULLIAN DOYLE\\n\\n            Assistant Director        GERRY HARRISON\\n\\n               Special Effects        JOHN HORTON\\n\\n                  Choreography\\n\\n              Fight Director &\\n\\n             Period Consultant        JOHN WALKER\\n\\n               Make-up Artists        PEARL RASHBASS, PAM LUKE\\n\\n                   Photography        JULLIAN DOYLE\\n\\n          Animation Assistance        LUCINDA COWELL, KATE HEPBURN\\n\\n              M00se Trained by        TUTTE HERMSGERV0RDENBR0TB0RDA\\n\\nDISSOLVE TO:\\n\\n              Lighting Cameraman       TERRY BEDFORD\\n\\n          Special M00se Effects       OLAF PROT\\n\\n                 M00se Costumes       SIGGI CHURCHILL\\n\\nDISSOLVE TO:\\n\\n                       Designer       ROY SMITH\\n\\n         M00se Choreographed by       HORST PROT III', metadata={'date': '06/17/2024', 'index': '12.0', 'name': 'montypython'}, embedding=None), 7.804622203111649), (Chunk(doc_id='benchmarking', chunk_id=67, text=\"Table.  Whose castle is this?\\n\\n\\n\\n                               MAN\\n\\n       This is the castle of of my master, Guy de Loimbard.\\n\\n\\n\\n                               ARTHUR\\n\\n       Please go and tell your master that we have been charged by God\\n\\n       with a sacred quest,  and if he will give us food and shelter for\\n\\n       this night he can join us in our quest for the Holy Grail.\\n\\n\\n\\n                               MAN\\n\\n       Well, I'll ask him, but I don't think he'll be very keen.\\n\\n       He's already got one, you see?\\n\\n\\n\\n                               ARTHUR\\n\\n       What?\\n\\n\\n\\n                               GALAHAD\\n\\n       He says they've already got one!\\n\\n\\n\\n   They are stunned.\\n\\n\\n\\n                               ARTHUR\\n\\n       Are you sure he's got one?\\n\\n\\n\\n                               MAN\\n\\n       Oh yes.  It's very nice\\n\\n+\\n\\n+  CUT TO BATTLEMENTS. THE TAUNTER (MAN) turns to some others.\\n\\n+\\n\\n+                              MAN\\n\\n+      I told him we already got one.\\n\\n+\", metadata={'date': '06/17/2024', 'index': '67.0', 'name': 'montypython'}, embedding=None), 7.562359064817429), (Chunk(doc_id='benchmarking', chunk_id=9, text=\"Thompson, Sue Cable, Valerie Charlton, Drew Mara,\\n\\n           Sue Smith, Charlie Coulter, Iain Monaghan, Steve\\n\\n           Bennell, Bernard Belenger, Alpini McAlpine, Hugh\\n\\n           Boyle, Dave Taylor, Garry Cooper, Peter Saunders, Less\\n\\n           Sheppard, Vaughn Millard, Mamish MacInnes, Terry Mosaic,\\n\\n           Bawn O'Beirne Ranelagh.\\n\\n\\n\\n           Made entirely on location in Scotland at Doune Castle,\\n\\n           Castle Stalker, Killin, Glen Coe, Arnhall Castle,\\n\\n           Braklim falls, Sherroffmiur.\\n\\n\\n\\n           By Python (Monty) Pictures Ltd., 20, Fitzroy Square,\\n\\n           London W1 England.\\n\\n            And completed at Twickenham Film Studios, England.\\n\\n\\n\\n           Copyright (c) 1974 National Film Trustee Company Lt.\\n\\n                            All Rights Reserved.\\n\\nthen:\\n\\n     The producers would like to thank the Forestry Commission\\n\\n     Doune Admissions Ltd, Keir and Cawdor Estates, Stirling\", metadata={'date': '06/17/2024', 'index': '9.0', 'name': 'montypython'}, embedding=None), 7.537074029445648)]\n"
     ]
    }
   ],
   "execution_count": 173
  },
  {
   "metadata": {
    "ExecuteTime": {
     "end_time": "2024-06-17T15:45:57.811109Z",
     "start_time": "2024-06-17T15:45:57.808608Z"
    }
   },
   "cell_type": "code",
   "source": [
    "from tqdm import tqdm\n",
    "from time import time"
   ],
   "id": "8cbf28d4f5faf3a2",
   "outputs": [],
   "execution_count": 174
  },
  {
   "metadata": {
    "ExecuteTime": {
     "end_time": "2024-06-17T16:20:41.105195Z",
     "start_time": "2024-06-17T16:16:41.428002Z"
    }
   },
   "cell_type": "code",
   "source": [
    "all_knn_indices = []\n",
    "all_weaviate_indices = []\n",
    "all_pinecone_indices = []\n",
    "all_colbert_indices = []\n",
    "all_bm25_indices = []\n",
    "\n",
    "weaviate_latencies = []\n",
    "pinecone_latencies = []\n",
    "colbert_latencies = []\n",
    "bm25_latencies = []\n",
    "\n",
    "with open('dataset/queries/holy_grail_result.txt', 'r') as f:\n",
    "    for line in tqdm(f.readlines()):\n",
    "        line = line.strip()\n",
    "\n",
    "        start = time()\n",
    "        weaviate_results = weaviate_retriever.invoke(line)\n",
    "        end = time()\n",
    "        weaviate_latencies.append(end - start)\n",
    "        weaviate_indices = [result.metadata['index'] for result in weaviate_results]\n",
    "        all_weaviate_indices.append(weaviate_indices)\n",
    "\n",
    "        start = time()\n",
    "        pinecone_results = pinecone_retriever.invoke(line)\n",
    "        end = time()\n",
    "        pinecone_latencies.append(end - start)\n",
    "        pinecone_indices = [int(result.metadata['index']) for result in pinecone_results]\n",
    "        all_pinecone_indices.append(pinecone_indices)\n",
    "\n",
    "        start = time()\n",
    "        colbert_results = get_astra_results(line)\n",
    "        end = time()\n",
    "        colbert_indices = [int(float(result[0].metadata['index'])) for result in colbert_results]\n",
    "        colbert_latencies.append(end - start)\n",
    "        all_colbert_indices.append(colbert_indices)\n",
    "        \n",
    "        start = time()\n",
    "        bm25_results = bm25_query(line, k=n_results)\n",
    "        end = time()\n",
    "        bm25_indices = [index for index, _ in bm25_results]\n",
    "        bm25_latencies.append(end - start)\n",
    "        all_bm25_indices.append(bm25_indices)\n",
    "\n",
    "        distances, knn_indices = knn.kneighbors([embeddings.embed_query(line)])\n",
    "        knn_indices = knn_indices[0]\n",
    "        all_knn_indices.append(knn_indices)"
   ],
   "id": "6a68aefc93952dec",
   "outputs": [
    {
     "name": "stderr",
     "output_type": "stream",
     "text": [
      "100%|██████████| 100/100 [03:59<00:00,  2.40s/it]\n"
     ]
    }
   ],
   "execution_count": 215
  },
  {
   "metadata": {
    "ExecuteTime": {
     "end_time": "2024-06-17T16:20:41.179709Z",
     "start_time": "2024-06-17T16:20:41.140767Z"
    }
   },
   "cell_type": "code",
   "source": [
    "weaviate_stats = get_result_stats(all_weaviate_indices, all_knn_indices, n_results)\n",
    "pinecone_stats = get_result_stats(all_pinecone_indices, all_knn_indices, n_results)\n",
    "colbert_stats = get_result_stats(all_colbert_indices, all_knn_indices, n_results)\n",
    "bm25_stats = get_result_stats(all_bm25_indices, all_knn_indices, n_results)"
   ],
   "id": "4fd745232cc88753",
   "outputs": [],
   "execution_count": 216
  },
  {
   "metadata": {
    "ExecuteTime": {
     "end_time": "2024-06-17T16:16:00.159601Z",
     "start_time": "2024-06-17T16:16:00.150851Z"
    }
   },
   "cell_type": "code",
   "source": [
    "from rich.text import Text\n",
    "import rich\n",
    "from rich.console import Console\n",
    "\n",
    "console = Console()\n",
    "\n",
    "# Print a table of the results (Weaviate, Pinecone, ColBERT vs the different stats)\n",
    "table = rich.table.Table(title=\"Retrieval Results @k={}\".format(n_results), show_edge=False)\n",
    "table.add_column(\"Metric\", style=\"cyan\")\n",
    "table.add_column(\"Weaviate\", style=\"magenta\")\n",
    "table.add_column(\"Pinecone\", style=\"green\")\n",
    "table.add_column(\"AstraDB + ColBERT\", style=\"blue\")\n",
    "table.add_column(\"BM25\", style=\"yellow\")\n",
    "\n",
    "\n",
    "def format_cell(value, is_max=True):\n",
    "    text = Text(str(value))\n",
    "    if is_max:\n",
    "        text.stylize(\"bold underline\")\n",
    "    return text\n",
    "\n",
    "\n",
    "# Add stats to table with formatting\n",
    "for metric in weaviate_stats:\n",
    "    values = [\n",
    "        weaviate_stats[metric],\n",
    "        pinecone_stats[metric],\n",
    "        colbert_stats[metric],\n",
    "        bm25_stats[metric],\n",
    "    ]\n",
    "    max_value = max(values)\n",
    "    formatted_values = [\n",
    "        format_cell(value, is_max=(value == max_value)) for value in values\n",
    "    ]\n",
    "    table.add_row(metric, *formatted_values)\n",
    "\n",
    "# Calculate average latencies and add them to the table\n",
    "avg_weaviate_latency = sum(weaviate_latencies) / len(weaviate_latencies)\n",
    "avg_pinecone_latency = sum(pinecone_latencies) / len(pinecone_latencies)\n",
    "avg_colbert_latency = sum(colbert_latencies) / len(colbert_latencies)\n",
    "avg_bm25_latency = sum(bm25_latencies) / len(bm25_latencies)\n",
    "\n",
    "latencies = [avg_weaviate_latency, avg_pinecone_latency, avg_colbert_latency, avg_bm25_latency]\n",
    "min_latency = min(latencies)\n",
    "formatted_latencies = [\n",
    "    format_cell(latency, is_max=(latency == min_latency)) for latency in latencies\n",
    "]\n",
    "\n",
    "table.add_row(\"Average Latency\", *formatted_latencies)\n",
    "\n",
    "# Print the table\n",
    "console.print(table)"
   ],
   "id": "3e42d92b088cc166",
   "outputs": [
    {
     "data": {
      "text/plain": [
       "\u001B[3m                                          Retrieval Results @k=10                                          \u001B[0m\n",
       "\u001B[1m \u001B[0m\u001B[1mMetric         \u001B[0m\u001B[1m \u001B[0m┃\u001B[1m \u001B[0m\u001B[1mWeaviate          \u001B[0m\u001B[1m \u001B[0m┃\u001B[1m \u001B[0m\u001B[1mPinecone           \u001B[0m\u001B[1m \u001B[0m┃\u001B[1m \u001B[0m\u001B[1mAstraDB + ColBERT  \u001B[0m\u001B[1m \u001B[0m┃\u001B[1m \u001B[0m\u001B[1mBM25                  \u001B[0m\u001B[1m \u001B[0m\n",
       "━━━━━━━━━━━━━━━━━╇━━━━━━━━━━━━━━━━━━━━╇━━━━━━━━━━━━━━━━━━━━━╇━━━━━━━━━━━━━━━━━━━━━╇━━━━━━━━━━━━━━━━━━━━━━━━\n",
       "\u001B[36m \u001B[0m\u001B[36mPrecision      \u001B[0m\u001B[36m \u001B[0m│\u001B[35m \u001B[0m\u001B[35m0.505             \u001B[0m\u001B[35m \u001B[0m│\u001B[32m \u001B[0m\u001B[1;4;32m0.8460000000000001\u001B[0m\u001B[32m \u001B[0m\u001B[32m \u001B[0m│\u001B[34m \u001B[0m\u001B[34m0.1                \u001B[0m\u001B[34m \u001B[0m│\u001B[33m \u001B[0m\u001B[33mnan                   \u001B[0m\u001B[33m \u001B[0m\n",
       "\u001B[36m \u001B[0m\u001B[36mRecall         \u001B[0m\u001B[36m \u001B[0m│\u001B[35m \u001B[0m\u001B[35m0.505             \u001B[0m\u001B[35m \u001B[0m│\u001B[32m \u001B[0m\u001B[1;4;32m0.8460000000000001\u001B[0m\u001B[32m \u001B[0m\u001B[32m \u001B[0m│\u001B[34m \u001B[0m\u001B[34m0.05               \u001B[0m\u001B[34m \u001B[0m│\u001B[33m \u001B[0m\u001B[33mnan                   \u001B[0m\u001B[33m \u001B[0m\n",
       "\u001B[36m \u001B[0m\u001B[36mF1-Score       \u001B[0m\u001B[36m \u001B[0m│\u001B[35m \u001B[0m\u001B[35m0.505             \u001B[0m\u001B[35m \u001B[0m│\u001B[32m \u001B[0m\u001B[1;4;32m0.8460000000000001\u001B[0m\u001B[32m \u001B[0m\u001B[32m \u001B[0m│\u001B[34m \u001B[0m\u001B[34m0.06666666666666667\u001B[0m\u001B[34m \u001B[0m│\u001B[33m \u001B[0m\u001B[33mnan                   \u001B[0m\u001B[33m \u001B[0m\n",
       "\u001B[36m \u001B[0m\u001B[36mMRR            \u001B[0m\u001B[36m \u001B[0m│\u001B[35m \u001B[0m\u001B[1;4;35m0.865\u001B[0m\u001B[35m             \u001B[0m\u001B[35m \u001B[0m│\u001B[32m \u001B[0m\u001B[32m0.8595952380952382 \u001B[0m\u001B[32m \u001B[0m│\u001B[34m \u001B[0m\u001B[34m0.218              \u001B[0m\u001B[34m \u001B[0m│\u001B[33m \u001B[0m\u001B[33mnan                   \u001B[0m\u001B[33m \u001B[0m\n",
       "\u001B[36m \u001B[0m\u001B[36mnDCG           \u001B[0m\u001B[36m \u001B[0m│\u001B[35m \u001B[0m\u001B[35m0.8962652356607559\u001B[0m\u001B[35m \u001B[0m│\u001B[32m \u001B[0m\u001B[1;4;32m0.9159726190401632\u001B[0m\u001B[32m \u001B[0m\u001B[32m \u001B[0m│\u001B[34m \u001B[0m\u001B[34m0.2614707987173333 \u001B[0m\u001B[34m \u001B[0m│\u001B[33m \u001B[0m\u001B[33mnan                   \u001B[0m\u001B[33m \u001B[0m\n",
       "\u001B[36m \u001B[0m\u001B[36mAverage Latency\u001B[0m\u001B[36m \u001B[0m│\u001B[35m \u001B[0m\u001B[35m0.5097701787948609\u001B[0m\u001B[35m \u001B[0m│\u001B[32m \u001B[0m\u001B[32m0.27424402475357057\u001B[0m\u001B[32m \u001B[0m│\u001B[34m \u001B[0m\u001B[34m1.0930203342437743 \u001B[0m\u001B[34m \u001B[0m│\u001B[33m \u001B[0m\u001B[1;4;33m0.00027930498123168946\u001B[0m\u001B[33m \u001B[0m\n"
      ],
      "text/html": [
       "<pre style=\"white-space:pre;overflow-x:auto;line-height:normal;font-family:Menlo,'DejaVu Sans Mono',consolas,'Courier New',monospace\"><span style=\"font-style: italic\">                                          Retrieval Results @k=10                                          </span>\n",
       "<span style=\"font-weight: bold\"> Metric          </span>┃<span style=\"font-weight: bold\"> Weaviate           </span>┃<span style=\"font-weight: bold\"> Pinecone            </span>┃<span style=\"font-weight: bold\"> AstraDB + ColBERT   </span>┃<span style=\"font-weight: bold\"> BM25                   </span>\n",
       "━━━━━━━━━━━━━━━━━╇━━━━━━━━━━━━━━━━━━━━╇━━━━━━━━━━━━━━━━━━━━━╇━━━━━━━━━━━━━━━━━━━━━╇━━━━━━━━━━━━━━━━━━━━━━━━\n",
       "<span style=\"color: #008080; text-decoration-color: #008080\"> Precision       </span>│<span style=\"color: #800080; text-decoration-color: #800080\"> 0.505              </span>│<span style=\"color: #008000; text-decoration-color: #008000\"> </span><span style=\"color: #008000; text-decoration-color: #008000; font-weight: bold; text-decoration: underline\">0.8460000000000001</span><span style=\"color: #008000; text-decoration-color: #008000\">  </span>│<span style=\"color: #000080; text-decoration-color: #000080\"> 0.1                 </span>│<span style=\"color: #808000; text-decoration-color: #808000\"> nan                    </span>\n",
       "<span style=\"color: #008080; text-decoration-color: #008080\"> Recall          </span>│<span style=\"color: #800080; text-decoration-color: #800080\"> 0.505              </span>│<span style=\"color: #008000; text-decoration-color: #008000\"> </span><span style=\"color: #008000; text-decoration-color: #008000; font-weight: bold; text-decoration: underline\">0.8460000000000001</span><span style=\"color: #008000; text-decoration-color: #008000\">  </span>│<span style=\"color: #000080; text-decoration-color: #000080\"> 0.05                </span>│<span style=\"color: #808000; text-decoration-color: #808000\"> nan                    </span>\n",
       "<span style=\"color: #008080; text-decoration-color: #008080\"> F1-Score        </span>│<span style=\"color: #800080; text-decoration-color: #800080\"> 0.505              </span>│<span style=\"color: #008000; text-decoration-color: #008000\"> </span><span style=\"color: #008000; text-decoration-color: #008000; font-weight: bold; text-decoration: underline\">0.8460000000000001</span><span style=\"color: #008000; text-decoration-color: #008000\">  </span>│<span style=\"color: #000080; text-decoration-color: #000080\"> 0.06666666666666667 </span>│<span style=\"color: #808000; text-decoration-color: #808000\"> nan                    </span>\n",
       "<span style=\"color: #008080; text-decoration-color: #008080\"> MRR             </span>│<span style=\"color: #800080; text-decoration-color: #800080\"> </span><span style=\"color: #800080; text-decoration-color: #800080; font-weight: bold; text-decoration: underline\">0.865</span><span style=\"color: #800080; text-decoration-color: #800080\">              </span>│<span style=\"color: #008000; text-decoration-color: #008000\"> 0.8595952380952382  </span>│<span style=\"color: #000080; text-decoration-color: #000080\"> 0.218               </span>│<span style=\"color: #808000; text-decoration-color: #808000\"> nan                    </span>\n",
       "<span style=\"color: #008080; text-decoration-color: #008080\"> nDCG            </span>│<span style=\"color: #800080; text-decoration-color: #800080\"> 0.8962652356607559 </span>│<span style=\"color: #008000; text-decoration-color: #008000\"> </span><span style=\"color: #008000; text-decoration-color: #008000; font-weight: bold; text-decoration: underline\">0.9159726190401632</span><span style=\"color: #008000; text-decoration-color: #008000\">  </span>│<span style=\"color: #000080; text-decoration-color: #000080\"> 0.2614707987173333  </span>│<span style=\"color: #808000; text-decoration-color: #808000\"> nan                    </span>\n",
       "<span style=\"color: #008080; text-decoration-color: #008080\"> Average Latency </span>│<span style=\"color: #800080; text-decoration-color: #800080\"> 0.5097701787948609 </span>│<span style=\"color: #008000; text-decoration-color: #008000\"> 0.27424402475357057 </span>│<span style=\"color: #000080; text-decoration-color: #000080\"> 1.0930203342437743  </span>│<span style=\"color: #808000; text-decoration-color: #808000\"> </span><span style=\"color: #808000; text-decoration-color: #808000; font-weight: bold; text-decoration: underline\">0.00027930498123168946</span><span style=\"color: #808000; text-decoration-color: #808000\"> </span>\n",
       "</pre>\n"
      ]
     },
     "metadata": {},
     "output_type": "display_data"
    }
   ],
   "execution_count": 211
  },
  {
   "metadata": {
    "ExecuteTime": {
     "end_time": "2024-06-17T16:14:43.186473Z",
     "start_time": "2024-06-17T16:14:42.908057Z"
    }
   },
   "cell_type": "code",
   "source": [
    "# Plot latency distributions\n",
    "import matplotlib.pyplot as plt\n",
    "\n",
    "bins = 40\n",
    "plt.hist(weaviate_latencies, bins=bins, alpha=0.5, label='Weaviate')\n",
    "plt.hist(pinecone_latencies, bins=bins, alpha=0.5, label='Pinecone')\n",
    "plt.hist(colbert_latencies, bins=bins, alpha=0.5, label='AstraDB + ColBERT')\n",
    "plt.hist(bm25_latencies, bins=bins, alpha=0.5, label='BM25')\n",
    "\n",
    "plt.legend(loc='upper right')\n",
    "plt.xlabel('Latency (s)')\n",
    "plt.ylabel('Frequency')\n",
    "plt.title('Retrieval Latency Distributions @k={}'.format(n_results))\n",
    "\n",
    "# set the size bigger\n",
    "plt.rcParams[\"figure.figsize\"] = (20, 12)"
   ],
   "id": "458a7fc673afa4d8",
   "outputs": [
    {
     "data": {
      "text/plain": [
       "<Figure size 2000x1200 with 1 Axes>"
      ],
      "image/png": "[encoded data removed]"
     },
     "metadata": {},
     "output_type": "display_data"
    }
   ],
   "execution_count": 207
  },
  {
   "metadata": {},
   "cell_type": "code",
   "outputs": [],
   "execution_count": null,
   "source": "",
   "id": "4249628f717f8570"
  }
 ],
 "metadata": {
  "kernelspec": {
   "display_name": "Python 3",
   "language": "python",
   "name": "python3"
  },
  "language_info": {
   "codemirror_mode": {
    "name": "ipython",
    "version": 2
   },
   "file_extension": ".py",
   "mimetype": "text/x-python",
   "name": "python",
   "nbconvert_exporter": "python",
   "pygments_lexer": "ipython2",
   "version": "2.7.6"
  }
 },
 "nbformat": 4,
 "nbformat_minor": 5
}
