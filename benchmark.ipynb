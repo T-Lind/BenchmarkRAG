{
 "cells": [
  {
   "metadata": {},
   "cell_type": "markdown",
   "source": [
    "# AstraDB ColBERT or Pinecone/Weaviate Hybrid Search?\n",
    "Author: Tiernan Lindauer, Datastax Inc."
   ],
   "id": "4ac330c9b333ba5d"
  },
  {
   "metadata": {},
   "cell_type": "markdown",
   "source": "## Step 1: Setup",
   "id": "87fb396529b09a44"
  },
  {
   "metadata": {},
   "cell_type": "markdown",
   "source": "Install the required packages (`requirements.txt`)",
   "id": "8f873e2eea2e1ed5"
  },
  {
   "metadata": {
    "ExecuteTime": {
     "end_time": "2024-06-14T20:28:12.079077Z",
     "start_time": "2024-06-14T20:28:12.075749Z"
    }
   },
   "cell_type": "code",
   "source": [
    "# Some minor setup for the notebook\n",
    "import warnings\n",
    "import nest_asyncio\n",
    "\n",
    "# Ignore all warnings\n",
    "warnings.filterwarnings(\"ignore\")\n",
    "\n",
    "# Allows for running async code in Jupyter notebooks\n",
    "nest_asyncio.apply()"
   ],
   "id": "a5e9590b575f4684",
   "outputs": [],
   "execution_count": 114
  },
  {
   "metadata": {
    "ExecuteTime": {
     "end_time": "2024-06-14T16:47:58.233505Z",
     "start_time": "2024-06-14T16:47:58.230536Z"
    }
   },
   "cell_type": "code",
   "source": [
    "import os\n",
    "import time\n",
    "import openai\n",
    "import weaviate\n",
    "from dotenv import load_dotenv\n",
    "from langchain_community.retrievers import (\n",
    "    WeaviateHybridSearchRetriever,\n",
    ")\n",
    "from langchain_core.documents import Document\n",
    "from langchain_openai import OpenAIEmbeddings\n",
    "from langchain_text_splitters import RecursiveCharacterTextSplitter"
   ],
   "id": "96476076f18744e2",
   "outputs": [],
   "execution_count": 9
  },
  {
   "metadata": {},
   "cell_type": "markdown",
   "source": "Load the corpus.",
   "id": "cd1be8479892cac5"
  },
  {
   "metadata": {
    "ExecuteTime": {
     "end_time": "2024-06-14T17:03:49.114466Z",
     "start_time": "2024-06-14T17:03:49.111940Z"
    }
   },
   "cell_type": "code",
   "source": "corpus_path = \"dataset/movie_scripts/test\"",
   "id": "6c71e43816c52904",
   "outputs": [],
   "execution_count": 25
  },
  {
   "metadata": {},
   "cell_type": "code",
   "outputs": [],
   "execution_count": 24,
   "source": [
    "def load_and_split_text(folder_path):\n",
    "    text_splitter = RecursiveCharacterTextSplitter(chunk_size=1000, chunk_overlap=200)\n",
    "    texts = []\n",
    "    for file_name in os.listdir(folder_path):\n",
    "        file_path = os.path.join(folder_path, file_name)\n",
    "        with open(file_path, 'r') as file:\n",
    "            text = file.read()\n",
    "            texts.extend(text_splitter.split_text(text))\n",
    "    return texts\n",
    "\n",
    "\n",
    "corpus = load_and_split_text(corpus_path)"
   ],
   "id": "134e978d5c524614"
  },
  {
   "metadata": {
    "ExecuteTime": {
     "end_time": "2024-06-14T17:41:35.704087Z",
     "start_time": "2024-06-14T17:41:35.701784Z"
    }
   },
   "cell_type": "code",
   "source": [
    "# Specify the number of results for each search.\n",
    "n_results = 5"
   ],
   "id": "78ef47fde73aae",
   "outputs": [],
   "execution_count": 56
  },
  {
   "metadata": {},
   "cell_type": "markdown",
   "source": "Create Weaviate cluster (no authentication) -- **you need to create this, then come back**!",
   "id": "679bfb5f53931d70"
  },
  {
   "metadata": {
    "ExecuteTime": {
     "end_time": "2024-06-14T17:20:55.386666Z",
     "start_time": "2024-06-14T17:20:52.264800Z"
    }
   },
   "cell_type": "code",
   "source": "WEAVIATE_URL = input(\"Enter your weaviate cluster URL: \")",
   "id": "473be48aa5088ae5",
   "outputs": [],
   "execution_count": 38
  },
  {
   "metadata": {},
   "cell_type": "code",
   "outputs": [],
   "execution_count": 11,
   "source": "OPENAI_API_KEY = input(\"Enter your OpenAI API key: \")",
   "id": "85e2e799b354efb3"
  },
  {
   "metadata": {
    "ExecuteTime": {
     "end_time": "2024-06-14T17:21:09.375053Z",
     "start_time": "2024-06-14T17:21:08.761273Z"
    }
   },
   "cell_type": "code",
   "source": [
    "os.environ['OPENAI_API_KEY'] = OPENAI_API_KEY\n",
    "openai.api_key = OPENAI_API_KEY\n",
    "client = weaviate.Client(\n",
    "    url=WEAVIATE_URL,\n",
    "    additional_headers={\n",
    "        \"X-Openai-Api-Key\": OPENAI_API_KEY,\n",
    "    },\n",
    ")\n",
    "embeddings = OpenAIEmbeddings()"
   ],
   "id": "9bb1f0f92df5cad0",
   "outputs": [
    {
     "name": "stderr",
     "output_type": "stream",
     "text": [
      "/Users/tiernan.lindauer/PycharmProjects/BenchmarkRAG/.venv/lib/python3.10/site-packages/weaviate/warnings.py:162: DeprecationWarning: Dep016: Python client v3 `weaviate.Client(...)` connections and methods are deprecated. Update\n",
      "            your code to use Python client v4 `weaviate.WeaviateClient` connections and methods.\n",
      "\n",
      "            For Python Client v4 usage, see: https://weaviate.io/developers/weaviate/client-libraries/python\n",
      "            For code migration, see: https://weaviate.io/developers/weaviate/client-libraries/python/v3_v4_migration\n",
      "            \n",
      "  warnings.warn(\n"
     ]
    }
   ],
   "execution_count": 39
  },
  {
   "metadata": {
    "ExecuteTime": {
     "end_time": "2024-06-14T17:29:47.097210Z",
     "start_time": "2024-06-14T17:29:46.760642Z"
    }
   },
   "cell_type": "code",
   "source": [
    "weaviate_retriever = WeaviateHybridSearchRetriever(\n",
    "    client=client,\n",
    "    index_name=\"LangChain\",\n",
    "    text_key=\"text\",\n",
    "    attributes=['index'],\n",
    "    create_schema_if_missing=True,\n",
    "    k=n_results,\n",
    ")"
   ],
   "id": "88615fe4d1922936",
   "outputs": [],
   "execution_count": 49
  },
  {
   "metadata": {
    "ExecuteTime": {
     "end_time": "2024-06-14T17:21:42.923606Z",
     "start_time": "2024-06-14T17:21:27.525346Z"
    }
   },
   "cell_type": "code",
   "source": [
    "# ONLY RUN ONCE!\n",
    "docs = []\n",
    "index_val = 0\n",
    "for doc in corpus:\n",
    "    docs.append(Document(\n",
    "        metadata={\n",
    "            \"name\": \"montypython\",\n",
    "            \"date\": time.strftime(\"%m/%d/%Y\"),\n",
    "            \"index\": index_val,\n",
    "        },\n",
    "        page_content=doc\n",
    "    ))\n",
    "    index_val += 1\n",
    "weaviate_retriever.add_documents(docs)\n",
    "# Now let's load Pinecone"
   ],
   "id": "3f0bdf52f20c4756",
   "outputs": [
    {
     "data": {
      "text/plain": [
       "['158738c2-2b8e-47c7-9259-4d1b314e9f0e',\n",
       " 'dd9ee7e6-4ee3-4172-8140-f3afc49873df',\n",
       " '24a4dcc6-0836-4352-b435-4e2cf8e26984',\n",
       " 'f5b3042e-11e7-45ff-a184-be0310a94d15',\n",
       " '6cbd25fd-1a8d-4c18-a739-3a62d9aaa0ff',\n",
       " 'e549ddb9-1ed2-43a2-93cc-c60b2eb46c4f',\n",
       " '9dc6fff7-2f07-48a1-b775-67f96f3762c3',\n",
       " '62022787-0f6a-4bf3-b350-9e4f05d8e750',\n",
       " 'acc7fce5-02dc-4e84-bafa-a5cc69843c05',\n",
       " '2087742d-a086-4f9b-9bf6-7e19a9af608c',\n",
       " '6d915d06-c6f6-48ff-af62-7db2e321d450',\n",
       " '3424d0fc-3061-4236-a377-3ea0443f4656',\n",
       " '53e5be64-f093-4ee4-8ffd-1cbf342033b7',\n",
       " '98bc2518-a7e7-47cd-a2a1-9f8cc913be50',\n",
       " '51ba56a4-806b-4831-8138-a0c572eb14ab',\n",
       " '7d6d1681-dc78-48c0-b03d-7d120c69fedc',\n",
       " '93979da7-9bb0-4651-aa0d-69a5cdaf9664',\n",
       " 'b794f92e-0775-4a2a-be58-1f1277a604e5',\n",
       " '186972cd-8426-41e2-9e28-6249894f3185',\n",
       " '16f1ef4c-5653-483f-b43a-f9cc202fcdc3',\n",
       " 'e8b136e2-f7cf-45cb-ac92-bbcc5d90351d',\n",
       " '6b27b4fb-0de2-4ba9-ac7f-0712bfe563a3',\n",
       " '2a19c697-94bf-40be-9424-42b2acc6ee85',\n",
       " '827bbd18-7ae1-46eb-88d6-ddf53ee24eb7',\n",
       " '39d05831-9215-4073-9cf2-99d0bf9b508e',\n",
       " 'c53a8684-abd8-450b-b24c-aa54022f8a2a',\n",
       " '4b6941b0-d784-4692-a89a-8b835ea98d45',\n",
       " 'ac4ad379-22a4-4d5e-bc3b-6ae67a81d50b',\n",
       " 'f4e9df08-6a65-44ee-85ee-8228e22afba1',\n",
       " '5a11f047-991e-49ad-b714-6f93fd49ee81',\n",
       " '7d17c585-2ce2-44be-a15e-224c7e7471ed',\n",
       " 'ad5ea31d-caf0-477e-b621-ad1b14325e04',\n",
       " 'aab5a616-884f-4db1-996f-c112fd6b5619',\n",
       " '37597e02-9a16-45ee-862f-b9f87d3daabd',\n",
       " 'a131f668-162f-44a2-a54b-bd273f33e583',\n",
       " '6558cf26-a276-439b-a872-15b085190b8d',\n",
       " '26fe2885-5bc9-467b-a878-16b5c883f561',\n",
       " '3981c015-72c6-435b-9ffc-cc937cfeed38',\n",
       " 'b4fb4a41-dd8d-47a6-84c0-246c712eccdb',\n",
       " '604290ce-6de0-4aab-9d42-92b857e05473',\n",
       " 'fc7b54bb-4c88-4fe5-ae23-10e213f659eb',\n",
       " 'aee0a63d-3191-4b3c-af0e-37907e8ec646',\n",
       " 'ac25c7f1-2dbd-4e53-90a5-08d32a9f1f5c',\n",
       " '0e792ab6-b948-4e1e-ab25-bcfac2409e88',\n",
       " 'a74e4a50-9df3-4559-857a-9a3b5f50115b',\n",
       " '5f17b4ea-b15e-4403-815f-c02a3adf6b9f',\n",
       " '547eb788-d05e-48ee-abf5-c4a4e2e2f926',\n",
       " '17fc2f6c-1aa3-4e12-92a2-5672c6888c6f',\n",
       " '970e3dd1-8e1f-4e3f-9267-4a66abb6060b',\n",
       " '7425917a-460f-48a9-bc27-3399a4463578',\n",
       " 'c0db7abe-bdf0-4a95-8fd7-390b19049e20',\n",
       " '345e02bc-9e05-4a3e-aa49-301dc3c525cf',\n",
       " '0c77d96a-6681-455f-9345-81710ec743ff',\n",
       " 'b719667a-9514-4706-934c-a2b7e9d1f334',\n",
       " '88e85586-42eb-4376-8d7e-30ba848b073e',\n",
       " '925171c7-dd38-4ef8-b929-567417bbfad0',\n",
       " '0f907aa3-772b-4a64-9ed1-b97f903c2bc1',\n",
       " '3fbb7470-d063-4bc1-8eb5-339f83f83e05',\n",
       " '5498e5a1-71ae-4270-9f69-b1cc59e446cb',\n",
       " '0bd9c37a-2ee4-45cb-abf1-46b69a4ccf03',\n",
       " '1ab12ab2-dc1e-44a6-b40e-f9bc5da43fe7',\n",
       " '0c4619a1-d973-4bba-8868-bdd9aba2d41a',\n",
       " 'ae240c04-7ddd-41f1-bad5-dbb54b65605f',\n",
       " 'cbf4909b-7ba5-4f40-bc03-e7e5565497bd',\n",
       " '8b1838e2-0bad-42e2-9fe5-7057e3b04062',\n",
       " 'eb4eac55-b8b2-4dff-aef5-e3b361536b98',\n",
       " '3f4b5300-97ad-4ddd-8e1d-6eef888e655b',\n",
       " 'c46a19df-a09e-41d3-a292-955d208efa72',\n",
       " 'a73848a5-8232-4973-a63d-2d23792c5e18',\n",
       " '7d2b0657-295d-40e3-ad4c-5c66a4fd6732',\n",
       " '4bff21ad-fb80-481f-9762-77a1708c7d09',\n",
       " '10792cf1-4173-4cca-9c6d-7890a9fa3ea2',\n",
       " '22aea325-4d59-4a92-b8b5-81dd7a151e8b',\n",
       " 'ebdd2607-f4ad-4c49-af56-267832ddecb0',\n",
       " '9643f03a-ea27-48c4-b5df-7cd7240488b6',\n",
       " 'a35879dc-56fd-49fe-b047-898e40946488',\n",
       " '83fa5eb1-27a6-4b41-942c-98e5e5929c05',\n",
       " 'eecda5e3-ce08-4f38-b81e-c3d1698592f4',\n",
       " 'eb4c85d6-ffc2-493a-be46-24dab6700013',\n",
       " 'e58384cf-aac6-482c-b724-8574d89b8b4e',\n",
       " 'b066f5fb-cbc4-46d5-a560-9603cf63856b',\n",
       " '45d52ace-5674-41de-8ad8-3aea893a62fd',\n",
       " '12b969a9-3af4-4ea6-b6c5-5835ca5bcef3',\n",
       " '241e16c7-a88b-4042-9c06-741f3d2d9240',\n",
       " '34ba075b-21ea-4d03-aeac-1b418b367dd3',\n",
       " '2d5e7ae8-63cf-4476-9d62-f12199d560cc',\n",
       " '7ffb4199-a72b-4468-81fc-a6c71b4e91e6',\n",
       " '6a506707-696c-40d1-a2ab-7b856b0a7a12',\n",
       " 'f584a671-a86d-4a97-a34c-ed1eb0deeb04',\n",
       " '98f2b74f-786b-4ba0-9673-901a39d570e6',\n",
       " 'c46774f0-2179-480f-ac4a-f54ddb63ef5d',\n",
       " '0c97c44c-fa8d-4a02-a584-47bf7f1aaf76',\n",
       " 'f020efff-5c8b-44ab-9759-c415c8d4a291',\n",
       " 'd8cd163d-c670-47c8-bb09-caf99768374b',\n",
       " 'f7301265-2842-4e1a-a4da-0894f90ec9ef',\n",
       " 'd461683f-1ab1-444f-b03e-aaaa14e369d7',\n",
       " '03d57a45-cb93-4ba5-bc6b-ca5b59fdef00',\n",
       " '9150b941-c374-484a-9291-34d6009eb59e',\n",
       " 'de414925-e4e2-41c9-aae1-a426dc61cf71',\n",
       " 'cc81e93e-dea4-4a6b-947a-c84b0867f43f',\n",
       " '9ea4be97-07dc-4c4d-bd7f-ebb8aa9e33a7',\n",
       " '738a51f5-c8d4-4731-87dd-4d2dceb30538',\n",
       " '6837b58e-597e-47bd-a52f-daaadf98a997',\n",
       " 'c04a11a0-20b8-4c46-940e-3cb4bfa5d467',\n",
       " 'e648acac-c1ea-48fd-a84f-acc4047923c6',\n",
       " '96dc31ee-26d9-4447-838f-5b8b47773c28',\n",
       " 'c3fb6710-3ef9-4188-af94-716882aac16d',\n",
       " '521cc060-6004-4f43-92be-9c40ef73bc70',\n",
       " '90bae3d5-d99c-482b-8556-059b833153b5',\n",
       " 'ab013404-7a4b-47f0-a722-ff6e99287dd8',\n",
       " 'c43d065b-b796-4ca5-b2a5-1bfa2b90dc94',\n",
       " 'a74fb950-f96d-4d87-b640-cbd1bb0eaf03',\n",
       " 'cc4b640e-2bdc-4bc3-83f2-1e4de7338bd3',\n",
       " 'dd920235-0e9d-4bcf-8205-5a12864ffc1e',\n",
       " 'f9a2a847-de5a-4569-817d-88c64e59607a',\n",
       " 'e2795abe-778e-4117-ae58-d4ed845df721',\n",
       " 'a82bb38b-6edd-4dc5-9016-9575c34eabbd',\n",
       " 'a4612ef3-fa35-4f82-a46f-7254b4b1ab59',\n",
       " '6212689a-d007-426d-b176-f48e96cf3464',\n",
       " 'f4114def-6107-4386-bdee-1bf45b467d0e',\n",
       " 'ba573921-4f71-47c3-91ad-5e2eed9aaf60',\n",
       " '4b9a651c-13b0-4886-9407-97538d68cf3b',\n",
       " 'a97076bb-9e65-4c73-813b-2b94265ad8c3',\n",
       " 'c396341b-a831-4c65-9436-641aa6ff3711',\n",
       " 'e205b8ab-3a46-484a-8fa2-40f74cc5bbcf',\n",
       " '75187fd2-d336-4efa-afce-3b9485821a6b',\n",
       " '091f5dd9-6412-4d8a-9198-4ec89e1fad6c',\n",
       " 'efe9737b-a152-40e1-9604-8ac75d8b2acb',\n",
       " '9ddf3f89-55b1-4aa0-85e4-9df870f5b1d3',\n",
       " 'fd9b7eb1-a4b3-44ae-a0aa-2221fc3838e2',\n",
       " '34066b25-9738-4bde-8afb-b9d8efb1f6dc',\n",
       " '85f25614-b34a-4e5d-ab7f-78856d8c66c9',\n",
       " '965443d1-7928-4225-9fe3-ce16dac602b5',\n",
       " 'b73f1767-84b0-4e54-aecd-8036f7a27713',\n",
       " '42deca2a-da78-4ba6-84e6-edd037132e32',\n",
       " '97caab66-c9b6-47dc-85f5-5e03ec7fb069',\n",
       " 'f53170b8-3ea6-422d-8ef1-07dbe311c760',\n",
       " '36ab3bcd-3f5c-4e47-8faa-f59448f3de37',\n",
       " '26def00f-97b3-4245-8e6a-2df78f594af0',\n",
       " 'b7a659c1-c416-463b-b459-7a537e835cfa',\n",
       " 'e2c5de3f-3cbf-4799-a4d3-5f310e98fc2c',\n",
       " 'dea957fa-c730-4b97-b28c-0abb2ba3f5f2',\n",
       " '6b870f4f-f4a4-44a8-9b5b-9977345d7aff',\n",
       " 'b3ffb5ae-e7f7-4256-9cda-a2fc23f54bd7',\n",
       " '9bef00bf-ca7b-47a3-b563-1c0c2cc5b40b',\n",
       " '708c1777-4ed8-4ef7-af97-58c4c35d6d3d',\n",
       " '818d6de4-59d5-4aed-af9a-6667f8bbaae5',\n",
       " 'f87f07f7-7c3f-442b-8551-6c8715d00694',\n",
       " 'a77bdebe-cef0-4450-931b-0b01f8993c2e',\n",
       " '470062bc-fafd-4ce1-8c0b-b10491ee3303',\n",
       " '5ce6acc7-67fc-46bd-a82b-e249bde30300',\n",
       " 'a94a7d82-541f-4916-82fc-e651e146a86a',\n",
       " '78aa08c2-b179-4e46-9f12-87617faf634c',\n",
       " 'b7b3d4ca-3be1-4e3d-a964-8a9db7667c48',\n",
       " '80b432fc-45a5-4238-a690-ec1f38422d88',\n",
       " '32769b9c-1bcb-47e9-af26-8f84428f13a0',\n",
       " 'e2a2cc5e-bcfe-429c-b66d-118ffe66d1c2',\n",
       " '63cab5d1-3497-4e6c-a195-ccfd3f3011fd',\n",
       " 'a389d8f7-642c-4952-9daf-d8edb2385e61',\n",
       " '5ba1b1f2-6e9f-41a3-a850-ebbca533848e',\n",
       " 'b0d3ccd4-adb0-49fb-85af-bad41aeaa4f3',\n",
       " '0c99f2ae-4c5d-42da-938b-1e3e5477ecd5',\n",
       " '15c98bca-08dd-445f-b6e7-f0946db6df18',\n",
       " 'ccca9613-a398-4b2d-8174-cd1487051a3c',\n",
       " '723c66d8-cb21-46ea-b1f4-9b4b5a373c1b',\n",
       " '2196cd70-ed96-48b3-a2c5-d8f6b5f0b2f4',\n",
       " '9087a2b2-6b8a-4220-85f1-f264fb01a7e3',\n",
       " '9e39ae22-aa43-4091-b3c5-f911d3e1722e',\n",
       " '104ebe78-517b-4d8d-86b5-ab1fecfb3a4b',\n",
       " '66eeabeb-ba01-4e20-8ec9-eceee8d70435',\n",
       " '25cc7a45-1972-4926-835a-ca521dc4085b',\n",
       " '62bb552d-0b06-42e8-a1f4-448849a02c77',\n",
       " '804f30b0-8dd9-46c0-9dfa-fbd2d2d4ac9b',\n",
       " '06b5c7c2-c13b-4d58-834f-95af857f428e',\n",
       " '4285188b-3200-4adc-b33c-43feb0e5da28',\n",
       " '2da99192-425b-447a-9dcc-909aa07f5510',\n",
       " '012f5737-06d1-4f10-a00d-84656ab8518f',\n",
       " '48b57aea-ea9e-4201-afad-82e57292ec18',\n",
       " '91c18fb4-1e93-4f3d-93a0-44398d209a04',\n",
       " '406e5d9b-0f68-425f-bc57-37c5f736bf63',\n",
       " '80091e2e-f173-4a5c-aa36-191e86dbbb93',\n",
       " 'ceb56c93-7f5b-4fe3-a932-3a1dfd36f374',\n",
       " '29636506-49d3-4d58-9363-6645b1031b26',\n",
       " 'c9d11a76-a5d8-4956-ae31-b6e26a71f8e7',\n",
       " '5e9b1a9a-8e10-43fc-ad5f-d40b709f4776',\n",
       " '813774da-ad3e-4eaf-b497-90a2101dceba',\n",
       " '72b95fa0-828a-4e3a-b7e4-01026cd8b0b2',\n",
       " 'b149aa6e-dc53-45c5-a172-3214a1bc9fb8',\n",
       " '216a019d-93a0-4c2f-b5f0-bd74726a5ee4',\n",
       " 'd0e42455-98b4-420d-bb3d-64ab6db61df4',\n",
       " '305e353e-f90a-4571-9892-a2570b2a53fd',\n",
       " '8fe8c5e5-8dd5-4cc4-894d-c6e2e6ec2921',\n",
       " '64905d2e-101a-4c82-9c7a-0c5e6f4984a5',\n",
       " 'c75620fc-9b40-4994-a48a-c0501d741339',\n",
       " 'f8eee4e5-973e-41ca-a9ce-dba44b8ea766',\n",
       " '0d8afe5f-f904-4632-98d5-8055b7a02cef',\n",
       " '7acca7dd-044e-4c19-874a-7f6619a0e13f',\n",
       " '6ba8d330-8cfa-47a0-a966-38dccde6c9cd',\n",
       " '5363acef-39e3-4286-a7cf-a8a2169a0cf1',\n",
       " 'baac7c69-f456-4ba3-90eb-60981a67eb0b',\n",
       " 'fdc14764-47d4-495c-a674-16e59b6b702b',\n",
       " 'e6f5eafe-2812-42b7-ad4b-dd777b54f598',\n",
       " '4119a3b6-7ba2-407d-b191-b9847c2395df',\n",
       " 'a4879b56-b3ef-4580-83e3-faff76ddf23a',\n",
       " 'd776ab3c-45a1-4236-a152-9a662e8e7d77',\n",
       " '232def46-29ec-4e65-8110-129680addae6',\n",
       " '2ca2e621-741d-47b3-8c21-fc9f210a69bf',\n",
       " 'e4eff1a7-3738-41ad-adf8-1fc44d40ec19',\n",
       " '0a108b16-5211-446a-8b0e-0c930ec42288',\n",
       " 'c3767092-f0bd-4170-aecd-621e717bb698',\n",
       " '80b9518a-7d02-469c-a5e0-b38be3fe910b',\n",
       " '046132df-2180-4405-88b5-d1d9598e8533',\n",
       " '5bfe72fe-3751-44b5-8fae-20fce5989917',\n",
       " 'd04dd8d0-661e-4300-b0e9-595a32b405f5',\n",
       " 'b0a2de00-52c7-4990-b51c-e919e6002e69',\n",
       " '35474462-3016-42a3-b0cc-1763efe25c8d',\n",
       " 'de211e64-cd97-4d42-a2a8-305652974d50',\n",
       " 'ddd1fa02-32b5-43e7-acd1-07710a457713',\n",
       " '7ca6c263-6608-4613-925b-0a5b3dd327ef',\n",
       " 'c15524ce-c737-4c40-8075-3a38bf838c19',\n",
       " '7e7aff38-5af1-4527-bf1b-88244f3bd7f9',\n",
       " '506acc69-5475-417c-9364-6e6b2c982062',\n",
       " '1ae94e63-3c2d-4748-b787-daa3509a2ae3',\n",
       " 'e7525ac0-c728-4136-a168-ee4ab3954af0',\n",
       " 'cd5a0ead-202c-4788-a77d-3ab8789a2e7c',\n",
       " '3abbf758-9afc-45d9-bf71-0645c3abef99',\n",
       " 'a0184e2b-a28d-4b32-b22f-c0112015560d',\n",
       " '0e517977-3209-47f7-80aa-21a8d09dc64f',\n",
       " '9812fcfa-b4b3-445d-bb8f-b9d2ad8a9eec',\n",
       " '125bc26a-f122-4c8f-9aa1-7ed5668e03a3',\n",
       " '8a451ab7-b01f-4d79-bfe2-2ee85df34f7c',\n",
       " '68e7a199-b0e6-4cb7-a8f1-d9dad517a267',\n",
       " 'f53231da-27c1-45c7-aaf4-bd9a6ff4a955',\n",
       " 'e8855ab0-793c-4b4f-9acd-f65d4ec75a5b',\n",
       " '4e2a17f5-f4e6-4fd5-af21-46c9e68bcb80',\n",
       " '7bfd2e6c-c4e2-4e07-8c57-2da5d65941f0',\n",
       " '70102d2a-0cac-44ea-b918-7ee05343b786']"
      ]
     },
     "execution_count": 41,
     "metadata": {},
     "output_type": "execute_result"
    }
   ],
   "execution_count": 41
  },
  {
   "metadata": {
    "ExecuteTime": {
     "end_time": "2024-06-14T16:55:00.654745Z",
     "start_time": "2024-06-14T16:54:56.984414Z"
    }
   },
   "cell_type": "code",
   "source": [
    "import wget\n",
    "import certifi\n",
    "from pinecone_text.sparse import BM25Encoder\n",
    "\n",
    "os.environ['SSL_CERT_FILE'] = certifi.where()\n",
    "\n",
    "bm25_encoder = BM25Encoder().default()"
   ],
   "id": "14823184e4e7d84a",
   "outputs": [],
   "execution_count": 17
  },
  {
   "metadata": {
    "ExecuteTime": {
     "end_time": "2024-06-14T16:55:02.809338Z",
     "start_time": "2024-06-14T16:55:02.520498Z"
    }
   },
   "cell_type": "code",
   "source": [
    "bm25_encoder.fit(corpus)\n",
    "current_directory = os.getcwd()\n",
    "json_file_path = os.path.join(current_directory, \"bm25_values.json\")\n"
   ],
   "id": "1fae3a729a6fa267",
   "outputs": [
    {
     "data": {
      "text/plain": [
       "  0%|          | 0/237 [00:00<?, ?it/s]"
      ],
      "application/vnd.jupyter.widget-view+json": {
       "version_major": 2,
       "version_minor": 0,
       "model_id": "6492bdeb77334e18baf7d43f3ae3da48"
      }
     },
     "metadata": {},
     "output_type": "display_data"
    }
   ],
   "execution_count": 18
  },
  {
   "metadata": {
    "ExecuteTime": {
     "end_time": "2024-06-14T16:59:47.403781Z",
     "start_time": "2024-06-14T16:59:40.101170Z"
    }
   },
   "cell_type": "code",
   "source": [
    "from pinecone import Pinecone, ServerlessSpec\n",
    "\n",
    "index_name = \"pinecone-hybrid-search-1\"\n",
    "\n",
    "pc_api_key = input(\"Enter your Pinecone API key: \")\n",
    "# initialize Pinecone client\n",
    "pc = Pinecone(api_key=pc_api_key)\n",
    "\n",
    "# create the index\n",
    "if index_name not in pc.list_indexes().names():\n",
    "    pc.create_index(\n",
    "        name=index_name,\n",
    "        dimension=1536,  # dimensionality of dense model\n",
    "        metric=\"dotproduct\",  # sparse values supported only for dotproduct\n",
    "        spec=ServerlessSpec(cloud=\"aws\", region=\"us-east-1\"),\n",
    "    )\n",
    "\n",
    "    metadatas = []\n",
    "    for i in range(len(corpus)):\n",
    "        metadatas.append({\n",
    "            \"name\": \"montypython\",\n",
    "            \"date\": time.strftime(\"%m/%d/%Y\"),\n",
    "            \"index\": i,\n",
    "        })\n"
   ],
   "id": "2fee39579abaa1fe",
   "outputs": [],
   "execution_count": 20
  },
  {
   "metadata": {
    "ExecuteTime": {
     "end_time": "2024-06-14T17:00:07.555699Z",
     "start_time": "2024-06-14T17:00:07.489600Z"
    }
   },
   "cell_type": "code",
   "source": "index = pc.Index(index_name)",
   "id": "dc6c83167474a35f",
   "outputs": [],
   "execution_count": 22
  },
  {
   "metadata": {
    "ExecuteTime": {
     "end_time": "2024-06-14T17:41:41.161175Z",
     "start_time": "2024-06-14T17:41:41.158057Z"
    }
   },
   "cell_type": "code",
   "source": [
    "from langchain_community.retrievers import PineconeHybridSearchRetriever\n",
    "\n",
    "pinecone_retriever = PineconeHybridSearchRetriever(\n",
    "    embeddings=embeddings, sparse_encoder=bm25_encoder, index=index, top_k=n_results\n",
    ")"
   ],
   "id": "1b179f4ccbed0799",
   "outputs": [],
   "execution_count": 57
  },
  {
   "metadata": {
    "ExecuteTime": {
     "end_time": "2024-06-14T17:05:10.532553Z",
     "start_time": "2024-06-14T17:04:59.156556Z"
    }
   },
   "cell_type": "code",
   "source": "pinecone_retriever.add_texts(corpus, metadatas=metadatas)",
   "id": "43f1f052621824f4",
   "outputs": [
    {
     "data": {
      "text/plain": [
       "  0%|          | 0/8 [00:00<?, ?it/s]"
      ],
      "application/vnd.jupyter.widget-view+json": {
       "version_major": 2,
       "version_minor": 0,
       "model_id": "db0593a4a68b47c88e1e77db32337dae"
      }
     },
     "metadata": {},
     "output_type": "display_data"
    }
   ],
   "execution_count": 27
  },
  {
   "metadata": {},
   "cell_type": "markdown",
   "source": "Let's run an example query to compare the results of Weaviate/Pinecone to the perfect K-Nearest-Neighbors (KNN) search later.",
   "id": "2a228ddb69db51b3"
  },
  {
   "metadata": {
    "ExecuteTime": {
     "end_time": "2024-06-14T17:06:05.704434Z",
     "start_time": "2024-06-14T17:06:05.701647Z"
    }
   },
   "cell_type": "code",
   "source": "question = \"Who is the director of \\\"Monty Python and the Holy Grail\\\"?\"",
   "id": "d1ac8accdf0ec504",
   "outputs": [],
   "execution_count": 28
  },
  {
   "metadata": {
    "ExecuteTime": {
     "end_time": "2024-06-14T18:03:50.487610Z",
     "start_time": "2024-06-14T18:03:49.193558Z"
    }
   },
   "cell_type": "code",
   "source": [
    "print(\"Weaviate results:\")\n",
    "weaviate_results = weaviate_retriever.invoke(question, score=True)\n",
    "weaviate_indices = [result.metadata['index'] for result in weaviate_results]\n",
    "print(\"    Metadata: \", weaviate_indices)\n",
    "print(\"Pinecone results:\")\n",
    "pinecone_results = pinecone_retriever.invoke(question, score=True)\n",
    "pinecone_indices = [int(result.metadata['index']) for result in pinecone_results]\n",
    "print(\"    Metadata: \", pinecone_indices)"
   ],
   "id": "efdc3cadbc7b7e0d",
   "outputs": [
    {
     "name": "stdout",
     "output_type": "stream",
     "text": [
      "Weaviate results:\n",
      "    Metadata:  [2, 16, 0, 1, 15]\n",
      "Pinecone results:\n",
      "    Metadata:  [0, 1, 2, 15, 16]\n"
     ]
    }
   ],
   "execution_count": 68
  },
  {
   "metadata": {},
   "cell_type": "markdown",
   "source": "## Step 2: Process the Perfect K-Nearest-Neighbors (KNN) Search ",
   "id": "9be251a1c5f0267f"
  },
  {
   "metadata": {
    "ExecuteTime": {
     "end_time": "2024-06-14T17:47:20.142788Z",
     "start_time": "2024-06-14T17:47:20.099225Z"
    }
   },
   "cell_type": "code",
   "source": "from sklearn.neighbors import NearestNeighbors",
   "id": "2932cfd29cc715fe",
   "outputs": [],
   "execution_count": 60
  },
  {
   "metadata": {},
   "cell_type": "code",
   "source": [
    "def embed_texts(texts):\n",
    "    return embeddings.embed_documents(texts)\n",
    "\n",
    "\n",
    "corpus_embeddings = embed_texts(corpus)\n",
    "\n",
    "# Use KNN to find the closest 5 documents\n",
    "knn = NearestNeighbors(n_neighbors=n_results, metric='cosine').fit(corpus_embeddings)"
   ],
   "id": "acc82a4113c67f8d",
   "outputs": [],
   "execution_count": null
  },
  {
   "metadata": {
    "ExecuteTime": {
     "end_time": "2024-06-14T18:03:54.593579Z",
     "start_time": "2024-06-14T18:03:54.491108Z"
    }
   },
   "cell_type": "code",
   "source": [
    "distances, knn_indices = knn.kneighbors([embeddings.embed_query(question)])\n",
    "knn_indices = knn_indices[0]\n",
    "print(\"KNN results:\")\n",
    "print(\"    Indices: \", knn_indices)"
   ],
   "id": "4e35bcf265c6384d",
   "outputs": [
    {
     "name": "stdout",
     "output_type": "stream",
     "text": [
      "KNN results:\n",
      "    Indices:  [ 2  0 16  1 15]\n"
     ]
    }
   ],
   "execution_count": 69
  },
  {
   "metadata": {
    "ExecuteTime": {
     "end_time": "2024-06-14T20:51:09.664063Z",
     "start_time": "2024-06-14T20:51:09.655599Z"
    }
   },
   "cell_type": "code",
   "source": [
    "import numpy as np\n",
    "from scipy.stats import kendalltau\n",
    "\n",
    "\n",
    "def dcg(relevances, k):\n",
    "    relevances = np.array(relevances)[:k]\n",
    "    if relevances.size:\n",
    "        return np.sum((2 ** relevances - 1) / np.log2(np.arange(2, relevances.size + 2)))\n",
    "    return 0.0\n",
    "\n",
    "\n",
    "def ndcg(relevances, k):\n",
    "    ideal_relevances = sorted(relevances, reverse=True)\n",
    "    return dcg(relevances, k) / dcg(ideal_relevances, k) if dcg(ideal_relevances, k) > 0 else 0.0\n",
    "\n",
    "\n",
    "def get_result_stats(retrieved_docs, ground_truth, k):\n",
    "    precisions = []\n",
    "    recalls = []\n",
    "    f1_scores = []\n",
    "\n",
    "    for retrieved, relevant in zip(retrieved_docs, ground_truth):\n",
    "        # Ensure relevant is a list\n",
    "        relevant = set(relevant)\n",
    "\n",
    "        # Calculate true positives\n",
    "        retrieved_set = set(retrieved[:k])\n",
    "        true_positives = len(retrieved_set & relevant)\n",
    "\n",
    "        # Calculate Precision\n",
    "        precision = true_positives / len(retrieved_set) if len(retrieved_set) > 0 else 0\n",
    "        precisions.append(precision)\n",
    "\n",
    "        # Calculate Recall\n",
    "        recall = true_positives / len(relevant) if len(relevant) > 0 else 0\n",
    "        recalls.append(recall)\n",
    "\n",
    "        # Calculate F1 Score\n",
    "        if precision + recall > 0:\n",
    "            f1_score = 2 * (precision * recall) / (precision + recall)\n",
    "        else:\n",
    "            f1_score = 0\n",
    "        f1_scores.append(f1_score)\n",
    "\n",
    "    avg_precision = np.mean(precisions)\n",
    "    avg_recall = np.mean(recalls)\n",
    "    avg_f1 = np.mean(f1_scores)\n",
    "\n",
    "    mrr = []\n",
    "    ndcg_scores = []\n",
    "\n",
    "    for retrieved, relevant in zip(retrieved_docs, ground_truth):\n",
    "        # Create relevance scores\n",
    "        relevances = [1 if doc in relevant else 0 for doc in retrieved]\n",
    "\n",
    "        # Calculate MRR\n",
    "        reciprocal_rank = 0\n",
    "        for i, rel in enumerate(relevances):\n",
    "            if rel == 1:\n",
    "                reciprocal_rank = 1 / (i + 1)\n",
    "                break\n",
    "        mrr.append(reciprocal_rank)\n",
    "\n",
    "        # Calculate nDCG\n",
    "        ndcg_score = ndcg(relevances, k)\n",
    "        ndcg_scores.append(ndcg_score)\n",
    "\n",
    "    avg_mrr = np.mean(mrr)\n",
    "    avg_ndcg = np.mean(ndcg_scores)\n",
    "\n",
    "    return {\n",
    "        'Precision': avg_precision,\n",
    "        'Recall': avg_recall,\n",
    "        'F1-Score': avg_f1,\n",
    "        'MRR': avg_mrr,\n",
    "        'nDCG': avg_ndcg,\n",
    "    }"
   ],
   "id": "c66928dc7660d8f1",
   "outputs": [],
   "execution_count": 129
  },
  {
   "metadata": {},
   "cell_type": "markdown",
   "source": "Evaluate the results of the example query above.",
   "id": "748c6ec3e8239ac6"
  },
  {
   "metadata": {},
   "cell_type": "code",
   "outputs": [],
   "execution_count": null,
   "source": [
    "print(\"Weaviate results:\", get_result_stats([weaviate_indices], [knn_indices], n_results))\n",
    "print(\"Pinecone results: \", get_result_stats([pinecone_indices], [knn_indices], n_results))"
   ],
   "id": "1b22f914c9dd4bdd"
  },
  {
   "metadata": {},
   "cell_type": "markdown",
   "source": "## Step 3: Setup ColBERT through AstraDB",
   "id": "af3b4a13942b9c55"
  },
  {
   "metadata": {
    "ExecuteTime": {
     "end_time": "2024-06-14T20:10:08.060842Z",
     "start_time": "2024-06-14T20:10:08.058644Z"
    }
   },
   "cell_type": "code",
   "source": [
    "from langchain.text_splitter import RecursiveCharacterTextSplitter\n",
    "from ragstack_colbert import CassandraDatabase, ColbertEmbeddingModel, ColbertVectorStore, ColbertRetriever"
   ],
   "id": "f98e77714e82a2f6",
   "outputs": [],
   "execution_count": 106
  },
  {
   "metadata": {
    "ExecuteTime": {
     "end_time": "2024-06-14T19:39:39.929516Z",
     "start_time": "2024-06-14T19:39:38.845561Z"
    }
   },
   "cell_type": "code",
   "source": "astra_database_id = input(\"Enter your AstraDB database ID: \")",
   "id": "719a95c9f112d952",
   "outputs": [],
   "execution_count": 102
  },
  {
   "metadata": {
    "ExecuteTime": {
     "end_time": "2024-06-14T19:39:59.745792Z",
     "start_time": "2024-06-14T19:39:58.002551Z"
    }
   },
   "cell_type": "code",
   "source": "astra_token = input(\"Enter your AstraDB token: \")",
   "id": "755360a139d8161e",
   "outputs": [],
   "execution_count": 103
  },
  {
   "metadata": {
    "ExecuteTime": {
     "end_time": "2024-06-14T19:40:26.063917Z",
     "start_time": "2024-06-14T19:40:19.022546Z"
    }
   },
   "cell_type": "code",
   "source": [
    "keyspace = \"benchmarking\"\n",
    "database = CassandraDatabase.from_astra(astra_token=astra_token, database_id=astra_database_id, keyspace=keyspace)\n",
    "embedding_model = ColbertEmbeddingModel()\n",
    "vector_store = ColbertVectorStore(database=database, embedding_model=embedding_model)"
   ],
   "id": "861b53c3a325097f",
   "outputs": [
    {
     "name": "stderr",
     "output_type": "stream",
     "text": [
      "/Users/tiernan.lindauer/PycharmProjects/BenchmarkRAG/.venv/lib/python3.10/site-packages/cassandra/datastax/cloud/__init__.py:172: DeprecationWarning: ssl.PROTOCOL_TLS is deprecated\n",
      "  ssl_context = SSLContext(PROTOCOL_TLS)\n",
      "/Users/tiernan.lindauer/PycharmProjects/BenchmarkRAG/.venv/lib/python3.10/site-packages/huggingface_hub/file_download.py:1132: FutureWarning: `resume_download` is deprecated and will be removed in version 1.0.0. Downloads always resume when possible. If you want to force a new download, use `force_download=True`.\n",
      "  warnings.warn(\n"
     ]
    },
    {
     "name": "stdout",
     "output_type": "stream",
     "text": [
      "[Jun 14, 14:40:25] Loading segmented_maxsim_cpp extension (set COLBERT_LOAD_TORCH_EXTENSION_VERBOSE=True for more info)...\n"
     ]
    },
    {
     "name": "stderr",
     "output_type": "stream",
     "text": [
      "/Users/tiernan.lindauer/PycharmProjects/BenchmarkRAG/.venv/lib/python3.10/site-packages/huggingface_hub/file_download.py:1132: FutureWarning: `resume_download` is deprecated and will be removed in version 1.0.0. Downloads always resume when possible. If you want to force a new download, use `force_download=True`.\n",
      "  warnings.warn(\n",
      "/Users/tiernan.lindauer/PycharmProjects/BenchmarkRAG/.venv/lib/python3.10/site-packages/torch/cuda/amp/grad_scaler.py:126: UserWarning: torch.cuda.amp.GradScaler is enabled, but CUDA is not available.  Disabling.\n",
      "  warnings.warn(\n"
     ]
    }
   ],
   "execution_count": 104
  },
  {
   "metadata": {
    "ExecuteTime": {
     "end_time": "2024-06-14T20:10:08.057260Z",
     "start_time": "2024-06-14T19:43:30.491663Z"
    }
   },
   "cell_type": "code",
   "source": [
    "def store_in_astra(chunks):\n",
    "    metadatas = []\n",
    "    for i in range(len(chunks)):\n",
    "        metadatas.append({\"name\": \"montypython\", \"date\": time.strftime(\"%m/%d/%Y\"), 'index': i})\n",
    "    vector_store.add_texts(chunks, metadatas=metadatas)\n",
    "\n",
    "\n",
    "store_in_astra(corpus)"
   ],
   "id": "5b9354feb4177a98",
   "outputs": [
    {
     "name": "stderr",
     "output_type": "stream",
     "text": [
      "/Users/tiernan.lindauer/PycharmProjects/BenchmarkRAG/.venv/lib/python3.10/site-packages/torch/amp/autocast_mode.py:250: UserWarning: User provided device_type of 'cuda', but CUDA is not available. Disabling\n",
      "  warnings.warn(\n"
     ]
    }
   ],
   "execution_count": 105
  },
  {
   "metadata": {
    "ExecuteTime": {
     "end_time": "2024-06-14T20:11:37.480716Z",
     "start_time": "2024-06-14T20:11:37.477731Z"
    }
   },
   "cell_type": "code",
   "source": "colbert_retriever = ColbertRetriever(embedding_model=embedding_model, database=database)",
   "id": "eefcfad08f9e0642",
   "outputs": [],
   "execution_count": 109
  },
  {
   "metadata": {
    "ExecuteTime": {
     "end_time": "2024-06-14T20:37:43.908871Z",
     "start_time": "2024-06-14T20:37:43.906295Z"
    }
   },
   "cell_type": "code",
   "source": [
    "def get_astra_results(query, k=5):\n",
    "    results = colbert_retriever.text_search(query, k=k)\n",
    "    return results"
   ],
   "id": "214c886fdbfcd4d0",
   "outputs": [],
   "execution_count": 123
  },
  {
   "metadata": {
    "ExecuteTime": {
     "end_time": "2024-06-14T20:28:29.805747Z",
     "start_time": "2024-06-14T20:28:28.316859Z"
    }
   },
   "cell_type": "code",
   "source": [
    "print(\"ColBERT results:\")\n",
    "print(get_astra_results(question, k=n_results))"
   ],
   "id": "692509d1ad683ff6",
   "outputs": [
    {
     "name": "stdout",
     "output_type": "stream",
     "text": [
      "ColBERT results:\n",
      "\n",
      "#> QueryTokenizer.tensorize(batch_text[0], batch_background[0], bsize) ==\n",
      "#> Input: . Who is the director of \"Monty Python and the Holy Grail\"?, \t\t True, \t\t None\n",
      "#> Output IDs: torch.Size([18]), tensor([  101,     1,  2040,  2003,  1996,  2472,  1997,  1000, 18446, 18750,\n",
      "         1998,  1996,  4151, 24665, 12502,  1000,  1029,   102])\n",
      "#> Output Mask: torch.Size([18]), tensor([1, 1, 1, 1, 1, 1, 1, 1, 1, 1, 1, 1, 1, 1, 1, 1, 1, 1])\n",
      "\n",
      "[15, 2, 0, 3, 16]\n"
     ]
    }
   ],
   "execution_count": 115
  },
  {
   "metadata": {
    "ExecuteTime": {
     "end_time": "2024-06-14T20:37:11.382274Z",
     "start_time": "2024-06-14T20:37:11.379918Z"
    }
   },
   "cell_type": "code",
   "source": [
    "from tqdm import tqdm\n",
    "from time import time"
   ],
   "id": "8cbf28d4f5faf3a2",
   "outputs": [],
   "execution_count": 121
  },
  {
   "metadata": {
    "ExecuteTime": {
     "end_time": "2024-06-14T20:41:37.748408Z",
     "start_time": "2024-06-14T20:37:50.601240Z"
    }
   },
   "cell_type": "code",
   "source": [
    "all_knn_indices = []\n",
    "all_weaviate_indices = []\n",
    "all_pinecone_indices = []\n",
    "all_colbert_indices = []\n",
    "\n",
    "weaviate_latencies = []\n",
    "pinecone_latencies = []\n",
    "colbert_latencies = []\n",
    "\n",
    "with open('dataset/queries/holy_grail_result.txt', 'r') as f:\n",
    "    for line in tqdm(f.readlines()):\n",
    "        line = line.strip()\n",
    "\n",
    "        start = time()\n",
    "        weaviate_results = weaviate_retriever.invoke(line)\n",
    "        end = time()\n",
    "        weaviate_latencies.append(end - start)\n",
    "        weaviate_indices = [result.metadata['index'] for result in weaviate_results]\n",
    "        all_weaviate_indices.append(weaviate_indices)\n",
    "\n",
    "        start = time()\n",
    "        pinecone_results = pinecone_retriever.invoke(line)\n",
    "        end = time()\n",
    "        pinecone_latencies.append(end - start)\n",
    "        pinecone_indices = [int(result.metadata['index']) for result in pinecone_results]\n",
    "        all_pinecone_indices.append(pinecone_indices)\n",
    "\n",
    "        start = time()\n",
    "        colbert_results = get_astra_results(line)\n",
    "        end = time()\n",
    "        colbert_indices = [int(float(result[0].metadata['index'])) for result in colbert_results]\n",
    "        colbert_latencies.append(end - start)\n",
    "        all_colbert_indices.append(colbert_indices)\n",
    "\n",
    "        distances, knn_indices = knn.kneighbors([embeddings.embed_query(question)])\n",
    "        knn_indices = knn_indices[0]\n",
    "\n",
    "        all_knn_indices.append(knn_indices)"
   ],
   "id": "6a68aefc93952dec",
   "outputs": [
    {
     "name": "stderr",
     "output_type": "stream",
     "text": [
      "100%|██████████| 100/100 [03:47<00:00,  2.27s/it]\n"
     ]
    }
   ],
   "execution_count": 124
  },
  {
   "metadata": {
    "ExecuteTime": {
     "end_time": "2024-06-14T20:51:26.856243Z",
     "start_time": "2024-06-14T20:51:26.842792Z"
    }
   },
   "cell_type": "code",
   "source": [
    "weaviate_stats = get_result_stats(all_weaviate_indices, all_knn_indices, n_results)\n",
    "pinecone_stats = get_result_stats(all_pinecone_indices, all_knn_indices, n_results)\n",
    "colbert_stats = get_result_stats(all_colbert_indices, all_knn_indices, n_results)"
   ],
   "id": "4fd745232cc88753",
   "outputs": [],
   "execution_count": 131
  },
  {
   "metadata": {
    "ExecuteTime": {
     "end_time": "2024-06-14T21:06:12.563209Z",
     "start_time": "2024-06-14T21:06:12.553723Z"
    }
   },
   "cell_type": "code",
   "source": [
    "from rich.text import Text\n",
    "import rich\n",
    "from rich.console import Console\n",
    "\n",
    "console = Console()\n",
    "\n",
    "# Print a table of the results (Weaviate, Pinecone, ColBERT vs the different stats)\n",
    "table = rich.table.Table(title=\"Retrieval Results\", show_edge=False)\n",
    "table.add_column(\"Metric\", style=\"cyan\")\n",
    "table.add_column(\"Weaviate\", style=\"magenta\")\n",
    "table.add_column(\"Pinecone\", style=\"green\")\n",
    "table.add_column(\"AstraDB + ColBERT\", style=\"blue\")\n",
    "\n",
    "def format_cell(value, is_max=True):\n",
    "    text = Text(str(value))\n",
    "    if is_max:\n",
    "        text.stylize(\"bold underline\")\n",
    "    return text\n",
    "\n",
    "# Add stats to table with formatting\n",
    "for metric in weaviate_stats:\n",
    "    values = [\n",
    "        weaviate_stats[metric],\n",
    "        pinecone_stats[metric],\n",
    "        colbert_stats[metric]\n",
    "    ]\n",
    "    max_value = max(values)\n",
    "    formatted_values = [\n",
    "        format_cell(value, is_max=(value == max_value)) for value in values\n",
    "    ]\n",
    "    table.add_row(metric, *formatted_values)\n",
    "\n",
    "# Calculate average latencies and add them to the table\n",
    "avg_weaviate_latency = sum(weaviate_latencies) / len(weaviate_latencies)\n",
    "avg_pinecone_latency = sum(pinecone_latencies) / len(pinecone_latencies)\n",
    "avg_colbert_latency = sum(colbert_latencies) / len(colbert_latencies)\n",
    "\n",
    "latencies = [avg_weaviate_latency, avg_pinecone_latency, avg_colbert_latency]\n",
    "min_latency = min(latencies)\n",
    "formatted_latencies = [\n",
    "    format_cell(latency, is_max=(latency == min_latency)) for latency in latencies\n",
    "]\n",
    "\n",
    "table.add_row(\"Average Latency\", *formatted_latencies)\n",
    "\n",
    "# Print the table\n",
    "console.print(table)"
   ],
   "id": "3e42d92b088cc166",
   "outputs": [
    {
     "data": {
      "text/plain": [
       "\u001B[3m                                  Retrieval Results                                  \u001B[0m\n",
       "\u001B[1m \u001B[0m\u001B[1mMetric         \u001B[0m\u001B[1m \u001B[0m┃\u001B[1m \u001B[0m\u001B[1mWeaviate            \u001B[0m\u001B[1m \u001B[0m┃\u001B[1m \u001B[0m\u001B[1mPinecone           \u001B[0m\u001B[1m \u001B[0m┃\u001B[1m \u001B[0m\u001B[1mAstraDB + ColBERT   \u001B[0m\u001B[1m \u001B[0m\n",
       "━━━━━━━━━━━━━━━━━╇━━━━━━━━━━━━━━━━━━━━━━╇━━━━━━━━━━━━━━━━━━━━━╇━━━━━━━━━━━━━━━━━━━━━━\n",
       "\u001B[36m \u001B[0m\u001B[36mPrecision      \u001B[0m\u001B[36m \u001B[0m│\u001B[35m \u001B[0m\u001B[35m0.018000000000000002\u001B[0m\u001B[35m \u001B[0m│\u001B[32m \u001B[0m\u001B[1;4;32m0.042\u001B[0m\u001B[32m              \u001B[0m\u001B[32m \u001B[0m│\u001B[34m \u001B[0m\u001B[34m0.018               \u001B[0m\u001B[34m \u001B[0m\n",
       "\u001B[36m \u001B[0m\u001B[36mRecall         \u001B[0m\u001B[36m \u001B[0m│\u001B[35m \u001B[0m\u001B[35m0.018000000000000002\u001B[0m\u001B[35m \u001B[0m│\u001B[32m \u001B[0m\u001B[1;4;32m0.042\u001B[0m\u001B[32m              \u001B[0m\u001B[32m \u001B[0m│\u001B[34m \u001B[0m\u001B[34m0.018               \u001B[0m\u001B[34m \u001B[0m\n",
       "\u001B[36m \u001B[0m\u001B[36mF1-Score       \u001B[0m\u001B[36m \u001B[0m│\u001B[35m \u001B[0m\u001B[35m0.018000000000000006\u001B[0m\u001B[35m \u001B[0m│\u001B[32m \u001B[0m\u001B[1;4;32m0.04200000000000001\u001B[0m\u001B[32m \u001B[0m│\u001B[34m \u001B[0m\u001B[34m0.018000000000000002\u001B[0m\u001B[34m \u001B[0m\n",
       "\u001B[36m \u001B[0m\u001B[36mMRR            \u001B[0m\u001B[36m \u001B[0m│\u001B[35m \u001B[0m\u001B[35m0.065               \u001B[0m\u001B[35m \u001B[0m│\u001B[32m \u001B[0m\u001B[1;4;32m0.0915\u001B[0m\u001B[32m             \u001B[0m\u001B[32m \u001B[0m│\u001B[34m \u001B[0m\u001B[34m0.041833333333333333\u001B[0m\u001B[34m \u001B[0m\n",
       "\u001B[36m \u001B[0m\u001B[36mnDCG           \u001B[0m\u001B[36m \u001B[0m│\u001B[35m \u001B[0m\u001B[35m0.07154648767857288 \u001B[0m\u001B[35m \u001B[0m│\u001B[32m \u001B[0m\u001B[1;4;32m0.12105456186979165\u001B[0m\u001B[32m \u001B[0m│\u001B[34m \u001B[0m\u001B[34m0.053530944869199334\u001B[0m\u001B[34m \u001B[0m\n",
       "\u001B[36m \u001B[0m\u001B[36mAverage Latency\u001B[0m\u001B[36m \u001B[0m│\u001B[35m \u001B[0m\u001B[35m0.507214252948761   \u001B[0m\u001B[35m \u001B[0m│\u001B[32m \u001B[0m\u001B[1;4;32m0.2146481132507324\u001B[0m\u001B[32m \u001B[0m\u001B[32m \u001B[0m│\u001B[34m \u001B[0m\u001B[34m1.4207204461097718  \u001B[0m\u001B[34m \u001B[0m\n"
      ],
      "text/html": [
       "<pre style=\"white-space:pre;overflow-x:auto;line-height:normal;font-family:Menlo,'DejaVu Sans Mono',consolas,'Courier New',monospace\"><span style=\"font-style: italic\">                                  Retrieval Results                                  </span>\n",
       "<span style=\"font-weight: bold\"> Metric          </span>┃<span style=\"font-weight: bold\"> Weaviate             </span>┃<span style=\"font-weight: bold\"> Pinecone            </span>┃<span style=\"font-weight: bold\"> AstraDB + ColBERT    </span>\n",
       "━━━━━━━━━━━━━━━━━╇━━━━━━━━━━━━━━━━━━━━━━╇━━━━━━━━━━━━━━━━━━━━━╇━━━━━━━━━━━━━━━━━━━━━━\n",
       "<span style=\"color: #008080; text-decoration-color: #008080\"> Precision       </span>│<span style=\"color: #800080; text-decoration-color: #800080\"> 0.018000000000000002 </span>│<span style=\"color: #008000; text-decoration-color: #008000\"> </span><span style=\"color: #008000; text-decoration-color: #008000; font-weight: bold; text-decoration: underline\">0.042</span><span style=\"color: #008000; text-decoration-color: #008000\">               </span>│<span style=\"color: #000080; text-decoration-color: #000080\"> 0.018                </span>\n",
       "<span style=\"color: #008080; text-decoration-color: #008080\"> Recall          </span>│<span style=\"color: #800080; text-decoration-color: #800080\"> 0.018000000000000002 </span>│<span style=\"color: #008000; text-decoration-color: #008000\"> </span><span style=\"color: #008000; text-decoration-color: #008000; font-weight: bold; text-decoration: underline\">0.042</span><span style=\"color: #008000; text-decoration-color: #008000\">               </span>│<span style=\"color: #000080; text-decoration-color: #000080\"> 0.018                </span>\n",
       "<span style=\"color: #008080; text-decoration-color: #008080\"> F1-Score        </span>│<span style=\"color: #800080; text-decoration-color: #800080\"> 0.018000000000000006 </span>│<span style=\"color: #008000; text-decoration-color: #008000\"> </span><span style=\"color: #008000; text-decoration-color: #008000; font-weight: bold; text-decoration: underline\">0.04200000000000001</span><span style=\"color: #008000; text-decoration-color: #008000\"> </span>│<span style=\"color: #000080; text-decoration-color: #000080\"> 0.018000000000000002 </span>\n",
       "<span style=\"color: #008080; text-decoration-color: #008080\"> MRR             </span>│<span style=\"color: #800080; text-decoration-color: #800080\"> 0.065                </span>│<span style=\"color: #008000; text-decoration-color: #008000\"> </span><span style=\"color: #008000; text-decoration-color: #008000; font-weight: bold; text-decoration: underline\">0.0915</span><span style=\"color: #008000; text-decoration-color: #008000\">              </span>│<span style=\"color: #000080; text-decoration-color: #000080\"> 0.041833333333333333 </span>\n",
       "<span style=\"color: #008080; text-decoration-color: #008080\"> nDCG            </span>│<span style=\"color: #800080; text-decoration-color: #800080\"> 0.07154648767857288  </span>│<span style=\"color: #008000; text-decoration-color: #008000\"> </span><span style=\"color: #008000; text-decoration-color: #008000; font-weight: bold; text-decoration: underline\">0.12105456186979165</span><span style=\"color: #008000; text-decoration-color: #008000\"> </span>│<span style=\"color: #000080; text-decoration-color: #000080\"> 0.053530944869199334 </span>\n",
       "<span style=\"color: #008080; text-decoration-color: #008080\"> Average Latency </span>│<span style=\"color: #800080; text-decoration-color: #800080\"> 0.507214252948761    </span>│<span style=\"color: #008000; text-decoration-color: #008000\"> </span><span style=\"color: #008000; text-decoration-color: #008000; font-weight: bold; text-decoration: underline\">0.2146481132507324</span><span style=\"color: #008000; text-decoration-color: #008000\">  </span>│<span style=\"color: #000080; text-decoration-color: #000080\"> 1.4207204461097718   </span>\n",
       "</pre>\n"
      ]
     },
     "metadata": {},
     "output_type": "display_data"
    }
   ],
   "execution_count": 145
  },
  {
   "metadata": {
    "ExecuteTime": {
     "end_time": "2024-06-14T21:06:46.904124Z",
     "start_time": "2024-06-14T21:06:46.729973Z"
    }
   },
   "cell_type": "code",
   "source": [
    "# Plot latency distributions\n",
    "import matplotlib.pyplot as plt\n",
    "\n",
    "bins = 40\n",
    "plt.hist(weaviate_latencies, bins=bins, alpha=0.5, label='Weaviate')\n",
    "plt.hist(pinecone_latencies, bins=bins, alpha=0.5, label='Pinecone')\n",
    "plt.hist(colbert_latencies, bins=bins, alpha=0.5, label='AstraDB + ColBERT')\n",
    "\n",
    "plt.legend(loc='upper right')\n",
    "plt.xlabel('Latency (s)')\n",
    "plt.ylabel('Frequency')\n",
    "plt.title('Retrieval Latency Distributions')\n",
    "\n",
    "# set the size bigger\n",
    "plt.rcParams[\"figure.figsize\"] = (20, 12)"
   ],
   "id": "458a7fc673afa4d8",
   "outputs": [
    {
     "data": {
      "text/plain": [
       "<Figure size 2000x1200 with 1 Axes>"
      ],
      "image/png": "[encoded data removed]"
     },
     "metadata": {},
     "output_type": "display_data"
    }
   ],
   "execution_count": 146
  },
  {
   "metadata": {},
   "cell_type": "code",
   "outputs": [],
   "execution_count": null,
   "source": "",
   "id": "4249628f717f8570"
  }
 ],
 "metadata": {
  "kernelspec": {
   "display_name": "Python 3",
   "language": "python",
   "name": "python3"
  },
  "language_info": {
   "codemirror_mode": {
    "name": "ipython",
    "version": 2
   },
   "file_extension": ".py",
   "mimetype": "text/x-python",
   "name": "python",
   "nbconvert_exporter": "python",
   "pygments_lexer": "ipython2",
   "version": "2.7.6"
  }
 },
 "nbformat": 4,
 "nbformat_minor": 5
}
