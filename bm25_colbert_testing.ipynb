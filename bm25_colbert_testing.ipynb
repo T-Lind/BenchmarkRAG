{
 "cells": [
  {
   "metadata": {
    "ExecuteTime": {
     "end_time": "2024-06-26T16:33:49.130968Z",
     "start_time": "2024-06-26T16:33:49.128355Z"
    }
   },
   "cell_type": "code",
   "source": [
    "# Some minor setup for the notebook\n",
    "import warnings\n",
    "import nest_asyncio\n",
    "\n",
    "# Ignore all warnings\n",
    "warnings.filterwarnings(\"ignore\")\n",
    "\n",
    "# Allows for running async code in Jupyter notebooks\n",
    "nest_asyncio.apply()"
   ],
   "id": "c04ce7fddabc7f73",
   "outputs": [],
   "execution_count": 55
  },
  {
   "metadata": {
    "ExecuteTime": {
     "end_time": "2024-06-26T15:10:20.942598Z",
     "start_time": "2024-06-26T15:10:20.933836Z"
    }
   },
   "cell_type": "code",
   "source": [
    "from dotenv import load_dotenv\n",
    "\n",
    "load_dotenv(override=True)"
   ],
   "id": "c51c706b26950158",
   "outputs": [
    {
     "data": {
      "text/plain": [
       "True"
      ]
     },
     "execution_count": 2,
     "metadata": {},
     "output_type": "execute_result"
    }
   ],
   "execution_count": 2
  },
  {
   "metadata": {
    "ExecuteTime": {
     "end_time": "2024-06-26T15:10:29.815819Z",
     "start_time": "2024-06-26T15:10:26.798256Z"
    }
   },
   "cell_type": "code",
   "source": [
    "from datasets import load_dataset\n",
    "\n",
    "ms_marco = load_dataset(\"microsoft/ms_marco\", \"v2.1\")"
   ],
   "id": "initial_id",
   "outputs": [],
   "execution_count": 3
  },
  {
   "metadata": {
    "ExecuteTime": {
     "end_time": "2024-06-26T15:46:35.989252Z",
     "start_time": "2024-06-26T15:46:35.982318Z"
    }
   },
   "cell_type": "code",
   "source": [
    "import numpy as np\n",
    "from sklearn.metrics import precision_score, recall_score\n",
    "\n",
    "\n",
    "def ndcg(retrieved_list, relevant_list, k=None):\n",
    "    def dcg(scores):\n",
    "        return sum(score / (i + 1) for i, score in enumerate(scores))\n",
    "\n",
    "    if k is None:\n",
    "        k = len(retrieved_list)\n",
    "\n",
    "    retrieved_scores = [1 if doc in relevant_list else 0 for doc in retrieved_list[:k]]\n",
    "    ideal_scores = sorted(retrieved_scores, reverse=True)\n",
    "\n",
    "    dcg_value = dcg(retrieved_scores)\n",
    "    idcg_value = dcg(ideal_scores)\n",
    "\n",
    "    return dcg_value / idcg_value if idcg_value > 0 else 0\n",
    "\n",
    "\n",
    "def mean_reciprocal_rank(retrieved_list, relevant_list):\n",
    "    ranks = []\n",
    "    for relevant in relevant_list:\n",
    "        try:\n",
    "            rank = retrieved_list.index(relevant) + 1\n",
    "        except ValueError:\n",
    "            rank = len(retrieved_list) + 1  # Not found\n",
    "        ranks.append(rank)\n",
    "    return 1.0 / min(ranks) if ranks else 0.0\n",
    "\n",
    "\n",
    "def calculate_ndcg(retrieved_list, relevant_list, k=None):\n",
    "    def dcg(scores):\n",
    "        return sum(score / (np.log2(idx + 2)) for idx, score in enumerate(scores))\n",
    "\n",
    "    if k is None:\n",
    "        k = len(retrieved_list)\n",
    "\n",
    "    # Relevance scores for retrieved documents\n",
    "    retrieved_scores = [1 if doc in relevant_list else 0 for doc in retrieved_list[:k]]\n",
    "    # Ideal relevance scores\n",
    "    ideal_scores = sorted(retrieved_scores, reverse=True)\n",
    "\n",
    "    dcg_value = dcg(retrieved_scores)\n",
    "    idcg_value = dcg(ideal_scores)\n",
    "\n",
    "    return dcg_value / idcg_value if idcg_value > 0 else 0\n",
    "\n",
    "\n",
    "def calculate_precision(retrieved_list, relevant_list):\n",
    "    y_true = [1 if doc in relevant_list else 0 for doc in retrieved_list]\n",
    "    y_pred = [1] * len(y_true)  # Assuming all retrieved documents are relevant for calculating precision\n",
    "    return precision_score(y_true, y_pred, zero_division=0)\n",
    "\n",
    "\n",
    "def calculate_recall(retrieved_list, relevant_list):\n",
    "    y_true = [1 if doc in relevant_list else 0 for doc in relevant_list]\n",
    "    y_pred = [1 if doc in retrieved_list else 0 for doc in relevant_list]\n",
    "    return recall_score(y_true, y_pred, zero_division=0)\n",
    "\n",
    "\n",
    "def compute_all_stats(retrieved_list, relevant_list):\n",
    "    return {\n",
    "        'MRR': mean_reciprocal_rank(retrieved_list, relevant_list),\n",
    "        'nDCG': calculate_ndcg(retrieved_list, relevant_list, k=len(relevant_list)),\n",
    "        'Precision': calculate_precision(retrieved_list, relevant_list),\n",
    "        'Recall': calculate_recall(retrieved_list, relevant_list),\n",
    "    }"
   ],
   "id": "47457c0c60b71945",
   "outputs": [],
   "execution_count": 33
  },
  {
   "metadata": {
    "ExecuteTime": {
     "end_time": "2024-06-26T15:10:30.107742Z",
     "start_time": "2024-06-26T15:10:30.105026Z"
    }
   },
   "cell_type": "code",
   "source": [
    "# Use subset for demonstration\n",
    "subset = ms_marco['train'].select(range(1000))"
   ],
   "id": "43e602e97ecda308",
   "outputs": [],
   "execution_count": 5
  },
  {
   "metadata": {
    "ExecuteTime": {
     "end_time": "2024-06-26T15:10:31.755184Z",
     "start_time": "2024-06-26T15:10:31.751730Z"
    }
   },
   "cell_type": "code",
   "source": "print(subset[2]['query'])",
   "id": "ffe1d2b2267a2c1c",
   "outputs": [
    {
     "name": "stdout",
     "output_type": "stream",
     "text": [
      "why did stalin want control of eastern europe\n"
     ]
    }
   ],
   "execution_count": 6
  },
  {
   "metadata": {
    "ExecuteTime": {
     "end_time": "2024-06-26T15:10:34.295113Z",
     "start_time": "2024-06-26T15:10:34.172541Z"
    }
   },
   "cell_type": "code",
   "source": [
    "from langchain_community.retrievers import BM25Retriever\n",
    "from langchain_core.documents import Document"
   ],
   "id": "e1bc17e9849e5e77",
   "outputs": [],
   "execution_count": 7
  },
  {
   "metadata": {
    "ExecuteTime": {
     "end_time": "2024-06-26T15:10:37.317406Z",
     "start_time": "2024-06-26T15:10:37.076199Z"
    }
   },
   "cell_type": "code",
   "source": [
    "# Prepare the documents for BM25\n",
    "bm25_docs = [Document(page_content=passage) for data in subset for passage in data['passages']['passage_text']]\n",
    "\n",
    "# Initialize BM25 Retriever\n",
    "bm25_retriever = BM25Retriever.from_documents(bm25_docs)"
   ],
   "id": "92edc92e237d7370",
   "outputs": [],
   "execution_count": 8
  },
  {
   "metadata": {
    "ExecuteTime": {
     "end_time": "2024-06-26T15:12:08.668345Z",
     "start_time": "2024-06-26T15:12:04.131244Z"
    }
   },
   "cell_type": "code",
   "source": [
    "import os\n",
    "from ragstack_colbert import CassandraDatabase, ColbertEmbeddingModel\n",
    "\n",
    "keyspace = \"benchmarksmarco1000parallel\"\n",
    "database_id = os.getenv(\"ASTRA_DATABASE_ID\")\n",
    "astra_token = os.getenv(\"ASTRA_TOKEN\")\n",
    "\n",
    "database = CassandraDatabase.from_astra(\n",
    "    astra_token=astra_token,\n",
    "    database_id=database_id,\n",
    "    keyspace=keyspace\n",
    ")\n",
    "\n",
    "embedding_model = ColbertEmbeddingModel()"
   ],
   "id": "3d17835de418c59c",
   "outputs": [
    {
     "name": "stdout",
     "output_type": "stream",
     "text": [
      "WARNING: faiss must be imported for indexing\n",
      "[Jun 26, 10:12:08] Loading segmented_maxsim_cpp extension (set COLBERT_LOAD_TORCH_EXTENSION_VERBOSE=True for more info)...\n"
     ]
    }
   ],
   "execution_count": 17
  },
  {
   "metadata": {},
   "cell_type": "markdown",
   "source": "",
   "id": "15b607add4548d6d"
  },
  {
   "metadata": {
    "ExecuteTime": {
     "end_time": "2024-06-26T16:27:14.671536Z",
     "start_time": "2024-06-26T16:27:14.664975Z"
    }
   },
   "cell_type": "code",
   "source": [
    "from ragstack_langchain.colbert import ColbertVectorStore as LangchainColbertVectorStore\n",
    "\n",
    "lc_vector_store = LangchainColbertVectorStore(\n",
    "    database=database,\n",
    "    embedding_model=embedding_model,\n",
    ")"
   ],
   "id": "a035c581a9e542ee",
   "outputs": [],
   "execution_count": 45
  },
  {
   "metadata": {
    "ExecuteTime": {
     "end_time": "2024-06-26T16:27:16.652975Z",
     "start_time": "2024-06-26T16:27:16.600804Z"
    }
   },
   "cell_type": "code",
   "source": [
    "all_texts = []\n",
    "all_metadatas = []\n",
    "i = 0\n",
    "for row in subset:\n",
    "    all_texts.extend(row['passages']['passage_text'])\n",
    "    all_metadatas.extend([{'row_id': i} for _ in row['passages']['is_selected']])\n",
    "    i += 1\n"
   ],
   "id": "493bd4091709cf1",
   "outputs": [],
   "execution_count": 46
  },
  {
   "metadata": {
    "ExecuteTime": {
     "end_time": "2024-06-26T16:27:17.296837Z",
     "start_time": "2024-06-26T16:27:17.293776Z"
    }
   },
   "cell_type": "code",
   "source": "print(\"Number of texts:\", len(all_texts))",
   "id": "100fa66f55ebda98",
   "outputs": [
    {
     "data": {
      "text/plain": [
       "Number of texts: \u001B[1;36m9992\u001B[0m\n"
      ],
      "text/html": [
       "<pre style=\"white-space:pre;overflow-x:auto;line-height:normal;font-family:Menlo,'DejaVu Sans Mono',consolas,'Courier New',monospace\">Number of texts: <span style=\"color: #008080; text-decoration-color: #008080; font-weight: bold\">9992</span>\n",
       "</pre>\n"
      ]
     },
     "metadata": {},
     "output_type": "display_data"
    }
   ],
   "execution_count": 47
  },
  {
   "metadata": {},
   "cell_type": "code",
   "source": "lc_vector_store.add_texts(all_texts, metadatas=all_metadatas)",
   "id": "a3870bac7caa97f4",
   "outputs": [],
   "execution_count": null
  },
  {
   "metadata": {
    "ExecuteTime": {
     "end_time": "2024-06-26T16:28:43.785979Z",
     "start_time": "2024-06-26T16:28:43.783786Z"
    }
   },
   "cell_type": "code",
   "source": [
    "import time\n",
    "from tqdm import tqdm"
   ],
   "id": "427a38d9a2be0e70",
   "outputs": [],
   "execution_count": 49
  },
  {
   "metadata": {
    "ExecuteTime": {
     "end_time": "2024-06-26T16:56:18.341808Z",
     "start_time": "2024-06-26T16:45:30.942007Z"
    }
   },
   "cell_type": "code",
   "source": [
    "colbert_retrieved_list = []\n",
    "colbert_relevant_list = []\n",
    "colbert_latencies = []\n",
    "for row in tqdm(subset):\n",
    "    query = row['query']\n",
    "    n_results = len(row['passages']['is_selected'])\n",
    "    before = time.time()\n",
    "    raw_results = lc_vector_store.similarity_search(query, k=n_results)\n",
    "    after = time.time()\n",
    "    retrieved_list = [result.page_content for result in raw_results]\n",
    "    relevant_list = row['passages']['passage_text']\n",
    "\n",
    "    colbert_retrieved_list.append(retrieved_list)\n",
    "    colbert_relevant_list.append(relevant_list)\n",
    "    colbert_latencies.append(after - before)"
   ],
   "id": "bbbcece77175fdf5",
   "outputs": [
    {
     "name": "stderr",
     "output_type": "stream",
     "text": [
      "100%|██████████| 1000/1000 [10:47<00:00,  1.54it/s]\n"
     ]
    }
   ],
   "execution_count": 61
  },
  {
   "metadata": {
    "ExecuteTime": {
     "end_time": "2024-06-26T16:56:20.751527Z",
     "start_time": "2024-06-26T16:56:19.821285Z"
    }
   },
   "cell_type": "code",
   "source": [
    "# calculate stats\n",
    "colbert_stats = [compute_all_stats(retrieved_list, relevant_list) for retrieved_list, relevant_list in\n",
    "                 zip(colbert_retrieved_list, colbert_relevant_list)]\n",
    "colbert_avg_latency = np.mean(colbert_latencies)"
   ],
   "id": "8055620d62141abc",
   "outputs": [],
   "execution_count": 62
  },
  {
   "metadata": {
    "ExecuteTime": {
     "end_time": "2024-06-26T16:29:01.437828Z",
     "start_time": "2024-06-26T16:28:55.149703Z"
    }
   },
   "cell_type": "code",
   "source": [
    "# Now test BM25\n",
    "bm25_retrieved_list = []\n",
    "bm25_relevant_list = []\n",
    "bm25_latencies = []\n",
    "\n",
    "for row in tqdm(subset):\n",
    "    query = row['query']\n",
    "    n_results = len(row['passages']['is_selected'])\n",
    "    before = time.time()\n",
    "    raw_results = bm25_retriever.invoke(query, k=n_results)\n",
    "    after = time.time()\n",
    "    retrieved_list = [result.page_content for result in raw_results]\n",
    "    relevant_list = row['passages']['passage_text']\n",
    "\n",
    "    bm25_retrieved_list.append(retrieved_list)\n",
    "    bm25_relevant_list.append(relevant_list)\n",
    "    bm25_latencies.append(after - before)\n"
   ],
   "id": "8941db7c854cebb5",
   "outputs": [
    {
     "name": "stderr",
     "output_type": "stream",
     "text": [
      "100%|██████████| 1000/1000 [00:06<00:00, 159.14it/s]\n"
     ]
    }
   ],
   "execution_count": 50
  },
  {
   "metadata": {
    "ExecuteTime": {
     "end_time": "2024-06-26T16:29:03.770947Z",
     "start_time": "2024-06-26T16:29:03.019657Z"
    }
   },
   "cell_type": "code",
   "source": [
    "bm25_stats = [compute_all_stats(retrieved_list, relevant_list) for retrieved_list, relevant_list in\n",
    "              zip(bm25_retrieved_list, bm25_relevant_list)]\n",
    "bm25_avg_latency = np.mean(bm25_latencies)"
   ],
   "id": "f46f048bd7153041",
   "outputs": [],
   "execution_count": 51
  },
  {
   "metadata": {
    "ExecuteTime": {
     "end_time": "2024-06-26T15:12:13.254476Z",
     "start_time": "2024-06-26T15:12:13.251911Z"
    }
   },
   "cell_type": "code",
   "source": [
    "import os\n",
    "from pinecone import Pinecone, ServerlessSpec\n",
    "from langchain_community.retrievers import (\n",
    "    PineconeHybridSearchRetriever,\n",
    ")\n",
    "\n",
    "index_name = keyspace"
   ],
   "id": "ab4aa593e0be0069",
   "outputs": [],
   "execution_count": 18
  },
  {
   "metadata": {
    "ExecuteTime": {
     "end_time": "2024-06-26T15:12:18.596471Z",
     "start_time": "2024-06-26T15:12:17.542991Z"
    }
   },
   "cell_type": "code",
   "source": [
    "# initialize Pinecone client\n",
    "pc = Pinecone(api_key=os.environ[\"PINECONE_API_KEY\"])\n",
    "\n",
    "# create the index\n",
    "if index_name not in pc.list_indexes().names():\n",
    "    pc.create_index(\n",
    "        name=index_name,\n",
    "        dimension=1536,\n",
    "        metric=\"dotproduct\",\n",
    "        spec=ServerlessSpec(cloud=\"aws\", region=\"us-east-1\"),\n",
    "    )"
   ],
   "id": "519df51c188d7865",
   "outputs": [],
   "execution_count": 19
  },
  {
   "metadata": {
    "ExecuteTime": {
     "end_time": "2024-06-26T15:12:18.822077Z",
     "start_time": "2024-06-26T15:12:18.690087Z"
    }
   },
   "cell_type": "code",
   "source": "index = pc.Index(index_name)",
   "id": "cefb7ddf15379d5c",
   "outputs": [],
   "execution_count": 20
  },
  {
   "metadata": {
    "ExecuteTime": {
     "end_time": "2024-06-26T15:12:20.170064Z",
     "start_time": "2024-06-26T15:12:19.918572Z"
    }
   },
   "cell_type": "code",
   "source": [
    "from langchain_openai import OpenAIEmbeddings\n",
    "\n",
    "openai_embeddings = OpenAIEmbeddings()"
   ],
   "id": "64ee93e591e7e17a",
   "outputs": [],
   "execution_count": 21
  },
  {
   "metadata": {
    "ExecuteTime": {
     "end_time": "2024-06-26T15:12:24.183427Z",
     "start_time": "2024-06-26T15:12:20.716934Z"
    }
   },
   "cell_type": "code",
   "source": [
    "from pinecone_text.sparse import BM25Encoder\n",
    "\n",
    "# or from pinecone_text.sparse import SpladeEncoder if you wish to work with SPLADE\n",
    "\n",
    "# use default tf-idf values\n",
    "bm25_encoder = BM25Encoder().default()"
   ],
   "id": "2853be13a95efbd5",
   "outputs": [],
   "execution_count": 22
  },
  {
   "metadata": {
    "ExecuteTime": {
     "end_time": "2024-06-26T15:13:36.029382Z",
     "start_time": "2024-06-26T15:13:33.366391Z"
    }
   },
   "cell_type": "code",
   "source": [
    "bm25_encoder.fit(all_texts)\n",
    "\n",
    "cwd = os.getcwd()\n",
    "bm25_encoder.dump(cwd + \"/bm25_encoder.json\")"
   ],
   "id": "c76e8f23e5cce8da",
   "outputs": [
    {
     "data": {
      "text/plain": [
       "  0%|          | 0/9992 [00:00<?, ?it/s]"
      ],
      "application/vnd.jupyter.widget-view+json": {
       "version_major": 2,
       "version_minor": 0,
       "model_id": "c9396087e598402c821c83d600f2900e"
      }
     },
     "metadata": {},
     "output_type": "display_data"
    }
   ],
   "execution_count": 25
  },
  {
   "metadata": {
    "ExecuteTime": {
     "end_time": "2024-06-26T15:22:57.372847Z",
     "start_time": "2024-06-26T15:22:57.370628Z"
    }
   },
   "cell_type": "code",
   "source": [
    "pinecone_retriever = PineconeHybridSearchRetriever(\n",
    "    embeddings=openai_embeddings, sparse_encoder=bm25_encoder, index=index\n",
    ")"
   ],
   "id": "38cdf1f145157439",
   "outputs": [],
   "execution_count": 28
  },
  {
   "metadata": {
    "ExecuteTime": {
     "end_time": "2024-06-26T15:22:58.440522Z",
     "start_time": "2024-06-26T15:22:57.740656Z"
    }
   },
   "cell_type": "code",
   "source": "result = pinecone_retriever.invoke(\"What is the capital of France?\", k=5)",
   "id": "5c27d05368886f14",
   "outputs": [],
   "execution_count": 29
  },
  {
   "metadata": {
    "ExecuteTime": {
     "end_time": "2024-06-26T15:23:27.868927Z",
     "start_time": "2024-06-26T15:23:27.864033Z"
    }
   },
   "cell_type": "code",
   "source": "print(result[:2])",
   "id": "11793698389754be",
   "outputs": [
    {
     "data": {
      "text/plain": [
       "\u001B[1m[\u001B[0m\n",
       "    \u001B[1;35mDocument\u001B[0m\u001B[1m(\u001B[0m\n",
       "        \u001B[33mpage_content\u001B[0m=\u001B[32m'France has been one of the most dominant agricultural centers of Europe for centuries. That \u001B[0m\n",
       "\u001B[32mgave France an important role in European and, to some extent world, affairs in the pre-industrial age.he major \u001B[0m\n",
       "\u001B[32magricultural products that place France among the top producers in the world market are sugar beets, wine, milk, \u001B[0m\n",
       "\u001B[32mbeef and veal, cereals, and oilseeds.'\u001B[0m,\n",
       "        \u001B[33mmetadata\u001B[0m=\u001B[1m{\u001B[0m\u001B[32m'row_id'\u001B[0m: \u001B[1;36m108.0\u001B[0m\u001B[1m}\u001B[0m\n",
       "    \u001B[1m)\u001B[0m,\n",
       "    \u001B[1;35mDocument\u001B[0m\u001B[1m(\u001B[0m\n",
       "        \u001B[33mpage_content\u001B[0m=\u001B[32m\"The\u001B[0m\u001B[32m most important crop was wheat. Wheat was used to make flour. The farmers ground the wheat\u001B[0m\n",
       "\u001B[32mgrains in the seigneur's flour mill. They would pay the seigneur with part of the … flour for the use of his mill. \u001B[0m\n",
       "\u001B[32mFrance may be a small country in Western Europe, but the impact of French cu…. 2  The Weather in France Though \u001B[0m\n",
       "\u001B[32mFrance is only the size of Texas, it is situated in an area where weather varies greatly.\"\u001B[0m,\n",
       "        \u001B[33mmetadata\u001B[0m=\u001B[1m{\u001B[0m\u001B[32m'row_id'\u001B[0m: \u001B[1;36m108.0\u001B[0m\u001B[1m}\u001B[0m\n",
       "    \u001B[1m)\u001B[0m\n",
       "\u001B[1m]\u001B[0m\n"
      ],
      "text/html": [
       "<pre style=\"white-space:pre;overflow-x:auto;line-height:normal;font-family:Menlo,'DejaVu Sans Mono',consolas,'Courier New',monospace\"><span style=\"font-weight: bold\">[</span>\n",
       "    <span style=\"color: #800080; text-decoration-color: #800080; font-weight: bold\">Document</span><span style=\"font-weight: bold\">(</span>\n",
       "        <span style=\"color: #808000; text-decoration-color: #808000\">page_content</span>=<span style=\"color: #008000; text-decoration-color: #008000\">'France has been one of the most dominant agricultural centers of Europe for centuries. That </span>\n",
       "<span style=\"color: #008000; text-decoration-color: #008000\">gave France an important role in European and, to some extent world, affairs in the pre-industrial age.he major </span>\n",
       "<span style=\"color: #008000; text-decoration-color: #008000\">agricultural products that place France among the top producers in the world market are sugar beets, wine, milk, </span>\n",
       "<span style=\"color: #008000; text-decoration-color: #008000\">beef and veal, cereals, and oilseeds.'</span>,\n",
       "        <span style=\"color: #808000; text-decoration-color: #808000\">metadata</span>=<span style=\"font-weight: bold\">{</span><span style=\"color: #008000; text-decoration-color: #008000\">'row_id'</span>: <span style=\"color: #008080; text-decoration-color: #008080; font-weight: bold\">108.0</span><span style=\"font-weight: bold\">}</span>\n",
       "    <span style=\"font-weight: bold\">)</span>,\n",
       "    <span style=\"color: #800080; text-decoration-color: #800080; font-weight: bold\">Document</span><span style=\"font-weight: bold\">(</span>\n",
       "        <span style=\"color: #808000; text-decoration-color: #808000\">page_content</span>=<span style=\"color: #008000; text-decoration-color: #008000\">\"The most important crop was wheat. Wheat was used to make flour. The farmers ground the wheat</span>\n",
       "<span style=\"color: #008000; text-decoration-color: #008000\">grains in the seigneur's flour mill. They would pay the seigneur with part of the … flour for the use of his mill. </span>\n",
       "<span style=\"color: #008000; text-decoration-color: #008000\">France may be a small country in Western Europe, but the impact of French cu…. 2  The Weather in France Though </span>\n",
       "<span style=\"color: #008000; text-decoration-color: #008000\">France is only the size of Texas, it is situated in an area where weather varies greatly.\"</span>,\n",
       "        <span style=\"color: #808000; text-decoration-color: #808000\">metadata</span>=<span style=\"font-weight: bold\">{</span><span style=\"color: #008000; text-decoration-color: #008000\">'row_id'</span>: <span style=\"color: #008080; text-decoration-color: #008080; font-weight: bold\">108.0</span><span style=\"font-weight: bold\">}</span>\n",
       "    <span style=\"font-weight: bold\">)</span>\n",
       "<span style=\"font-weight: bold\">]</span>\n",
       "</pre>\n"
      ]
     },
     "metadata": {},
     "output_type": "display_data"
    }
   ],
   "execution_count": 31
  },
  {
   "metadata": {
    "ExecuteTime": {
     "end_time": "2024-06-26T16:33:22.594740Z",
     "start_time": "2024-06-26T16:29:57.891295Z"
    }
   },
   "cell_type": "code",
   "source": [
    "pinecone_retrieved_list = []\n",
    "pinecone_relevant_list = []\n",
    "pinecone_latencies = []\n",
    "for row in tqdm(subset):\n",
    "    query = row['query']\n",
    "    n_results = len(row['passages']['is_selected'])\n",
    "    before = time.time()\n",
    "    raw_results = pinecone_retriever.invoke(query, k=n_results)\n",
    "    after = time.time()\n",
    "    retrieved_list = [result.page_content for result in raw_results]\n",
    "    relevant_list = row['passages']['passage_text']\n",
    "\n",
    "    pinecone_retrieved_list.append(retrieved_list)\n",
    "    pinecone_relevant_list.append(relevant_list)\n",
    "    pinecone_latencies.append(after - before)"
   ],
   "id": "a2dfb66635aee9e4",
   "outputs": [
    {
     "name": "stderr",
     "output_type": "stream",
     "text": [
      "100%|██████████| 1000/1000 [03:24<00:00,  4.89it/s]\n"
     ]
    }
   ],
   "execution_count": 52
  },
  {
   "metadata": {
    "ExecuteTime": {
     "end_time": "2024-06-26T16:33:23.296248Z",
     "start_time": "2024-06-26T16:33:22.597088Z"
    }
   },
   "cell_type": "code",
   "source": [
    "# calculate stats\n",
    "pinecone_stats = [compute_all_stats(retrieved_list, relevant_list) for retrieved_list, relevant_list in\n",
    "                  zip(pinecone_retrieved_list, pinecone_relevant_list)]\n",
    "pinecone_avg_latency = np.mean(pinecone_latencies)"
   ],
   "id": "fd6be2b07c982ec",
   "outputs": [],
   "execution_count": 53
  },
  {
   "metadata": {
    "ExecuteTime": {
     "end_time": "2024-06-26T16:56:23.914560Z",
     "start_time": "2024-06-26T16:56:23.906477Z"
    }
   },
   "cell_type": "code",
   "source": [
    "# Print a table\n",
    "from rich.table import Table\n",
    "\n",
    "table = Table(title=\"ColBERT vs. BM25 vs. Pinecone Hybrid\")\n",
    "\n",
    "table.add_column(\"Metric\")\n",
    "table.add_column(\"ColBERT\")\n",
    "table.add_column(\"BM25\")\n",
    "table.add_column(\"Pinecone\")\n",
    "\n",
    "for metric in colbert_stats[0].keys():\n",
    "    colbert_values = [stats[metric] for stats in colbert_stats]\n",
    "    bm25_values = [stats[metric] for stats in bm25_stats]\n",
    "    pinecone_values = [stats[metric] for stats in pinecone_stats]\n",
    "\n",
    "    table.add_row(metric, f\"{np.mean(colbert_values):.4f}\", f\"{np.mean(bm25_values):.4f}\",\n",
    "                  f\"{np.mean(pinecone_values):.4f}\")\n",
    "\n",
    "# add latencies\n",
    "table.add_row(\"Average Latency\", f\"{colbert_avg_latency:.4f}\", f\"{bm25_avg_latency:.4f}\", f\"{pinecone_avg_latency:.4f}\")\n",
    "\n",
    "print(table)"
   ],
   "id": "6d359f298aae88d4",
   "outputs": [
    {
     "data": {
      "text/plain": [
       "\u001B[3m      ColBERT vs. BM25 vs. Pinecone Hybrid       \u001B[0m\n",
       "┏━━━━━━━━━━━━━━━━━┳━━━━━━━━━┳━━━━━━━━┳━━━━━━━━━━┓\n",
       "┃\u001B[1m \u001B[0m\u001B[1mMetric         \u001B[0m\u001B[1m \u001B[0m┃\u001B[1m \u001B[0m\u001B[1mColBERT\u001B[0m\u001B[1m \u001B[0m┃\u001B[1m \u001B[0m\u001B[1mBM25  \u001B[0m\u001B[1m \u001B[0m┃\u001B[1m \u001B[0m\u001B[1mPinecone\u001B[0m\u001B[1m \u001B[0m┃\n",
       "┡━━━━━━━━━━━━━━━━━╇━━━━━━━━━╇━━━━━━━━╇━━━━━━━━━━┩\n",
       "│ MRR             │ 0.9825  │ 0.7442 │ 0.9825   │\n",
       "│ nDCG            │ 0.9699  │ 0.7141 │ 0.9816   │\n",
       "│ Precision       │ 0.7040  │ 0.5220 │ 0.9390   │\n",
       "│ Recall          │ 0.7021  │ 0.2086 │ 0.3769   │\n",
       "│ Average Latency │ 0.6468  │ 0.0062 │ 0.2031   │\n",
       "└─────────────────┴─────────┴────────┴──────────┘\n"
      ],
      "text/html": [
       "<pre style=\"white-space:pre;overflow-x:auto;line-height:normal;font-family:Menlo,'DejaVu Sans Mono',consolas,'Courier New',monospace\"><span style=\"font-style: italic\">      ColBERT vs. BM25 vs. Pinecone Hybrid       </span>\n",
       "┏━━━━━━━━━━━━━━━━━┳━━━━━━━━━┳━━━━━━━━┳━━━━━━━━━━┓\n",
       "┃<span style=\"font-weight: bold\"> Metric          </span>┃<span style=\"font-weight: bold\"> ColBERT </span>┃<span style=\"font-weight: bold\"> BM25   </span>┃<span style=\"font-weight: bold\"> Pinecone </span>┃\n",
       "┡━━━━━━━━━━━━━━━━━╇━━━━━━━━━╇━━━━━━━━╇━━━━━━━━━━┩\n",
       "│ MRR             │ 0.9825  │ 0.7442 │ 0.9825   │\n",
       "│ nDCG            │ 0.9699  │ 0.7141 │ 0.9816   │\n",
       "│ Precision       │ 0.7040  │ 0.5220 │ 0.9390   │\n",
       "│ Recall          │ 0.7021  │ 0.2086 │ 0.3769   │\n",
       "│ Average Latency │ 0.6468  │ 0.0062 │ 0.2031   │\n",
       "└─────────────────┴─────────┴────────┴──────────┘\n",
       "</pre>\n"
      ]
     },
     "metadata": {},
     "output_type": "display_data"
    }
   ],
   "execution_count": 63
  },
  {
   "metadata": {
    "ExecuteTime": {
     "end_time": "2024-06-26T19:04:44.977151Z",
     "start_time": "2024-06-26T19:04:44.494467Z"
    }
   },
   "cell_type": "code",
   "source": [
    "import os\n",
    "import weaviate\n",
    "from dotenv import load_dotenv\n",
    "\n",
    "load_dotenv(override=True)\n",
    "\n",
    "auth_config = weaviate.AuthApiKey(api_key=os.environ['WCS_API_KEY'])\n",
    "client = weaviate.Client(\n",
    "    url=os.environ['WCS_URL'],\n",
    "    auth_client_secret=auth_config,\n",
    "    additional_headers={\n",
    "        \"X-Openai-Api-Key\": os.environ[\"OPENAI_API_KEY\"],\n",
    "    },\n",
    ")\n",
    "embeddings = OpenAIEmbeddings()"
   ],
   "id": "6b1ab2f307a469df",
   "outputs": [],
   "execution_count": 76
  },
  {
   "metadata": {
    "ExecuteTime": {
     "end_time": "2024-06-26T19:04:47.009556Z",
     "start_time": "2024-06-26T19:04:47.006723Z"
    }
   },
   "cell_type": "code",
   "source": [
    "from langchain_community.retrievers import (\n",
    "    WeaviateHybridSearchRetriever,\n",
    ")\n",
    "\n",
    "\n",
    "def generate_weaviate_retriever(n_results):\n",
    "    weaviate_retriever = WeaviateHybridSearchRetriever(\n",
    "        client=client,\n",
    "        index_name=\"LangChain\",\n",
    "        text_key=\"text\",\n",
    "        create_schema_if_missing=True,\n",
    "        k=n_results\n",
    "    )\n",
    "    return weaviate_retriever"
   ],
   "id": "5a9afce4963b5ca4",
   "outputs": [],
   "execution_count": 77
  },
  {
   "metadata": {
    "ExecuteTime": {
     "end_time": "2024-06-26T19:04:48.462549Z",
     "start_time": "2024-06-26T19:04:47.829208Z"
    }
   },
   "cell_type": "code",
   "source": "print(generate_weaviate_retriever(5).invoke(\"What is the capital of France?\"))",
   "id": "4701a23804cc7482",
   "outputs": [
    {
     "data": {
      "text/plain": [
       "\u001B[1m[\u001B[0m\n",
       "    \u001B[1;35mDocument\u001B[0m\u001B[1m(\u001B[0m\n",
       "        \u001B[33mpage_content\u001B[0m=\u001B[32m'One-third of France’s land is crop growing. Wheat is the major single crop grown at large \u001B[0m\n",
       "\u001B[32mfarms in the Paris Basin and in the north.In southern France, most of the grapes produced are used in making wine \u001B[0m\n",
       "\u001B[32mbeing of high quality that come from several regions.In the Mediterranean region, grapes are used for cheaper \u001B[0m\n",
       "\u001B[32mwines.heat is the major single crop grown at large farms in the Paris Basin and in the north. In southern France, \u001B[0m\n",
       "\u001B[32mmost of the grapes produced are used in making wine being of high quality that come from several regions.'\u001B[0m\n",
       "    \u001B[1m)\u001B[0m,\n",
       "    \u001B[1;35mDocument\u001B[0m\u001B[1m(\u001B[0m\n",
       "        \u001B[33mpage_content\u001B[0m=\u001B[32m'France has been one of the most dominant agricultural centers of Europe for centuries. That \u001B[0m\n",
       "\u001B[32mgave France an important role in European and, to some extent world, affairs in the pre-industrial age.he major \u001B[0m\n",
       "\u001B[32magricultural products that place France among the top producers in the world market are sugar beets, wine, milk, \u001B[0m\n",
       "\u001B[32mbeef and veal, cereals, and oilseeds.'\u001B[0m\n",
       "    \u001B[1m)\u001B[0m,\n",
       "    \u001B[1;35mDocument\u001B[0m\u001B[1m(\u001B[0m\n",
       "        \u001B[33mpage_content\u001B[0m=\u001B[32m'Food of France-a regional guide. You are here: French recipes French foods by region. When \u001B[0m\n",
       "\u001B[32mpeople talk of French food in restaurants they are usually referring to sophistication, fine food and wine and \u001B[0m\n",
       "\u001B[32mexpensive restaurants.outh-West France: In the south-west of France the emphasis is on rich foods. The main \u001B[0m\n",
       "\u001B[32mspecialities are duck, foie gras, prunes, oysters, mushrooms and truffles. And of course a nice rich red Bordeaux \u001B[0m\n",
       "\u001B[32mwine to go with it.'\u001B[0m\n",
       "    \u001B[1m)\u001B[0m,\n",
       "    \u001B[1;35mDocument\u001B[0m\u001B[1m(\u001B[0m\n",
       "        \u001B[33mpage_content\u001B[0m=\u001B[32m'It takes second place in both the EU and the world in the production of its highly popular \u001B[0m\n",
       "\u001B[32mwine varieties, with 5.3 million metric tons. Though fifth in the world, France ranks second in the EU in milk \u001B[0m\n",
       "\u001B[32mproduction, totaling 23.3 million metric tons.he major agricultural products that place France among the top \u001B[0m\n",
       "\u001B[32mproducers in the world market are sugar beets, wine, milk, beef and veal, cereals, and oilseeds.'\u001B[0m\n",
       "    \u001B[1m)\u001B[0m,\n",
       "    \u001B[1;35mDocument\u001B[0m\u001B[1m(\u001B[0m\n",
       "        \u001B[33mpage_content\u001B[0m=\u001B[32m\"The\u001B[0m\u001B[32m most important crop was wheat. Wheat was used to make flour. The farmers ground the wheat\u001B[0m\n",
       "\u001B[32mgrains in the seigneur's flour mill. They would pay the seigneur with part of the … flour for the use of his mill. \u001B[0m\n",
       "\u001B[32mFrance may be a small country in Western Europe, but the impact of French cu…. 2  The Weather in France Though \u001B[0m\n",
       "\u001B[32mFrance is only the size of Texas, it is situated in an area where weather varies greatly.\"\u001B[0m\n",
       "    \u001B[1m)\u001B[0m\n",
       "\u001B[1m]\u001B[0m\n"
      ],
      "text/html": [
       "<pre style=\"white-space:pre;overflow-x:auto;line-height:normal;font-family:Menlo,'DejaVu Sans Mono',consolas,'Courier New',monospace\"><span style=\"font-weight: bold\">[</span>\n",
       "    <span style=\"color: #800080; text-decoration-color: #800080; font-weight: bold\">Document</span><span style=\"font-weight: bold\">(</span>\n",
       "        <span style=\"color: #808000; text-decoration-color: #808000\">page_content</span>=<span style=\"color: #008000; text-decoration-color: #008000\">'One-third of France’s land is crop growing. Wheat is the major single crop grown at large </span>\n",
       "<span style=\"color: #008000; text-decoration-color: #008000\">farms in the Paris Basin and in the north.In southern France, most of the grapes produced are used in making wine </span>\n",
       "<span style=\"color: #008000; text-decoration-color: #008000\">being of high quality that come from several regions.In the Mediterranean region, grapes are used for cheaper </span>\n",
       "<span style=\"color: #008000; text-decoration-color: #008000\">wines.heat is the major single crop grown at large farms in the Paris Basin and in the north. In southern France, </span>\n",
       "<span style=\"color: #008000; text-decoration-color: #008000\">most of the grapes produced are used in making wine being of high quality that come from several regions.'</span>\n",
       "    <span style=\"font-weight: bold\">)</span>,\n",
       "    <span style=\"color: #800080; text-decoration-color: #800080; font-weight: bold\">Document</span><span style=\"font-weight: bold\">(</span>\n",
       "        <span style=\"color: #808000; text-decoration-color: #808000\">page_content</span>=<span style=\"color: #008000; text-decoration-color: #008000\">'France has been one of the most dominant agricultural centers of Europe for centuries. That </span>\n",
       "<span style=\"color: #008000; text-decoration-color: #008000\">gave France an important role in European and, to some extent world, affairs in the pre-industrial age.he major </span>\n",
       "<span style=\"color: #008000; text-decoration-color: #008000\">agricultural products that place France among the top producers in the world market are sugar beets, wine, milk, </span>\n",
       "<span style=\"color: #008000; text-decoration-color: #008000\">beef and veal, cereals, and oilseeds.'</span>\n",
       "    <span style=\"font-weight: bold\">)</span>,\n",
       "    <span style=\"color: #800080; text-decoration-color: #800080; font-weight: bold\">Document</span><span style=\"font-weight: bold\">(</span>\n",
       "        <span style=\"color: #808000; text-decoration-color: #808000\">page_content</span>=<span style=\"color: #008000; text-decoration-color: #008000\">'Food of France-a regional guide. You are here: French recipes French foods by region. When </span>\n",
       "<span style=\"color: #008000; text-decoration-color: #008000\">people talk of French food in restaurants they are usually referring to sophistication, fine food and wine and </span>\n",
       "<span style=\"color: #008000; text-decoration-color: #008000\">expensive restaurants.outh-West France: In the south-west of France the emphasis is on rich foods. The main </span>\n",
       "<span style=\"color: #008000; text-decoration-color: #008000\">specialities are duck, foie gras, prunes, oysters, mushrooms and truffles. And of course a nice rich red Bordeaux </span>\n",
       "<span style=\"color: #008000; text-decoration-color: #008000\">wine to go with it.'</span>\n",
       "    <span style=\"font-weight: bold\">)</span>,\n",
       "    <span style=\"color: #800080; text-decoration-color: #800080; font-weight: bold\">Document</span><span style=\"font-weight: bold\">(</span>\n",
       "        <span style=\"color: #808000; text-decoration-color: #808000\">page_content</span>=<span style=\"color: #008000; text-decoration-color: #008000\">'It takes second place in both the EU and the world in the production of its highly popular </span>\n",
       "<span style=\"color: #008000; text-decoration-color: #008000\">wine varieties, with 5.3 million metric tons. Though fifth in the world, France ranks second in the EU in milk </span>\n",
       "<span style=\"color: #008000; text-decoration-color: #008000\">production, totaling 23.3 million metric tons.he major agricultural products that place France among the top </span>\n",
       "<span style=\"color: #008000; text-decoration-color: #008000\">producers in the world market are sugar beets, wine, milk, beef and veal, cereals, and oilseeds.'</span>\n",
       "    <span style=\"font-weight: bold\">)</span>,\n",
       "    <span style=\"color: #800080; text-decoration-color: #800080; font-weight: bold\">Document</span><span style=\"font-weight: bold\">(</span>\n",
       "        <span style=\"color: #808000; text-decoration-color: #808000\">page_content</span>=<span style=\"color: #008000; text-decoration-color: #008000\">\"The most important crop was wheat. Wheat was used to make flour. The farmers ground the wheat</span>\n",
       "<span style=\"color: #008000; text-decoration-color: #008000\">grains in the seigneur's flour mill. They would pay the seigneur with part of the … flour for the use of his mill. </span>\n",
       "<span style=\"color: #008000; text-decoration-color: #008000\">France may be a small country in Western Europe, but the impact of French cu…. 2  The Weather in France Though </span>\n",
       "<span style=\"color: #008000; text-decoration-color: #008000\">France is only the size of Texas, it is situated in an area where weather varies greatly.\"</span>\n",
       "    <span style=\"font-weight: bold\">)</span>\n",
       "<span style=\"font-weight: bold\">]</span>\n",
       "</pre>\n"
      ]
     },
     "metadata": {},
     "output_type": "display_data"
    }
   ],
   "execution_count": 78
  },
  {
   "metadata": {
    "ExecuteTime": {
     "end_time": "2024-06-26T19:16:19.584078Z",
     "start_time": "2024-06-26T19:04:57.267387Z"
    }
   },
   "cell_type": "code",
   "source": [
    "weaviate_retrieved_list = []\n",
    "weaviate_relevant_list = []\n",
    "weaviate_latencies = []\n",
    "\n",
    "for row in tqdm(subset):\n",
    "    query = row['query']\n",
    "    n_results = len(row['passages']['is_selected'])\n",
    "    weaviate_retriever = generate_weaviate_retriever(n_results)\n",
    "    success = False\n",
    "    while not success:\n",
    "        try:\n",
    "            before = time.time()\n",
    "            raw_results = weaviate_retriever.invoke(query)\n",
    "            after = time.time()\n",
    "            success = True\n",
    "        except Exception as e:\n",
    "            print(e)\n",
    "    retrieved_list = [result.page_content for result in raw_results]\n",
    "    relevant_list = row['passages']['passage_text']\n",
    "\n",
    "    weaviate_retrieved_list.append(retrieved_list)\n",
    "    weaviate_relevant_list.append(relevant_list)\n",
    "    weaviate_latencies.append(after - before)"
   ],
   "id": "685a46e2bcb7b00a",
   "outputs": [
    {
     "name": "stderr",
     "output_type": "stream",
     "text": [
      "100%|██████████| 1000/1000 [11:22<00:00,  1.47it/s]\n"
     ]
    }
   ],
   "execution_count": 79
  },
  {
   "metadata": {
    "ExecuteTime": {
     "end_time": "2024-06-26T19:16:20.315638Z",
     "start_time": "2024-06-26T19:16:19.586653Z"
    }
   },
   "cell_type": "code",
   "source": [
    "# calculate stats\n",
    "weaviate_stats = [compute_all_stats(retrieved_list, relevant_list) for retrieved_list, relevant_list in\n",
    "                  zip(weaviate_retrieved_list, weaviate_relevant_list)]\n",
    "\n",
    "weaviate_avg_latency = np.mean(weaviate_latencies)"
   ],
   "id": "2ee22832fa3287b7",
   "outputs": [],
   "execution_count": 80
  },
  {
   "metadata": {
    "ExecuteTime": {
     "end_time": "2024-06-26T19:53:56.865539Z",
     "start_time": "2024-06-26T19:53:56.856176Z"
    }
   },
   "cell_type": "code",
   "source": [
    "# Print a table\n",
    "from rich.table import Table\n",
    "\n",
    "metrics = [\"Metric\"] + list(colbert_stats[0].keys()) + [\"Average Latency\"]\n",
    "colbert_values = [\"ColBERT\"] + [f\"{np.mean([stats[metric] for stats in colbert_stats]):.4f}\" for metric in\n",
    "                                colbert_stats[0].keys()] + [f\"{colbert_avg_latency:.4f}\"]\n",
    "bm25_values = [\"BM25\"] + [f\"{np.mean([stats[metric] for stats in bm25_stats]):.4f}\" for metric in\n",
    "                          bm25_stats[0].keys()] + [f\"{bm25_avg_latency:.4f}\"]\n",
    "pinecone_values = [\"Pinecone\"] + [f\"{np.mean([stats[metric] for stats in pinecone_stats]):.4f}\" for metric in\n",
    "                                  pinecone_stats[0].keys()] + [f\"{pinecone_avg_latency:.4f}\"]\n",
    "weaviate_values = [\"Weaviate\"] + [f\"{np.mean([stats[metric] for stats in weaviate_stats]):.4f}\" for metric in\n",
    "                                  weaviate_stats[0].keys()] + [f\"{weaviate_avg_latency:.4f}\"]\n",
    "\n",
    "# Create new table with transposed structure\n",
    "table = Table(title=\"Metric Comparison:\\nColBERT vs. BM25 vs. Pinecone Hybrid vs. Weaviate Hybrid\")\n",
    "\n",
    "# Adding columns\n",
    "for col in metrics:\n",
    "    table.add_column(col)\n",
    "\n",
    "# Adding rows\n",
    "table.add_row(*colbert_values)\n",
    "table.add_row(*bm25_values)\n",
    "table.add_row(*pinecone_values)\n",
    "table.add_row(*weaviate_values)\n",
    "\n",
    "print(table)\n",
    "print(\"Note: the ColBERT # of candidates was set to half the length of the query embedding.\")"
   ],
   "id": "a7f0a70950a77964",
   "outputs": [
    {
     "data": {
      "text/plain": [
       "\u001B[3m                         Metric Comparison:                          \u001B[0m\n",
       "\u001B[3m      ColBERT vs. BM25 vs. Pinecone Hybrid vs. Weaviate Hybrid       \u001B[0m\n",
       "┏━━━━━━━━━━┳━━━━━━━━┳━━━━━━━━┳━━━━━━━━━━━┳━━━━━━━━┳━━━━━━━━━━━━━━━━━┓\n",
       "┃\u001B[1m \u001B[0m\u001B[1mMetric  \u001B[0m\u001B[1m \u001B[0m┃\u001B[1m \u001B[0m\u001B[1mMRR   \u001B[0m\u001B[1m \u001B[0m┃\u001B[1m \u001B[0m\u001B[1mnDCG  \u001B[0m\u001B[1m \u001B[0m┃\u001B[1m \u001B[0m\u001B[1mPrecision\u001B[0m\u001B[1m \u001B[0m┃\u001B[1m \u001B[0m\u001B[1mRecall\u001B[0m\u001B[1m \u001B[0m┃\u001B[1m \u001B[0m\u001B[1mAverage Latency\u001B[0m\u001B[1m \u001B[0m┃\n",
       "┡━━━━━━━━━━╇━━━━━━━━╇━━━━━━━━╇━━━━━━━━━━━╇━━━━━━━━╇━━━━━━━━━━━━━━━━━┩\n",
       "│ ColBERT  │ 0.9825 │ 0.9699 │ 0.7040    │ 0.7021 │ 0.6468          │\n",
       "│ BM25     │ 0.7442 │ 0.7141 │ 0.5220    │ 0.2086 │ 0.0062          │\n",
       "│ Pinecone │ 0.9825 │ 0.9816 │ 0.9390    │ 0.3769 │ 0.2031          │\n",
       "│ Weaviate │ 0.9805 │ 0.9775 │ 0.8120    │ 0.8108 │ 0.5371          │\n",
       "└──────────┴────────┴────────┴───────────┴────────┴─────────────────┘\n"
      ],
      "text/html": [
       "<pre style=\"white-space:pre;overflow-x:auto;line-height:normal;font-family:Menlo,'DejaVu Sans Mono',consolas,'Courier New',monospace\"><span style=\"font-style: italic\">                         Metric Comparison:                          </span>\n",
       "<span style=\"font-style: italic\">      ColBERT vs. BM25 vs. Pinecone Hybrid vs. Weaviate Hybrid       </span>\n",
       "┏━━━━━━━━━━┳━━━━━━━━┳━━━━━━━━┳━━━━━━━━━━━┳━━━━━━━━┳━━━━━━━━━━━━━━━━━┓\n",
       "┃<span style=\"font-weight: bold\"> Metric   </span>┃<span style=\"font-weight: bold\"> MRR    </span>┃<span style=\"font-weight: bold\"> nDCG   </span>┃<span style=\"font-weight: bold\"> Precision </span>┃<span style=\"font-weight: bold\"> Recall </span>┃<span style=\"font-weight: bold\"> Average Latency </span>┃\n",
       "┡━━━━━━━━━━╇━━━━━━━━╇━━━━━━━━╇━━━━━━━━━━━╇━━━━━━━━╇━━━━━━━━━━━━━━━━━┩\n",
       "│ ColBERT  │ 0.9825 │ 0.9699 │ 0.7040    │ 0.7021 │ 0.6468          │\n",
       "│ BM25     │ 0.7442 │ 0.7141 │ 0.5220    │ 0.2086 │ 0.0062          │\n",
       "│ Pinecone │ 0.9825 │ 0.9816 │ 0.9390    │ 0.3769 │ 0.2031          │\n",
       "│ Weaviate │ 0.9805 │ 0.9775 │ 0.8120    │ 0.8108 │ 0.5371          │\n",
       "└──────────┴────────┴────────┴───────────┴────────┴─────────────────┘\n",
       "</pre>\n"
      ]
     },
     "metadata": {},
     "output_type": "display_data"
    },
    {
     "data": {
      "text/plain": [
       "Note: the ColBERT # of candidates was set to half the length of the query embedding.\n"
      ],
      "text/html": [
       "<pre style=\"white-space:pre;overflow-x:auto;line-height:normal;font-family:Menlo,'DejaVu Sans Mono',consolas,'Courier New',monospace\">Note: the ColBERT # of candidates was set to half the length of the query embedding.\n",
       "</pre>\n"
      ]
     },
     "metadata": {},
     "output_type": "display_data"
    }
   ],
   "execution_count": 90
  },
  {
   "metadata": {
    "ExecuteTime": {
     "end_time": "2024-06-26T19:50:42.930557Z",
     "start_time": "2024-06-26T19:50:42.793647Z"
    }
   },
   "cell_type": "code",
   "source": [
    "# Plot the latency distribution\n",
    "import matplotlib.pyplot as plt\n",
    "\n",
    "plt.hist(colbert_latencies, bins=50, alpha=0.5, label='ColBERT')\n",
    "plt.hist(bm25_latencies, bins=50, alpha=0.5, label='BM25')\n",
    "plt.hist(pinecone_latencies, bins=50, alpha=0.5, label='Pinecone')\n",
    "plt.hist(weaviate_latencies, bins=50, alpha=0.5, label='Weaviate')\n",
    "plt.legend(loc='upper right')\n",
    "plt.xlabel('Latency (s)')\n",
    "plt.ylabel('Frequency')\n",
    "plt.xlim([0, 2])\n",
    "plt.ylim([0, 250])\n",
    "plt.title('Latency Distribution for ColBERT, BM25,\\nPinecone Hybrid, and Weaviate Hybrid Searches')"
   ],
   "id": "ddfa47017fdd585",
   "outputs": [
    {
     "data": {
      "text/plain": [
       "Text(0.5, 1.0, 'Latency Distribution for ColBERT, BM25,\\nPinecone Hybrid, and Weaviate Hybrid Searches')"
      ]
     },
     "execution_count": 88,
     "metadata": {},
     "output_type": "execute_result"
    },
    {
     "data": {
      "text/plain": [
       "<Figure size 640x480 with 1 Axes>"
      ],
      "image/png": "[encoded data removed]"
     },
     "metadata": {},
     "output_type": "display_data"
    }
   ],
   "execution_count": 88
  },
  {
   "metadata": {
    "ExecuteTime": {
     "end_time": "2024-06-26T19:48:20.770680Z",
     "start_time": "2024-06-26T19:48:20.748130Z"
    }
   },
   "cell_type": "code",
   "source": [
    "# Save the stats to a json file\n",
    "import json\n",
    "\n",
    "cwd = os.getcwd()\n",
    "\n",
    "with open(f\"{cwd}/testing_stats.json\", \"w\") as f:\n",
    "    json.dump({\"ColBERT\": colbert_stats, \"BM25\": bm25_stats, \"Pinecone\": pinecone_stats, \"Weaviate\": weaviate_stats}, f)\n",
    "\n",
    "print(\"Stats saved to testing_stats.json\")"
   ],
   "id": "c57459e0cd73e17e",
   "outputs": [
    {
     "data": {
      "text/plain": [
       "Stats saved to testing_stats.json\n"
      ],
      "text/html": [
       "<pre style=\"white-space:pre;overflow-x:auto;line-height:normal;font-family:Menlo,'DejaVu Sans Mono',consolas,'Courier New',monospace\">Stats saved to testing_stats.json\n",
       "</pre>\n"
      ]
     },
     "metadata": {},
     "output_type": "display_data"
    }
   ],
   "execution_count": 84
  },
  {
   "metadata": {
    "ExecuteTime": {
     "end_time": "2024-06-26T19:48:32.762512Z",
     "start_time": "2024-06-26T19:48:32.756916Z"
    }
   },
   "cell_type": "code",
   "source": [
    "# Load the stats from the json file\n",
    "import json\n",
    "import os\n",
    "\n",
    "cwd = os.getcwd()\n",
    "with open(f\"{cwd}/testing_stats.json\", \"r\") as f:\n",
    "    stats = json.load(f)"
   ],
   "id": "4b182c6ecd0b624a",
   "outputs": [],
   "execution_count": 85
  },
  {
   "metadata": {},
   "cell_type": "code",
   "outputs": [
    {
     "data": {
      "text/plain": [
       "\u001B[1;35mdict_keys\u001B[0m\u001B[1m(\u001B[0m\u001B[1m[\u001B[0m\u001B[32m'ColBERT'\u001B[0m, \u001B[32m'BM25'\u001B[0m\u001B[1m]\u001B[0m\u001B[1m)\u001B[0m\n"
      ],
      "text/html": [
       "<pre style=\"white-space:pre;overflow-x:auto;line-height:normal;font-family:Menlo,'DejaVu Sans Mono',consolas,'Courier New',monospace\"><span style=\"color: #800080; text-decoration-color: #800080; font-weight: bold\">dict_keys</span><span style=\"font-weight: bold\">([</span><span style=\"color: #008000; text-decoration-color: #008000\">'ColBERT'</span>, <span style=\"color: #008000; text-decoration-color: #008000\">'BM25'</span><span style=\"font-weight: bold\">])</span>\n",
       "</pre>\n"
      ]
     },
     "metadata": {},
     "output_type": "display_data"
    }
   ],
   "execution_count": 14,
   "source": [
    "print(stats.keys())\n",
    "colbert_stats = stats[\"ColBERT\"]\n",
    "bm25_stats = stats[\"BM25\"]\n",
    "pinecone_stats = stats[\"Pinecone\"]\n",
    "weaviate_stats = stats[\"Weaviate\"]"
   ],
   "id": "6cc8761a1d5eae9"
  },
  {
   "metadata": {
    "ExecuteTime": {
     "end_time": "2024-06-27T15:32:55.350957Z",
     "start_time": "2024-06-27T15:32:55.348715Z"
    }
   },
   "cell_type": "code",
   "source": [
    "import sys\n",
    "\n",
    "sys.path.append(os.path.abspath('ragstack-ai-colbert-pre-score/libs/colbert'))\n",
    "\n",
    "# The following lines might appear as an error, but they should run correctly.\n",
    "from ragstack_colbert_2.colbert_retriever import ColbertRetriever as ColbertRetriever2\n",
    "from ragstack_colbert_2.colbert_embedding_model import ColbertEmbeddingModel as ColbertEmbeddingModel2\n",
    "from ragstack_colbert_2 import CassandraDatabase as CassandraDatabase2"
   ],
   "id": "efe18afdd2dad846",
   "outputs": [],
   "execution_count": 109
  },
  {
   "metadata": {
    "ExecuteTime": {
     "end_time": "2024-06-27T15:33:01.501156Z",
     "start_time": "2024-06-27T15:32:56.814559Z"
    }
   },
   "cell_type": "code",
   "source": [
    "new_database = CassandraDatabase2.from_astra(\n",
    "    astra_token=astra_token,\n",
    "    database_id=database_id,\n",
    "    keyspace=keyspace\n",
    ")\n",
    "\n",
    "embedding_model = ColbertEmbeddingModel()"
   ],
   "id": "6335a4befc082c48",
   "outputs": [
    {
     "name": "stderr",
     "output_type": "stream",
     "text": [
      "WARNING:cassandra.cluster:Downgrading core protocol version from 66 to 65 for b83877d6-20f6-4695-a216-b2d1931f8540-us-east-2.db.astra.datastax.com:29042:190dafab-6970-3a67-a21c-1226360de7dc. To avoid this, it is best practice to explicitly set Cluster(protocol_version) to the version supported by your cluster. http://datastax.github.io/python-driver/api/cassandra/cluster.html#cassandra.cluster.Cluster.protocol_version\n",
      "WARNING:cassandra.cluster:Downgrading core protocol version from 65 to 5 for b83877d6-20f6-4695-a216-b2d1931f8540-us-east-2.db.astra.datastax.com:29042:190dafab-6970-3a67-a21c-1226360de7dc. To avoid this, it is best practice to explicitly set Cluster(protocol_version) to the version supported by your cluster. http://datastax.github.io/python-driver/api/cassandra/cluster.html#cassandra.cluster.Cluster.protocol_version\n",
      "WARNING:cassandra.cluster:Downgrading core protocol version from 5 to 4 for b83877d6-20f6-4695-a216-b2d1931f8540-us-east-2.db.astra.datastax.com:29042:190dafab-6970-3a67-a21c-1226360de7dc. To avoid this, it is best practice to explicitly set Cluster(protocol_version) to the version supported by your cluster. http://datastax.github.io/python-driver/api/cassandra/cluster.html#cassandra.cluster.Cluster.protocol_version\n"
     ]
    }
   ],
   "execution_count": 110
  },
  {
   "metadata": {
    "ExecuteTime": {
     "end_time": "2024-06-27T15:33:06.099463Z",
     "start_time": "2024-06-27T15:33:05.372702Z"
    }
   },
   "cell_type": "code",
   "source": [
    "new_colbert_retriever = ColbertRetriever2(\n",
    "    database=new_database,\n",
    "    embedding_model=ColbertEmbeddingModel2(),\n",
    ")"
   ],
   "id": "867c820c53666af0",
   "outputs": [],
   "execution_count": 111
  },
  {
   "metadata": {
    "ExecuteTime": {
     "end_time": "2024-06-27T15:33:08.239528Z",
     "start_time": "2024-06-27T15:33:07.483332Z"
    }
   },
   "cell_type": "code",
   "source": "new_colbert_retriever.text_search(\"What is France known for?\", k=5)",
   "id": "850f5ac43db0df1f",
   "outputs": [
    {
     "name": "stdout",
     "output_type": "stream",
     "text": [
      "\n",
      "#> QueryTokenizer.tensorize(batch_text[0], batch_background[0], bsize) ==\n",
      "#> Input: . What is France known for?, \t\t True, \t\t None\n",
      "#> Output IDs: torch.Size([9]), tensor([ 101,    1, 2054, 2003, 2605, 2124, 2005, 1029,  102])\n",
      "#> Output Mask: torch.Size([9]), tensor([1, 1, 1, 1, 1, 1, 1, 1, 1])\n",
      "\n"
     ]
    },
    {
     "data": {
      "text/plain": [
       "[(Chunk(doc_id='6f9508ec-3db0-48aa-909e-9a21551b9566', chunk_id=18, text='Our calendars. 1  FestivalsExplore the many festivals that Montral is known for. 2  Accs Culture networkDiscover shows and exhibitions presented by Montrals municipal arts and culture network. 3  Major sporting events (in French)Every year, Montral hosts a number of major sporting events!', metadata={'row_id': '17.0'}, embedding=None),\n",
       "  5.309963345527649),\n",
       " (Chunk(doc_id='67b09287-c902-4d5c-8472-0b0b2f892dce', chunk_id=1, text='France has been one of the most dominant agricultural centers of Europe for centuries. That gave France an important role in European and, to some extent world, affairs in the pre-industrial age.he major agricultural products that place France among the top producers in the world market are sugar beets, wine, milk, beef and veal, cereals, and oilseeds.', metadata={'row_id': '108.0'}, embedding=None),\n",
       "  5.052829682826996),\n",
       " (Chunk(doc_id='67b09287-c902-4d5c-8472-0b0b2f892dce', chunk_id=2, text=\"France is one of the largest wine producers in the world. French wine traces its history to the 6th century BC, with many of France's regions dating their wine-making history to Roman times.The wines produced range from expensive high-end wines sold internationally to more modest wines usually only seen within France.rance is the source of many grape varieties (Cabernet Sauvignon, Chardonnay, Pinot noir, Sauvignon blanc, Syrah) that are now planted throughout the world, as well as wine-making practices and styles of wine that have been adopted in other producing countries.\", metadata={'row_id': '108.0'}, embedding=None),\n",
       "  4.932011038064957),\n",
       " (Chunk(doc_id='67b09287-c902-4d5c-8472-0b0b2f892dce', chunk_id=3, text='The country is the largest agricultural producer in Western Europe and one of the world’s leading exporters of farm products. All the farms have electricity, and most have modern farm machinery with an average holding of 28 hectares. Nearly two-thirds of French farm income comes from meat and dairy animals.heat is the major single crop grown at large farms in the Paris Basin and in the north. In southern France, most of the grapes produced are used in making wine being of high quality that come from several regions.', metadata={'row_id': '108.0'}, embedding=None),\n",
       "  4.890899658203125),\n",
       " (Chunk(doc_id='2bffbaab-5ab9-4e91-8cc6-e004a81cb9bc', chunk_id=13, text=\"Arneis is another grape/wine made in the area, creating a fuller wine that displays some nuttiness in the aroma and taste. Asti is well known for its sparkling wine – in particular Asti Spumante and Moscato d'Asti.\", metadata={'row_id': '446.0'}, embedding=None),\n",
       "  4.726333111524582)]"
      ]
     },
     "execution_count": 112,
     "metadata": {},
     "output_type": "execute_result"
    }
   ],
   "execution_count": 112
  },
  {
   "metadata": {
    "ExecuteTime": {
     "end_time": "2024-06-27T15:48:20.075086Z",
     "start_time": "2024-06-27T15:48:20.071949Z"
    }
   },
   "cell_type": "code",
   "source": [
    "def test_colbert_at(multiplier):\n",
    "    colbert_new_retrieved_list = []\n",
    "    colbert_new_relevant_list = []\n",
    "    colbert_new_latencies = []\n",
    "    \n",
    "    for row in tqdm(subset):\n",
    "        query = row['query']\n",
    "        n_results = len(row['passages']['is_selected'])\n",
    "        before = time.time()\n",
    "        raw_results = new_colbert_retriever.text_search(query, k=n_results, multiplier=multiplier)\n",
    "        after = time.time()\n",
    "        retrieved_list = [result[0].text for result in raw_results]\n",
    "        relevant_list = row['passages']['passage_text']\n",
    "    \n",
    "        colbert_new_retrieved_list.append(retrieved_list)\n",
    "        colbert_new_relevant_list.append(relevant_list)\n",
    "        colbert_new_latencies.append(after - before)\n",
    "        \n",
    "    # calculate stats\n",
    "    colbert_new_stats = [compute_all_stats(retrieved_list, relevant_list) for retrieved_list, relevant_list in zip(colbert_new_retrieved_list, colbert_new_relevant_list)]\n",
    "    colbert_new_avg_latency = np.mean(colbert_new_latencies)\n",
    "    colbert_new_stats[\"Average Latency\"] = colbert_new_avg_latency\n",
    "    \n",
    "    return colbert_new_stats\n",
    "    "
   ],
   "id": "e5aa31dd4f51792b",
   "outputs": [],
   "execution_count": 119
  },
  {
   "metadata": {
    "jupyter": {
     "is_executing": true
    },
    "ExecuteTime": {
     "start_time": "2024-06-27T16:08:14.325350Z"
    }
   },
   "cell_type": "code",
   "source": [
    "stat_dict = {}\n",
    "\n",
    "for multiplier in [0.1, 0.25, 0.5, 1, 2, 3, 4, 5]:\n",
    "    print(\"Testing multiplier:\", multiplier)\n",
    "    stats = test_colbert_at(multiplier)\n",
    "    stat_dict[multiplier] = stats"
   ],
   "id": "724759f93e369050",
   "outputs": [
    {
     "data": {
      "text/plain": [
       "Testing multiplier: \u001B[1;36m0.1\u001B[0m\n"
      ],
      "text/html": [
       "<pre style=\"white-space:pre;overflow-x:auto;line-height:normal;font-family:Menlo,'DejaVu Sans Mono',consolas,'Courier New',monospace\">Testing multiplier: <span style=\"color: #008080; text-decoration-color: #008080; font-weight: bold\">0.1</span>\n",
       "</pre>\n"
      ]
     },
     "metadata": {},
     "output_type": "display_data"
    },
    {
     "name": "stderr",
     "output_type": "stream",
     "text": [
      " 20%|█▉        | 198/1000 [01:33<05:37,  2.37it/s]"
     ]
    }
   ],
   "execution_count": null
  },
  {
   "metadata": {},
   "cell_type": "code",
   "outputs": [],
   "execution_count": null,
   "source": "",
   "id": "bf6f42f9327d3587"
  }
 ],
 "metadata": {
  "kernelspec": {
   "display_name": "Python 3",
   "language": "python",
   "name": "python3"
  },
  "language_info": {
   "codemirror_mode": {
    "name": "ipython",
    "version": 2
   },
   "file_extension": ".py",
   "mimetype": "text/x-python",
   "name": "python",
   "nbconvert_exporter": "python",
   "pygments_lexer": "ipython2",
   "version": "2.7.6"
  }
 },
 "nbformat": 4,
 "nbformat_minor": 5
}
