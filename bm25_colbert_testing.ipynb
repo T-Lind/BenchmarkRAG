{
 "cells": [
  {
   "metadata": {
    "ExecuteTime": {
     "end_time": "2024-06-25T16:14:38.853918Z",
     "start_time": "2024-06-25T16:14:38.850881Z"
    }
   },
   "cell_type": "code",
   "source": [
    "# Some minor setup for the notebook\n",
    "import warnings\n",
    "import nest_asyncio\n",
    "\n",
    "# Ignore all warnings\n",
    "warnings.filterwarnings(\"ignore\")\n",
    "\n",
    "# Allows for running async code in Jupyter notebooks\n",
    "nest_asyncio.apply()"
   ],
   "id": "c04ce7fddabc7f73",
   "outputs": [],
   "execution_count": 21
  },
  {
   "metadata": {},
   "cell_type": "code",
   "outputs": [
    {
     "data": {
      "text/plain": [
       "True"
      ]
     },
     "execution_count": 12,
     "metadata": {},
     "output_type": "execute_result"
    }
   ],
   "execution_count": 12,
   "source": [
    "from dotenv import load_dotenv\n",
    "\n",
    "load_dotenv(override=True)"
   ],
   "id": "c51c706b26950158"
  },
  {
   "metadata": {},
   "cell_type": "code",
   "outputs": [],
   "execution_count": 7,
   "source": [
    "from datasets import load_dataset\n",
    "\n",
    "ms_marco = load_dataset(\"microsoft/ms_marco\", \"v2.1\")"
   ],
   "id": "initial_id"
  },
  {
   "metadata": {
    "ExecuteTime": {
     "end_time": "2024-06-25T21:04:11.472929Z",
     "start_time": "2024-06-25T21:04:11.462920Z"
    }
   },
   "cell_type": "code",
   "source": [
    "def mean_reciprocal_rank(retrieved_list, relevant_list):\n",
    "    ranks = []\n",
    "    for relevant in relevant_list:\n",
    "        try:\n",
    "            rank = retrieved_list.index(relevant) + 1\n",
    "        except ValueError:\n",
    "            rank = len(retrieved_list) + 1  # Not found\n",
    "        ranks.append(rank)\n",
    "    return 1.0 / min(ranks) if ranks else 0.0\n",
    "\n",
    "# Use subset for demonstration\n",
    "subset = ms_marco['train'].select(range(1000))"
   ],
   "id": "43e602e97ecda308",
   "outputs": [],
   "execution_count": 36
  },
  {
   "metadata": {
    "ExecuteTime": {
     "end_time": "2024-06-25T15:11:45.847491Z",
     "start_time": "2024-06-25T15:11:45.844092Z"
    }
   },
   "cell_type": "code",
   "source": "print(subset[2]['query'])",
   "id": "ffe1d2b2267a2c1c",
   "outputs": [
    {
     "name": "stdout",
     "output_type": "stream",
     "text": [
      "why did stalin want control of eastern europe\n"
     ]
    }
   ],
   "execution_count": 8
  },
  {
   "metadata": {
    "ExecuteTime": {
     "end_time": "2024-06-25T15:12:15.726240Z",
     "start_time": "2024-06-25T15:12:11.746529Z"
    }
   },
   "cell_type": "code",
   "source": [
    "from langchain_community.retrievers import BM25Retriever\n",
    "from langchain_core.documents import Document"
   ],
   "id": "e1bc17e9849e5e77",
   "outputs": [
    {
     "name": "stdout",
     "output_type": "stream",
     "text": [
      "WARNING: faiss must be imported for indexing\n"
     ]
    }
   ],
   "execution_count": 9
  },
  {
   "metadata": {
    "ExecuteTime": {
     "end_time": "2024-06-25T15:12:33.177319Z",
     "start_time": "2024-06-25T15:12:32.881948Z"
    }
   },
   "cell_type": "code",
   "source": [
    "# Prepare the documents for BM25\n",
    "bm25_docs = [Document(page_content=passage) for data in subset for passage in data['passages']['passage_text']]\n",
    "\n",
    "# Initialize BM25 Retriever\n",
    "bm25_retriever = BM25Retriever.from_documents(bm25_docs)"
   ],
   "id": "92edc92e237d7370",
   "outputs": [],
   "execution_count": 11
  },
  {
   "metadata": {
    "ExecuteTime": {
     "end_time": "2024-06-25T21:03:33.965209Z",
     "start_time": "2024-06-25T21:03:29.884379Z"
    }
   },
   "cell_type": "code",
   "source": [
    "import os\n",
    "from ragstack_colbert import CassandraDatabase, ColbertEmbeddingModel\n",
    "\n",
    "keyspace = \"benchmarksmarco1000parallel\"\n",
    "database_id = os.getenv(\"ASTRA_DATABASE_ID\")\n",
    "astra_token = os.getenv(\"ASTRA_TOKEN\")\n",
    "\n",
    "database = CassandraDatabase.from_astra(\n",
    "    astra_token=astra_token,\n",
    "    database_id=database_id,\n",
    "    keyspace=keyspace\n",
    ")\n",
    "\n",
    "embedding_model = ColbertEmbeddingModel()"
   ],
   "id": "3d17835de418c59c",
   "outputs": [
    {
     "name": "stderr",
     "output_type": "stream",
     "text": [
      "WARNING:cassandra.cluster:Downgrading core protocol version from 66 to 65 for b83877d6-20f6-4695-a216-b2d1931f8540-us-east-2.db.astra.datastax.com:29042:00958fd0-af98-391f-9f51-7e3fe763da5c. To avoid this, it is best practice to explicitly set Cluster(protocol_version) to the version supported by your cluster. http://datastax.github.io/python-driver/api/cassandra/cluster.html#cassandra.cluster.Cluster.protocol_version\n",
      "WARNING:cassandra.cluster:Downgrading core protocol version from 65 to 5 for b83877d6-20f6-4695-a216-b2d1931f8540-us-east-2.db.astra.datastax.com:29042:00958fd0-af98-391f-9f51-7e3fe763da5c. To avoid this, it is best practice to explicitly set Cluster(protocol_version) to the version supported by your cluster. http://datastax.github.io/python-driver/api/cassandra/cluster.html#cassandra.cluster.Cluster.protocol_version\n",
      "WARNING:cassandra.cluster:Downgrading core protocol version from 5 to 4 for b83877d6-20f6-4695-a216-b2d1931f8540-us-east-2.db.astra.datastax.com:29042:00958fd0-af98-391f-9f51-7e3fe763da5c. To avoid this, it is best practice to explicitly set Cluster(protocol_version) to the version supported by your cluster. http://datastax.github.io/python-driver/api/cassandra/cluster.html#cassandra.cluster.Cluster.protocol_version\n",
      "WARNING:cassandra.cluster:Found multiple hosts with the same endpoint (b83877d6-20f6-4695-a216-b2d1931f8540-us-east-2.db.astra.datastax.com:29042:00958fd0-af98-391f-9f51-7e3fe763da5c). Excluding peer 10.0.0.7\n"
     ]
    }
   ],
   "execution_count": 33
  },
  {
   "metadata": {
    "ExecuteTime": {
     "end_time": "2024-06-25T21:03:38.080365Z",
     "start_time": "2024-06-25T21:03:38.076493Z"
    }
   },
   "cell_type": "code",
   "source": [
    "from ragstack_langchain.colbert import ColbertVectorStore as LangchainColbertVectorStore\n",
    "\n",
    "lc_vector_store = LangchainColbertVectorStore(\n",
    "    database=database,\n",
    "    embedding_model=embedding_model,\n",
    ")"
   ],
   "id": "a035c581a9e542ee",
   "outputs": [],
   "execution_count": 34
  },
  {
   "metadata": {
    "ExecuteTime": {
     "end_time": "2024-06-25T15:48:59.006811Z",
     "start_time": "2024-06-25T15:48:58.957244Z"
    }
   },
   "cell_type": "code",
   "source": [
    "all_texts = []\n",
    "all_metadatas = []\n",
    "i = 0\n",
    "for row in subset:\n",
    "    all_texts.extend(row['passages']['passage_text'])\n",
    "    all_metadatas.extend([{'row_id': i} for _ in row['passages']['is_selected']])\n",
    "    i += 1\n"
   ],
   "id": "493bd4091709cf1",
   "outputs": [],
   "execution_count": 15
  },
  {
   "metadata": {},
   "cell_type": "code",
   "outputs": [],
   "execution_count": null,
   "source": "print(\"Number of texts:\", len(all_texts))",
   "id": "100fa66f55ebda98"
  },
  {
   "metadata": {},
   "cell_type": "code",
   "source": "lc_vector_store.add_texts(all_texts, metadatas=all_metadatas)",
   "id": "a3870bac7caa97f4",
   "outputs": [],
   "execution_count": null
  },
  {
   "metadata": {
    "jupyter": {
     "is_executing": true
    },
    "ExecuteTime": {
     "start_time": "2024-06-25T21:17:45.322385Z"
    }
   },
   "cell_type": "code",
   "source": [
    "from tqdm import tqdm\n",
    "colbert_mrrs = []\n",
    "for row in tqdm(subset):\n",
    "    query = row['query']\n",
    "    n_results = len(row['passages']['is_selected'])\n",
    "    raw_results = lc_vector_store.similarity_search(query, k=n_results)\n",
    "    retrieved_list = [result.page_content for result in raw_results]\n",
    "    relevant_list = row['passages']['passage_text']\n",
    "    \n",
    "    mrr = mean_reciprocal_rank(retrieved_list, relevant_list)\n",
    "    colbert_mrrs.append(mrr)"
   ],
   "id": "bbbcece77175fdf5",
   "outputs": [
    {
     "name": "stderr",
     "output_type": "stream",
     "text": [
      " 27%|██▋       | 266/1000 [02:57<09:18,  1.32it/s]"
     ]
    }
   ],
   "execution_count": null
  },
  {
   "metadata": {
    "ExecuteTime": {
     "end_time": "2024-06-25T21:16:07.307187Z",
     "start_time": "2024-06-25T21:16:07.304371Z"
    }
   },
   "cell_type": "code",
   "source": "print(f\"Mean Reciprocal Rank for ColBERT: {sum(colbert_mrrs) / len(colbert_mrrs):.4f}\")",
   "id": "ee6a8ab7809c2b45",
   "outputs": [
    {
     "name": "stdout",
     "output_type": "stream",
     "text": [
      "Mean Reciprocal Rank for ColBERT: 0.9825\n"
     ]
    }
   ],
   "execution_count": 38
  },
  {
   "metadata": {
    "ExecuteTime": {
     "end_time": "2024-06-25T21:16:21.792145Z",
     "start_time": "2024-06-25T21:16:15.230246Z"
    }
   },
   "cell_type": "code",
   "source": [
    "# Now test BM25\n",
    "bm25_mrrs = []\n",
    "for row in subset:\n",
    "    query = row['query']\n",
    "    n_results = len(row['passages']['is_selected'])\n",
    "    raw_results = bm25_retriever.invoke(query, k=n_results)\n",
    "    retrieved_list = [result.page_content for result in raw_results]\n",
    "    relevant_list = row['passages']['passage_text']\n",
    "    \n",
    "    mrr = mean_reciprocal_rank(retrieved_list, relevant_list)\n",
    "    bm25_mrrs.append(mrr)"
   ],
   "id": "8941db7c854cebb5",
   "outputs": [],
   "execution_count": 40
  },
  {
   "metadata": {
    "ExecuteTime": {
     "end_time": "2024-06-25T21:16:21.794851Z",
     "start_time": "2024-06-25T21:16:21.793061Z"
    }
   },
   "cell_type": "code",
   "source": "print(f\"Mean Reciprocal Rank for BM25: {sum(bm25_mrrs) / len(bm25_mrrs):.4f}\")",
   "id": "9ac0129d40e6f8d2",
   "outputs": [
    {
     "name": "stdout",
     "output_type": "stream",
     "text": [
      "Mean Reciprocal Rank for BM25: 0.7442\n"
     ]
    }
   ],
   "execution_count": 41
  },
  {
   "metadata": {
    "ExecuteTime": {
     "end_time": "2024-06-25T21:17:29.603403Z",
     "start_time": "2024-06-25T21:17:29.589343Z"
    }
   },
   "cell_type": "code",
   "source": [
    "# Plot the MRR distributions of the two models\n",
    "import matplotlib.pyplot as plt\n",
    "\n",
    "plt.hist(colbert_mrrs, bins=20, alpha=0.5, label='ColBERT')\n",
    "plt.hist(bm25_mrrs, bins=20, alpha=0.5, label='BM25')\n",
    "plt.legend(loc='upper right')\n",
    "plt.xlabel('Mean Reciprocal Rank')\n",
    "plt.ylabel('Frequency')\n",
    "plt.show()"
   ],
   "id": "c68c0d945546461b",
   "outputs": [
    {
     "ename": "NameError",
     "evalue": "name 'colbert_mrrs' is not defined",
     "output_type": "error",
     "traceback": [
      "\u001B[0;31m---------------------------------------------------------------------------\u001B[0m",
      "\u001B[0;31mNameError\u001B[0m                                 Traceback (most recent call last)",
      "Cell \u001B[0;32mIn[43], line 4\u001B[0m\n\u001B[1;32m      1\u001B[0m \u001B[38;5;66;03m# Plot the MRR distributions of the two models\u001B[39;00m\n\u001B[1;32m      2\u001B[0m \u001B[38;5;28;01mimport\u001B[39;00m \u001B[38;5;21;01mmatplotlib\u001B[39;00m\u001B[38;5;21;01m.\u001B[39;00m\u001B[38;5;21;01mpyplot\u001B[39;00m \u001B[38;5;28;01mas\u001B[39;00m \u001B[38;5;21;01mplt\u001B[39;00m\n\u001B[0;32m----> 4\u001B[0m plt\u001B[38;5;241m.\u001B[39mhist(\u001B[43mcolbert_mrrs\u001B[49m, bins\u001B[38;5;241m=\u001B[39m\u001B[38;5;241m20\u001B[39m, alpha\u001B[38;5;241m=\u001B[39m\u001B[38;5;241m0.5\u001B[39m, label\u001B[38;5;241m=\u001B[39m\u001B[38;5;124m'\u001B[39m\u001B[38;5;124mColBERT\u001B[39m\u001B[38;5;124m'\u001B[39m)\n\u001B[1;32m      5\u001B[0m plt\u001B[38;5;241m.\u001B[39mhist(mrrs, bins\u001B[38;5;241m=\u001B[39m\u001B[38;5;241m20\u001B[39m, alpha\u001B[38;5;241m=\u001B[39m\u001B[38;5;241m0.5\u001B[39m, label\u001B[38;5;241m=\u001B[39m\u001B[38;5;124m'\u001B[39m\u001B[38;5;124mBM25\u001B[39m\u001B[38;5;124m'\u001B[39m)\n\u001B[1;32m      6\u001B[0m plt\u001B[38;5;241m.\u001B[39mlegend(loc\u001B[38;5;241m=\u001B[39m\u001B[38;5;124m'\u001B[39m\u001B[38;5;124mupper right\u001B[39m\u001B[38;5;124m'\u001B[39m)\n",
      "\u001B[0;31mNameError\u001B[0m: name 'colbert_mrrs' is not defined"
     ]
    }
   ],
   "execution_count": 43
  },
  {
   "metadata": {},
   "cell_type": "code",
   "outputs": [],
   "execution_count": null,
   "source": "",
   "id": "311a36eaefe69d7a"
  }
 ],
 "metadata": {
  "kernelspec": {
   "display_name": "Python 3",
   "language": "python",
   "name": "python3"
  },
  "language_info": {
   "codemirror_mode": {
    "name": "ipython",
    "version": 2
   },
   "file_extension": ".py",
   "mimetype": "text/x-python",
   "name": "python",
   "nbconvert_exporter": "python",
   "pygments_lexer": "ipython2",
   "version": "2.7.6"
  }
 },
 "nbformat": 4,
 "nbformat_minor": 5
}
