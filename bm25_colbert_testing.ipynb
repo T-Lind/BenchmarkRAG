{
 "cells": [
  {
   "metadata": {
    "ExecuteTime": {
     "end_time": "2024-06-25T16:14:38.853918Z",
     "start_time": "2024-06-25T16:14:38.850881Z"
    }
   },
   "cell_type": "code",
   "source": [
    "# Some minor setup for the notebook\n",
    "import warnings\n",
    "import nest_asyncio\n",
    "\n",
    "# Ignore all warnings\n",
    "warnings.filterwarnings(\"ignore\")\n",
    "\n",
    "# Allows for running async code in Jupyter notebooks\n",
    "nest_asyncio.apply()"
   ],
   "id": "c04ce7fddabc7f73",
   "outputs": [],
   "execution_count": 21
  },
  {
   "metadata": {},
   "cell_type": "code",
   "outputs": [
    {
     "data": {
      "text/plain": [
       "True"
      ]
     },
     "execution_count": 12,
     "metadata": {},
     "output_type": "execute_result"
    }
   ],
   "execution_count": 12,
   "source": [
    "from dotenv import load_dotenv\n",
    "\n",
    "load_dotenv(override=True)"
   ],
   "id": "c51c706b26950158"
  },
  {
   "metadata": {},
   "cell_type": "code",
   "outputs": [],
   "execution_count": 7,
   "source": [
    "from datasets import load_dataset\n",
    "\n",
    "ms_marco = load_dataset(\"microsoft/ms_marco\", \"v2.1\")"
   ],
   "id": "initial_id"
  },
  {
   "metadata": {
    "ExecuteTime": {
     "end_time": "2024-06-25T16:13:45.382631Z",
     "start_time": "2024-06-25T16:13:45.376075Z"
    }
   },
   "cell_type": "code",
   "source": [
    "def mean_reciprocal_rank(retrieved_list, relevant_list):\n",
    "    ranks = []\n",
    "    for relevant in relevant_list:\n",
    "        try:\n",
    "            rank = retrieved_list.index(relevant) + 1\n",
    "        except ValueError:\n",
    "            rank = len(retrieved_list) + 1  # Not found\n",
    "        ranks.append(rank)\n",
    "    return 1.0 / min(ranks) if ranks else 0.0\n",
    "\n",
    "# Use subset for demonstration\n",
    "subset = ms_marco['train'].select(range(50))"
   ],
   "id": "43e602e97ecda308",
   "outputs": [],
   "execution_count": 17
  },
  {
   "metadata": {
    "ExecuteTime": {
     "end_time": "2024-06-25T15:11:45.847491Z",
     "start_time": "2024-06-25T15:11:45.844092Z"
    }
   },
   "cell_type": "code",
   "source": "print(subset[2]['query'])",
   "id": "ffe1d2b2267a2c1c",
   "outputs": [
    {
     "name": "stdout",
     "output_type": "stream",
     "text": [
      "why did stalin want control of eastern europe\n"
     ]
    }
   ],
   "execution_count": 8
  },
  {
   "metadata": {
    "ExecuteTime": {
     "end_time": "2024-06-25T15:12:15.726240Z",
     "start_time": "2024-06-25T15:12:11.746529Z"
    }
   },
   "cell_type": "code",
   "source": [
    "from langchain_community.retrievers import BM25Retriever\n",
    "from langchain_core.documents import Document"
   ],
   "id": "e1bc17e9849e5e77",
   "outputs": [
    {
     "name": "stdout",
     "output_type": "stream",
     "text": [
      "WARNING: faiss must be imported for indexing\n"
     ]
    }
   ],
   "execution_count": 9
  },
  {
   "metadata": {
    "ExecuteTime": {
     "end_time": "2024-06-25T15:12:33.177319Z",
     "start_time": "2024-06-25T15:12:32.881948Z"
    }
   },
   "cell_type": "code",
   "source": [
    "# Prepare the documents for BM25\n",
    "bm25_docs = [Document(page_content=passage) for data in subset for passage in data['passages']['passage_text']]\n",
    "\n",
    "# Initialize BM25 Retriever\n",
    "bm25_retriever = BM25Retriever.from_documents(bm25_docs)"
   ],
   "id": "92edc92e237d7370",
   "outputs": [],
   "execution_count": 11
  },
  {
   "metadata": {
    "ExecuteTime": {
     "end_time": "2024-06-25T16:13:57.959010Z",
     "start_time": "2024-06-25T16:13:52.143829Z"
    }
   },
   "cell_type": "code",
   "source": [
    "import os\n",
    "from ragstack_colbert import CassandraDatabase, ColbertEmbeddingModel\n",
    "\n",
    "keyspace = \"benchmarksmarco50\"\n",
    "database_id = os.getenv(\"ASTRA_DATABASE_ID\")\n",
    "astra_token = os.getenv(\"ASTRA_TOKEN\")\n",
    "\n",
    "database = CassandraDatabase.from_astra(\n",
    "    astra_token=astra_token,\n",
    "    database_id=database_id,\n",
    "    keyspace=keyspace\n",
    ")\n",
    "\n",
    "embedding_model = ColbertEmbeddingModel()"
   ],
   "id": "3d17835de418c59c",
   "outputs": [
    {
     "name": "stderr",
     "output_type": "stream",
     "text": [
      "WARNING:cassandra.cluster:Downgrading core protocol version from 66 to 65 for b83877d6-20f6-4695-a216-b2d1931f8540-us-east-2.db.astra.datastax.com:29042:0669df0f-031f-383e-b452-67a9679bbc6a. To avoid this, it is best practice to explicitly set Cluster(protocol_version) to the version supported by your cluster. http://datastax.github.io/python-driver/api/cassandra/cluster.html#cassandra.cluster.Cluster.protocol_version\n",
      "WARNING:cassandra.cluster:Downgrading core protocol version from 65 to 5 for b83877d6-20f6-4695-a216-b2d1931f8540-us-east-2.db.astra.datastax.com:29042:0669df0f-031f-383e-b452-67a9679bbc6a. To avoid this, it is best practice to explicitly set Cluster(protocol_version) to the version supported by your cluster. http://datastax.github.io/python-driver/api/cassandra/cluster.html#cassandra.cluster.Cluster.protocol_version\n",
      "WARNING:cassandra.cluster:Downgrading core protocol version from 5 to 4 for b83877d6-20f6-4695-a216-b2d1931f8540-us-east-2.db.astra.datastax.com:29042:0669df0f-031f-383e-b452-67a9679bbc6a. To avoid this, it is best practice to explicitly set Cluster(protocol_version) to the version supported by your cluster. http://datastax.github.io/python-driver/api/cassandra/cluster.html#cassandra.cluster.Cluster.protocol_version\n",
      "WARNING:cassandra.cluster:Found multiple hosts with the same endpoint (b83877d6-20f6-4695-a216-b2d1931f8540-us-east-2.db.astra.datastax.com:29042:0669df0f-031f-383e-b452-67a9679bbc6a). Excluding peer 10.0.0.5\n",
      "/Users/tiernan.lindauer/PycharmProjects/benchmark-v2/.venv/lib/python3.12/site-packages/huggingface_hub/file_download.py:1132: FutureWarning: `resume_download` is deprecated and will be removed in version 1.0.0. Downloads always resume when possible. If you want to force a new download, use `force_download=True`.\n",
      "  warnings.warn(\n",
      "/Users/tiernan.lindauer/PycharmProjects/benchmark-v2/.venv/lib/python3.12/site-packages/torch/cuda/amp/grad_scaler.py:126: UserWarning: torch.cuda.amp.GradScaler is enabled, but CUDA is not available.  Disabling.\n",
      "  warnings.warn(\n"
     ]
    }
   ],
   "execution_count": 18
  },
  {
   "metadata": {
    "ExecuteTime": {
     "end_time": "2024-06-25T15:20:36.782097Z",
     "start_time": "2024-06-25T15:20:36.779799Z"
    }
   },
   "cell_type": "code",
   "source": [
    "from ragstack_langchain.colbert import ColbertVectorStore as LangchainColbertVectorStore\n",
    "\n",
    "lc_vector_store = LangchainColbertVectorStore(\n",
    "    database=database,\n",
    "    embedding_model=embedding_model,\n",
    ")"
   ],
   "id": "a035c581a9e542ee",
   "outputs": [],
   "execution_count": 14
  },
  {
   "metadata": {
    "ExecuteTime": {
     "end_time": "2024-06-25T15:48:59.006811Z",
     "start_time": "2024-06-25T15:48:58.957244Z"
    }
   },
   "cell_type": "code",
   "source": [
    "all_texts = []\n",
    "all_metadatas = []\n",
    "i = 0\n",
    "for row in subset:\n",
    "    all_texts.extend(row['passages']['passage_text'])\n",
    "    all_metadatas.extend([{'row_id': i} for _ in row['passages']['is_selected']])\n",
    "    i += 1\n"
   ],
   "id": "493bd4091709cf1",
   "outputs": [],
   "execution_count": 15
  },
  {
   "metadata": {
    "ExecuteTime": {
     "end_time": "2024-06-25T16:13:36.739660Z",
     "start_time": "2024-06-25T15:49:14.605447Z"
    }
   },
   "cell_type": "code",
   "source": "lc_vector_store.add_texts(all_texts, metadatas=all_metadatas)",
   "id": "a3870bac7caa97f4",
   "outputs": [
    {
     "name": "stderr",
     "output_type": "stream",
     "text": [
      "/Users/tiernan.lindauer/PycharmProjects/benchmark-v2/.venv/lib/python3.12/site-packages/torch/amp/autocast_mode.py:250: UserWarning: User provided device_type of 'cuda', but CUDA is not available. Disabling\n",
      "  warnings.warn(\n",
      "/Users/tiernan.lindauer/PycharmProjects/benchmark-v2/.venv/lib/python3.12/site-packages/torch/amp/autocast_mode.py:250: UserWarning: User provided device_type of 'cuda', but CUDA is not available. Disabling\n",
      "  warnings.warn(\n"
     ]
    },
    {
     "ename": "KeyboardInterrupt",
     "evalue": "",
     "output_type": "error",
     "traceback": [
      "\u001B[0;31m---------------------------------------------------------------------------\u001B[0m",
      "\u001B[0;31mKeyboardInterrupt\u001B[0m                         Traceback (most recent call last)",
      "Cell \u001B[0;32mIn[16], line 1\u001B[0m\n\u001B[0;32m----> 1\u001B[0m \u001B[43mlc_vector_store\u001B[49m\u001B[38;5;241;43m.\u001B[39;49m\u001B[43madd_texts\u001B[49m\u001B[43m(\u001B[49m\u001B[43mall_texts\u001B[49m\u001B[43m)\u001B[49m\n",
      "File \u001B[0;32m~/PycharmProjects/benchmark-v2/.venv/lib/python3.12/site-packages/ragstack_langchain/colbert/colbert_vector_store.py:60\u001B[0m, in \u001B[0;36mColbertVectorStore.add_texts\u001B[0;34m(self, texts, metadatas, doc_id, **kwargs)\u001B[0m\n\u001B[1;32m     43\u001B[0m \u001B[38;5;28;01mdef\u001B[39;00m \u001B[38;5;21madd_texts\u001B[39m(\n\u001B[1;32m     44\u001B[0m     \u001B[38;5;28mself\u001B[39m,\n\u001B[1;32m     45\u001B[0m     texts: Iterable[\u001B[38;5;28mstr\u001B[39m],\n\u001B[0;32m   (...)\u001B[0m\n\u001B[1;32m     48\u001B[0m     \u001B[38;5;241m*\u001B[39m\u001B[38;5;241m*\u001B[39mkwargs: Any,\n\u001B[1;32m     49\u001B[0m ) \u001B[38;5;241m-\u001B[39m\u001B[38;5;241m>\u001B[39m List[\u001B[38;5;28mstr\u001B[39m]:\n\u001B[1;32m     50\u001B[0m \u001B[38;5;250m    \u001B[39m\u001B[38;5;124;03m\"\"\"Run more texts through the embeddings and add to the vectorstore.\u001B[39;00m\n\u001B[1;32m     51\u001B[0m \n\u001B[1;32m     52\u001B[0m \u001B[38;5;124;03m    Args:\u001B[39;00m\n\u001B[0;32m   (...)\u001B[0m\n\u001B[1;32m     58\u001B[0m \u001B[38;5;124;03m        List of ids from adding the texts into the vectorstore.\u001B[39;00m\n\u001B[1;32m     59\u001B[0m \u001B[38;5;124;03m    \"\"\"\u001B[39;00m\n\u001B[0;32m---> 60\u001B[0m     \u001B[38;5;28;01mreturn\u001B[39;00m \u001B[38;5;28;43mself\u001B[39;49m\u001B[38;5;241;43m.\u001B[39;49m\u001B[43m_vector_store\u001B[49m\u001B[38;5;241;43m.\u001B[39;49m\u001B[43madd_texts\u001B[49m\u001B[43m(\u001B[49m\n\u001B[1;32m     61\u001B[0m \u001B[43m        \u001B[49m\u001B[43mtexts\u001B[49m\u001B[38;5;241;43m=\u001B[39;49m\u001B[38;5;28;43mlist\u001B[39;49m\u001B[43m(\u001B[49m\u001B[43mtexts\u001B[49m\u001B[43m)\u001B[49m\u001B[43m,\u001B[49m\u001B[43m \u001B[49m\u001B[43mmetadatas\u001B[49m\u001B[38;5;241;43m=\u001B[39;49m\u001B[43mmetadatas\u001B[49m\u001B[43m,\u001B[49m\u001B[43m \u001B[49m\u001B[43mdoc_id\u001B[49m\u001B[38;5;241;43m=\u001B[39;49m\u001B[43mdoc_id\u001B[49m\n\u001B[1;32m     62\u001B[0m \u001B[43m    \u001B[49m\u001B[43m)\u001B[49m\n",
      "File \u001B[0;32m~/PycharmProjects/benchmark-v2/.venv/lib/python3.12/site-packages/ragstack_colbert/colbert_vector_store.py:114\u001B[0m, in \u001B[0;36mColbertVectorStore.add_texts\u001B[0;34m(self, texts, metadatas, doc_id)\u001B[0m\n\u001B[1;32m    100\u001B[0m \u001B[38;5;250m\u001B[39m\u001B[38;5;124;03m\"\"\"\u001B[39;00m\n\u001B[1;32m    101\u001B[0m \u001B[38;5;124;03mEmbeds and stores a list of text chunks and optional metadata into the vector store\u001B[39;00m\n\u001B[1;32m    102\u001B[0m \n\u001B[0;32m   (...)\u001B[0m\n\u001B[1;32m    111\u001B[0m \u001B[38;5;124;03m    a list of tuples: (doc_id, chunk_id)\u001B[39;00m\n\u001B[1;32m    112\u001B[0m \u001B[38;5;124;03m\"\"\"\u001B[39;00m\n\u001B[1;32m    113\u001B[0m chunks \u001B[38;5;241m=\u001B[39m \u001B[38;5;28mself\u001B[39m\u001B[38;5;241m.\u001B[39m_build_chunks(texts\u001B[38;5;241m=\u001B[39mtexts, metadatas\u001B[38;5;241m=\u001B[39mmetadatas, doc_id\u001B[38;5;241m=\u001B[39mdoc_id)\n\u001B[0;32m--> 114\u001B[0m \u001B[38;5;28;01mreturn\u001B[39;00m \u001B[38;5;28;43mself\u001B[39;49m\u001B[38;5;241;43m.\u001B[39;49m\u001B[43m_database\u001B[49m\u001B[38;5;241;43m.\u001B[39;49m\u001B[43madd_chunks\u001B[49m\u001B[43m(\u001B[49m\u001B[43mchunks\u001B[49m\u001B[38;5;241;43m=\u001B[39;49m\u001B[43mchunks\u001B[49m\u001B[43m)\u001B[49m\n",
      "File \u001B[0;32m~/PycharmProjects/benchmark-v2/.venv/lib/python3.12/site-packages/ragstack_colbert/cassandra_database.py:144\u001B[0m, in \u001B[0;36mCassandraDatabase.add_chunks\u001B[0;34m(self, chunks)\u001B[0m\n\u001B[1;32m    142\u001B[0m \u001B[38;5;28;01mfor\u001B[39;00m embedding_id, vector \u001B[38;5;129;01min\u001B[39;00m \u001B[38;5;28menumerate\u001B[39m(chunk\u001B[38;5;241m.\u001B[39membedding):\n\u001B[1;32m    143\u001B[0m     \u001B[38;5;28;01mtry\u001B[39;00m:\n\u001B[0;32m--> 144\u001B[0m         \u001B[38;5;28;43mself\u001B[39;49m\u001B[38;5;241;43m.\u001B[39;49m\u001B[43m_table\u001B[49m\u001B[38;5;241;43m.\u001B[39;49m\u001B[43mput\u001B[49m\u001B[43m(\u001B[49m\n\u001B[1;32m    145\u001B[0m \u001B[43m            \u001B[49m\u001B[43mpartition_id\u001B[49m\u001B[38;5;241;43m=\u001B[39;49m\u001B[43mdoc_id\u001B[49m\u001B[43m,\u001B[49m\n\u001B[1;32m    146\u001B[0m \u001B[43m            \u001B[49m\u001B[43mrow_id\u001B[49m\u001B[38;5;241;43m=\u001B[39;49m\u001B[43m(\u001B[49m\u001B[43mchunk_id\u001B[49m\u001B[43m,\u001B[49m\u001B[43m \u001B[49m\u001B[43membedding_id\u001B[49m\u001B[43m)\u001B[49m\u001B[43m,\u001B[49m\n\u001B[1;32m    147\u001B[0m \u001B[43m            \u001B[49m\u001B[43mvector\u001B[49m\u001B[38;5;241;43m=\u001B[39;49m\u001B[43mvector\u001B[49m\u001B[43m,\u001B[49m\n\u001B[1;32m    148\u001B[0m \u001B[43m        \u001B[49m\u001B[43m)\u001B[49m\n\u001B[1;32m    149\u001B[0m     \u001B[38;5;28;01mexcept\u001B[39;00m \u001B[38;5;167;01mException\u001B[39;00m \u001B[38;5;28;01mas\u001B[39;00m exp:\n\u001B[1;32m    150\u001B[0m         \u001B[38;5;28mself\u001B[39m\u001B[38;5;241m.\u001B[39m_log_insert_error(doc_id\u001B[38;5;241m=\u001B[39mdoc_id, chunk_id\u001B[38;5;241m=\u001B[39mchunk_id, embedding_id\u001B[38;5;241m=\u001B[39m\u001B[38;5;241m-\u001B[39m\u001B[38;5;241m1\u001B[39m, exp\u001B[38;5;241m=\u001B[39mexp)\n",
      "File \u001B[0;32m~/PycharmProjects/benchmark-v2/.venv/lib/python3.12/site-packages/cassio/table/base_table.py:397\u001B[0m, in \u001B[0;36mBaseTable.put\u001B[0;34m(self, **kwargs)\u001B[0m\n\u001B[1;32m    395\u001B[0m \u001B[38;5;28;01mdef\u001B[39;00m \u001B[38;5;21mput\u001B[39m(\u001B[38;5;28mself\u001B[39m, \u001B[38;5;241m*\u001B[39m\u001B[38;5;241m*\u001B[39mkwargs: Any) \u001B[38;5;241m-\u001B[39m\u001B[38;5;241m>\u001B[39m \u001B[38;5;28;01mNone\u001B[39;00m:\n\u001B[1;32m    396\u001B[0m     \u001B[38;5;28mself\u001B[39m\u001B[38;5;241m.\u001B[39m_ensure_db_setup()\n\u001B[0;32m--> 397\u001B[0m     \u001B[38;5;28;43mself\u001B[39;49m\u001B[38;5;241;43m.\u001B[39;49m\u001B[43m_put\u001B[49m\u001B[43m(\u001B[49m\u001B[43mis_async\u001B[49m\u001B[38;5;241;43m=\u001B[39;49m\u001B[38;5;28;43;01mFalse\u001B[39;49;00m\u001B[43m,\u001B[49m\u001B[43m \u001B[49m\u001B[38;5;241;43m*\u001B[39;49m\u001B[38;5;241;43m*\u001B[39;49m\u001B[43mkwargs\u001B[49m\u001B[43m)\u001B[49m\n\u001B[1;32m    398\u001B[0m     \u001B[38;5;28;01mreturn\u001B[39;00m \u001B[38;5;28;01mNone\u001B[39;00m\n",
      "File \u001B[0;32m~/PycharmProjects/benchmark-v2/.venv/lib/python3.12/site-packages/cassio/table/base_table.py:392\u001B[0m, in \u001B[0;36mBaseTable._put\u001B[0;34m(self, is_async, **kwargs)\u001B[0m\n\u001B[1;32m    388\u001B[0m     \u001B[38;5;28;01mreturn\u001B[39;00m \u001B[38;5;28mself\u001B[39m\u001B[38;5;241m.\u001B[39mexecute_cql_async(\n\u001B[1;32m    389\u001B[0m         insert_cql, args\u001B[38;5;241m=\u001B[39minsert_cql_args, op_type\u001B[38;5;241m=\u001B[39mCQLOpType\u001B[38;5;241m.\u001B[39mWRITE\n\u001B[1;32m    390\u001B[0m     )\n\u001B[1;32m    391\u001B[0m \u001B[38;5;28;01melse\u001B[39;00m:\n\u001B[0;32m--> 392\u001B[0m     \u001B[38;5;28;43mself\u001B[39;49m\u001B[38;5;241;43m.\u001B[39;49m\u001B[43mexecute_cql\u001B[49m\u001B[43m(\u001B[49m\u001B[43minsert_cql\u001B[49m\u001B[43m,\u001B[49m\u001B[43m \u001B[49m\u001B[43margs\u001B[49m\u001B[38;5;241;43m=\u001B[39;49m\u001B[43minsert_cql_args\u001B[49m\u001B[43m,\u001B[49m\u001B[43m \u001B[49m\u001B[43mop_type\u001B[49m\u001B[38;5;241;43m=\u001B[39;49m\u001B[43mCQLOpType\u001B[49m\u001B[38;5;241;43m.\u001B[39;49m\u001B[43mWRITE\u001B[49m\u001B[43m)\u001B[49m\n\u001B[1;32m    393\u001B[0m     \u001B[38;5;28;01mreturn\u001B[39;00m \u001B[38;5;28;01mNone\u001B[39;00m\n",
      "File \u001B[0;32m~/PycharmProjects/benchmark-v2/.venv/lib/python3.12/site-packages/cassio/table/base_table.py:579\u001B[0m, in \u001B[0;36mBaseTable.execute_cql\u001B[0;34m(self, cql_semitemplate, op_type, args)\u001B[0m\n\u001B[1;32m    577\u001B[0m     logger\u001B[38;5;241m.\u001B[39mdebug(\u001B[38;5;124mf\u001B[39m\u001B[38;5;124m'\u001B[39m\u001B[38;5;124mExecuting statement \u001B[39m\u001B[38;5;124m\"\u001B[39m\u001B[38;5;132;01m{\u001B[39;00mfinal_cql\u001B[38;5;132;01m}\u001B[39;00m\u001B[38;5;124m\"\u001B[39m\u001B[38;5;124m as prepared\u001B[39m\u001B[38;5;124m'\u001B[39m)\n\u001B[1;32m    578\u001B[0m logger\u001B[38;5;241m.\u001B[39mtrace(\u001B[38;5;124mf\u001B[39m\u001B[38;5;124m'\u001B[39m\u001B[38;5;124mStatement \u001B[39m\u001B[38;5;124m\"\u001B[39m\u001B[38;5;132;01m{\u001B[39;00mfinal_cql\u001B[38;5;132;01m}\u001B[39;00m\u001B[38;5;124m\"\u001B[39m\u001B[38;5;124m has args: \u001B[39m\u001B[38;5;124m\"\u001B[39m\u001B[38;5;132;01m{\u001B[39;00m\u001B[38;5;28mstr\u001B[39m(args)\u001B[38;5;132;01m}\u001B[39;00m\u001B[38;5;124m\"\u001B[39m\u001B[38;5;124m'\u001B[39m)  \u001B[38;5;66;03m# type: ignore\u001B[39;00m\n\u001B[0;32m--> 579\u001B[0m \u001B[38;5;28;01mreturn\u001B[39;00m cast(Iterable[RowType], \u001B[38;5;28;43mself\u001B[39;49m\u001B[38;5;241;43m.\u001B[39;49m\u001B[43msession\u001B[49m\u001B[38;5;241;43m.\u001B[39;49m\u001B[43mexecute\u001B[49m\u001B[43m(\u001B[49m\u001B[43mstatement\u001B[49m\u001B[43m,\u001B[49m\u001B[43m \u001B[49m\u001B[43margs\u001B[49m\u001B[43m)\u001B[49m)\n",
      "File \u001B[0;32m~/PycharmProjects/benchmark-v2/.venv/lib/python3.12/site-packages/cassandra/cluster.py:2677\u001B[0m, in \u001B[0;36mcassandra.cluster.Session.execute\u001B[0;34m()\u001B[0m\n",
      "File \u001B[0;32m~/PycharmProjects/benchmark-v2/.venv/lib/python3.12/site-packages/cassandra/cluster.py:4952\u001B[0m, in \u001B[0;36mcassandra.cluster.ResponseFuture.result\u001B[0;34m()\u001B[0m\n",
      "File \u001B[0;32m/Library/Frameworks/Python.framework/Versions/3.12/lib/python3.12/threading.py:655\u001B[0m, in \u001B[0;36mEvent.wait\u001B[0;34m(self, timeout)\u001B[0m\n\u001B[1;32m    653\u001B[0m signaled \u001B[38;5;241m=\u001B[39m \u001B[38;5;28mself\u001B[39m\u001B[38;5;241m.\u001B[39m_flag\n\u001B[1;32m    654\u001B[0m \u001B[38;5;28;01mif\u001B[39;00m \u001B[38;5;129;01mnot\u001B[39;00m signaled:\n\u001B[0;32m--> 655\u001B[0m     signaled \u001B[38;5;241m=\u001B[39m \u001B[38;5;28;43mself\u001B[39;49m\u001B[38;5;241;43m.\u001B[39;49m\u001B[43m_cond\u001B[49m\u001B[38;5;241;43m.\u001B[39;49m\u001B[43mwait\u001B[49m\u001B[43m(\u001B[49m\u001B[43mtimeout\u001B[49m\u001B[43m)\u001B[49m\n\u001B[1;32m    656\u001B[0m \u001B[38;5;28;01mreturn\u001B[39;00m signaled\n",
      "File \u001B[0;32m/Library/Frameworks/Python.framework/Versions/3.12/lib/python3.12/threading.py:355\u001B[0m, in \u001B[0;36mCondition.wait\u001B[0;34m(self, timeout)\u001B[0m\n\u001B[1;32m    353\u001B[0m \u001B[38;5;28;01mtry\u001B[39;00m:    \u001B[38;5;66;03m# restore state no matter what (e.g., KeyboardInterrupt)\u001B[39;00m\n\u001B[1;32m    354\u001B[0m     \u001B[38;5;28;01mif\u001B[39;00m timeout \u001B[38;5;129;01mis\u001B[39;00m \u001B[38;5;28;01mNone\u001B[39;00m:\n\u001B[0;32m--> 355\u001B[0m         \u001B[43mwaiter\u001B[49m\u001B[38;5;241;43m.\u001B[39;49m\u001B[43macquire\u001B[49m\u001B[43m(\u001B[49m\u001B[43m)\u001B[49m\n\u001B[1;32m    356\u001B[0m         gotit \u001B[38;5;241m=\u001B[39m \u001B[38;5;28;01mTrue\u001B[39;00m\n\u001B[1;32m    357\u001B[0m     \u001B[38;5;28;01melse\u001B[39;00m:\n",
      "\u001B[0;31mKeyboardInterrupt\u001B[0m: "
     ]
    }
   ],
   "execution_count": 16
  },
  {
   "metadata": {
    "ExecuteTime": {
     "end_time": "2024-06-25T16:15:34.478356Z",
     "start_time": "2024-06-25T16:14:53.811458Z"
    }
   },
   "cell_type": "code",
   "source": [
    "mrrs = []\n",
    "for row in subset:\n",
    "    query = row['query']\n",
    "    n_results = len(row['passages']['is_selected'])\n",
    "    raw_results = lc_vector_store.similarity_search(query, k=n_results)\n",
    "    retrieved_list = [result.page_content for result in raw_results]\n",
    "    relevant_list = row['passages']['passage_text']\n",
    "    \n",
    "    mrr = mean_reciprocal_rank(retrieved_list, relevant_list)\n",
    "    mrrs.append(mrr)"
   ],
   "id": "bbbcece77175fdf5",
   "outputs": [
    {
     "name": "stdout",
     "output_type": "stream",
     "text": [
      "\n",
      "#> QueryTokenizer.tensorize(batch_text[0], batch_background[0], bsize) ==\n",
      "#> Input: . )what was the immediate impact of the success of the manhattan project?, \t\t True, \t\t None\n",
      "#> Output IDs: torch.Size([17]), tensor([ 101,    1, 1007, 2054, 2001, 1996, 6234, 4254, 1997, 1996, 3112, 1997,\n",
      "        1996, 7128, 2622, 1029,  102])\n",
      "#> Output Mask: torch.Size([17]), tensor([1, 1, 1, 1, 1, 1, 1, 1, 1, 1, 1, 1, 1, 1, 1, 1, 1])\n",
      "\n"
     ]
    }
   ],
   "execution_count": 22
  },
  {
   "metadata": {
    "ExecuteTime": {
     "end_time": "2024-06-25T16:15:48.209693Z",
     "start_time": "2024-06-25T16:15:48.206435Z"
    }
   },
   "cell_type": "code",
   "source": "print(f\"Mean Reciprocal Rank: {sum(mrrs) / len(mrrs):.4f}\")",
   "id": "ee6a8ab7809c2b45",
   "outputs": [
    {
     "name": "stdout",
     "output_type": "stream",
     "text": [
      "Mean Reciprocal Rank: 0.6000\n"
     ]
    }
   ],
   "execution_count": 23
  },
  {
   "metadata": {
    "ExecuteTime": {
     "end_time": "2024-06-25T16:15:50.069993Z",
     "start_time": "2024-06-25T16:15:49.562096Z"
    }
   },
   "cell_type": "code",
   "source": [
    "import matplotlib.pyplot as plt\n",
    "\n",
    "plt.hist(mrrs, bins=20)\n",
    "plt.title(\"MRR Distribution\")\n",
    "plt.xlabel(\"MRR\")\n",
    "plt.ylabel(\"Frequency\")\n",
    "plt.gcf().set_size_inches(10, 6)"
   ],
   "id": "7ede9dcd3c31602b",
   "outputs": [
    {
     "data": {
      "text/plain": [
       "<Figure size 1000x600 with 1 Axes>"
      ],
      "image/png": "[encoded data removed]"
     },
     "metadata": {},
     "output_type": "display_data"
    }
   ],
   "execution_count": 24
  },
  {
   "metadata": {},
   "cell_type": "code",
   "outputs": [],
   "execution_count": null,
   "source": "",
   "id": "8941db7c854cebb5"
  }
 ],
 "metadata": {
  "kernelspec": {
   "display_name": "Python 3",
   "language": "python",
   "name": "python3"
  },
  "language_info": {
   "codemirror_mode": {
    "name": "ipython",
    "version": 2
   },
   "file_extension": ".py",
   "mimetype": "text/x-python",
   "name": "python",
   "nbconvert_exporter": "python",
   "pygments_lexer": "ipython2",
   "version": "2.7.6"
  }
 },
 "nbformat": 4,
 "nbformat_minor": 5
}
