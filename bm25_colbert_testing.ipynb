{
 "cells": [
  {
   "metadata": {
    "ExecuteTime": {
     "end_time": "2024-06-25T16:14:38.853918Z",
     "start_time": "2024-06-25T16:14:38.850881Z"
    }
   },
   "cell_type": "code",
   "source": [
    "# Some minor setup for the notebook\n",
    "import warnings\n",
    "import nest_asyncio\n",
    "\n",
    "# Ignore all warnings\n",
    "warnings.filterwarnings(\"ignore\")\n",
    "\n",
    "# Allows for running async code in Jupyter notebooks\n",
    "nest_asyncio.apply()"
   ],
   "id": "c04ce7fddabc7f73",
   "outputs": [],
   "execution_count": 21
  },
  {
   "metadata": {},
   "cell_type": "code",
   "outputs": [
    {
     "data": {
      "text/plain": [
       "True"
      ]
     },
     "execution_count": 12,
     "metadata": {},
     "output_type": "execute_result"
    }
   ],
   "execution_count": 12,
   "source": [
    "from dotenv import load_dotenv\n",
    "\n",
    "load_dotenv(override=True)"
   ],
   "id": "c51c706b26950158"
  },
  {
   "metadata": {},
   "cell_type": "code",
   "outputs": [],
   "execution_count": 7,
   "source": [
    "from datasets import load_dataset\n",
    "\n",
    "ms_marco = load_dataset(\"microsoft/ms_marco\", \"v2.1\")"
   ],
   "id": "initial_id"
  },
  {
   "metadata": {
    "ExecuteTime": {
     "end_time": "2024-06-25T22:59:58.993479Z",
     "start_time": "2024-06-25T22:59:57.888330Z"
    }
   },
   "cell_type": "code",
   "source": [
    "import numpy as np\n",
    "from scipy.stats import kendalltau\n",
    "from sklearn.metrics import precision_score, recall_score\n",
    "\n",
    "\n",
    "def ndcg(retrieved_list, relevant_list, k=None):\n",
    "    def dcg(scores):\n",
    "        return sum(score / (i + 1) for i, score in enumerate(scores))\n",
    "\n",
    "    if k is None:\n",
    "        k = len(retrieved_list)\n",
    "\n",
    "    retrieved_scores = [1 if doc in relevant_list else 0 for doc in retrieved_list[:k]]\n",
    "    ideal_scores = sorted(retrieved_scores, reverse=True)\n",
    "\n",
    "    dcg_value = dcg(retrieved_scores)\n",
    "    idcg_value = dcg(ideal_scores)\n",
    "\n",
    "    return dcg_value / idcg_value if idcg_value > 0 else 0\n",
    "\n",
    "\n",
    "def mean_reciprocal_rank(retrieved_list, relevant_list):\n",
    "    ranks = []\n",
    "    for relevant in relevant_list:\n",
    "        try:\n",
    "            rank = retrieved_list.index(relevant) + 1\n",
    "        except ValueError:\n",
    "            rank = len(retrieved_list) + 1  # Not found\n",
    "        ranks.append(rank)\n",
    "    return 1.0 / min(ranks) if ranks else 0.0\n",
    "\n",
    "\n",
    "def calculate_kendall_tau(retrieved_list, relevant_list):\n",
    "    n_results = len(retrieved_list)\n",
    "    retrieved_ranks = [retrieved_list.index(p) if p in retrieved_list else n_results for p in relevant_list]\n",
    "    relevant_ranks = list(range(len(relevant_list)))\n",
    "\n",
    "    # Calculate Kendall tau\n",
    "    tau, _ = kendalltau(retrieved_ranks, relevant_ranks)\n",
    "\n",
    "    return tau\n",
    "\n",
    "\n",
    "def calculate_ndcg(retrieved_list, relevant_list, k=None):\n",
    "    def dcg(scores):\n",
    "        return sum(score / (np.log2(idx + 2)) for idx, score in enumerate(scores))\n",
    "\n",
    "    if k is None:\n",
    "        k = len(retrieved_list)\n",
    "\n",
    "    # Relevance scores for retrieved documents\n",
    "    retrieved_scores = [1 if doc in relevant_list else 0 for doc in retrieved_list[:k]]\n",
    "    # Ideal relevance scores\n",
    "    ideal_scores = sorted(retrieved_scores, reverse=True)\n",
    "\n",
    "    dcg_value = dcg(retrieved_scores)\n",
    "    idcg_value = dcg(ideal_scores)\n",
    "\n",
    "    return dcg_value / idcg_value if idcg_value > 0 else 0\n",
    "\n",
    "\n",
    "def calculate_precision(retrieved_list, relevant_list):\n",
    "    y_true = [1 if doc in relevant_list else 0 for doc in retrieved_list]\n",
    "    y_pred = [1] * len(y_true)  # Assuming all retrieved documents are relevant for calculating precision\n",
    "    return precision_score(y_true, y_pred, zero_division=0)\n",
    "\n",
    "\n",
    "def calculate_recall(retrieved_list, relevant_list):\n",
    "    y_true = [1 if doc in relevant_list else 0 for doc in relevant_list]\n",
    "    y_pred = [1 if doc in retrieved_list else 0 for doc in relevant_list]\n",
    "    return recall_score(y_true, y_pred, zero_division=0)\n",
    "\n",
    "\n",
    "def compute_all_stats(retrieved_list, relevant_list):\n",
    "    return {\n",
    "        'MRR': mean_reciprocal_rank(retrieved_list, relevant_list),\n",
    "        'Kendall-Tau': calculate_kendall_tau(retrieved_list, relevant_list),\n",
    "        'nDCG': calculate_ndcg(retrieved_list, relevant_list, k=len(relevant_list)),\n",
    "        'Precision': calculate_precision(retrieved_list, relevant_list),\n",
    "        'Recall': calculate_recall(retrieved_list, relevant_list),\n",
    "    }"
   ],
   "id": "47457c0c60b71945",
   "outputs": [],
   "execution_count": 54
  },
  {
   "metadata": {},
   "cell_type": "code",
   "outputs": [],
   "execution_count": 36,
   "source": [
    "# Use subset for demonstration\n",
    "subset = ms_marco['train'].select(range(1000))"
   ],
   "id": "43e602e97ecda308"
  },
  {
   "metadata": {
    "ExecuteTime": {
     "end_time": "2024-06-25T15:11:45.847491Z",
     "start_time": "2024-06-25T15:11:45.844092Z"
    }
   },
   "cell_type": "code",
   "source": "print(subset[2]['query'])",
   "id": "ffe1d2b2267a2c1c",
   "outputs": [
    {
     "name": "stdout",
     "output_type": "stream",
     "text": [
      "why did stalin want control of eastern europe\n"
     ]
    }
   ],
   "execution_count": 8
  },
  {
   "metadata": {
    "ExecuteTime": {
     "end_time": "2024-06-25T15:12:15.726240Z",
     "start_time": "2024-06-25T15:12:11.746529Z"
    }
   },
   "cell_type": "code",
   "source": [
    "from langchain_community.retrievers import BM25Retriever\n",
    "from langchain_core.documents import Document"
   ],
   "id": "e1bc17e9849e5e77",
   "outputs": [
    {
     "name": "stdout",
     "output_type": "stream",
     "text": [
      "WARNING: faiss must be imported for indexing\n"
     ]
    }
   ],
   "execution_count": 9
  },
  {
   "metadata": {
    "ExecuteTime": {
     "end_time": "2024-06-25T15:12:33.177319Z",
     "start_time": "2024-06-25T15:12:32.881948Z"
    }
   },
   "cell_type": "code",
   "source": [
    "# Prepare the documents for BM25\n",
    "bm25_docs = [Document(page_content=passage) for data in subset for passage in data['passages']['passage_text']]\n",
    "\n",
    "# Initialize BM25 Retriever\n",
    "bm25_retriever = BM25Retriever.from_documents(bm25_docs)"
   ],
   "id": "92edc92e237d7370",
   "outputs": [],
   "execution_count": 11
  },
  {
   "metadata": {
    "ExecuteTime": {
     "end_time": "2024-06-25T21:03:33.965209Z",
     "start_time": "2024-06-25T21:03:29.884379Z"
    }
   },
   "cell_type": "code",
   "source": [
    "import os\n",
    "from ragstack_colbert import CassandraDatabase, ColbertEmbeddingModel\n",
    "\n",
    "keyspace = \"benchmarksmarco1000parallel\"\n",
    "database_id = os.getenv(\"ASTRA_DATABASE_ID\")\n",
    "astra_token = os.getenv(\"ASTRA_TOKEN\")\n",
    "\n",
    "database = CassandraDatabase.from_astra(\n",
    "    astra_token=astra_token,\n",
    "    database_id=database_id,\n",
    "    keyspace=keyspace\n",
    ")\n",
    "\n",
    "embedding_model = ColbertEmbeddingModel()"
   ],
   "id": "3d17835de418c59c",
   "outputs": [
    {
     "name": "stderr",
     "output_type": "stream",
     "text": [
      "WARNING:cassandra.cluster:Downgrading core protocol version from 66 to 65 for b83877d6-20f6-4695-a216-b2d1931f8540-us-east-2.db.astra.datastax.com:29042:00958fd0-af98-391f-9f51-7e3fe763da5c. To avoid this, it is best practice to explicitly set Cluster(protocol_version) to the version supported by your cluster. http://datastax.github.io/python-driver/api/cassandra/cluster.html#cassandra.cluster.Cluster.protocol_version\n",
      "WARNING:cassandra.cluster:Downgrading core protocol version from 65 to 5 for b83877d6-20f6-4695-a216-b2d1931f8540-us-east-2.db.astra.datastax.com:29042:00958fd0-af98-391f-9f51-7e3fe763da5c. To avoid this, it is best practice to explicitly set Cluster(protocol_version) to the version supported by your cluster. http://datastax.github.io/python-driver/api/cassandra/cluster.html#cassandra.cluster.Cluster.protocol_version\n",
      "WARNING:cassandra.cluster:Downgrading core protocol version from 5 to 4 for b83877d6-20f6-4695-a216-b2d1931f8540-us-east-2.db.astra.datastax.com:29042:00958fd0-af98-391f-9f51-7e3fe763da5c. To avoid this, it is best practice to explicitly set Cluster(protocol_version) to the version supported by your cluster. http://datastax.github.io/python-driver/api/cassandra/cluster.html#cassandra.cluster.Cluster.protocol_version\n",
      "WARNING:cassandra.cluster:Found multiple hosts with the same endpoint (b83877d6-20f6-4695-a216-b2d1931f8540-us-east-2.db.astra.datastax.com:29042:00958fd0-af98-391f-9f51-7e3fe763da5c). Excluding peer 10.0.0.7\n"
     ]
    }
   ],
   "execution_count": 33
  },
  {
   "metadata": {
    "ExecuteTime": {
     "end_time": "2024-06-25T21:03:38.080365Z",
     "start_time": "2024-06-25T21:03:38.076493Z"
    }
   },
   "cell_type": "code",
   "source": [
    "from ragstack_langchain.colbert import ColbertVectorStore as LangchainColbertVectorStore\n",
    "\n",
    "lc_vector_store = LangchainColbertVectorStore(\n",
    "    database=database,\n",
    "    embedding_model=embedding_model,\n",
    ")"
   ],
   "id": "a035c581a9e542ee",
   "outputs": [],
   "execution_count": 34
  },
  {
   "metadata": {
    "ExecuteTime": {
     "end_time": "2024-06-25T15:48:59.006811Z",
     "start_time": "2024-06-25T15:48:58.957244Z"
    }
   },
   "cell_type": "code",
   "source": [
    "all_texts = []\n",
    "all_metadatas = []\n",
    "i = 0\n",
    "for row in subset:\n",
    "    all_texts.extend(row['passages']['passage_text'])\n",
    "    all_metadatas.extend([{'row_id': i} for _ in row['passages']['is_selected']])\n",
    "    i += 1\n"
   ],
   "id": "493bd4091709cf1",
   "outputs": [],
   "execution_count": 15
  },
  {
   "metadata": {
    "ExecuteTime": {
     "end_time": "2024-06-25T21:40:50.292395Z",
     "start_time": "2024-06-25T21:40:50.289473Z"
    }
   },
   "cell_type": "code",
   "source": "print(\"Number of texts:\", len(all_texts))",
   "id": "100fa66f55ebda98",
   "outputs": [
    {
     "name": "stdout",
     "output_type": "stream",
     "text": [
      "Number of texts: 9992\n"
     ]
    }
   ],
   "execution_count": 53
  },
  {
   "metadata": {},
   "cell_type": "code",
   "source": "lc_vector_store.add_texts(all_texts, metadatas=all_metadatas)",
   "id": "a3870bac7caa97f4",
   "outputs": [],
   "execution_count": null
  },
  {
   "metadata": {
    "jupyter": {
     "is_executing": true
    },
    "ExecuteTime": {
     "start_time": "2024-06-25T23:03:58.044707Z"
    }
   },
   "cell_type": "code",
   "source": [
    "from tqdm import tqdm\n",
    "\n",
    "colbert_retrieved_list = []\n",
    "colbert_relevant_list = []\n",
    "for row in tqdm(subset):\n",
    "    query = row['query']\n",
    "    n_results = len(row['passages']['is_selected'])\n",
    "    raw_results = lc_vector_store.similarity_search(query, k=n_results)\n",
    "    retrieved_list = [result.page_content for result in raw_results]\n",
    "    relevant_list = row['passages']['passage_text']\n",
    "\n",
    "    colbert_retrieved_list.append(retrieved_list)\n",
    "    colbert_relevant_list.append(relevant_list)"
   ],
   "id": "bbbcece77175fdf5",
   "outputs": [
    {
     "name": "stderr",
     "output_type": "stream",
     "text": [
      "  3%|▎         | 31/1000 [00:25<08:30,  1.90it/s] "
     ]
    }
   ],
   "execution_count": null
  },
  {
   "metadata": {},
   "cell_type": "code",
   "outputs": [],
   "execution_count": null,
   "source": [
    "# calculate stats\n",
    "colbert_stats = [compute_all_stats(retrieved_list, relevant_list) for retrieved_list, relevant_list in\n",
    "                 zip(colbert_retrieved_list, colbert_relevant_list)]"
   ],
   "id": "8055620d62141abc"
  },
  {
   "metadata": {
    "ExecuteTime": {
     "end_time": "2024-06-25T23:03:50.974347Z",
     "start_time": "2024-06-25T23:03:44.558299Z"
    }
   },
   "cell_type": "code",
   "source": [
    "# Now test BM25\n",
    "bm25_retrieved_list = []\n",
    "bm25_relevant_list = []\n",
    "\n",
    "for row in tqdm(subset):\n",
    "    query = row['query']\n",
    "    n_results = len(row['passages']['is_selected'])\n",
    "    raw_results = bm25_retriever.invoke(query, k=n_results)\n",
    "    retrieved_list = [result.page_content for result in raw_results]\n",
    "    relevant_list = row['passages']['passage_text']\n",
    "\n",
    "    bm25_retrieved_list.append(retrieved_list)\n",
    "    bm25_relevant_list.append(relevant_list)\n"
   ],
   "id": "8941db7c854cebb5",
   "outputs": [
    {
     "name": "stderr",
     "output_type": "stream",
     "text": [
      "100%|██████████| 1000/1000 [00:06<00:00, 155.95it/s]\n"
     ]
    }
   ],
   "execution_count": 55
  },
  {
   "metadata": {
    "ExecuteTime": {
     "end_time": "2024-06-25T23:03:53.986600Z",
     "start_time": "2024-06-25T23:03:53.119579Z"
    }
   },
   "cell_type": "code",
   "source": [
    "bm25_stats = [compute_all_stats(retrieved_list, relevant_list) for retrieved_list, relevant_list in\n",
    "              zip(bm25_retrieved_list, bm25_relevant_list)]"
   ],
   "id": "f46f048bd7153041",
   "outputs": [],
   "execution_count": 56
  },
  {
   "metadata": {
    "ExecuteTime": {
     "end_time": "2024-06-25T21:30:08.858408Z",
     "start_time": "2024-06-25T21:30:08.794446Z"
    }
   },
   "cell_type": "code",
   "source": [
    "# Use rich to print a table for ColBERT vs. BM25\n",
    "from rich import print\n",
    "from rich.table import Table\n",
    "\n",
    "table = Table(title=\"ColBERT vs. BM25\")\n",
    "table.add_column(\"Metric\")\n",
    "table.add_column(\"ColBERT\")\n",
    "table.add_column(\"BM25\")\n",
    "\n",
    "for metric in colbert_stats[0].keys():\n",
    "    colbert_values = [stats[metric] for stats in colbert_stats]\n",
    "    bm25_values = [stats[metric] for stats in bm25_stats]\n",
    "    \n",
    "    table.add_row(metric, f\"{np.mean(colbert_values):.4f}\", f\"{np.mean(bm25_values):.4f}\")\n",
    "    \n",
    "print(table)"
   ],
   "id": "c68c0d945546461b",
   "outputs": [
    {
     "data": {
      "text/plain": [
       "<Figure size 1000x600 with 1 Axes>"
      ],
      "image/png": "[encoded data removed]"
     },
     "metadata": {},
     "output_type": "display_data"
    }
   ],
   "execution_count": 52
  }
 ],
 "metadata": {
  "kernelspec": {
   "display_name": "Python 3",
   "language": "python",
   "name": "python3"
  },
  "language_info": {
   "codemirror_mode": {
    "name": "ipython",
    "version": 2
   },
   "file_extension": ".py",
   "mimetype": "text/x-python",
   "name": "python",
   "nbconvert_exporter": "python",
   "pygments_lexer": "ipython2",
   "version": "2.7.6"
  }
 },
 "nbformat": 4,
 "nbformat_minor": 5
}
