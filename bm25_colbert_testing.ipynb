{
 "cells": [
  {
   "metadata": {
    "ExecuteTime": {
     "end_time": "2024-06-26T15:10:18.286917Z",
     "start_time": "2024-06-26T15:10:18.283873Z"
    }
   },
   "cell_type": "code",
   "source": [
    "# Some minor setup for the notebook\n",
    "import warnings\n",
    "import nest_asyncio\n",
    "\n",
    "# Ignore all warnings\n",
    "warnings.filterwarnings(\"ignore\")\n",
    "\n",
    "# Allows for running async code in Jupyter notebooks\n",
    "nest_asyncio.apply()"
   ],
   "id": "c04ce7fddabc7f73",
   "outputs": [],
   "execution_count": 1
  },
  {
   "metadata": {
    "ExecuteTime": {
     "end_time": "2024-06-26T15:10:20.942598Z",
     "start_time": "2024-06-26T15:10:20.933836Z"
    }
   },
   "cell_type": "code",
   "source": [
    "from dotenv import load_dotenv\n",
    "\n",
    "load_dotenv(override=True)"
   ],
   "id": "c51c706b26950158",
   "outputs": [
    {
     "data": {
      "text/plain": [
       "True"
      ]
     },
     "execution_count": 2,
     "metadata": {},
     "output_type": "execute_result"
    }
   ],
   "execution_count": 2
  },
  {
   "metadata": {
    "ExecuteTime": {
     "end_time": "2024-06-26T15:10:29.815819Z",
     "start_time": "2024-06-26T15:10:26.798256Z"
    }
   },
   "cell_type": "code",
   "source": [
    "from datasets import load_dataset\n",
    "\n",
    "ms_marco = load_dataset(\"microsoft/ms_marco\", \"v2.1\")"
   ],
   "id": "initial_id",
   "outputs": [],
   "execution_count": 3
  },
  {
   "metadata": {
    "ExecuteTime": {
     "end_time": "2024-06-26T15:46:35.989252Z",
     "start_time": "2024-06-26T15:46:35.982318Z"
    }
   },
   "cell_type": "code",
   "source": [
    "import numpy as np\n",
    "from sklearn.metrics import precision_score, recall_score\n",
    "\n",
    "\n",
    "def ndcg(retrieved_list, relevant_list, k=None):\n",
    "    def dcg(scores):\n",
    "        return sum(score / (i + 1) for i, score in enumerate(scores))\n",
    "\n",
    "    if k is None:\n",
    "        k = len(retrieved_list)\n",
    "\n",
    "    retrieved_scores = [1 if doc in relevant_list else 0 for doc in retrieved_list[:k]]\n",
    "    ideal_scores = sorted(retrieved_scores, reverse=True)\n",
    "\n",
    "    dcg_value = dcg(retrieved_scores)\n",
    "    idcg_value = dcg(ideal_scores)\n",
    "\n",
    "    return dcg_value / idcg_value if idcg_value > 0 else 0\n",
    "\n",
    "\n",
    "def mean_reciprocal_rank(retrieved_list, relevant_list):\n",
    "    ranks = []\n",
    "    for relevant in relevant_list:\n",
    "        try:\n",
    "            rank = retrieved_list.index(relevant) + 1\n",
    "        except ValueError:\n",
    "            rank = len(retrieved_list) + 1  # Not found\n",
    "        ranks.append(rank)\n",
    "    return 1.0 / min(ranks) if ranks else 0.0\n",
    "\n",
    "\n",
    "def calculate_ndcg(retrieved_list, relevant_list, k=None):\n",
    "    def dcg(scores):\n",
    "        return sum(score / (np.log2(idx + 2)) for idx, score in enumerate(scores))\n",
    "\n",
    "    if k is None:\n",
    "        k = len(retrieved_list)\n",
    "\n",
    "    # Relevance scores for retrieved documents\n",
    "    retrieved_scores = [1 if doc in relevant_list else 0 for doc in retrieved_list[:k]]\n",
    "    # Ideal relevance scores\n",
    "    ideal_scores = sorted(retrieved_scores, reverse=True)\n",
    "\n",
    "    dcg_value = dcg(retrieved_scores)\n",
    "    idcg_value = dcg(ideal_scores)\n",
    "\n",
    "    return dcg_value / idcg_value if idcg_value > 0 else 0\n",
    "\n",
    "\n",
    "def calculate_precision(retrieved_list, relevant_list):\n",
    "    y_true = [1 if doc in relevant_list else 0 for doc in retrieved_list]\n",
    "    y_pred = [1] * len(y_true)  # Assuming all retrieved documents are relevant for calculating precision\n",
    "    return precision_score(y_true, y_pred, zero_division=0)\n",
    "\n",
    "\n",
    "def calculate_recall(retrieved_list, relevant_list):\n",
    "    y_true = [1 if doc in relevant_list else 0 for doc in relevant_list]\n",
    "    y_pred = [1 if doc in retrieved_list else 0 for doc in relevant_list]\n",
    "    return recall_score(y_true, y_pred, zero_division=0)\n",
    "\n",
    "\n",
    "def compute_all_stats(retrieved_list, relevant_list):\n",
    "    return {\n",
    "        'MRR': mean_reciprocal_rank(retrieved_list, relevant_list),\n",
    "        'nDCG': calculate_ndcg(retrieved_list, relevant_list, k=len(relevant_list)),\n",
    "        'Precision': calculate_precision(retrieved_list, relevant_list),\n",
    "        'Recall': calculate_recall(retrieved_list, relevant_list),\n",
    "    }"
   ],
   "id": "47457c0c60b71945",
   "outputs": [],
   "execution_count": 33
  },
  {
   "metadata": {
    "ExecuteTime": {
     "end_time": "2024-06-26T15:10:30.107742Z",
     "start_time": "2024-06-26T15:10:30.105026Z"
    }
   },
   "cell_type": "code",
   "source": [
    "# Use subset for demonstration\n",
    "subset = ms_marco['train'].select(range(1000))"
   ],
   "id": "43e602e97ecda308",
   "outputs": [],
   "execution_count": 5
  },
  {
   "metadata": {
    "ExecuteTime": {
     "end_time": "2024-06-26T15:10:31.755184Z",
     "start_time": "2024-06-26T15:10:31.751730Z"
    }
   },
   "cell_type": "code",
   "source": "print(subset[2]['query'])",
   "id": "ffe1d2b2267a2c1c",
   "outputs": [
    {
     "name": "stdout",
     "output_type": "stream",
     "text": [
      "why did stalin want control of eastern europe\n"
     ]
    }
   ],
   "execution_count": 6
  },
  {
   "metadata": {
    "ExecuteTime": {
     "end_time": "2024-06-26T15:10:34.295113Z",
     "start_time": "2024-06-26T15:10:34.172541Z"
    }
   },
   "cell_type": "code",
   "source": [
    "from langchain_community.retrievers import BM25Retriever\n",
    "from langchain_core.documents import Document"
   ],
   "id": "e1bc17e9849e5e77",
   "outputs": [],
   "execution_count": 7
  },
  {
   "metadata": {
    "ExecuteTime": {
     "end_time": "2024-06-26T15:10:37.317406Z",
     "start_time": "2024-06-26T15:10:37.076199Z"
    }
   },
   "cell_type": "code",
   "source": [
    "# Prepare the documents for BM25\n",
    "bm25_docs = [Document(page_content=passage) for data in subset for passage in data['passages']['passage_text']]\n",
    "\n",
    "# Initialize BM25 Retriever\n",
    "bm25_retriever = BM25Retriever.from_documents(bm25_docs)"
   ],
   "id": "92edc92e237d7370",
   "outputs": [],
   "execution_count": 8
  },
  {
   "metadata": {
    "ExecuteTime": {
     "end_time": "2024-06-26T15:12:08.668345Z",
     "start_time": "2024-06-26T15:12:04.131244Z"
    }
   },
   "cell_type": "code",
   "source": [
    "import os\n",
    "from ragstack_colbert import CassandraDatabase, ColbertEmbeddingModel\n",
    "\n",
    "keyspace = \"benchmarksmarco1000parallel\"\n",
    "database_id = os.getenv(\"ASTRA_DATABASE_ID\")\n",
    "astra_token = os.getenv(\"ASTRA_TOKEN\")\n",
    "\n",
    "database = CassandraDatabase.from_astra(\n",
    "    astra_token=astra_token,\n",
    "    database_id=database_id,\n",
    "    keyspace=keyspace\n",
    ")\n",
    "\n",
    "embedding_model = ColbertEmbeddingModel()"
   ],
   "id": "3d17835de418c59c",
   "outputs": [
    {
     "name": "stdout",
     "output_type": "stream",
     "text": [
      "WARNING: faiss must be imported for indexing\n",
      "[Jun 26, 10:12:08] Loading segmented_maxsim_cpp extension (set COLBERT_LOAD_TORCH_EXTENSION_VERBOSE=True for more info)...\n"
     ]
    }
   ],
   "execution_count": 17
  },
  {
   "metadata": {
    "ExecuteTime": {
     "end_time": "2024-06-25T21:03:38.080365Z",
     "start_time": "2024-06-25T21:03:38.076493Z"
    }
   },
   "cell_type": "code",
   "source": [
    "from ragstack_langchain.colbert import ColbertVectorStore as LangchainColbertVectorStore\n",
    "\n",
    "lc_vector_store = LangchainColbertVectorStore(\n",
    "    database=database,\n",
    "    embedding_model=embedding_model,\n",
    ")"
   ],
   "id": "a035c581a9e542ee",
   "outputs": [],
   "execution_count": 34
  },
  {
   "metadata": {
    "ExecuteTime": {
     "end_time": "2024-06-26T15:13:28.535814Z",
     "start_time": "2024-06-26T15:13:28.484833Z"
    }
   },
   "cell_type": "code",
   "source": [
    "all_texts = []\n",
    "all_metadatas = []\n",
    "i = 0\n",
    "for row in subset:\n",
    "    all_texts.extend(row['passages']['passage_text'])\n",
    "    all_metadatas.extend([{'row_id': i} for _ in row['passages']['is_selected']])\n",
    "    i += 1\n"
   ],
   "id": "493bd4091709cf1",
   "outputs": [],
   "execution_count": 24
  },
  {
   "metadata": {
    "ExecuteTime": {
     "end_time": "2024-06-25T21:40:50.292395Z",
     "start_time": "2024-06-25T21:40:50.289473Z"
    }
   },
   "cell_type": "code",
   "source": "print(\"Number of texts:\", len(all_texts))",
   "id": "100fa66f55ebda98",
   "outputs": [
    {
     "name": "stdout",
     "output_type": "stream",
     "text": [
      "Number of texts: 9992\n"
     ]
    }
   ],
   "execution_count": 53
  },
  {
   "metadata": {},
   "cell_type": "code",
   "source": "lc_vector_store.add_texts(all_texts, metadatas=all_metadatas)",
   "id": "a3870bac7caa97f4",
   "outputs": [],
   "execution_count": null
  },
  {
   "metadata": {
    "ExecuteTime": {
     "end_time": "2024-06-25T23:15:05.997620Z",
     "start_time": "2024-06-25T23:03:58.044707Z"
    }
   },
   "cell_type": "code",
   "source": [
    "from tqdm import tqdm\n",
    "\n",
    "colbert_retrieved_list = []\n",
    "colbert_relevant_list = []\n",
    "for row in tqdm(subset):\n",
    "    query = row['query']\n",
    "    n_results = len(row['passages']['is_selected'])\n",
    "    raw_results = lc_vector_store.similarity_search(query, k=n_results)\n",
    "    retrieved_list = [result.page_content for result in raw_results]\n",
    "    relevant_list = row['passages']['passage_text']\n",
    "\n",
    "    colbert_retrieved_list.append(retrieved_list)\n",
    "    colbert_relevant_list.append(relevant_list)"
   ],
   "id": "bbbcece77175fdf5",
   "outputs": [
    {
     "name": "stderr",
     "output_type": "stream",
     "text": [
      "100%|██████████| 1000/1000 [11:07<00:00,  1.50it/s]\n"
     ]
    }
   ],
   "execution_count": 57
  },
  {
   "metadata": {
    "ExecuteTime": {
     "end_time": "2024-06-26T00:24:43.273884Z",
     "start_time": "2024-06-26T00:24:42.458646Z"
    }
   },
   "cell_type": "code",
   "source": [
    "# calculate stats\n",
    "colbert_stats = [compute_all_stats(retrieved_list, relevant_list) for retrieved_list, relevant_list in\n",
    "                 zip(colbert_retrieved_list, colbert_relevant_list)]"
   ],
   "id": "8055620d62141abc",
   "outputs": [],
   "execution_count": 58
  },
  {
   "metadata": {
    "ExecuteTime": {
     "end_time": "2024-06-25T23:03:50.974347Z",
     "start_time": "2024-06-25T23:03:44.558299Z"
    }
   },
   "cell_type": "code",
   "source": [
    "# Now test BM25\n",
    "bm25_retrieved_list = []\n",
    "bm25_relevant_list = []\n",
    "\n",
    "for row in tqdm(subset):\n",
    "    query = row['query']\n",
    "    n_results = len(row['passages']['is_selected'])\n",
    "    raw_results = bm25_retriever.invoke(query, k=n_results)\n",
    "    retrieved_list = [result.page_content for result in raw_results]\n",
    "    relevant_list = row['passages']['passage_text']\n",
    "\n",
    "    bm25_retrieved_list.append(retrieved_list)\n",
    "    bm25_relevant_list.append(relevant_list)\n"
   ],
   "id": "8941db7c854cebb5",
   "outputs": [
    {
     "name": "stderr",
     "output_type": "stream",
     "text": [
      "100%|██████████| 1000/1000 [00:06<00:00, 155.95it/s]\n"
     ]
    }
   ],
   "execution_count": 55
  },
  {
   "metadata": {
    "ExecuteTime": {
     "end_time": "2024-06-25T23:03:53.986600Z",
     "start_time": "2024-06-25T23:03:53.119579Z"
    }
   },
   "cell_type": "code",
   "source": [
    "bm25_stats = [compute_all_stats(retrieved_list, relevant_list) for retrieved_list, relevant_list in\n",
    "              zip(bm25_retrieved_list, bm25_relevant_list)]"
   ],
   "id": "f46f048bd7153041",
   "outputs": [],
   "execution_count": 56
  },
  {
   "metadata": {
    "ExecuteTime": {
     "end_time": "2024-06-26T00:25:31.732599Z",
     "start_time": "2024-06-26T00:25:31.729723Z"
    }
   },
   "cell_type": "code",
   "source": [
    "# Delete Kendall-Tau from all stats\n",
    "for stats in colbert_stats + bm25_stats:\n",
    "    del stats['Kendall-Tau']"
   ],
   "id": "86279b56a9af4d36",
   "outputs": [],
   "execution_count": 60
  },
  {
   "metadata": {},
   "cell_type": "code",
   "source": [
    "# Save the stats to a json file\n",
    "import json\n",
    "\n",
    "cwd = os.getcwd()\n",
    "\n",
    "with open(f\"{cwd}/colbert_bm25_stats.json\", \"w\") as f:\n",
    "    json.dump({\"ColBERT\": colbert_stats, \"BM25\": bm25_stats}, f)\n",
    "    \n",
    "print(\"Stats saved to colbert_bm25_stats.json\")"
   ],
   "id": "c57459e0cd73e17e",
   "outputs": [],
   "execution_count": null
  },
  {
   "metadata": {
    "ExecuteTime": {
     "end_time": "2024-06-26T15:11:11.265565Z",
     "start_time": "2024-06-26T15:11:11.260298Z"
    }
   },
   "cell_type": "code",
   "source": [
    "# Load the stats from the json file\n",
    "import json\n",
    "import os\n",
    "cwd = os.getcwd()\n",
    "with open(f\"{cwd}/colbert_bm25_stats.json\", \"r\") as f:\n",
    "    stats = json.load(f)"
   ],
   "id": "4b182c6ecd0b624a",
   "outputs": [],
   "execution_count": 11
  },
  {
   "metadata": {
    "ExecuteTime": {
     "end_time": "2024-06-26T15:11:29.196104Z",
     "start_time": "2024-06-26T15:11:29.182322Z"
    }
   },
   "cell_type": "code",
   "source": [
    "print(stats.keys())\n",
    "colbert_stats = stats[\"ColBERT\"]\n",
    "bm25_stats = stats[\"BM25\"]"
   ],
   "id": "6cc8761a1d5eae9",
   "outputs": [
    {
     "data": {
      "text/plain": [
       "\u001B[1;35mdict_keys\u001B[0m\u001B[1m(\u001B[0m\u001B[1m[\u001B[0m\u001B[32m'ColBERT'\u001B[0m, \u001B[32m'BM25'\u001B[0m\u001B[1m]\u001B[0m\u001B[1m)\u001B[0m\n"
      ],
      "text/html": [
       "<pre style=\"white-space:pre;overflow-x:auto;line-height:normal;font-family:Menlo,'DejaVu Sans Mono',consolas,'Courier New',monospace\"><span style=\"color: #800080; text-decoration-color: #800080; font-weight: bold\">dict_keys</span><span style=\"font-weight: bold\">([</span><span style=\"color: #008000; text-decoration-color: #008000\">'ColBERT'</span>, <span style=\"color: #008000; text-decoration-color: #008000\">'BM25'</span><span style=\"font-weight: bold\">])</span>\n",
       "</pre>\n"
      ]
     },
     "metadata": {},
     "output_type": "display_data"
    }
   ],
   "execution_count": 14
  },
  {
   "metadata": {
    "ExecuteTime": {
     "end_time": "2024-06-26T15:11:29.585927Z",
     "start_time": "2024-06-26T15:11:29.581842Z"
    }
   },
   "cell_type": "code",
   "source": [
    "# Use rich to print a table for ColBERT vs. BM25\n",
    "from rich import print\n",
    "from rich.table import Table\n",
    "\n",
    "table = Table(title=\"ColBERT vs. BM25\")\n",
    "table.add_column(\"Metric\")\n",
    "table.add_column(\"ColBERT\")\n",
    "table.add_column(\"BM25\")\n",
    "\n",
    "for metric in colbert_stats[0].keys():\n",
    "    colbert_values = [stats[metric] for stats in colbert_stats]\n",
    "    bm25_values = [stats[metric] for stats in bm25_stats]\n",
    "    \n",
    "    table.add_row(metric, f\"{np.mean(colbert_values):.4f}\", f\"{np.mean(bm25_values):.4f}\")\n",
    "    \n",
    "print(table)"
   ],
   "id": "c68c0d945546461b",
   "outputs": [
    {
     "data": {
      "text/plain": [
       "\u001B[3m        ColBERT vs. BM25        \u001B[0m\n",
       "┏━━━━━━━━━━━┳━━━━━━━━━┳━━━━━━━━┓\n",
       "┃\u001B[1m \u001B[0m\u001B[1mMetric   \u001B[0m\u001B[1m \u001B[0m┃\u001B[1m \u001B[0m\u001B[1mColBERT\u001B[0m\u001B[1m \u001B[0m┃\u001B[1m \u001B[0m\u001B[1mBM25  \u001B[0m\u001B[1m \u001B[0m┃\n",
       "┡━━━━━━━━━━━╇━━━━━━━━━╇━━━━━━━━┩\n",
       "│ MRR       │ 0.9825  │ 0.7442 │\n",
       "│ nDCG      │ 0.9699  │ 0.7141 │\n",
       "│ Precision │ 0.7040  │ 0.5220 │\n",
       "│ Recall    │ 0.7021  │ 0.2086 │\n",
       "└───────────┴─────────┴────────┘\n"
      ],
      "text/html": [
       "<pre style=\"white-space:pre;overflow-x:auto;line-height:normal;font-family:Menlo,'DejaVu Sans Mono',consolas,'Courier New',monospace\"><span style=\"font-style: italic\">        ColBERT vs. BM25        </span>\n",
       "┏━━━━━━━━━━━┳━━━━━━━━━┳━━━━━━━━┓\n",
       "┃<span style=\"font-weight: bold\"> Metric    </span>┃<span style=\"font-weight: bold\"> ColBERT </span>┃<span style=\"font-weight: bold\"> BM25   </span>┃\n",
       "┡━━━━━━━━━━━╇━━━━━━━━━╇━━━━━━━━┩\n",
       "│ MRR       │ 0.9825  │ 0.7442 │\n",
       "│ nDCG      │ 0.9699  │ 0.7141 │\n",
       "│ Precision │ 0.7040  │ 0.5220 │\n",
       "│ Recall    │ 0.7021  │ 0.2086 │\n",
       "└───────────┴─────────┴────────┘\n",
       "</pre>\n"
      ]
     },
     "metadata": {},
     "output_type": "display_data"
    }
   ],
   "execution_count": 15
  },
  {
   "metadata": {
    "ExecuteTime": {
     "end_time": "2024-06-26T15:12:13.254476Z",
     "start_time": "2024-06-26T15:12:13.251911Z"
    }
   },
   "cell_type": "code",
   "source": [
    "import os\n",
    "from pinecone import Pinecone, ServerlessSpec\n",
    "from langchain_community.retrievers import (\n",
    "    PineconeHybridSearchRetriever,\n",
    ")\n",
    "\n",
    "index_name = keyspace"
   ],
   "id": "ab4aa593e0be0069",
   "outputs": [],
   "execution_count": 18
  },
  {
   "metadata": {
    "ExecuteTime": {
     "end_time": "2024-06-26T15:12:18.596471Z",
     "start_time": "2024-06-26T15:12:17.542991Z"
    }
   },
   "cell_type": "code",
   "source": [
    "# initialize Pinecone client\n",
    "pc = Pinecone(api_key=os.environ[\"PINECONE_API_KEY\"])\n",
    "\n",
    "# create the index\n",
    "if index_name not in pc.list_indexes().names():\n",
    "    pc.create_index(\n",
    "        name=index_name,\n",
    "        dimension=1536,\n",
    "        metric=\"dotproduct\",\n",
    "        spec=ServerlessSpec(cloud=\"aws\", region=\"us-east-1\"),\n",
    "    )"
   ],
   "id": "519df51c188d7865",
   "outputs": [],
   "execution_count": 19
  },
  {
   "metadata": {
    "ExecuteTime": {
     "end_time": "2024-06-26T15:12:18.822077Z",
     "start_time": "2024-06-26T15:12:18.690087Z"
    }
   },
   "cell_type": "code",
   "source": "index = pc.Index(index_name)",
   "id": "cefb7ddf15379d5c",
   "outputs": [],
   "execution_count": 20
  },
  {
   "metadata": {
    "ExecuteTime": {
     "end_time": "2024-06-26T15:12:20.170064Z",
     "start_time": "2024-06-26T15:12:19.918572Z"
    }
   },
   "cell_type": "code",
   "source": [
    "from langchain_openai import OpenAIEmbeddings\n",
    "\n",
    "openai_embeddings = OpenAIEmbeddings()"
   ],
   "id": "64ee93e591e7e17a",
   "outputs": [],
   "execution_count": 21
  },
  {
   "metadata": {
    "ExecuteTime": {
     "end_time": "2024-06-26T15:12:24.183427Z",
     "start_time": "2024-06-26T15:12:20.716934Z"
    }
   },
   "cell_type": "code",
   "source": [
    "from pinecone_text.sparse import BM25Encoder\n",
    "\n",
    "# or from pinecone_text.sparse import SpladeEncoder if you wish to work with SPLADE\n",
    "\n",
    "# use default tf-idf values\n",
    "bm25_encoder = BM25Encoder().default()"
   ],
   "id": "2853be13a95efbd5",
   "outputs": [],
   "execution_count": 22
  },
  {
   "metadata": {
    "ExecuteTime": {
     "end_time": "2024-06-26T15:13:36.029382Z",
     "start_time": "2024-06-26T15:13:33.366391Z"
    }
   },
   "cell_type": "code",
   "source": [
    "bm25_encoder.fit(all_texts)\n",
    "\n",
    "bm25_encoder.dump(cwd + \"/bm25_encoder.json\")"
   ],
   "id": "c76e8f23e5cce8da",
   "outputs": [
    {
     "data": {
      "text/plain": [
       "  0%|          | 0/9992 [00:00<?, ?it/s]"
      ],
      "application/vnd.jupyter.widget-view+json": {
       "version_major": 2,
       "version_minor": 0,
       "model_id": "c9396087e598402c821c83d600f2900e"
      }
     },
     "metadata": {},
     "output_type": "display_data"
    }
   ],
   "execution_count": 25
  },
  {
   "metadata": {
    "ExecuteTime": {
     "end_time": "2024-06-26T15:22:57.372847Z",
     "start_time": "2024-06-26T15:22:57.370628Z"
    }
   },
   "cell_type": "code",
   "source": [
    "pinecone_retriever = PineconeHybridSearchRetriever(\n",
    "    embeddings=openai_embeddings, sparse_encoder=bm25_encoder, index=index\n",
    ")"
   ],
   "id": "38cdf1f145157439",
   "outputs": [],
   "execution_count": 28
  },
  {
   "metadata": {
    "ExecuteTime": {
     "end_time": "2024-06-26T15:22:58.440522Z",
     "start_time": "2024-06-26T15:22:57.740656Z"
    }
   },
   "cell_type": "code",
   "source": "result = pinecone_retriever.invoke(\"What is the capital of France?\", k=5)",
   "id": "5c27d05368886f14",
   "outputs": [],
   "execution_count": 29
  },
  {
   "metadata": {
    "ExecuteTime": {
     "end_time": "2024-06-26T15:23:27.868927Z",
     "start_time": "2024-06-26T15:23:27.864033Z"
    }
   },
   "cell_type": "code",
   "source": "print(result[:2])",
   "id": "11793698389754be",
   "outputs": [
    {
     "data": {
      "text/plain": [
       "\u001B[1m[\u001B[0m\n",
       "    \u001B[1;35mDocument\u001B[0m\u001B[1m(\u001B[0m\n",
       "        \u001B[33mpage_content\u001B[0m=\u001B[32m'France has been one of the most dominant agricultural centers of Europe for centuries. That \u001B[0m\n",
       "\u001B[32mgave France an important role in European and, to some extent world, affairs in the pre-industrial age.he major \u001B[0m\n",
       "\u001B[32magricultural products that place France among the top producers in the world market are sugar beets, wine, milk, \u001B[0m\n",
       "\u001B[32mbeef and veal, cereals, and oilseeds.'\u001B[0m,\n",
       "        \u001B[33mmetadata\u001B[0m=\u001B[1m{\u001B[0m\u001B[32m'row_id'\u001B[0m: \u001B[1;36m108.0\u001B[0m\u001B[1m}\u001B[0m\n",
       "    \u001B[1m)\u001B[0m,\n",
       "    \u001B[1;35mDocument\u001B[0m\u001B[1m(\u001B[0m\n",
       "        \u001B[33mpage_content\u001B[0m=\u001B[32m\"The\u001B[0m\u001B[32m most important crop was wheat. Wheat was used to make flour. The farmers ground the wheat\u001B[0m\n",
       "\u001B[32mgrains in the seigneur's flour mill. They would pay the seigneur with part of the … flour for the use of his mill. \u001B[0m\n",
       "\u001B[32mFrance may be a small country in Western Europe, but the impact of French cu…. 2  The Weather in France Though \u001B[0m\n",
       "\u001B[32mFrance is only the size of Texas, it is situated in an area where weather varies greatly.\"\u001B[0m,\n",
       "        \u001B[33mmetadata\u001B[0m=\u001B[1m{\u001B[0m\u001B[32m'row_id'\u001B[0m: \u001B[1;36m108.0\u001B[0m\u001B[1m}\u001B[0m\n",
       "    \u001B[1m)\u001B[0m\n",
       "\u001B[1m]\u001B[0m\n"
      ],
      "text/html": [
       "<pre style=\"white-space:pre;overflow-x:auto;line-height:normal;font-family:Menlo,'DejaVu Sans Mono',consolas,'Courier New',monospace\"><span style=\"font-weight: bold\">[</span>\n",
       "    <span style=\"color: #800080; text-decoration-color: #800080; font-weight: bold\">Document</span><span style=\"font-weight: bold\">(</span>\n",
       "        <span style=\"color: #808000; text-decoration-color: #808000\">page_content</span>=<span style=\"color: #008000; text-decoration-color: #008000\">'France has been one of the most dominant agricultural centers of Europe for centuries. That </span>\n",
       "<span style=\"color: #008000; text-decoration-color: #008000\">gave France an important role in European and, to some extent world, affairs in the pre-industrial age.he major </span>\n",
       "<span style=\"color: #008000; text-decoration-color: #008000\">agricultural products that place France among the top producers in the world market are sugar beets, wine, milk, </span>\n",
       "<span style=\"color: #008000; text-decoration-color: #008000\">beef and veal, cereals, and oilseeds.'</span>,\n",
       "        <span style=\"color: #808000; text-decoration-color: #808000\">metadata</span>=<span style=\"font-weight: bold\">{</span><span style=\"color: #008000; text-decoration-color: #008000\">'row_id'</span>: <span style=\"color: #008080; text-decoration-color: #008080; font-weight: bold\">108.0</span><span style=\"font-weight: bold\">}</span>\n",
       "    <span style=\"font-weight: bold\">)</span>,\n",
       "    <span style=\"color: #800080; text-decoration-color: #800080; font-weight: bold\">Document</span><span style=\"font-weight: bold\">(</span>\n",
       "        <span style=\"color: #808000; text-decoration-color: #808000\">page_content</span>=<span style=\"color: #008000; text-decoration-color: #008000\">\"The most important crop was wheat. Wheat was used to make flour. The farmers ground the wheat</span>\n",
       "<span style=\"color: #008000; text-decoration-color: #008000\">grains in the seigneur's flour mill. They would pay the seigneur with part of the … flour for the use of his mill. </span>\n",
       "<span style=\"color: #008000; text-decoration-color: #008000\">France may be a small country in Western Europe, but the impact of French cu…. 2  The Weather in France Though </span>\n",
       "<span style=\"color: #008000; text-decoration-color: #008000\">France is only the size of Texas, it is situated in an area where weather varies greatly.\"</span>,\n",
       "        <span style=\"color: #808000; text-decoration-color: #808000\">metadata</span>=<span style=\"font-weight: bold\">{</span><span style=\"color: #008000; text-decoration-color: #008000\">'row_id'</span>: <span style=\"color: #008080; text-decoration-color: #008080; font-weight: bold\">108.0</span><span style=\"font-weight: bold\">}</span>\n",
       "    <span style=\"font-weight: bold\">)</span>\n",
       "<span style=\"font-weight: bold\">]</span>\n",
       "</pre>\n"
      ]
     },
     "metadata": {},
     "output_type": "display_data"
    }
   ],
   "execution_count": 31
  },
  {
   "metadata": {
    "ExecuteTime": {
     "end_time": "2024-06-26T15:28:11.616911Z",
     "start_time": "2024-06-26T15:24:29.855340Z"
    }
   },
   "cell_type": "code",
   "source": [
    "from tqdm import tqdm\n",
    "\n",
    "pinecone_retrieved_list = []\n",
    "pinecone_relevant_list = []\n",
    "for row in tqdm(subset):\n",
    "    query = row['query']\n",
    "    n_results = len(row['passages']['is_selected'])\n",
    "    raw_results = pinecone_retriever.invoke(query, k=n_results)\n",
    "    retrieved_list = [result.page_content for result in raw_results]\n",
    "    relevant_list = row['passages']['passage_text']\n",
    "\n",
    "    pinecone_retrieved_list.append(retrieved_list)\n",
    "    pinecone_relevant_list.append(relevant_list)"
   ],
   "id": "a2dfb66635aee9e4",
   "outputs": [
    {
     "name": "stderr",
     "output_type": "stream",
     "text": [
      "100%|██████████| 1000/1000 [03:41<00:00,  4.51it/s]\n"
     ]
    }
   ],
   "execution_count": 32
  },
  {
   "metadata": {
    "ExecuteTime": {
     "end_time": "2024-06-26T15:46:51.061679Z",
     "start_time": "2024-06-26T15:46:50.350070Z"
    }
   },
   "cell_type": "code",
   "source": [
    "# calculate stats\n",
    "pinecone_stats = [compute_all_stats(retrieved_list, relevant_list) for retrieved_list, relevant_list in\n",
    "                  zip(pinecone_retrieved_list, pinecone_relevant_list)] "
   ],
   "id": "fd6be2b07c982ec",
   "outputs": [],
   "execution_count": 34
  },
  {
   "metadata": {
    "ExecuteTime": {
     "end_time": "2024-06-26T15:48:24.017082Z",
     "start_time": "2024-06-26T15:48:24.009937Z"
    }
   },
   "cell_type": "code",
   "source": [
    "# Print a table\n",
    "\n",
    "table = Table(title=\"ColBERT vs. BM25 vs. Pinecone Hybrid\")\n",
    "\n",
    "table.add_column(\"Metric\")\n",
    "table.add_column(\"ColBERT\")\n",
    "table.add_column(\"BM25\")\n",
    "table.add_column(\"Pinecone\")\n",
    "\n",
    "for metric in colbert_stats[0].keys():\n",
    "    colbert_values = [stats[metric] for stats in colbert_stats]\n",
    "    bm25_values = [stats[metric] for stats in bm25_stats]\n",
    "    pinecone_values = [stats[metric] for stats in pinecone_stats]\n",
    "    \n",
    "    table.add_row(metric, f\"{np.mean(colbert_values):.4f}\", f\"{np.mean(bm25_values):.4f}\", f\"{np.mean(pinecone_values):.4f}\")\n",
    "    \n",
    "print(table)"
   ],
   "id": "6d359f298aae88d4",
   "outputs": [
    {
     "data": {
      "text/plain": [
       "\u001B[3m   ColBERT vs. BM25 vs. Pinecone Hybrid    \u001B[0m\n",
       "┏━━━━━━━━━━━┳━━━━━━━━━┳━━━━━━━━┳━━━━━━━━━━┓\n",
       "┃\u001B[1m \u001B[0m\u001B[1mMetric   \u001B[0m\u001B[1m \u001B[0m┃\u001B[1m \u001B[0m\u001B[1mColBERT\u001B[0m\u001B[1m \u001B[0m┃\u001B[1m \u001B[0m\u001B[1mBM25  \u001B[0m\u001B[1m \u001B[0m┃\u001B[1m \u001B[0m\u001B[1mPinecone\u001B[0m\u001B[1m \u001B[0m┃\n",
       "┡━━━━━━━━━━━╇━━━━━━━━━╇━━━━━━━━╇━━━━━━━━━━┩\n",
       "│ MRR       │ 0.9825  │ 0.7442 │ 0.9826   │\n",
       "│ nDCG      │ 0.9699  │ 0.7141 │ 0.9819   │\n",
       "│ Precision │ 0.7040  │ 0.5220 │ 0.9393   │\n",
       "│ Recall    │ 0.7021  │ 0.2086 │ 0.3770   │\n",
       "└───────────┴─────────┴────────┴──────────┘\n"
      ],
      "text/html": [
       "<pre style=\"white-space:pre;overflow-x:auto;line-height:normal;font-family:Menlo,'DejaVu Sans Mono',consolas,'Courier New',monospace\"><span style=\"font-style: italic\">   ColBERT vs. BM25 vs. Pinecone Hybrid    </span>\n",
       "┏━━━━━━━━━━━┳━━━━━━━━━┳━━━━━━━━┳━━━━━━━━━━┓\n",
       "┃<span style=\"font-weight: bold\"> Metric    </span>┃<span style=\"font-weight: bold\"> ColBERT </span>┃<span style=\"font-weight: bold\"> BM25   </span>┃<span style=\"font-weight: bold\"> Pinecone </span>┃\n",
       "┡━━━━━━━━━━━╇━━━━━━━━━╇━━━━━━━━╇━━━━━━━━━━┩\n",
       "│ MRR       │ 0.9825  │ 0.7442 │ 0.9826   │\n",
       "│ nDCG      │ 0.9699  │ 0.7141 │ 0.9819   │\n",
       "│ Precision │ 0.7040  │ 0.5220 │ 0.9393   │\n",
       "│ Recall    │ 0.7021  │ 0.2086 │ 0.3770   │\n",
       "└───────────┴─────────┴────────┴──────────┘\n",
       "</pre>\n"
      ]
     },
     "metadata": {},
     "output_type": "display_data"
    }
   ],
   "execution_count": 36
  },
  {
   "metadata": {},
   "cell_type": "code",
   "outputs": [],
   "execution_count": null,
   "source": "",
   "id": "6b1ab2f307a469df"
  }
 ],
 "metadata": {
  "kernelspec": {
   "display_name": "Python 3",
   "language": "python",
   "name": "python3"
  },
  "language_info": {
   "codemirror_mode": {
    "name": "ipython",
    "version": 2
   },
   "file_extension": ".py",
   "mimetype": "text/x-python",
   "name": "python",
   "nbconvert_exporter": "python",
   "pygments_lexer": "ipython2",
   "version": "2.7.6"
  }
 },
 "nbformat": 4,
 "nbformat_minor": 5
}
